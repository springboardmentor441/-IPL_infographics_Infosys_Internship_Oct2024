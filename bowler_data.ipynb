{
  "nbformat": 4,
  "nbformat_minor": 0,
  "metadata": {
    "colab": {
      "provenance": []
    },
    "kernelspec": {
      "name": "python3",
      "display_name": "Python 3"
    },
    "language_info": {
      "name": "python"
    }
  },
  "cells": [
    {
      "cell_type": "code",
      "execution_count": 3,
      "metadata": {
        "colab": {
          "base_uri": "https://localhost:8080/"
        },
        "id": "ntgnr9VS82Hc",
        "outputId": "2a3ea391-0220-413d-8d19-b13f8f57013e"
      },
      "outputs": [
        {
          "output_type": "stream",
          "name": "stdout",
          "text": [
            "match_id\n",
            "598029     0\n",
            "729281     1\n",
            "729287     2\n",
            "729299     1\n",
            "729305     1\n",
            "          ..\n",
            "1426294    1\n",
            "1426299    1\n",
            "1426303    2\n",
            "1426310    1\n",
            "1426311    0\n",
            "Name: wickets, Length: 159, dtype: int64\n"
          ]
        },
        {
          "output_type": "stream",
          "name": "stderr",
          "text": [
            "/usr/local/lib/python3.10/dist-packages/statsmodels/tsa/base/tsa_model.py:473: ValueWarning: An unsupported index was provided. As a result, forecasts cannot be generated. To use the model for forecasting, use one of the supported classes of index.\n",
            "  self._init_dates(dates, freq)\n",
            "/usr/local/lib/python3.10/dist-packages/statsmodels/tsa/base/tsa_model.py:473: ValueWarning: An unsupported index was provided. As a result, forecasts cannot be generated. To use the model for forecasting, use one of the supported classes of index.\n",
            "  self._init_dates(dates, freq)\n",
            "/usr/local/lib/python3.10/dist-packages/statsmodels/tsa/base/tsa_model.py:473: ValueWarning: An unsupported index was provided. As a result, forecasts cannot be generated. To use the model for forecasting, use one of the supported classes of index.\n",
            "  self._init_dates(dates, freq)\n"
          ]
        },
        {
          "output_type": "stream",
          "name": "stdout",
          "text": [
            "159    1.005454\n",
            "160    1.437802\n",
            "161    1.202628\n",
            "162    1.464834\n",
            "163    1.206342\n",
            "164    1.465336\n",
            "165    1.206418\n",
            "166    1.465339\n",
            "167    1.206425\n",
            "168    1.465333\n",
            "Name: predicted_mean, dtype: float64\n"
          ]
        },
        {
          "output_type": "stream",
          "name": "stderr",
          "text": [
            "/usr/local/lib/python3.10/dist-packages/statsmodels/base/model.py:607: ConvergenceWarning: Maximum Likelihood optimization failed to converge. Check mle_retvals\n",
            "  warnings.warn(\"Maximum Likelihood optimization failed to \"\n",
            "/usr/local/lib/python3.10/dist-packages/statsmodels/tsa/base/tsa_model.py:837: ValueWarning: No supported index is available. Prediction results will be given with an integer index beginning at `start`.\n",
            "  return get_prediction_index(\n",
            "/usr/local/lib/python3.10/dist-packages/statsmodels/tsa/base/tsa_model.py:837: FutureWarning: No supported index is available. In the next version, calling this method in a model without a supported index will result in an exception.\n",
            "  return get_prediction_index(\n"
          ]
        }
      ],
      "source": [
        "import pandas as pd\n",
        "from statsmodels.tsa.arima.model import ARIMA\n",
        "import matplotlib.pyplot as plt\n",
        "\n",
        "# Load the dataset\n",
        "file_path = \"/content/deliveries.csv\"\n",
        "data = pd.read_csv(file_path)\n",
        "\n",
        "# Preprocess data to calculate bowling performance metrics\n",
        "bowler_data = data[['match_id', 'bowler', 'is_wicket', 'total_runs']]\n",
        "\n",
        "# Aggregate data by match and bowler\n",
        "performance = bowler_data.groupby(['match_id', 'bowler']).agg(\n",
        "    wickets=('is_wicket', 'sum'),  # Total wickets per match\n",
        "    runs_conceded=('total_runs', 'sum')  # Total runs conceded per match\n",
        ").reset_index()\n",
        "\n",
        "\n",
        "\n",
        "\n",
        "# Choose a bowler to analyze\n",
        "top_bowler = 'YS Chahal'\n",
        "bowler_timeseries = performance[performance['bowler'] == top_bowler].set_index('match_id')['wickets']\n",
        "print(bowler_timeseries)\n",
        "# Sort the series by match_id (to ensure chronological order)\n",
        "bowler_timeseries = bowler_timeseries.sort_index()\n",
        "\n",
        "# Train an ARIMA model on the bowler's wickets per match\n",
        "model = ARIMA(bowler_timeseries, order=(2, 1, 2))  # ARIMA(p=2, d=1, q=2)\n",
        "model_fit = model.fit()\n",
        "\n",
        "# Forecast wickets for the next 10 matches\n",
        "forecast_steps = 10\n",
        "forecast = model_fit.forecast(steps=forecast_steps)\n",
        "\n",
        "# # Plot the actual vs forecasted values\n",
        "# plt.figure(figsize=(10, 6))\n",
        "# plt.plot(bowler_timeseries, label='Actual Wickets', marker='o')\n",
        "# plt.plot(range(len(bowler_timeseries), len(bowler_timeseries) + forecast_steps), forecast, label='Forecasted Wickets', marker='x', linestyle='--')\n",
        "# plt.title(f'Wickets Forecast for {top_bowler}')\n",
        "# plt.xlabel('Matches')\n",
        "# plt.ylabel('Wickets')\n",
        "# plt.legend()\n",
        "# plt.grid(True)\n",
        "# plt.show()\n",
        "\n",
        "# # Print forecasted values\n",
        "# print(f\"Forecasted wickets for the next {forecast_steps} matches:\")\n",
        "print(forecast)\n"
      ]
    }
  ]
}