{
 "cells": [
  {
   "cell_type": "code",
   "execution_count": 120,
   "id": "97fa02ae",
   "metadata": {},
   "outputs": [],
   "source": [
    "# Import necessary libraries\n",
    "import pandas as pd\n",
    "import matplotlib.pyplot as plt"
   ]
  },
  {
   "cell_type": "code",
   "execution_count": 121,
   "id": "0cef0fc3",
   "metadata": {},
   "outputs": [],
   "source": [
    "# Load the dataset\n",
    "file_path = 'deliveries.csv'  # Update the path if necessary\n",
    "df = pd.read_csv(file_path)\n"
   ]
  },
  {
   "cell_type": "code",
   "execution_count": 122,
   "id": "7b5288a5",
   "metadata": {},
   "outputs": [
    {
     "name": "stdout",
     "output_type": "stream",
     "text": [
      "   match_id  inning           batting_team                 bowling_team  over  \\\n",
      "0    335982       1  Kolkata Knight Riders  Royal Challengers Bangalore     0   \n",
      "1    335982       1  Kolkata Knight Riders  Royal Challengers Bangalore     0   \n",
      "2    335982       1  Kolkata Knight Riders  Royal Challengers Bangalore     0   \n",
      "3    335982       1  Kolkata Knight Riders  Royal Challengers Bangalore     0   \n",
      "4    335982       1  Kolkata Knight Riders  Royal Challengers Bangalore     0   \n",
      "\n",
      "   ball       batter   bowler  non_striker  batsman_runs  extra_runs  \\\n",
      "0     1   SC Ganguly  P Kumar  BB McCullum             0           1   \n",
      "1     2  BB McCullum  P Kumar   SC Ganguly             0           0   \n",
      "2     3  BB McCullum  P Kumar   SC Ganguly             0           1   \n",
      "3     4  BB McCullum  P Kumar   SC Ganguly             0           0   \n",
      "4     5  BB McCullum  P Kumar   SC Ganguly             0           0   \n",
      "\n",
      "   total_runs extras_type  is_wicket player_dismissed dismissal_kind fielder  \n",
      "0           1     legbyes          0              NaN            NaN     NaN  \n",
      "1           0         NaN          0              NaN            NaN     NaN  \n",
      "2           1       wides          0              NaN            NaN     NaN  \n",
      "3           0         NaN          0              NaN            NaN     NaN  \n",
      "4           0         NaN          0              NaN            NaN     NaN  \n"
     ]
    }
   ],
   "source": [
    "# Display the first few rows to understand the data\n",
    "print(df.head())"
   ]
  },
  {
   "cell_type": "code",
   "execution_count": 123,
   "id": "af408596",
   "metadata": {},
   "outputs": [
    {
     "name": "stdout",
     "output_type": "stream",
     "text": [
      "<class 'pandas.core.frame.DataFrame'>\n",
      "RangeIndex: 260920 entries, 0 to 260919\n",
      "Data columns (total 17 columns):\n",
      " #   Column            Non-Null Count   Dtype \n",
      "---  ------            --------------   ----- \n",
      " 0   match_id          260920 non-null  int64 \n",
      " 1   inning            260920 non-null  int64 \n",
      " 2   batting_team      260920 non-null  object\n",
      " 3   bowling_team      260920 non-null  object\n",
      " 4   over              260920 non-null  int64 \n",
      " 5   ball              260920 non-null  int64 \n",
      " 6   batter            260920 non-null  object\n",
      " 7   bowler            260920 non-null  object\n",
      " 8   non_striker       260920 non-null  object\n",
      " 9   batsman_runs      260920 non-null  int64 \n",
      " 10  extra_runs        260920 non-null  int64 \n",
      " 11  total_runs        260920 non-null  int64 \n",
      " 12  extras_type       14125 non-null   object\n",
      " 13  is_wicket         260920 non-null  int64 \n",
      " 14  player_dismissed  12950 non-null   object\n",
      " 15  dismissal_kind    12950 non-null   object\n",
      " 16  fielder           9354 non-null    object\n",
      "dtypes: int64(8), object(9)\n",
      "memory usage: 33.8+ MB\n",
      "None\n"
     ]
    }
   ],
   "source": [
    "# Check the dataset structure\n",
    "print(df.info())\n"
   ]
  },
  {
   "cell_type": "code",
   "execution_count": 124,
   "id": "ac5d53bb",
   "metadata": {},
   "outputs": [],
   "source": [
    "# Calculate statistics for batsman runs\n",
    "runs_mean = df['batsman_runs'].mean()\n",
    "runs_median = df['batsman_runs'].median()\n",
    "runs_mode = df['batsman_runs'].mode().iloc[0]  # Mode may have multiple values; take the first"
   ]
  },
  {
   "cell_type": "code",
   "execution_count": 125,
   "id": "1911f3d2",
   "metadata": {},
   "outputs": [
    {
     "name": "stdout",
     "output_type": "stream",
     "text": [
      "Mean of Runs: 1.265000766518473\n",
      "Median of Runs: 1.0\n",
      "Mode of Runs: 0\n"
     ]
    }
   ],
   "source": [
    "# Print results\n",
    "print(f\"Mean of Runs: {runs_mean}\")\n",
    "print(f\"Median of Runs: {runs_median}\")\n",
    "print(f\"Mode of Runs: {runs_mode}\")\n"
   ]
  },
  {
   "cell_type": "code",
   "execution_count": 126,
   "id": "124c4ed3",
   "metadata": {},
   "outputs": [],
   "source": [
    "# Calculate statistics for wickets\n",
    "wickets_mean = df['is_wicket'].mean()\n",
    "wickets_median = df['is_wicket'].median()\n",
    "wickets_mode = df['is_wicket'].mode().iloc[0]  # Mode may have multiple values; take the first"
   ]
  },
  {
   "cell_type": "code",
   "execution_count": 127,
   "id": "da11fa9f",
   "metadata": {},
   "outputs": [
    {
     "name": "stdout",
     "output_type": "stream",
     "text": [
      "Mean of Wickets: 0.049632071132914304\n",
      "Median of Wickets: 0.0\n",
      "Mode of Wickets: 0\n"
     ]
    }
   ],
   "source": [
    "# Print results\n",
    "print(f\"Mean of Wickets: {wickets_mean}\")\n",
    "print(f\"Median of Wickets: {wickets_median}\")\n",
    "print(f\"Mode of Wickets: {wickets_mode}\")\n"
   ]
  },
  {
   "cell_type": "code",
   "execution_count": 128,
   "id": "ed9f8b31",
   "metadata": {},
   "outputs": [
    {
     "data": {
      "image/png": "[encoded data removed]",
      "text/plain": [
       "<Figure size 1000x600 with 1 Axes>"
      ]
     },
     "metadata": {},
     "output_type": "display_data"
    }
   ],
   "source": [
    "# Plot a histogram for runs\n",
    "plt.figure(figsize=(10, 6))\n",
    "plt.hist(df['batsman_runs'], bins=7, color='skyblue', edgecolor='black')\n",
    "plt.title('Distribution of Runs Scored per Delivery')\n",
    "plt.xlabel('Runs')\n",
    "plt.ylabel('Frequency')\n",
    "plt.grid(axis='y')\n",
    "plt.show()\n"
   ]
  },
  {
   "cell_type": "code",
   "execution_count": 129,
   "id": "1623c6e0",
   "metadata": {},
   "outputs": [
    {
     "data": {
      "image/png": "[encoded data removed]",
      "text/plain": [
       "<Figure size 800x500 with 1 Axes>"
      ]
     },
     "metadata": {},
     "output_type": "display_data"
    }
   ],
   "source": [
    "# Bar chart for wickets (count of deliveries with and without wickets)\n",
    "wickets_count = df['is_wicket'].value_counts()\n",
    "\n",
    "plt.figure(figsize=(8, 5))\n",
    "wickets_count.plot(kind='bar', color=['orange', 'green'])\n",
    "plt.title('Wickets Distribution')\n",
    "plt.xlabel('Wicket (0 = No, 1 = Yes)')\n",
    "plt.ylabel('Number of Deliveries')\n",
    "plt.xticks(rotation=0)\n",
    "plt.show()\n"
   ]
  },
  {
   "cell_type": "code",
   "execution_count": 130,
   "id": "7c598bd1",
   "metadata": {},
   "outputs": [],
   "source": [
    "# Group data by batsman\n",
    "batsman_stats = df.groupby('batter').agg(\n",
    "    total_runs=('batsman_runs', 'sum'),\n",
    "    balls_faced=('ball', 'count'),\n",
    "    dismissals=('player_dismissed', 'count'),\n",
    "    hundreds=('batsman_runs', lambda x: (x >= 100).sum()),\n",
    "    fifties=('batsman_runs', lambda x: ((x >= 50) & (x < 100)).sum())\n",
    ").reset_index()"
   ]
  },
  {
   "cell_type": "code",
   "execution_count": 131,
   "id": "578bfabf",
   "metadata": {},
   "outputs": [],
   "source": [
    "# Compute batting average and strike rate\n",
    "batsman_stats['batting_average'] = batsman_stats['total_runs'] / batsman_stats['dismissals']\n",
    "batsman_stats['strike_rate'] = (batsman_stats['total_runs'] / batsman_stats['balls_faced']) * 100"
   ]
  },
  {
   "cell_type": "code",
   "execution_count": 132,
   "id": "31afcd22",
   "metadata": {},
   "outputs": [],
   "source": [
    "# Fill NaN averages (for players with no dismissals) with their total runs\n",
    "batsman_stats['batting_average'] = batsman_stats['batting_average'].fillna(batsman_stats['total_runs'])"
   ]
  },
  {
   "cell_type": "code",
   "execution_count": 133,
   "id": "f2e3a315",
   "metadata": {},
   "outputs": [
    {
     "name": "stdout",
     "output_type": "stream",
     "text": [
      "           batter  total_runs  balls_faced  dismissals  hundreds  fifties  \\\n",
      "0  A Ashish Reddy         280          196          15         0        0   \n",
      "1        A Badoni         634          505          26         0        0   \n",
      "2      A Chandila           4            7           1         0        0   \n",
      "3        A Chopra          53           75           5         0        0   \n",
      "4     A Choudhary          25           20           2         0        0   \n",
      "\n",
      "   batting_average  strike_rate  \n",
      "0        18.666667   142.857143  \n",
      "1        24.384615   125.544554  \n",
      "2         4.000000    57.142857  \n",
      "3        10.600000    70.666667  \n",
      "4        12.500000   125.000000  \n"
     ]
    }
   ],
   "source": [
    "# Display the first few rows\n",
    "print(batsman_stats.head())"
   ]
  },
  {
   "cell_type": "code",
   "execution_count": 134,
   "id": "f2e979d9",
   "metadata": {},
   "outputs": [],
   "source": [
    "# Normalize metrics\n",
    "batsman_stats['normalized_average'] = (batsman_stats['batting_average'] / batsman_stats['batting_average'].max()) * 100\n",
    "batsman_stats['normalized_strike_rate'] = (batsman_stats['strike_rate'] / batsman_stats['strike_rate'].max()) * 100"
   ]
  },
  {
   "cell_type": "code",
   "execution_count": 135,
   "id": "1841ed84",
   "metadata": {},
   "outputs": [],
   "source": [
    "batsman_stats['normalized_hundreds'] = (\n",
    "    (batsman_stats['hundreds'] / batsman_stats['hundreds'].max()) * 100\n",
    "    if batsman_stats['hundreds'].max() > 0 else 0\n",
    ")\n",
    "batsman_stats['normalized_fifties'] = (\n",
    "    (batsman_stats['fifties'] / batsman_stats['fifties'].max()) * 100\n",
    "    if batsman_stats['fifties'].max() > 0 else 0\n",
    ")\n"
   ]
  },
  {
   "cell_type": "code",
   "execution_count": 136,
   "id": "6293fd4a",
   "metadata": {},
   "outputs": [],
   "source": [
    "# Assign weights\n",
    "weights = {\n",
    "    'average': 0.3,\n",
    "    'strike_rate': 0.4,\n",
    "    'hundreds': 0.15,\n",
    "    'fifties': 0.05\n",
    "}"
   ]
  },
  {
   "cell_type": "code",
   "execution_count": 137,
   "id": "ad281abe",
   "metadata": {},
   "outputs": [],
   "source": [
    "# Calculate overall score\n",
    "batsman_stats['overall_score'] = (\n",
    "    batsman_stats['normalized_average'] * weights['average'] +\n",
    "    batsman_stats['normalized_strike_rate'] * weights['strike_rate'] +\n",
    "    batsman_stats['normalized_hundreds'] * weights['hundreds'] +\n",
    "    batsman_stats['normalized_fifties'] * weights['fifties']\n",
    ")"
   ]
  },
  {
   "cell_type": "code",
   "execution_count": 139,
   "id": "7cdd0080",
   "metadata": {},
   "outputs": [
    {
     "name": "stdout",
     "output_type": "stream",
     "text": [
      "   normalized_average  normalized_strike_rate  normalized_hundreds  \\\n",
      "0                 0.0               47.619048                    0   \n",
      "1                 0.0               41.848185                    0   \n",
      "2                 0.0               19.047619                    0   \n",
      "3                 0.0               23.555556                    0   \n",
      "4                 0.0               41.666667                    0   \n",
      "\n",
      "   normalized_fifties  \n",
      "0                   0  \n",
      "1                   0  \n",
      "2                   0  \n",
      "3                   0  \n",
      "4                   0  \n"
     ]
    }
   ],
   "source": [
    "print(batsman_stats[['normalized_average', 'normalized_strike_rate', 'normalized_hundreds', 'normalized_fifties']].head())\n"
   ]
  },
  {
   "cell_type": "code",
   "execution_count": 140,
   "id": "5cd398cc",
   "metadata": {},
   "outputs": [],
   "source": [
    "# Sort by overall score\n",
    "top_batsmen = batsman_stats.sort_values(by='overall_score', ascending=False)"
   ]
  },
  {
   "cell_type": "code",
   "execution_count": 141,
   "id": "ed7c6926",
   "metadata": {
    "scrolled": true
   },
   "outputs": [
    {
     "name": "stdout",
     "output_type": "stream",
     "text": [
      "              batter  overall_score  batting_average  strike_rate  hundreds  \\\n",
      "234  J Fraser-McGurk      29.333333        41.250000   220.000000         0   \n",
      "461    R Sai Kishore      28.888889        13.000000   216.666667         0   \n",
      "629         Umar Gul      27.368421        13.000000   205.263158         0   \n",
      "583    Shahid Afridi      23.478261        10.125000   176.086957         0   \n",
      "652         WG Jacks      23.057644        38.333333   172.932331         0   \n",
      "433          PD Salt      22.614719        32.650000   169.610390         0   \n",
      "606         T Stubbs      22.594142        45.000000   169.456067         0   \n",
      "465       R Shepherd      22.549020        19.166667   169.117647         0   \n",
      "617          TM Head      22.474527        38.600000   168.558952         0   \n",
      "318        LJ Wright      22.433862        26.500000   168.253968         0   \n",
      "\n",
      "     fifties  \n",
      "234        0  \n",
      "461        0  \n",
      "629        0  \n",
      "583        0  \n",
      "652        0  \n",
      "433        0  \n",
      "606        0  \n",
      "465        0  \n",
      "617        0  \n",
      "318        0  \n"
     ]
    }
   ],
   "source": [
    "# Display the top 10 batsmen\n",
    "print(top_batsmen[['batter', 'overall_score', 'batting_average', 'strike_rate', 'hundreds', 'fifties']].head(10))"
   ]
  }
 ],
 "metadata": {
  "kernelspec": {
   "display_name": "Python 3 (ipykernel)",
   "language": "python",
   "name": "python3"
  },
  "language_info": {
   "codemirror_mode": {
    "name": "ipython",
    "version": 3
   },
   "file_extension": ".py",
   "mimetype": "text/x-python",
   "name": "python",
   "nbconvert_exporter": "python",
   "pygments_lexer": "ipython3",
   "version": "3.10.9"
  }
 },
 "nbformat": 4,
 "nbformat_minor": 5
}
