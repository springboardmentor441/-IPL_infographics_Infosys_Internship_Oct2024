{
 "cells": [
  {
   "cell_type": "code",
   "execution_count": 1,
   "id": "ac4fbd25-e557-4e69-86d7-354e379a46ea",
   "metadata": {},
   "outputs": [],
   "source": [
    "import pandas as pd"
   ]
  },
  {
   "cell_type": "code",
   "execution_count": 2,
   "id": "4eb2b7dd-13a4-4579-a8aa-0f61ece99b42",
   "metadata": {},
   "outputs": [],
   "source": [
    "import matplotlib.pyplot as plt"
   ]
  },
  {
   "cell_type": "code",
   "execution_count": 3,
   "id": "01b0d269-c7d7-457d-bbf2-298d4a862526",
   "metadata": {},
   "outputs": [],
   "source": [
    "matches=pd.read_csv(r\"C:\\Users\\shata\\OneDrive\\Desktop\\puthon\\matches.csv\")"
   ]
  },
  {
   "cell_type": "code",
   "execution_count": 4,
   "id": "43c6c3ee-ee7c-430e-8ca0-7548aaf69ffb",
   "metadata": {},
   "outputs": [
    {
     "data": {
      "text/plain": [
       "id                    0\n",
       "season                0\n",
       "city                 51\n",
       "date                  0\n",
       "match_type            0\n",
       "player_of_match       5\n",
       "venue                 0\n",
       "team1                 0\n",
       "team2                 0\n",
       "toss_winner           0\n",
       "toss_decision         0\n",
       "winner                5\n",
       "result                0\n",
       "result_margin        19\n",
       "target_runs           3\n",
       "target_overs          3\n",
       "super_over            0\n",
       "method             1074\n",
       "umpire1               0\n",
       "umpire2               0\n",
       "dtype: int64"
      ]
     },
     "execution_count": 4,
     "metadata": {},
     "output_type": "execute_result"
    }
   ],
   "source": [
    "matches.isnull().sum()"
   ]
  },
  {
   "cell_type": "code",
   "execution_count": 5,
   "id": "da4a154b-b383-4f17-9d35-cbca5462d61e",
   "metadata": {},
   "outputs": [
    {
     "name": "stdout",
     "output_type": "stream",
     "text": [
      "<class 'pandas.core.frame.DataFrame'>\n",
      "RangeIndex: 1095 entries, 0 to 1094\n",
      "Data columns (total 20 columns):\n",
      " #   Column           Non-Null Count  Dtype  \n",
      "---  ------           --------------  -----  \n",
      " 0   id               1095 non-null   int64  \n",
      " 1   season           1095 non-null   object \n",
      " 2   city             1044 non-null   object \n",
      " 3   date             1095 non-null   object \n",
      " 4   match_type       1095 non-null   object \n",
      " 5   player_of_match  1090 non-null   object \n",
      " 6   venue            1095 non-null   object \n",
      " 7   team1            1095 non-null   object \n",
      " 8   team2            1095 non-null   object \n",
      " 9   toss_winner      1095 non-null   object \n",
      " 10  toss_decision    1095 non-null   object \n",
      " 11  winner           1090 non-null   object \n",
      " 12  result           1095 non-null   object \n",
      " 13  result_margin    1076 non-null   float64\n",
      " 14  target_runs      1092 non-null   float64\n",
      " 15  target_overs     1092 non-null   float64\n",
      " 16  super_over       1095 non-null   object \n",
      " 17  method           21 non-null     object \n",
      " 18  umpire1          1095 non-null   object \n",
      " 19  umpire2          1095 non-null   object \n",
      "dtypes: float64(3), int64(1), object(16)\n",
      "memory usage: 171.2+ KB\n"
     ]
    }
   ],
   "source": [
    "matches.info()"
   ]
  },
  {
   "cell_type": "code",
   "execution_count": 6,
   "id": "2979c703-04a0-4fa1-94d0-7334ac118e2d",
   "metadata": {},
   "outputs": [],
   "source": [
    "matches.drop('method',axis=1,inplace=True)"
   ]
  },
  {
   "cell_type": "code",
   "execution_count": 7,
   "id": "91e18a2c-3d4c-4ac8-87ef-80bbcb3e9edb",
   "metadata": {},
   "outputs": [],
   "source": [
    "matches['city'] = matches['city'].fillna(matches['venue'])\n",
    "matches['player_of_match'] = matches['player_of_match'].fillna('unknown')\n",
    "matches['winner'] = matches['winner'].fillna('unknown')\n",
    "matches['target_runs'] = matches['target_runs'].fillna(0)\n",
    "matches['target_overs'] = matches['target_overs'].fillna(0)\n",
    "matches['result_margin'] = matches['result_margin'].fillna(0)"
   ]
  },
  {
   "cell_type": "code",
   "execution_count": 8,
   "id": "c1ab5646-0eaa-4ef6-a11d-bdc4c62c0731",
   "metadata": {},
   "outputs": [
    {
     "data": {
      "text/plain": [
       "id                 0\n",
       "season             0\n",
       "city               0\n",
       "date               0\n",
       "match_type         0\n",
       "player_of_match    0\n",
       "venue              0\n",
       "team1              0\n",
       "team2              0\n",
       "toss_winner        0\n",
       "toss_decision      0\n",
       "winner             0\n",
       "result             0\n",
       "result_margin      0\n",
       "target_runs        0\n",
       "target_overs       0\n",
       "super_over         0\n",
       "umpire1            0\n",
       "umpire2            0\n",
       "dtype: int64"
      ]
     },
     "execution_count": 8,
     "metadata": {},
     "output_type": "execute_result"
    }
   ],
   "source": [
    "matches.isnull().sum()"
   ]
  },
  {
   "cell_type": "code",
   "execution_count": 9,
   "id": "eeb48d2d-21f5-4354-9312-9b7262271e21",
   "metadata": {},
   "outputs": [
    {
     "name": "stdout",
     "output_type": "stream",
     "text": [
      "<class 'pandas.core.frame.DataFrame'>\n",
      "RangeIndex: 1095 entries, 0 to 1094\n",
      "Data columns (total 19 columns):\n",
      " #   Column           Non-Null Count  Dtype  \n",
      "---  ------           --------------  -----  \n",
      " 0   id               1095 non-null   int64  \n",
      " 1   season           1095 non-null   object \n",
      " 2   city             1095 non-null   object \n",
      " 3   date             1095 non-null   object \n",
      " 4   match_type       1095 non-null   object \n",
      " 5   player_of_match  1095 non-null   object \n",
      " 6   venue            1095 non-null   object \n",
      " 7   team1            1095 non-null   object \n",
      " 8   team2            1095 non-null   object \n",
      " 9   toss_winner      1095 non-null   object \n",
      " 10  toss_decision    1095 non-null   object \n",
      " 11  winner           1095 non-null   object \n",
      " 12  result           1095 non-null   object \n",
      " 13  result_margin    1095 non-null   float64\n",
      " 14  target_runs      1095 non-null   float64\n",
      " 15  target_overs     1095 non-null   float64\n",
      " 16  super_over       1095 non-null   object \n",
      " 17  umpire1          1095 non-null   object \n",
      " 18  umpire2          1095 non-null   object \n",
      "dtypes: float64(3), int64(1), object(15)\n",
      "memory usage: 162.7+ KB\n"
     ]
    }
   ],
   "source": [
    "matches.info()"
   ]
  },
  {
   "cell_type": "code",
   "execution_count": 10,
   "id": "956b12d0-0be6-402e-9082-a8146277ceef",
   "metadata": {},
   "outputs": [
    {
     "data": {
      "text/html": [
       "<div>\n",
       "<style scoped>\n",
       "    .dataframe tbody tr th:only-of-type {\n",
       "        vertical-align: middle;\n",
       "    }\n",
       "\n",
       "    .dataframe tbody tr th {\n",
       "        vertical-align: top;\n",
       "    }\n",
       "\n",
       "    .dataframe thead th {\n",
       "        text-align: right;\n",
       "    }\n",
       "</style>\n",
       "<table border=\"1\" class=\"dataframe\">\n",
       "  <thead>\n",
       "    <tr style=\"text-align: right;\">\n",
       "      <th></th>\n",
       "      <th>id</th>\n",
       "      <th>season</th>\n",
       "      <th>city</th>\n",
       "      <th>date</th>\n",
       "      <th>match_type</th>\n",
       "      <th>player_of_match</th>\n",
       "      <th>venue</th>\n",
       "      <th>team1</th>\n",
       "      <th>team2</th>\n",
       "      <th>toss_winner</th>\n",
       "      <th>toss_decision</th>\n",
       "      <th>winner</th>\n",
       "      <th>result</th>\n",
       "      <th>result_margin</th>\n",
       "      <th>target_runs</th>\n",
       "      <th>target_overs</th>\n",
       "      <th>super_over</th>\n",
       "      <th>umpire1</th>\n",
       "      <th>umpire2</th>\n",
       "    </tr>\n",
       "  </thead>\n",
       "  <tbody>\n",
       "    <tr>\n",
       "      <th>791</th>\n",
       "      <td>1216517</td>\n",
       "      <td>2020/21</td>\n",
       "      <td>Dubai International Cricket Stadium</td>\n",
       "      <td>18-10-2020</td>\n",
       "      <td>League</td>\n",
       "      <td>KL Rahul</td>\n",
       "      <td>Dubai International Cricket Stadium</td>\n",
       "      <td>Mumbai Indians</td>\n",
       "      <td>Kings XI Punjab</td>\n",
       "      <td>Mumbai Indians</td>\n",
       "      <td>bat</td>\n",
       "      <td>Kings XI Punjab</td>\n",
       "      <td>tie</td>\n",
       "      <td>0.0</td>\n",
       "      <td>177.0</td>\n",
       "      <td>20.0</td>\n",
       "      <td>Y</td>\n",
       "      <td>Nitin Menon</td>\n",
       "      <td>PR Reiffel</td>\n",
       "    </tr>\n",
       "    <tr>\n",
       "      <th>498</th>\n",
       "      <td>829787</td>\n",
       "      <td>2015</td>\n",
       "      <td>Mumbai</td>\n",
       "      <td>07-05-2015</td>\n",
       "      <td>League</td>\n",
       "      <td>EJG Morgan</td>\n",
       "      <td>Brabourne Stadium</td>\n",
       "      <td>Rajasthan Royals</td>\n",
       "      <td>Sunrisers Hyderabad</td>\n",
       "      <td>Rajasthan Royals</td>\n",
       "      <td>field</td>\n",
       "      <td>Sunrisers Hyderabad</td>\n",
       "      <td>runs</td>\n",
       "      <td>7.0</td>\n",
       "      <td>202.0</td>\n",
       "      <td>20.0</td>\n",
       "      <td>N</td>\n",
       "      <td>JD Cloete</td>\n",
       "      <td>C Shamshuddin</td>\n",
       "    </tr>\n",
       "    <tr>\n",
       "      <th>808</th>\n",
       "      <td>1216506</td>\n",
       "      <td>2020/21</td>\n",
       "      <td>Abu Dhabi</td>\n",
       "      <td>01-11-2020</td>\n",
       "      <td>League</td>\n",
       "      <td>RD Gaikwad</td>\n",
       "      <td>Sheikh Zayed Stadium</td>\n",
       "      <td>Kings XI Punjab</td>\n",
       "      <td>Chennai Super Kings</td>\n",
       "      <td>Chennai Super Kings</td>\n",
       "      <td>field</td>\n",
       "      <td>Chennai Super Kings</td>\n",
       "      <td>wickets</td>\n",
       "      <td>9.0</td>\n",
       "      <td>154.0</td>\n",
       "      <td>20.0</td>\n",
       "      <td>N</td>\n",
       "      <td>PG Pathak</td>\n",
       "      <td>VK Sharma</td>\n",
       "    </tr>\n",
       "    <tr>\n",
       "      <th>420</th>\n",
       "      <td>733975</td>\n",
       "      <td>2014</td>\n",
       "      <td>Delhi</td>\n",
       "      <td>03-05-2014</td>\n",
       "      <td>League</td>\n",
       "      <td>KK Nair</td>\n",
       "      <td>Feroz Shah Kotla</td>\n",
       "      <td>Delhi Daredevils</td>\n",
       "      <td>Rajasthan Royals</td>\n",
       "      <td>Rajasthan Royals</td>\n",
       "      <td>field</td>\n",
       "      <td>Rajasthan Royals</td>\n",
       "      <td>wickets</td>\n",
       "      <td>7.0</td>\n",
       "      <td>153.0</td>\n",
       "      <td>20.0</td>\n",
       "      <td>N</td>\n",
       "      <td>SS Hazare</td>\n",
       "      <td>S Ravi</td>\n",
       "    </tr>\n",
       "    <tr>\n",
       "      <th>361</th>\n",
       "      <td>598036</td>\n",
       "      <td>2013</td>\n",
       "      <td>Jaipur</td>\n",
       "      <td>29-04-2013</td>\n",
       "      <td>League</td>\n",
       "      <td>SV Samson</td>\n",
       "      <td>Sawai Mansingh Stadium</td>\n",
       "      <td>Rajasthan Royals</td>\n",
       "      <td>Royal Challengers Bangalore</td>\n",
       "      <td>Rajasthan Royals</td>\n",
       "      <td>field</td>\n",
       "      <td>Rajasthan Royals</td>\n",
       "      <td>wickets</td>\n",
       "      <td>4.0</td>\n",
       "      <td>172.0</td>\n",
       "      <td>20.0</td>\n",
       "      <td>N</td>\n",
       "      <td>M Erasmus</td>\n",
       "      <td>K Srinath</td>\n",
       "    </tr>\n",
       "    <tr>\n",
       "      <th>778</th>\n",
       "      <td>1216500</td>\n",
       "      <td>2020/21</td>\n",
       "      <td>Sharjah Cricket Stadium</td>\n",
       "      <td>09-10-2020</td>\n",
       "      <td>League</td>\n",
       "      <td>R Ashwin</td>\n",
       "      <td>Sharjah Cricket Stadium</td>\n",
       "      <td>Delhi Capitals</td>\n",
       "      <td>Rajasthan Royals</td>\n",
       "      <td>Rajasthan Royals</td>\n",
       "      <td>field</td>\n",
       "      <td>Delhi Capitals</td>\n",
       "      <td>runs</td>\n",
       "      <td>46.0</td>\n",
       "      <td>185.0</td>\n",
       "      <td>20.0</td>\n",
       "      <td>N</td>\n",
       "      <td>KN Ananthapadmanabhan</td>\n",
       "      <td>C Shamshuddin</td>\n",
       "    </tr>\n",
       "    <tr>\n",
       "      <th>443</th>\n",
       "      <td>734021</td>\n",
       "      <td>2014</td>\n",
       "      <td>Hyderabad</td>\n",
       "      <td>20-05-2014</td>\n",
       "      <td>League</td>\n",
       "      <td>DA Warner</td>\n",
       "      <td>Rajiv Gandhi International Stadium, Uppal</td>\n",
       "      <td>Sunrisers Hyderabad</td>\n",
       "      <td>Royal Challengers Bangalore</td>\n",
       "      <td>Royal Challengers Bangalore</td>\n",
       "      <td>bat</td>\n",
       "      <td>Sunrisers Hyderabad</td>\n",
       "      <td>wickets</td>\n",
       "      <td>7.0</td>\n",
       "      <td>161.0</td>\n",
       "      <td>20.0</td>\n",
       "      <td>N</td>\n",
       "      <td>AK Chaudhary</td>\n",
       "      <td>NJ Llong</td>\n",
       "    </tr>\n",
       "    <tr>\n",
       "      <th>977</th>\n",
       "      <td>1359502</td>\n",
       "      <td>2023</td>\n",
       "      <td>Delhi</td>\n",
       "      <td>20-04-2023</td>\n",
       "      <td>League</td>\n",
       "      <td>I Sharma</td>\n",
       "      <td>Arun Jaitley Stadium, Delhi</td>\n",
       "      <td>Kolkata Knight Riders</td>\n",
       "      <td>Delhi Capitals</td>\n",
       "      <td>Delhi Capitals</td>\n",
       "      <td>field</td>\n",
       "      <td>Delhi Capitals</td>\n",
       "      <td>wickets</td>\n",
       "      <td>4.0</td>\n",
       "      <td>128.0</td>\n",
       "      <td>20.0</td>\n",
       "      <td>N</td>\n",
       "      <td>MA Gough</td>\n",
       "      <td>R Pandit</td>\n",
       "    </tr>\n",
       "    <tr>\n",
       "      <th>856</th>\n",
       "      <td>1254092</td>\n",
       "      <td>2021</td>\n",
       "      <td>Sharjah</td>\n",
       "      <td>28-09-2021</td>\n",
       "      <td>League</td>\n",
       "      <td>SP Narine</td>\n",
       "      <td>Sharjah Cricket Stadium</td>\n",
       "      <td>Delhi Capitals</td>\n",
       "      <td>Kolkata Knight Riders</td>\n",
       "      <td>Kolkata Knight Riders</td>\n",
       "      <td>field</td>\n",
       "      <td>Kolkata Knight Riders</td>\n",
       "      <td>wickets</td>\n",
       "      <td>3.0</td>\n",
       "      <td>128.0</td>\n",
       "      <td>20.0</td>\n",
       "      <td>N</td>\n",
       "      <td>Nitin Menon</td>\n",
       "      <td>HAS Khalid</td>\n",
       "    </tr>\n",
       "    <tr>\n",
       "      <th>121</th>\n",
       "      <td>419112</td>\n",
       "      <td>2009/10</td>\n",
       "      <td>Bangalore</td>\n",
       "      <td>16-03-2010</td>\n",
       "      <td>League</td>\n",
       "      <td>JH Kallis</td>\n",
       "      <td>M Chinnaswamy Stadium</td>\n",
       "      <td>Royal Challengers Bangalore</td>\n",
       "      <td>Kings XI Punjab</td>\n",
       "      <td>Kings XI Punjab</td>\n",
       "      <td>bat</td>\n",
       "      <td>Royal Challengers Bangalore</td>\n",
       "      <td>wickets</td>\n",
       "      <td>8.0</td>\n",
       "      <td>204.0</td>\n",
       "      <td>20.0</td>\n",
       "      <td>N</td>\n",
       "      <td>S Das</td>\n",
       "      <td>DJ Harper</td>\n",
       "    </tr>\n",
       "  </tbody>\n",
       "</table>\n",
       "</div>"
      ],
      "text/plain": [
       "          id   season                                 city        date  \\\n",
       "791  1216517  2020/21  Dubai International Cricket Stadium  18-10-2020   \n",
       "498   829787     2015                               Mumbai  07-05-2015   \n",
       "808  1216506  2020/21                            Abu Dhabi  01-11-2020   \n",
       "420   733975     2014                                Delhi  03-05-2014   \n",
       "361   598036     2013                               Jaipur  29-04-2013   \n",
       "778  1216500  2020/21              Sharjah Cricket Stadium  09-10-2020   \n",
       "443   734021     2014                            Hyderabad  20-05-2014   \n",
       "977  1359502     2023                                Delhi  20-04-2023   \n",
       "856  1254092     2021                              Sharjah  28-09-2021   \n",
       "121   419112  2009/10                            Bangalore  16-03-2010   \n",
       "\n",
       "    match_type player_of_match                                      venue  \\\n",
       "791     League        KL Rahul        Dubai International Cricket Stadium   \n",
       "498     League      EJG Morgan                          Brabourne Stadium   \n",
       "808     League      RD Gaikwad                       Sheikh Zayed Stadium   \n",
       "420     League         KK Nair                           Feroz Shah Kotla   \n",
       "361     League       SV Samson                     Sawai Mansingh Stadium   \n",
       "778     League        R Ashwin                    Sharjah Cricket Stadium   \n",
       "443     League       DA Warner  Rajiv Gandhi International Stadium, Uppal   \n",
       "977     League        I Sharma                Arun Jaitley Stadium, Delhi   \n",
       "856     League       SP Narine                    Sharjah Cricket Stadium   \n",
       "121     League       JH Kallis                      M Chinnaswamy Stadium   \n",
       "\n",
       "                           team1                        team2  \\\n",
       "791               Mumbai Indians              Kings XI Punjab   \n",
       "498             Rajasthan Royals          Sunrisers Hyderabad   \n",
       "808              Kings XI Punjab          Chennai Super Kings   \n",
       "420             Delhi Daredevils             Rajasthan Royals   \n",
       "361             Rajasthan Royals  Royal Challengers Bangalore   \n",
       "778               Delhi Capitals             Rajasthan Royals   \n",
       "443          Sunrisers Hyderabad  Royal Challengers Bangalore   \n",
       "977        Kolkata Knight Riders               Delhi Capitals   \n",
       "856               Delhi Capitals        Kolkata Knight Riders   \n",
       "121  Royal Challengers Bangalore              Kings XI Punjab   \n",
       "\n",
       "                     toss_winner toss_decision                       winner  \\\n",
       "791               Mumbai Indians           bat              Kings XI Punjab   \n",
       "498             Rajasthan Royals         field          Sunrisers Hyderabad   \n",
       "808          Chennai Super Kings         field          Chennai Super Kings   \n",
       "420             Rajasthan Royals         field             Rajasthan Royals   \n",
       "361             Rajasthan Royals         field             Rajasthan Royals   \n",
       "778             Rajasthan Royals         field               Delhi Capitals   \n",
       "443  Royal Challengers Bangalore           bat          Sunrisers Hyderabad   \n",
       "977               Delhi Capitals         field               Delhi Capitals   \n",
       "856        Kolkata Knight Riders         field        Kolkata Knight Riders   \n",
       "121              Kings XI Punjab           bat  Royal Challengers Bangalore   \n",
       "\n",
       "      result  result_margin  target_runs  target_overs super_over  \\\n",
       "791      tie            0.0        177.0          20.0          Y   \n",
       "498     runs            7.0        202.0          20.0          N   \n",
       "808  wickets            9.0        154.0          20.0          N   \n",
       "420  wickets            7.0        153.0          20.0          N   \n",
       "361  wickets            4.0        172.0          20.0          N   \n",
       "778     runs           46.0        185.0          20.0          N   \n",
       "443  wickets            7.0        161.0          20.0          N   \n",
       "977  wickets            4.0        128.0          20.0          N   \n",
       "856  wickets            3.0        128.0          20.0          N   \n",
       "121  wickets            8.0        204.0          20.0          N   \n",
       "\n",
       "                   umpire1        umpire2  \n",
       "791            Nitin Menon     PR Reiffel  \n",
       "498              JD Cloete  C Shamshuddin  \n",
       "808              PG Pathak      VK Sharma  \n",
       "420              SS Hazare         S Ravi  \n",
       "361              M Erasmus      K Srinath  \n",
       "778  KN Ananthapadmanabhan  C Shamshuddin  \n",
       "443           AK Chaudhary       NJ Llong  \n",
       "977               MA Gough       R Pandit  \n",
       "856            Nitin Menon     HAS Khalid  \n",
       "121                  S Das      DJ Harper  "
      ]
     },
     "execution_count": 10,
     "metadata": {},
     "output_type": "execute_result"
    }
   ],
   "source": [
    "matches.sample(10)"
   ]
  },
  {
   "cell_type": "code",
   "execution_count": 11,
   "id": "6f0aea7b-dca8-43f2-a40d-9d9acfc91ff5",
   "metadata": {},
   "outputs": [
    {
     "data": {
      "text/plain": [
       "array(['Bangalore', 'Chandigarh', 'Delhi', 'Mumbai', 'Kolkata', 'Jaipur',\n",
       "       'Hyderabad', 'Chennai', 'Cape Town', 'Port Elizabeth', 'Durban',\n",
       "       'Centurion', 'East London', 'Johannesburg', 'Kimberley',\n",
       "       'Bloemfontein', 'Ahmedabad', 'Cuttack', 'Nagpur', 'Dharamsala',\n",
       "       'Kochi', 'Indore', 'Visakhapatnam', 'Pune', 'Raipur', 'Ranchi',\n",
       "       'Abu Dhabi', 'Sharjah Cricket Stadium',\n",
       "       'Dubai International Cricket Stadium', 'Rajkot', 'Kanpur',\n",
       "       'Bengaluru', 'Dubai', 'Sharjah', 'Navi Mumbai', 'Lucknow',\n",
       "       'Guwahati', 'Mohali'], dtype=object)"
      ]
     },
     "execution_count": 11,
     "metadata": {},
     "output_type": "execute_result"
    }
   ],
   "source": [
    "#HANDELING DUPLICATES\n",
    "matches.city.unique()"
   ]
  },
  {
   "cell_type": "code",
   "execution_count": 12,
   "id": "33ceddb0-a962-45de-8ac0-816f9e42c7cd",
   "metadata": {},
   "outputs": [
    {
     "name": "stdout",
     "output_type": "stream",
     "text": [
      "58\n",
      "19\n",
      "38\n"
     ]
    }
   ],
   "source": [
    "print(matches.venue.nunique())\n",
    "print(matches.team1.nunique())\n",
    "print(matches.city.nunique())"
   ]
  },
  {
   "cell_type": "code",
   "execution_count": 13,
   "id": "358e4206-1c7f-41cc-8091-f9a9aa45f67b",
   "metadata": {},
   "outputs": [],
   "source": [
    "team_dup={\"Delhi Daredevils\":\"Delhi Capitals\",\n",
    "\"Rising Pune Supergiants\":\"Rising Pune Supergiant\",\n",
    "\"Royal Challengers Bengaluru\":\"Royal Challengers Bangalore\",'Gujarat Lions':'Gujarat Titans'}\n",
    "matches.replace(to_replace=team_dup,inplace=True)"
   ]
  },
  {
   "cell_type": "code",
   "execution_count": 14,
   "id": "03e5cc38-e869-4ecb-a355-38e8b12e495d",
   "metadata": {},
   "outputs": [
    {
     "name": "stderr",
     "output_type": "stream",
     "text": [
      "C:\\Users\\shata\\AppData\\Local\\Temp\\ipykernel_17152\\11222071.py:2: FutureWarning: A value is trying to be set on a copy of a DataFrame or Series through chained assignment using an inplace method.\n",
      "The behavior will change in pandas 3.0. This inplace method will never work because the intermediate object on which we are setting values always behaves as a copy.\n",
      "\n",
      "For example, when doing 'df[col].method(value, inplace=True)', try using 'df.method({col: value}, inplace=True)' or df[col] = df[col].method(value) instead, to perform the operation inplace on the original object.\n",
      "\n",
      "\n",
      "  matches['city'].replace(to_replace=city_dup,inplace=True)\n"
     ]
    }
   ],
   "source": [
    "city_dup={'Bengaluru':'Bangalore','Navi Mumbai':'Mumbai','Dubai International Cricket Stadium':'Dubai','Sharjah Cricket Stadium':'Sharjah'}\n",
    "matches['city'].replace(to_replace=city_dup,inplace=True)"
   ]
  },
  {
   "cell_type": "code",
   "execution_count": 15,
   "id": "d6df64ed-4902-4464-94cd-25f7193c1826",
   "metadata": {},
   "outputs": [
    {
     "data": {
      "text/plain": [
       "array(['Bangalore', 'Chandigarh', 'Delhi', 'Mumbai', 'Kolkata', 'Jaipur',\n",
       "       'Hyderabad', 'Chennai', 'Cape Town', 'Port Elizabeth', 'Durban',\n",
       "       'Centurion', 'East London', 'Johannesburg', 'Kimberley',\n",
       "       'Bloemfontein', 'Ahmedabad', 'Cuttack', 'Nagpur', 'Dharamsala',\n",
       "       'Kochi', 'Indore', 'Visakhapatnam', 'Pune', 'Raipur', 'Ranchi',\n",
       "       'Abu Dhabi', 'Sharjah', 'Dubai', 'Rajkot', 'Kanpur', 'Lucknow',\n",
       "       'Guwahati', 'Mohali'], dtype=object)"
      ]
     },
     "execution_count": 15,
     "metadata": {},
     "output_type": "execute_result"
    }
   ],
   "source": [
    "matches['city'].unique()"
   ]
  },
  {
   "cell_type": "code",
   "execution_count": 16,
   "id": "2b4ade75-a2f5-4204-946f-040917f16598",
   "metadata": {},
   "outputs": [],
   "source": [
    "matches.replace('Arun Jaitley Stadium, Delhi','Arun Jaitley Stadium',inplace=True)\n",
    "matches.replace('Brabourne Stadium, Mumbai','Brabourne Stadium',inplace=True)\n",
    "matches.replace('Dr DY Patil Sports Academy, Mumbai','Dr DY Patil Sports Academy',inplace=True)\n",
    "matches.replace('Eden Gardens, Kolkata','Eden Gardens',inplace=True)"
   ]
  },
  {
   "cell_type": "code",
   "execution_count": 17,
   "id": "e0f044f2-1b3f-490a-a7bb-db0c40a8f808",
   "metadata": {},
   "outputs": [],
   "source": [
    "matches.replace('Wankhede Stadium, Mumbai','Wankhede Stadium',inplace=True)\n",
    "matches.replace('Sawai Mansingh Stadium, Jaipur','Sawai Mansingh Stadium',inplace=True)\n",
    "matches.replace('Zayed Cricket Stadium, Abu Dhabi','Sheikh Zayed Stadium',inplace=True)\n",
    "matches.replace('MA Chidambaram Stadium, Chepauk','MA Chidambaram Stadium',inplace=True)\n",
    "matches.replace('MA Chidambaram Stadium, Chepauk, Chennai, Chepauk','MA Chidambaram Stadium',inplace=True)\n",
    "matches.replace('Maharashtra Cricket Association Stadium, Pune','Maharashtra Cricket Association Stadium',inplace=True)\n",
    "matches.replace('Subrata Roy Sahara Stadium','Maharashtra Cricket Association Stadium',inplace=True)\n",
    "matches.replace('M.Chinnaswamy Stadium','M Chinnaswamy Stadium',inplace=True)"
   ]
  },
  {
   "cell_type": "code",
   "execution_count": 18,
   "id": "90da6cc3-4f40-4b4f-b212-cc83f599dad5",
   "metadata": {},
   "outputs": [],
   "source": [
    "matches.replace('M.Chinnaswamy Stadium','M Chinnaswamy Stadium',inplace=True)\n",
    "matches.replace('Punjab Cricket Association Stadium, Mohali','Punjab Cricket Association Stadium',inplace=True)\n",
    "matches.replace('Punjab Cricket Association IS Bindra Stadium, Mohali','Punjab Cricket Association Stadium',inplace=True)\n",
    "matches.replace('Punjab Cricket Association IS Bindra Stadium, Mohali, Chandigarh','Punjab Cricket Association Stadium',inplace=True)\n",
    "matches.replace('M Chinnaswamy Stadium, Bengaluru','M Chinnaswamy Stadium',inplace=True)\n",
    "matches.replace('Rajiv Gandhi International Stadium, Uppal','Rajiv Gandhi International Stadium',inplace=True)\n",
    "matches.replace('Rajiv Gandhi International Stadium, Uppal, Hyderabad','Rajiv Gandhi International Stadium',inplace=True)\n",
    "matches.replace('Himachal Pradesh Cricket Association Stadium, Dharamsala','Himachal Pradesh Cricket Association Stadium',inplace=True)\n",
    "matches.replace('Dr. Y.S. Rajasekhara Reddy ACA-VDCA Cricket Stadium, Visakhapatnam','Dr. Y.S. Rajasekhara Reddy ACA-VDCA Cricket Stadium',inplace=True)"
   ]
  },
  {
   "cell_type": "code",
   "execution_count": 19,
   "id": "2fc6a7d0-ebb5-4c8b-8a15-09b573503454",
   "metadata": {},
   "outputs": [
    {
     "data": {
      "text/plain": [
       "array(['M Chinnaswamy Stadium', 'Punjab Cricket Association Stadium',\n",
       "       'Feroz Shah Kotla', 'Wankhede Stadium', 'Eden Gardens',\n",
       "       'Sawai Mansingh Stadium', 'Rajiv Gandhi International Stadium',\n",
       "       'MA Chidambaram Stadium', 'Dr DY Patil Sports Academy', 'Newlands',\n",
       "       \"St George's Park\", 'Kingsmead', 'SuperSport Park', 'Buffalo Park',\n",
       "       'New Wanderers Stadium', 'De Beers Diamond Oval',\n",
       "       'OUTsurance Oval', 'Brabourne Stadium',\n",
       "       'Sardar Patel Stadium, Motera', 'Barabati Stadium',\n",
       "       'Vidarbha Cricket Association Stadium, Jamtha',\n",
       "       'Himachal Pradesh Cricket Association Stadium', 'Nehru Stadium',\n",
       "       'Holkar Cricket Stadium',\n",
       "       'Dr. Y.S. Rajasekhara Reddy ACA-VDCA Cricket Stadium',\n",
       "       'Maharashtra Cricket Association Stadium',\n",
       "       'Shaheed Veer Narayan Singh International Stadium',\n",
       "       'JSCA International Stadium Complex', 'Sheikh Zayed Stadium',\n",
       "       'Sharjah Cricket Stadium', 'Dubai International Cricket Stadium',\n",
       "       'Saurashtra Cricket Association Stadium', 'Green Park',\n",
       "       'Punjab Cricket Association IS Bindra Stadium',\n",
       "       'Arun Jaitley Stadium', 'MA Chidambaram Stadium, Chepauk, Chennai',\n",
       "       'Narendra Modi Stadium, Ahmedabad',\n",
       "       'Bharat Ratna Shri Atal Bihari Vajpayee Ekana Cricket Stadium, Lucknow',\n",
       "       'Barsapara Cricket Stadium, Guwahati',\n",
       "       'Maharaja Yadavindra Singh International Cricket Stadium, Mullanpur'],\n",
       "      dtype=object)"
      ]
     },
     "execution_count": 19,
     "metadata": {},
     "output_type": "execute_result"
    }
   ],
   "source": [
    "matches['venue'].unique()"
   ]
  },
  {
   "cell_type": "code",
   "execution_count": 20,
   "id": "597a8f59-6163-4609-aca7-89cd78614367",
   "metadata": {},
   "outputs": [
    {
     "name": "stdout",
     "output_type": "stream",
     "text": [
      "40\n",
      "15\n",
      "34\n"
     ]
    }
   ],
   "source": [
    "print(matches.venue.nunique())\n",
    "print(matches.team1.nunique())\n",
    "print(matches.city.nunique())"
   ]
  },
  {
   "cell_type": "code",
   "execution_count": null,
   "id": "483c052c-833a-460b-92ef-34bde5c4f609",
   "metadata": {},
   "outputs": [],
   "source": []
  }
 ],
 "metadata": {
  "kernelspec": {
   "display_name": "Python 3 (ipykernel)",
   "language": "python",
   "name": "python3"
  },
  "language_info": {
   "codemirror_mode": {
    "name": "ipython",
    "version": 3
   },
   "file_extension": ".py",
   "mimetype": "text/x-python",
   "name": "python",
   "nbconvert_exporter": "python",
   "pygments_lexer": "ipython3",
   "version": "3.13.1"
  }
 },
 "nbformat": 4,
 "nbformat_minor": 5
}
