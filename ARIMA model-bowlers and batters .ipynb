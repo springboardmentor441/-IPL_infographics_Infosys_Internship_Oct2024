{
 "cells": [
  {
   "cell_type": "code",
   "execution_count": 2,
   "id": "ec1d1349",
   "metadata": {},
   "outputs": [],
   "source": [
    "import pandas as pd\n",
    "import matplotlib.pyplot as plt\n",
    "import numpy as np\n",
    "from statsmodels.tsa.arima.model import ARIMA# ar and ima\n",
    "from statsmodels.tsa.stattools import adfuller#time series is stationary or not"
   ]
  },
  {
   "cell_type": "code",
   "execution_count": 4,
   "id": "e68861b2",
   "metadata": {},
   "outputs": [
    {
     "data": {
      "text/html": [
       "<div>\n",
       "<style scoped>\n",
       "    .dataframe tbody tr th:only-of-type {\n",
       "        vertical-align: middle;\n",
       "    }\n",
       "\n",
       "    .dataframe tbody tr th {\n",
       "        vertical-align: top;\n",
       "    }\n",
       "\n",
       "    .dataframe thead th {\n",
       "        text-align: right;\n",
       "    }\n",
       "</style>\n",
       "<table border=\"1\" class=\"dataframe\">\n",
       "  <thead>\n",
       "    <tr style=\"text-align: right;\">\n",
       "      <th></th>\n",
       "      <th>match_id</th>\n",
       "      <th>inning</th>\n",
       "      <th>batting_team</th>\n",
       "      <th>bowling_team</th>\n",
       "      <th>over</th>\n",
       "      <th>ball</th>\n",
       "      <th>batter</th>\n",
       "      <th>bowler</th>\n",
       "      <th>non_striker</th>\n",
       "      <th>batsman_runs</th>\n",
       "      <th>extra_runs</th>\n",
       "      <th>total_runs</th>\n",
       "      <th>extras_type</th>\n",
       "      <th>is_wicket</th>\n",
       "      <th>player_dismissed</th>\n",
       "      <th>dismissal_kind</th>\n",
       "      <th>fielder</th>\n",
       "    </tr>\n",
       "  </thead>\n",
       "  <tbody>\n",
       "    <tr>\n",
       "      <th>0</th>\n",
       "      <td>335982</td>\n",
       "      <td>1</td>\n",
       "      <td>Kolkata Knight Riders</td>\n",
       "      <td>Royal Challengers Bangalore</td>\n",
       "      <td>0</td>\n",
       "      <td>1</td>\n",
       "      <td>SC Ganguly</td>\n",
       "      <td>P Kumar</td>\n",
       "      <td>BB McCullum</td>\n",
       "      <td>0</td>\n",
       "      <td>1</td>\n",
       "      <td>1</td>\n",
       "      <td>legbyes</td>\n",
       "      <td>0</td>\n",
       "      <td>NaN</td>\n",
       "      <td>NaN</td>\n",
       "      <td>NaN</td>\n",
       "    </tr>\n",
       "    <tr>\n",
       "      <th>1</th>\n",
       "      <td>335982</td>\n",
       "      <td>1</td>\n",
       "      <td>Kolkata Knight Riders</td>\n",
       "      <td>Royal Challengers Bangalore</td>\n",
       "      <td>0</td>\n",
       "      <td>2</td>\n",
       "      <td>BB McCullum</td>\n",
       "      <td>P Kumar</td>\n",
       "      <td>SC Ganguly</td>\n",
       "      <td>0</td>\n",
       "      <td>0</td>\n",
       "      <td>0</td>\n",
       "      <td>NaN</td>\n",
       "      <td>0</td>\n",
       "      <td>NaN</td>\n",
       "      <td>NaN</td>\n",
       "      <td>NaN</td>\n",
       "    </tr>\n",
       "    <tr>\n",
       "      <th>2</th>\n",
       "      <td>335982</td>\n",
       "      <td>1</td>\n",
       "      <td>Kolkata Knight Riders</td>\n",
       "      <td>Royal Challengers Bangalore</td>\n",
       "      <td>0</td>\n",
       "      <td>3</td>\n",
       "      <td>BB McCullum</td>\n",
       "      <td>P Kumar</td>\n",
       "      <td>SC Ganguly</td>\n",
       "      <td>0</td>\n",
       "      <td>1</td>\n",
       "      <td>1</td>\n",
       "      <td>wides</td>\n",
       "      <td>0</td>\n",
       "      <td>NaN</td>\n",
       "      <td>NaN</td>\n",
       "      <td>NaN</td>\n",
       "    </tr>\n",
       "    <tr>\n",
       "      <th>3</th>\n",
       "      <td>335982</td>\n",
       "      <td>1</td>\n",
       "      <td>Kolkata Knight Riders</td>\n",
       "      <td>Royal Challengers Bangalore</td>\n",
       "      <td>0</td>\n",
       "      <td>4</td>\n",
       "      <td>BB McCullum</td>\n",
       "      <td>P Kumar</td>\n",
       "      <td>SC Ganguly</td>\n",
       "      <td>0</td>\n",
       "      <td>0</td>\n",
       "      <td>0</td>\n",
       "      <td>NaN</td>\n",
       "      <td>0</td>\n",
       "      <td>NaN</td>\n",
       "      <td>NaN</td>\n",
       "      <td>NaN</td>\n",
       "    </tr>\n",
       "    <tr>\n",
       "      <th>4</th>\n",
       "      <td>335982</td>\n",
       "      <td>1</td>\n",
       "      <td>Kolkata Knight Riders</td>\n",
       "      <td>Royal Challengers Bangalore</td>\n",
       "      <td>0</td>\n",
       "      <td>5</td>\n",
       "      <td>BB McCullum</td>\n",
       "      <td>P Kumar</td>\n",
       "      <td>SC Ganguly</td>\n",
       "      <td>0</td>\n",
       "      <td>0</td>\n",
       "      <td>0</td>\n",
       "      <td>NaN</td>\n",
       "      <td>0</td>\n",
       "      <td>NaN</td>\n",
       "      <td>NaN</td>\n",
       "      <td>NaN</td>\n",
       "    </tr>\n",
       "  </tbody>\n",
       "</table>\n",
       "</div>"
      ],
      "text/plain": [
       "   match_id  inning           batting_team                 bowling_team  over  \\\n",
       "0    335982       1  Kolkata Knight Riders  Royal Challengers Bangalore     0   \n",
       "1    335982       1  Kolkata Knight Riders  Royal Challengers Bangalore     0   \n",
       "2    335982       1  Kolkata Knight Riders  Royal Challengers Bangalore     0   \n",
       "3    335982       1  Kolkata Knight Riders  Royal Challengers Bangalore     0   \n",
       "4    335982       1  Kolkata Knight Riders  Royal Challengers Bangalore     0   \n",
       "\n",
       "   ball       batter   bowler  non_striker  batsman_runs  extra_runs  \\\n",
       "0     1   SC Ganguly  P Kumar  BB McCullum             0           1   \n",
       "1     2  BB McCullum  P Kumar   SC Ganguly             0           0   \n",
       "2     3  BB McCullum  P Kumar   SC Ganguly             0           1   \n",
       "3     4  BB McCullum  P Kumar   SC Ganguly             0           0   \n",
       "4     5  BB McCullum  P Kumar   SC Ganguly             0           0   \n",
       "\n",
       "   total_runs extras_type  is_wicket player_dismissed dismissal_kind fielder  \n",
       "0           1     legbyes          0              NaN            NaN     NaN  \n",
       "1           0         NaN          0              NaN            NaN     NaN  \n",
       "2           1       wides          0              NaN            NaN     NaN  \n",
       "3           0         NaN          0              NaN            NaN     NaN  \n",
       "4           0         NaN          0              NaN            NaN     NaN  "
      ]
     },
     "execution_count": 4,
     "metadata": {},
     "output_type": "execute_result"
    }
   ],
   "source": [
    "deliveries=pd.read_csv(\"deliveries.csv\")\n",
    "deliveries.head()    "
   ]
  },
  {
   "cell_type": "code",
   "execution_count": 5,
   "id": "843480c3",
   "metadata": {},
   "outputs": [
    {
     "data": {
      "text/plain": [
       "array(['SC Ganguly', 'BB McCullum', 'RT Ponting', 'DJ Hussey',\n",
       "       'Mohammad Hafeez', 'R Dravid', 'W Jaffer', 'V Kohli', 'JH Kallis',\n",
       "       'CL White', 'MV Boucher', 'B Akhil', 'AA Noffke', 'P Kumar',\n",
       "       'Z Khan', 'SB Joshi', 'PA Patel', 'ML Hayden', 'MEK Hussey',\n",
       "       'MS Dhoni', 'SK Raina', 'JDP Oram', 'S Badrinath', 'K Goel',\n",
       "       'JR Hopes', 'KC Sangakkara', 'Yuvraj Singh', 'SM Katich',\n",
       "       'IK Pathan', 'T Kohli', 'YK Pathan', 'SR Watson', 'M Kaif',\n",
       "       'DS Lehmann', 'RA Jadeja', 'M Rawat', 'D Salunkhe', 'SK Warne',\n",
       "       'SK Trivedi', 'G Gambhir', 'V Sehwag', 'S Dhawan', 'L Ronchi',\n",
       "       'ST Jayasuriya', 'DJ Thornely', 'RV Uthappa', 'PR Shah',\n",
       "       'AM Nayar', 'SM Pollock', 'Harbhajan Singh', 'S Chanderpaul',\n",
       "       'LRPL Taylor', 'AC Gilchrist', 'Y Venugopal Rao', 'VVS Laxman',\n",
       "       'A Symonds', 'RG Sharma', 'SB Styris', 'AS Yadav', 'SB Bangar',\n",
       "       'WPUJC Vaas', 'RP Singh', 'WP Saha', 'LR Shukla',\n",
       "       'DPMD Jayawardene', 'S Sohal', 'B Lee', 'PP Chawla', 'WA Mota',\n",
       "       'Kamran Akmal', 'Shahid Afridi', 'DJ Bravo', 'MA Khote', 'A Nehra',\n",
       "       'GC Smith', 'Pankaj Singh', 'RR Sarwan', 'S Sreesanth',\n",
       "       'VRV Singh', 'SS Tiwary', 'DS Kulkarni', 'R Vinay Kumar',\n",
       "       'AB Agarkar', 'M Kartik', 'I Sharma', 'AM Rahane', 'Shoaib Malik',\n",
       "       'MK Tiwary', 'KD Karthik', 'R Bhatia', 'MF Maharoof', 'VY Mahesh',\n",
       "       'TM Srivastava', 'B Chipli', 'DW Steyn', 'DB Das', 'MK Pandey',\n",
       "       'HH Gibbs', 'DNT Zoysa', 'D Kalyankrishna', 'SE Marsh',\n",
       "       'SA Asnodkar', 'Sohail Tanvir', 'Salman Butt', 'BJ Hodge',\n",
       "       'Umar Gul', 'AB Dinda', 'SP Fleming', 'S Vidyut', 'JA Morkel',\n",
       "       'AB de Villiers', 'LPC Silva', 'DB Ravi Teja', 'Misbah-ul-Haq',\n",
       "       'YV Takawale', 'RR Raje', 'PJ Sangwan', 'Mohammad Asif',\n",
       "       'GD McGrath', 'Joginder Sharma', 'MS Gony', 'M Muralitharan',\n",
       "       'M Ntini', 'DT Patil', 'A Kumble', 'S Anirudha', 'MM Patel',\n",
       "       'CK Kapugedera', 'A Chopra', 'T Taibu', 'J Arunkumar', 'PP Ojha',\n",
       "       'SP Goswami', 'SR Tendulkar', 'U Kaul', 'TM Dilshan', 'A Mishra',\n",
       "       'AD Mascarenhas', 'NK Patel', 'LA Pomersbach', 'Iqbal Abdulla',\n",
       "       'Younis Khan', 'PM Sarvesh Kumar', 'DP Vijaykumar',\n",
       "       'Shoaib Akhtar', 'Abdur Razzak', 'H Das', 'DR Smith', 'SD Chitnis',\n",
       "       'CRD Fernando', 'VS Yeligati', 'L Balaji', 'A Mukund', 'RR Powar',\n",
       "       'JP Duminy', 'A Flintoff', 'T Thushara', 'JD Ryder',\n",
       "       'KP Pietersen', 'T Henderson', 'Kamran Khan', 'RS Bopara',\n",
       "       'CH Gayle', 'MC Henriques', 'R Bishnoi', 'FH Edwards', 'KV Sharma',\n",
       "       'PC Valthaty', 'RJ Quiney', 'AS Raut', 'Yashpal Singh', 'M Manhas',\n",
       "       'AA Bilakhia', 'AN Ghosh', 'BAW Mendis', 'DL Vettori',\n",
       "       'MN van Wyk', 'RE van der Merwe', 'TL Suman', 'Shoaib Ahmed',\n",
       "       'GR Napier', 'KP Appanna', 'LA Carseldine', 'NV Ojha',\n",
       "       'SM Harwood', 'M Vijay', 'SB Jakati', 'DA Warner', 'RJ Harris',\n",
       "       'D du Preez', 'M Morkel', 'AD Mathews', 'J Botha', 'C Nanda',\n",
       "       'SL Malinga', 'Mashrafe Mortaza', 'A Singh', 'GJ Bailey',\n",
       "       'AB McDonald', 'Y Nagar', 'SS Shaikh', 'R Ashwin',\n",
       "       'Mohammad Ashraful', 'CA Pujara', 'OA Shah', 'Anirudh Singh',\n",
       "       'Jaskaran Singh', 'AP Tare', 'AT Rayudu', 'R Sathish', 'R McLaren',\n",
       "       'AA Jhunjhunwala', 'P Dogra', 'A Uniyal', 'MS Bisla', 'YA Abdulla',\n",
       "       'EJG Morgan', 'JM Kemp', 'S Tyagi', 'RS Gavaskar', 'SE Bond',\n",
       "       'KA Pollard', 'S Ladda', 'DP Nannes', 'MJ Lumb', 'DR Martyn',\n",
       "       'S Narwal', 'AB Barath', 'Bipul Sharma', 'FY Fazal', 'AC Voges',\n",
       "       'MD Mishra', 'UT Yadav', 'J Theron', 'SJ Srivastava', 'R Sharma',\n",
       "       'Mandeep Singh', 'KM Jadhav', 'SW Tait', 'KB Arun Karthik',\n",
       "       'KAJ Roach', 'PD Collingwood', 'CK Langeveldt', 'VS Malik',\n",
       "       'A Mithun', 'AP Dole', 'AN Ahmed', 'RS Sodhi', 'DE Bollinger',\n",
       "       'S Sriram', 'B Sumanth', 'C Madan', 'AG Paunikar', 'MR Marsh',\n",
       "       'AJ Finch', 'STR Binny', 'Harmeet Singh', 'IR Jaggi',\n",
       "       'DT Christian', 'RV Gomez', 'MA Agarwal', 'AUK Pathan',\n",
       "       'UBT Chand', 'DJ Jacobs', 'Sunny Singh', 'NJ Rimmington',\n",
       "       'AL Menaria', 'WD Parnell', 'JJ van der Wath', 'R Ninan',\n",
       "       'S Aravind', 'MS Wade', 'TD Paine', 'SB Wagh', 'AC Thomas',\n",
       "       'JEC Franklin', 'Shakib Al Hasan', 'DH Yagnik', 'S Randiv',\n",
       "       'BJ Haddin', 'NLTC Perera', 'NL McCullum', 'JE Taylor',\n",
       "       'J Syed Mohammad', 'RN ten Doeschate', 'TR Birt', 'AG Murtaza',\n",
       "       'Harpreet Singh', 'M Klinger', 'AC Blizzard', 'I Malhotra',\n",
       "       'L Ablish', 'CA Ingram', 'S Nadeem', 'P Parameswaran',\n",
       "       'CJ Ferguson', 'VR Aaron', 'AA Chavan', 'ND Doshi', 'B Kumar',\n",
       "       'Y Gnaneswara Rao', 'S Rana', 'BA Bhatt', 'F du Plessis',\n",
       "       'RE Levi', 'GJ Maxwell', 'SPD Smith', 'MN Samuels', 'SA Yadav',\n",
       "       'KK Cooper', 'JP Faulkner', 'HV Patel', 'DAJ Bracewell',\n",
       "       'DJ Harris', 'Ankit Sharma', 'SP Narine', 'GB Hogg', 'RR Bhatkal',\n",
       "       'CJ McKay', 'N Saini', 'DA Miller', 'Azhar Mahmood', 'P Negi',\n",
       "       'RJ Peterson', 'KMDN Kulasekara', 'A Ashish Reddy',\n",
       "       'V Pratap Singh', 'BB Samantray', 'MJ Clarke', 'Gurkeerat Singh',\n",
       "       'AP Majumdar', 'PA Reddy', 'K Upadhyay', 'P Awana', 'AD Russell',\n",
       "       'A Chandila', 'CA Lynn', 'Sunny Gupta', 'MC Juneja', 'KK Nair',\n",
       "       'GH Vihari', 'MDKJ Perera', 'R Shukla', 'B Laughlin', 'AS Rajpoot',\n",
       "       'M Vohra', 'JD Unadkat', 'Mohammed Shami', 'BMAJ Mendis',\n",
       "       'R Rampaul', 'CH Morris', 'SV Samson', 'SMSM Senanayake',\n",
       "       'BJ Rohrer', 'KL Rahul', 'Q de Kock', 'R Dhawan', 'MG Johnson',\n",
       "       'LJ Wright', 'IC Pandey', 'CM Gautam', 'X Thalaivan Sargunam',\n",
       "       'DJG Sammy', 'KW Richardson', 'MM Sharma', 'UA Birla',\n",
       "       'Parvez Rasool', 'Sandeep Sharma', 'S Kaul', 'Sachin Baby',\n",
       "       'PV Tambe', 'NM Coulter-Nile', 'CJ Anderson', 'NJ Maddinson',\n",
       "       'AR Patel', 'JJ Bumrah', 'JDS Neesham', 'TG Southee', 'MA Starc',\n",
       "       'BR Dunk', 'RR Rossouw', 'Shivam Sharma', 'YS Chahal',\n",
       "       'LMP Simmons', 'VH Zol', 'BCJ Cutting', 'Imran Tahir',\n",
       "       'BE Hendricks', 'S Gopal', 'M de Lange', 'R Tewatia', 'JO Holder',\n",
       "       'Karanveer Singh', 'SS Iyer', 'DJ Hooda', 'Anureet Singh',\n",
       "       'KS Williamson', 'SA Abbott', 'J Suchith', 'RG More', 'HH Pandya',\n",
       "       'D Wiese', 'SN Khan', 'MJ McClenaghan', 'DJ Muthuswami',\n",
       "       'PJ Cummins', 'SN Thakur', 'JC Buttler', 'CR Brathwaite',\n",
       "       'MP Stoinis', 'Ishan Kishan', 'C Munro', 'P Sahu', 'KH Pandya',\n",
       "       'AD Nath', 'MJ Guptill', 'KJ Abbott', 'TM Head', 'M Ashwin',\n",
       "       'NS Naik', 'RR Pant', 'SW Billings', 'KC Cariappa',\n",
       "       'PSP Handscomb', 'Swapnil Singh', 'J Yadav', 'UT Khawaja',\n",
       "       'HM Amla', 'F Behardien', 'BB Sran', 'A Zampa', 'N Rana',\n",
       "       'S Kaushik', 'ER Dwivedi', 'CJ Jordan', 'TS Mills', 'A Choudhary',\n",
       "       'BA Stokes', 'JJ Roy', 'Vishnu Vinod', 'Basil Thampi', 'CR Woakes',\n",
       "       'RA Tripathi', 'DL Chahar', 'V Shankar', 'Rashid Khan',\n",
       "       'RD Chahar', 'LH Ferguson', 'C de Grandhomme', 'AF Milne',\n",
       "       'S Badree', 'Mohammad Nabi', 'AJ Tye', 'K Rabada', 'Kuldeep Yadav',\n",
       "       'Washington Sundar', 'DM Bravo', 'AR Bawne', 'SP Jackson',\n",
       "       'Ankit Soni', 'TA Boult', 'E Lewis', 'MA Wood', 'RK Singh',\n",
       "       'DJM Short', 'K Gowtham', 'TK Curran', 'M Markande', 'B Stanlake',\n",
       "       'Mujeeb Ur Rahman', 'A Dananjaya', 'Shubman Gill', 'Shivam Mavi',\n",
       "       'Mohammed Siraj', 'H Klaasen', 'RK Bhui', 'JC Archer', 'PP Shaw',\n",
       "       'LE Plunkett', 'Mustafizur Rahman', 'AD Hales', 'MK Lomror',\n",
       "       'DR Shorey', 'MM Ali', 'M Prasidh Krishna', 'P Chopra',\n",
       "       'JPR Scantlebury-Searles', 'Abhishek Sharma', 'IS Sodhi',\n",
       "       'SO Hetmyer', 'S Dube', 'Navdeep Saini', 'JM Bairstow', 'KMA Paul',\n",
       "       'Rasikh Salam', 'N Pooran', 'P Ray Barman', 'SM Curran',\n",
       "       'GC Viljoen', 'Avesh Khan', 'S Lamichhane', 'HF Gurney', 'SD Lad',\n",
       "       'AS Joseph', 'R Parag', 'MJ Santner', 'JL Denly', 'LS Livingstone',\n",
       "       'KK Ahmed', 'AJ Turner', 'Harpreet Brar', 'SE Rutherford',\n",
       "       'Y Prithvi Raj', 'P Simran Singh', 'JL Pattinson', 'A Nortje',\n",
       "       'T Banton', 'D Padikkal', 'YBK Jaiswal', 'RD Gaikwad',\n",
       "       'TU Deshpande', 'Abdul Samad', 'PK Garg', 'JR Philippe',\n",
       "       'Kartik Tyagi', 'KL Nagarkoti', 'CV Varun', 'I Udana',\n",
       "       'Ravi Bishnoi', 'Shahbaz Ahmed', 'AT Carey', 'N Jagadeesan',\n",
       "       'T Natarajan', 'P Dubey', 'SS Cottrell', 'Arshdeep Singh',\n",
       "       'DR Sams', 'M Jansen', 'RM Patidar', 'KA Jamieson',\n",
       "       'M Shahrukh Khan', 'JA Richardson', 'Lalit Yadav', 'Virat Singh',\n",
       "       'FA Allen', 'C Sakariya', 'DJ Malan', 'KS Bharat', 'PWH de Silva',\n",
       "       'VR Iyer', 'GD Phillips', 'GHS Garton', 'AK Markram', 'K Yadav',\n",
       "       'T Shamsi', 'NT Ellis', 'RV Patel', 'TL Seifert',\n",
       "       'Anmolpreet Singh', 'Anuj Rawat', 'TH David', 'DP Conway',\n",
       "       'Tilak Varma', 'R Powell', 'PBB Rajapaksa', 'RA Bawa', 'OF Smith',\n",
       "       'A Badoni', 'PVD Chameera', 'A Manohar', 'R Shepherd', 'DJ Willey',\n",
       "       'D Pretorius', 'JM Sharma', 'VG Arora', 'Mukesh Choudhary',\n",
       "       'Umran Malik', 'D Brevis', 'B Sai Sudharsan', 'Ramandeep Singh',\n",
       "       'HE van der Dussen', 'SS Prabhudessai', 'Akash Deep',\n",
       "       'JR Hazlewood', 'KR Sen', 'Aman Hakim Khan', 'HR Shokeen',\n",
       "       'Yash Dayal', 'DJ Mitchell', 'Shashank Singh', 'B Indrajith',\n",
       "       'Harshit Rana', 'Mohsin Khan', 'Simarjeet Singh', 'M Theekshana',\n",
       "       'AS Roy', 'Fazalhaq Farooqi', 'K Kartikeya', 'RP Meredith',\n",
       "       'KS Sharma', 'T Stubbs', 'R Sanjay Yadav', 'A Tomar', 'PN Mankad',\n",
       "       'OC McCoy', 'Sikandar Raza', 'Rahmanullah Gurbaz', 'KR Mayers',\n",
       "       'Mukesh Kumar', 'HC Brook', 'AU Rashid', 'C Green', 'N Wadhera',\n",
       "       'Arshad Khan', 'Abishek Porel', 'Dhruv Jurel', 'MG Bracewell',\n",
       "       'MW Short', 'Mohit Rathee', 'YV Dhull', 'Yudhvir Singh',\n",
       "       'Atharva Taide', 'Liton Das', 'PD Salt', 'Vijaykumar Vyshak',\n",
       "       'Abdul Basith', 'Arjun Tendulkar', 'JP Behrendorff', 'AJ Hosein',\n",
       "       'Naveen-ul-Haq', 'Noor Ahmad', 'JE Root', 'KM Asif', 'MD Shanaka',\n",
       "       'Sanvir Singh', 'Vivrant Sharma', 'DG Nalkande', 'R Ravindra',\n",
       "       'SD Hope', 'Sumit Kumar', 'Azmatullah Omarzai', 'Naman Dhir',\n",
       "       'G Coetzee', 'SZ Mulani', 'Sameer Rizvi', 'SH Johnson',\n",
       "       'Akash Madhwal', 'SB Dubey', 'Mayank Dagar', 'RJW Topley',\n",
       "       'A Raghuvanshi', 'Ashutosh Sharma', 'Nithish Kumar Reddy',\n",
       "       'Saurav Chauhan', 'Kumar Kushagra', 'BR Sharath', 'WG Jacks',\n",
       "       'J Fraser-McGurk', 'Tanush Kotian', 'KA Maharaj',\n",
       "       'Arshad Khan (2)', 'R Sai Kishore', 'L Wood', 'LB Williams',\n",
       "       'AA Kulkarni', 'MJ Suthar', 'RJ Gleeson', 'Gulbadin Naib',\n",
       "       'D Ferreira', 'A Kamboj', 'T Kohler-Cadmore', 'Shivam Singh',\n",
       "       'V Viyaskanth'], dtype=object)"
      ]
     },
     "execution_count": 5,
     "metadata": {},
     "output_type": "execute_result"
    }
   ],
   "source": [
    "deliveries.batter.unique()"
   ]
  },
  {
   "cell_type": "code",
   "execution_count": 6,
   "id": "7bdb5dd9",
   "metadata": {},
   "outputs": [
    {
     "name": "stdout",
     "output_type": "stream",
     "text": [
      "<class 'pandas.core.frame.DataFrame'>\n",
      "RangeIndex: 260920 entries, 0 to 260919\n",
      "Data columns (total 17 columns):\n",
      " #   Column            Non-Null Count   Dtype \n",
      "---  ------            --------------   ----- \n",
      " 0   match_id          260920 non-null  int64 \n",
      " 1   inning            260920 non-null  int64 \n",
      " 2   batting_team      260920 non-null  object\n",
      " 3   bowling_team      260920 non-null  object\n",
      " 4   over              260920 non-null  int64 \n",
      " 5   ball              260920 non-null  int64 \n",
      " 6   batter            260920 non-null  object\n",
      " 7   bowler            260920 non-null  object\n",
      " 8   non_striker       260920 non-null  object\n",
      " 9   batsman_runs      260920 non-null  int64 \n",
      " 10  extra_runs        260920 non-null  int64 \n",
      " 11  total_runs        260920 non-null  int64 \n",
      " 12  extras_type       14125 non-null   object\n",
      " 13  is_wicket         260920 non-null  int64 \n",
      " 14  player_dismissed  12950 non-null   object\n",
      " 15  dismissal_kind    12950 non-null   object\n",
      " 16  fielder           9354 non-null    object\n",
      "dtypes: int64(8), object(9)\n",
      "memory usage: 33.8+ MB\n"
     ]
    }
   ],
   "source": [
    "deliveries.info()"
   ]
  },
  {
   "cell_type": "code",
   "execution_count": 7,
   "id": "82f03499",
   "metadata": {},
   "outputs": [
    {
     "data": {
      "text/plain": [
       "match_id                 0\n",
       "inning                   0\n",
       "batting_team             0\n",
       "bowling_team             0\n",
       "over                     0\n",
       "ball                     0\n",
       "batter                   0\n",
       "bowler                   0\n",
       "non_striker              0\n",
       "batsman_runs             0\n",
       "extra_runs               0\n",
       "total_runs               0\n",
       "extras_type         246795\n",
       "is_wicket                0\n",
       "player_dismissed    247970\n",
       "dismissal_kind      247970\n",
       "fielder             251566\n",
       "dtype: int64"
      ]
     },
     "execution_count": 7,
     "metadata": {},
     "output_type": "execute_result"
    }
   ],
   "source": [
    "deliveries.isnull().sum()"
   ]
  },
  {
   "cell_type": "code",
   "execution_count": 8,
   "id": "bfdc4a16",
   "metadata": {},
   "outputs": [
    {
     "data": {
      "text/html": [
       "<div>\n",
       "<style scoped>\n",
       "    .dataframe tbody tr th:only-of-type {\n",
       "        vertical-align: middle;\n",
       "    }\n",
       "\n",
       "    .dataframe tbody tr th {\n",
       "        vertical-align: top;\n",
       "    }\n",
       "\n",
       "    .dataframe thead th {\n",
       "        text-align: right;\n",
       "    }\n",
       "</style>\n",
       "<table border=\"1\" class=\"dataframe\">\n",
       "  <thead>\n",
       "    <tr style=\"text-align: right;\">\n",
       "      <th></th>\n",
       "      <th>match_id</th>\n",
       "      <th>batsman_runs</th>\n",
       "    </tr>\n",
       "  </thead>\n",
       "  <tbody>\n",
       "    <tr>\n",
       "      <th>0</th>\n",
       "      <td>335982</td>\n",
       "      <td>1</td>\n",
       "    </tr>\n",
       "    <tr>\n",
       "      <th>1</th>\n",
       "      <td>335985</td>\n",
       "      <td>23</td>\n",
       "    </tr>\n",
       "    <tr>\n",
       "      <th>2</th>\n",
       "      <td>335992</td>\n",
       "      <td>13</td>\n",
       "    </tr>\n",
       "    <tr>\n",
       "      <th>3</th>\n",
       "      <td>335996</td>\n",
       "      <td>12</td>\n",
       "    </tr>\n",
       "    <tr>\n",
       "      <th>4</th>\n",
       "      <td>335998</td>\n",
       "      <td>1</td>\n",
       "    </tr>\n",
       "    <tr>\n",
       "      <th>...</th>\n",
       "      <td>...</td>\n",
       "      <td>...</td>\n",
       "    </tr>\n",
       "    <tr>\n",
       "      <th>234</th>\n",
       "      <td>1426263</td>\n",
       "      <td>3</td>\n",
       "    </tr>\n",
       "    <tr>\n",
       "      <th>235</th>\n",
       "      <td>1426268</td>\n",
       "      <td>42</td>\n",
       "    </tr>\n",
       "    <tr>\n",
       "      <th>236</th>\n",
       "      <td>1426274</td>\n",
       "      <td>18</td>\n",
       "    </tr>\n",
       "    <tr>\n",
       "      <th>237</th>\n",
       "      <td>1426279</td>\n",
       "      <td>51</td>\n",
       "    </tr>\n",
       "    <tr>\n",
       "      <th>238</th>\n",
       "      <td>1426283</td>\n",
       "      <td>70</td>\n",
       "    </tr>\n",
       "  </tbody>\n",
       "</table>\n",
       "<p>239 rows × 2 columns</p>\n",
       "</div>"
      ],
      "text/plain": [
       "     match_id  batsman_runs\n",
       "0      335982             1\n",
       "1      335985            23\n",
       "2      335992            13\n",
       "3      335996            12\n",
       "4      335998             1\n",
       "..        ...           ...\n",
       "234   1426263             3\n",
       "235   1426268            42\n",
       "236   1426274            18\n",
       "237   1426279            51\n",
       "238   1426283            70\n",
       "\n",
       "[239 rows x 2 columns]"
      ]
     },
     "execution_count": 8,
     "metadata": {},
     "output_type": "execute_result"
    }
   ],
   "source": [
    "vkohli=deliveries[deliveries.batter==\"V Kohli\"]\n",
    "vkohli_score=vkohli.groupby('match_id')['batsman_runs'].sum().reset_index()\n",
    "vkohli_score_sub=vkohli_score.head(239)\n",
    "vkohli_score_sub"
   ]
  },
  {
   "cell_type": "code",
   "execution_count": 9,
   "id": "862c2e6b",
   "metadata": {},
   "outputs": [
    {
     "name": "stderr",
     "output_type": "stream",
     "text": [
      "C:\\Users\\LENOVO\\AppData\\Local\\Temp\\ipykernel_13408\\2652151109.py:2: SettingWithCopyWarning: \n",
      "A value is trying to be set on a copy of a slice from a DataFrame.\n",
      "Try using .loc[row_indexer,col_indexer] = value instead\n",
      "\n",
      "See the caveats in the documentation: https://pandas.pydata.org/pandas-docs/stable/user_guide/indexing.html#returning-a-view-versus-a-copy\n",
      "  vkohli_score_sub[\"match_number\"]=range(len(vkohli_score_sub))\n"
     ]
    },
    {
     "name": "stdout",
     "output_type": "stream",
     "text": [
      "239    45.064196\n",
      "240    44.510021\n",
      "241    44.497705\n",
      "242    44.497431\n",
      "243    44.497425\n",
      "Name: predicted_mean, dtype: float64\n"
     ]
    }
   ],
   "source": [
    "#preparing data\n",
    "vkohli_score_sub[\"match_number\"]=range(len(vkohli_score_sub))\n",
    "vkohli_score_sub.set_index(\"match_number\",inplace=True)\n",
    "model=ARIMA(vkohli_score_sub[\"batsman_runs\"],order=(1,1,1))\n",
    "model_fit=model.fit()\n",
    "forecast=model_fit.forecast(steps=5)\n",
    "print(forecast)"
   ]
  },
  {
   "cell_type": "code",
   "execution_count": 10,
   "id": "8c6870f4",
   "metadata": {},
   "outputs": [
    {
     "name": "stdout",
     "output_type": "stream",
     "text": [
      "             batter  batsman_runs\n",
      "631         V Kohli          8014\n",
      "512        S Dhawan          6769\n",
      "477       RG Sharma          6630\n",
      "147       DA Warner          6567\n",
      "546        SK Raina          5536\n",
      "374        MS Dhoni          5243\n",
      "30   AB de Villiers          5181\n",
      "124        CH Gayle          4997\n",
      "501      RV Uthappa          4954\n",
      "282      KD Karthik          4843\n",
      "V Kohli\n",
      "       match_id   batter  batsman_runs\n",
      "13       335982  V Kohli             1\n",
      "56       335985  V Kohli            23\n",
      "168      335992  V Kohli            13\n",
      "224      335996  V Kohli            12\n",
      "252      335998  V Kohli             1\n",
      "...         ...      ...           ...\n",
      "16197   1426290  V Kohli            42\n",
      "16300   1426296  V Kohli            92\n",
      "16367   1426300  V Kohli            27\n",
      "16434   1426306  V Kohli            47\n",
      "16479   1426310  V Kohli            33\n",
      "\n",
      "[244 rows x 3 columns]\n",
      "S Dhawan\n",
      "       match_id    batter  batsman_runs\n",
      "35       335984  S Dhawan            52\n",
      "96       335988  S Dhawan            25\n",
      "204      335995  S Dhawan             0\n",
      "250      335998  S Dhawan            50\n",
      "296      336001  S Dhawan            19\n",
      "...         ...       ...           ...\n",
      "15425   1422120  S Dhawan            22\n",
      "15494   1422124  S Dhawan            45\n",
      "15566   1422129  S Dhawan            70\n",
      "15660   1422135  S Dhawan             1\n",
      "15754   1426261  S Dhawan            14\n",
      "\n",
      "[221 rows x 3 columns]\n",
      "RG Sharma\n",
      "       match_id     batter  batsman_runs\n",
      "64       335986  RG Sharma             0\n",
      "94       335988  RG Sharma            66\n",
      "128      335990  RG Sharma            36\n",
      "261      335999  RG Sharma            76\n",
      "311      336002  RG Sharma            17\n",
      "...         ...        ...           ...\n",
      "16132   1426286  RG Sharma             4\n",
      "16174   1426289  RG Sharma            11\n",
      "16250   1426293  RG Sharma             4\n",
      "16326   1426298  RG Sharma            19\n",
      "16417   1426305  RG Sharma            68\n",
      "\n",
      "[251 rows x 3 columns]\n",
      "DA Warner\n",
      "       match_id     batter  batsman_runs\n",
      "1248     392206  DA Warner            51\n",
      "1319     392211  DA Warner            36\n",
      "1371     392215  DA Warner            21\n",
      "1429     392219  DA Warner            36\n",
      "1488     392223  DA Warner             4\n",
      "...         ...        ...           ...\n",
      "15637   1422134  DA Warner            18\n",
      "15693   1422138  DA Warner            10\n",
      "15791   1426264  DA Warner             8\n",
      "15931   1426273  DA Warner             1\n",
      "16352   1426300  DA Warner             1\n",
      "\n",
      "[184 rows x 3 columns]\n",
      "SK Raina\n",
      "       match_id    batter  batsman_runs\n",
      "26       335983  SK Raina            32\n",
      "116      335989  SK Raina            53\n",
      "223      335996  SK Raina            28\n",
      "298      336001  SK Raina             3\n",
      "364      336005  SK Raina            27\n",
      "...         ...       ...           ...\n",
      "12637   1254089  SK Raina             3\n",
      "12669   1254091  SK Raina             2\n",
      "12775   1254098  SK Raina            11\n",
      "12863   1254104  SK Raina             4\n",
      "13009   1254113  SK Raina            17\n",
      "\n",
      "[200 rows x 3 columns]\n",
      "MS Dhoni\n",
      "       match_id    batter  batsman_runs\n",
      "23       335983  MS Dhoni             2\n",
      "112      335989  MS Dhoni            30\n",
      "178      335993  MS Dhoni            43\n",
      "218      335996  MS Dhoni            65\n",
      "293      336001  MS Dhoni            32\n",
      "...         ...       ...           ...\n",
      "16096   1426284  MS Dhoni             5\n",
      "16140   1426287  MS Dhoni            14\n",
      "16211   1426291  MS Dhoni             0\n",
      "16309   1426297  MS Dhoni            26\n",
      "16427   1426306  MS Dhoni            25\n",
      "\n",
      "[228 rows x 3 columns]\n",
      "AB de Villiers\n",
      "       match_id          batter  batsman_runs\n",
      "290      336001  AB de Villiers            26\n",
      "333      336004  AB de Villiers            21\n",
      "415      336009  AB de Villiers             0\n",
      "503      336015  AB de Villiers            20\n",
      "535      336017  AB de Villiers             7\n",
      "...         ...             ...           ...\n",
      "12807   1254101  AB de Villiers            26\n",
      "12832   1254103  AB de Villiers             4\n",
      "12914   1254108  AB de Villiers            11\n",
      "12999   1254113  AB de Villiers            12\n",
      "13026   1254115  AB de Villiers            11\n",
      "\n",
      "[170 rows x 3 columns]\n",
      "CH Gayle\n",
      "       match_id    batter  batsman_runs\n",
      "932      392184  CH Gayle            10\n",
      "960      392186  CH Gayle            44\n",
      "1008     392190  CH Gayle            54\n",
      "1104     392197  CH Gayle            12\n",
      "1135     392199  CH Gayle            40\n",
      "...         ...       ...           ...\n",
      "12475   1254078  CH Gayle             0\n",
      "12539   1254083  CH Gayle            46\n",
      "12583   1254086  CH Gayle            13\n",
      "12782   1254099  CH Gayle             1\n",
      "12900   1254107  CH Gayle            14\n",
      "\n",
      "[141 rows x 3 columns]\n",
      "RV Uthappa\n",
      "       match_id      batter  batsman_runs\n",
      "52       335985  RV Uthappa            48\n",
      "114      335989  RV Uthappa            43\n",
      "148      335991  RV Uthappa            21\n",
      "190      335994  RV Uthappa             6\n",
      "238      335997  RV Uthappa            37\n",
      "...         ...         ...           ...\n",
      "13587   1304079  RV Uthappa            30\n",
      "13665   1304084  RV Uthappa             1\n",
      "13835   1304095  RV Uthappa             1\n",
      "13930   1304101  RV Uthappa             0\n",
      "13993   1304105  RV Uthappa             1\n",
      "\n",
      "[197 rows x 3 columns]\n",
      "KD Karthik\n",
      "       match_id      batter  batsman_runs\n",
      "200      335995  KD Karthik            24\n",
      "243      335998  KD Karthik             2\n",
      "339      336004  KD Karthik            28\n",
      "419      336009  KD Karthik             6\n",
      "507      336015  KD Karthik            13\n",
      "...         ...         ...           ...\n",
      "16188   1426290  KD Karthik            21\n",
      "16290   1426296  KD Karthik            18\n",
      "16356   1426300  KD Karthik             0\n",
      "16424   1426306  KD Karthik            14\n",
      "16469   1426310  KD Karthik            11\n",
      "\n",
      "[233 rows x 3 columns]\n"
     ]
    }
   ],
   "source": [
    "batter=deliveries.groupby(['match_id','batter']).agg({'batsman_runs':'sum'}).reset_index()\n",
    "batter_scores=batter.groupby('batter')['batsman_runs'].sum().reset_index()\n",
    "batter_scores=batter_scores.sort_values(by=\"batsman_runs\",ascending=False)\n",
    "top_batter_scores=batter_scores.head(10)\n",
    "print(top_batter_scores)\n",
    "for i in range(len(top_batter_scores)):\n",
    "  batsman=top_batter_scores.iloc[i][\"batter\"]\n",
    "  print(batsman)\n",
    "  score=batter[batter['batter']==batsman]\n",
    "  print(score)\n"
   ]
  },
  {
   "cell_type": "code",
   "execution_count": 11,
   "id": "9cbc741f",
   "metadata": {},
   "outputs": [
    {
     "data": {
      "text/plain": [
       "Text(0, 0.5, 'scores')"
      ]
     },
     "execution_count": 11,
     "metadata": {},
     "output_type": "execute_result"
    },
    {
     "data": {
      "image/png": "[encoded data removed]",
      "text/plain": [
       "<Figure size 1500x700 with 1 Axes>"
      ]
     },
     "metadata": {},
     "output_type": "display_data"
    }
   ],
   "source": [
    "player=top_batter_scores['batter']\n",
    "scores=top_batter_scores['batsman_runs']\n",
    "fig = plt.figure(figsize = (15,7))\n",
    "plt.bar(player,scores)\n",
    "plt.title('Top batters with score')\n",
    "plt.xlabel('batter')\n",
    "plt.ylabel('scores')"
   ]
  },
  {
   "cell_type": "markdown",
   "id": "46e2d015",
   "metadata": {},
   "source": [
    "ARIMA MODEL FOR TOP 10 BATTER"
   ]
  },
  {
   "cell_type": "code",
   "execution_count": 12,
   "id": "f4675fe7",
   "metadata": {},
   "outputs": [
    {
     "name": "stdout",
     "output_type": "stream",
     "text": [
      "V Kohli\n"
     ]
    },
    {
     "name": "stderr",
     "output_type": "stream",
     "text": [
      "C:\\Users\\LENOVO\\AppData\\Local\\Temp\\ipykernel_13408\\1642410643.py:7: SettingWithCopyWarning: \n",
      "A value is trying to be set on a copy of a slice from a DataFrame.\n",
      "Try using .loc[row_indexer,col_indexer] = value instead\n",
      "\n",
      "See the caveats in the documentation: https://pandas.pydata.org/pandas-docs/stable/user_guide/indexing.html#returning-a-view-versus-a-copy\n",
      "  top_batter_score[\"match_number\"]=range(len(top_batter_score))\n"
     ]
    },
    {
     "name": "stdout",
     "output_type": "stream",
     "text": [
      "239    45.064196\n",
      "240    44.510021\n",
      "241    44.497705\n",
      "242    44.497431\n",
      "243    44.497425\n",
      "Name: predicted_mean, dtype: float64\n",
      "S Dhawan\n"
     ]
    },
    {
     "name": "stderr",
     "output_type": "stream",
     "text": [
      "C:\\Users\\LENOVO\\AppData\\Local\\Temp\\ipykernel_13408\\1642410643.py:7: SettingWithCopyWarning: \n",
      "A value is trying to be set on a copy of a slice from a DataFrame.\n",
      "Try using .loc[row_indexer,col_indexer] = value instead\n",
      "\n",
      "See the caveats in the documentation: https://pandas.pydata.org/pandas-docs/stable/user_guide/indexing.html#returning-a-view-versus-a-copy\n",
      "  top_batter_score[\"match_number\"]=range(len(top_batter_score))\n"
     ]
    },
    {
     "name": "stdout",
     "output_type": "stream",
     "text": [
      "221    34.077027\n",
      "222    32.753424\n",
      "223    32.840684\n",
      "224    32.834931\n",
      "225    32.835310\n",
      "Name: predicted_mean, dtype: float64\n",
      "RG Sharma\n"
     ]
    },
    {
     "name": "stderr",
     "output_type": "stream",
     "text": [
      "C:\\Users\\LENOVO\\AppData\\Local\\Temp\\ipykernel_13408\\1642410643.py:7: SettingWithCopyWarning: \n",
      "A value is trying to be set on a copy of a slice from a DataFrame.\n",
      "Try using .loc[row_indexer,col_indexer] = value instead\n",
      "\n",
      "See the caveats in the documentation: https://pandas.pydata.org/pandas-docs/stable/user_guide/indexing.html#returning-a-view-versus-a-copy\n",
      "  top_batter_score[\"match_number\"]=range(len(top_batter_score))\n"
     ]
    },
    {
     "name": "stdout",
     "output_type": "stream",
     "text": [
      "239    26.263768\n",
      "240    26.226524\n",
      "241    26.231783\n",
      "242    26.231040\n",
      "243    26.231145\n",
      "Name: predicted_mean, dtype: float64\n",
      "DA Warner\n"
     ]
    },
    {
     "name": "stderr",
     "output_type": "stream",
     "text": [
      "C:\\Users\\LENOVO\\AppData\\Local\\Temp\\ipykernel_13408\\1642410643.py:7: SettingWithCopyWarning: \n",
      "A value is trying to be set on a copy of a slice from a DataFrame.\n",
      "Try using .loc[row_indexer,col_indexer] = value instead\n",
      "\n",
      "See the caveats in the documentation: https://pandas.pydata.org/pandas-docs/stable/user_guide/indexing.html#returning-a-view-versus-a-copy\n",
      "  top_batter_score[\"match_number\"]=range(len(top_batter_score))\n"
     ]
    },
    {
     "name": "stdout",
     "output_type": "stream",
     "text": [
      "184    30.375157\n",
      "185    29.294774\n",
      "186    29.334510\n",
      "187    29.333048\n",
      "188    29.333102\n",
      "Name: predicted_mean, dtype: float64\n",
      "SK Raina\n"
     ]
    },
    {
     "name": "stderr",
     "output_type": "stream",
     "text": [
      "C:\\Users\\LENOVO\\AppData\\Local\\Temp\\ipykernel_13408\\1642410643.py:7: SettingWithCopyWarning: \n",
      "A value is trying to be set on a copy of a slice from a DataFrame.\n",
      "Try using .loc[row_indexer,col_indexer] = value instead\n",
      "\n",
      "See the caveats in the documentation: https://pandas.pydata.org/pandas-docs/stable/user_guide/indexing.html#returning-a-view-versus-a-copy\n",
      "  top_batter_score[\"match_number\"]=range(len(top_batter_score))\n"
     ]
    },
    {
     "name": "stdout",
     "output_type": "stream",
     "text": [
      "200    26.396030\n",
      "201    25.281171\n",
      "202    25.413451\n",
      "203    25.397756\n",
      "204    25.399618\n",
      "Name: predicted_mean, dtype: float64\n",
      "MS Dhoni\n"
     ]
    },
    {
     "name": "stderr",
     "output_type": "stream",
     "text": [
      "C:\\Users\\LENOVO\\AppData\\Local\\Temp\\ipykernel_13408\\1642410643.py:7: SettingWithCopyWarning: \n",
      "A value is trying to be set on a copy of a slice from a DataFrame.\n",
      "Try using .loc[row_indexer,col_indexer] = value instead\n",
      "\n",
      "See the caveats in the documentation: https://pandas.pydata.org/pandas-docs/stable/user_guide/indexing.html#returning-a-view-versus-a-copy\n",
      "  top_batter_score[\"match_number\"]=range(len(top_batter_score))\n"
     ]
    },
    {
     "name": "stdout",
     "output_type": "stream",
     "text": [
      "228    14.177092\n",
      "229    14.334177\n",
      "230    14.331897\n",
      "231    14.331930\n",
      "232    14.331929\n",
      "Name: predicted_mean, dtype: float64\n",
      "AB de Villiers\n"
     ]
    },
    {
     "name": "stderr",
     "output_type": "stream",
     "text": [
      "C:\\Users\\LENOVO\\AppData\\Local\\Temp\\ipykernel_13408\\1642410643.py:7: SettingWithCopyWarning: \n",
      "A value is trying to be set on a copy of a slice from a DataFrame.\n",
      "Try using .loc[row_indexer,col_indexer] = value instead\n",
      "\n",
      "See the caveats in the documentation: https://pandas.pydata.org/pandas-docs/stable/user_guide/indexing.html#returning-a-view-versus-a-copy\n",
      "  top_batter_score[\"match_number\"]=range(len(top_batter_score))\n"
     ]
    },
    {
     "name": "stdout",
     "output_type": "stream",
     "text": [
      "170    32.171063\n",
      "171    30.361837\n",
      "172    30.516449\n",
      "173    30.503237\n",
      "174    30.504366\n",
      "Name: predicted_mean, dtype: float64\n",
      "CH Gayle\n"
     ]
    },
    {
     "name": "stderr",
     "output_type": "stream",
     "text": [
      "C:\\Users\\LENOVO\\AppData\\Local\\Temp\\ipykernel_13408\\1642410643.py:7: SettingWithCopyWarning: \n",
      "A value is trying to be set on a copy of a slice from a DataFrame.\n",
      "Try using .loc[row_indexer,col_indexer] = value instead\n",
      "\n",
      "See the caveats in the documentation: https://pandas.pydata.org/pandas-docs/stable/user_guide/indexing.html#returning-a-view-versus-a-copy\n",
      "  top_batter_score[\"match_number\"]=range(len(top_batter_score))\n"
     ]
    },
    {
     "name": "stdout",
     "output_type": "stream",
     "text": [
      "141    31.122217\n",
      "142    29.325195\n",
      "143    29.513797\n",
      "144    29.494003\n",
      "145    29.496080\n",
      "Name: predicted_mean, dtype: float64\n",
      "RV Uthappa\n",
      "197    21.230933\n",
      "198    21.476908\n",
      "199    21.479899\n",
      "200    21.479935\n",
      "201    21.479936\n",
      "Name: predicted_mean, dtype: float64\n",
      "KD Karthik\n"
     ]
    },
    {
     "name": "stderr",
     "output_type": "stream",
     "text": [
      "C:\\Users\\LENOVO\\AppData\\Local\\Temp\\ipykernel_13408\\1642410643.py:7: SettingWithCopyWarning: \n",
      "A value is trying to be set on a copy of a slice from a DataFrame.\n",
      "Try using .loc[row_indexer,col_indexer] = value instead\n",
      "\n",
      "See the caveats in the documentation: https://pandas.pydata.org/pandas-docs/stable/user_guide/indexing.html#returning-a-view-versus-a-copy\n",
      "  top_batter_score[\"match_number\"]=range(len(top_batter_score))\n",
      "C:\\Users\\LENOVO\\AppData\\Local\\Temp\\ipykernel_13408\\1642410643.py:7: SettingWithCopyWarning: \n",
      "A value is trying to be set on a copy of a slice from a DataFrame.\n",
      "Try using .loc[row_indexer,col_indexer] = value instead\n",
      "\n",
      "See the caveats in the documentation: https://pandas.pydata.org/pandas-docs/stable/user_guide/indexing.html#returning-a-view-versus-a-copy\n",
      "  top_batter_score[\"match_number\"]=range(len(top_batter_score))\n"
     ]
    },
    {
     "name": "stdout",
     "output_type": "stream",
     "text": [
      "233    20.803248\n",
      "234    20.558830\n",
      "235    20.564924\n",
      "236    20.564772\n",
      "237    20.564776\n",
      "Name: predicted_mean, dtype: float64\n"
     ]
    }
   ],
   "source": [
    "for i in range(len(top_batter_scores)):\n",
    "  batsman=top_batter_scores.iloc[i][\"batter\"]\n",
    "  print(batsman)\n",
    "  score=batter[batter['batter']==batsman]\n",
    "  #preparing data\n",
    "  top_batter_score=score.head(239)\n",
    "  top_batter_score[\"match_number\"]=range(len(top_batter_score))\n",
    "  top_batter_score.set_index(\"match_number\",inplace=True)\n",
    "  model=ARIMA(top_batter_score[\"batsman_runs\"],order=(1,1,1))\n",
    "  model_fit=model.fit()\n",
    "  forecast=model_fit.forecast(steps=5)\n",
    "  print(forecast)\n",
    "     "
   ]
  },
  {
   "cell_type": "code",
   "execution_count": 13,
   "id": "93756cda",
   "metadata": {},
   "outputs": [
    {
     "name": "stdout",
     "output_type": "stream",
     "text": [
      "Batsman: V Kohli\n"
     ]
    },
    {
     "name": "stderr",
     "output_type": "stream",
     "text": [
      "C:\\Users\\LENOVO\\AppData\\Local\\Temp\\ipykernel_13408\\2967835382.py:9: SettingWithCopyWarning: \n",
      "A value is trying to be set on a copy of a slice from a DataFrame.\n",
      "Try using .loc[row_indexer,col_indexer] = value instead\n",
      "\n",
      "See the caveats in the documentation: https://pandas.pydata.org/pandas-docs/stable/user_guide/indexing.html#returning-a-view-versus-a-copy\n",
      "  score[\"match_number\"] = range(len(score))\n"
     ]
    },
    {
     "name": "stdout",
     "output_type": "stream",
     "text": [
      "Future Forecasted Values (Next 5 Matches):\n",
      "195    24.903255\n",
      "196    26.494555\n",
      "197    26.615696\n",
      "198    26.624918\n",
      "199    26.625620\n",
      "Name: predicted_mean, dtype: float64\n",
      "Evaluation Metrics:\n",
      "Mean Absolute Error (MAE): 25.49\n",
      "Mean Squared Error (MSE): 1049.98\n",
      "Root Mean Squared Error (RMSE): 32.40\n",
      "--------------------------------------------------\n",
      "Batsman: S Dhawan\n",
      "Future Forecasted Values (Next 5 Matches):\n",
      "176    31.254979\n",
      "177    35.307288\n",
      "178    35.001749\n",
      "179    35.024786\n",
      "180    35.023049\n",
      "Name: predicted_mean, dtype: float64\n",
      "Evaluation Metrics:\n",
      "Mean Absolute Error (MAE): 21.69\n",
      "Mean Squared Error (MSE): 701.30\n",
      "Root Mean Squared Error (RMSE): 26.48\n",
      "--------------------------------------------------\n",
      "Batsman: RG Sharma\n"
     ]
    },
    {
     "name": "stderr",
     "output_type": "stream",
     "text": [
      "C:\\Users\\LENOVO\\AppData\\Local\\Temp\\ipykernel_13408\\2967835382.py:9: SettingWithCopyWarning: \n",
      "A value is trying to be set on a copy of a slice from a DataFrame.\n",
      "Try using .loc[row_indexer,col_indexer] = value instead\n",
      "\n",
      "See the caveats in the documentation: https://pandas.pydata.org/pandas-docs/stable/user_guide/indexing.html#returning-a-view-versus-a-copy\n",
      "  score[\"match_number\"] = range(len(score))\n",
      "C:\\Users\\LENOVO\\AppData\\Local\\Temp\\ipykernel_13408\\2967835382.py:9: SettingWithCopyWarning: \n",
      "A value is trying to be set on a copy of a slice from a DataFrame.\n",
      "Try using .loc[row_indexer,col_indexer] = value instead\n",
      "\n",
      "See the caveats in the documentation: https://pandas.pydata.org/pandas-docs/stable/user_guide/indexing.html#returning-a-view-versus-a-copy\n",
      "  score[\"match_number\"] = range(len(score))\n"
     ]
    },
    {
     "name": "stdout",
     "output_type": "stream",
     "text": [
      "Future Forecasted Values (Next 5 Matches):\n",
      "200    29.323258\n",
      "201    26.941564\n",
      "202    27.311751\n",
      "203    27.254213\n",
      "204    27.263156\n",
      "Name: predicted_mean, dtype: float64\n",
      "Evaluation Metrics:\n",
      "Mean Absolute Error (MAE): 18.25\n",
      "Mean Squared Error (MSE): 491.34\n",
      "Root Mean Squared Error (RMSE): 22.17\n",
      "--------------------------------------------------\n",
      "Batsman: DA Warner\n",
      "Future Forecasted Values (Next 5 Matches):\n",
      "147    38.036425\n",
      "148    35.877704\n",
      "149    36.032852\n",
      "150    36.021701\n",
      "151    36.022502\n",
      "Name: predicted_mean, dtype: float64\n",
      "Evaluation Metrics:\n",
      "Mean Absolute Error (MAE): 24.24\n",
      "Mean Squared Error (MSE): 731.35\n",
      "Root Mean Squared Error (RMSE): 27.04\n",
      "--------------------------------------------------\n",
      "Batsman: SK Raina\n"
     ]
    },
    {
     "name": "stderr",
     "output_type": "stream",
     "text": [
      "C:\\Users\\LENOVO\\AppData\\Local\\Temp\\ipykernel_13408\\2967835382.py:9: SettingWithCopyWarning: \n",
      "A value is trying to be set on a copy of a slice from a DataFrame.\n",
      "Try using .loc[row_indexer,col_indexer] = value instead\n",
      "\n",
      "See the caveats in the documentation: https://pandas.pydata.org/pandas-docs/stable/user_guide/indexing.html#returning-a-view-versus-a-copy\n",
      "  score[\"match_number\"] = range(len(score))\n",
      "C:\\Users\\LENOVO\\AppData\\Local\\Temp\\ipykernel_13408\\2967835382.py:9: SettingWithCopyWarning: \n",
      "A value is trying to be set on a copy of a slice from a DataFrame.\n",
      "Try using .loc[row_indexer,col_indexer] = value instead\n",
      "\n",
      "See the caveats in the documentation: https://pandas.pydata.org/pandas-docs/stable/user_guide/indexing.html#returning-a-view-versus-a-copy\n",
      "  score[\"match_number\"] = range(len(score))\n"
     ]
    },
    {
     "name": "stdout",
     "output_type": "stream",
     "text": [
      "Future Forecasted Values (Next 5 Matches):\n",
      "160    26.853964\n",
      "161    29.031454\n",
      "162    28.783806\n",
      "163    28.811972\n",
      "164    28.808768\n",
      "Name: predicted_mean, dtype: float64\n",
      "Evaluation Metrics:\n",
      "Mean Absolute Error (MAE): 18.69\n",
      "Mean Squared Error (MSE): 447.25\n",
      "Root Mean Squared Error (RMSE): 21.15\n",
      "--------------------------------------------------\n",
      "Batsman: MS Dhoni\n"
     ]
    },
    {
     "name": "stderr",
     "output_type": "stream",
     "text": [
      "C:\\Users\\LENOVO\\AppData\\Local\\Temp\\ipykernel_13408\\2967835382.py:9: SettingWithCopyWarning: \n",
      "A value is trying to be set on a copy of a slice from a DataFrame.\n",
      "Try using .loc[row_indexer,col_indexer] = value instead\n",
      "\n",
      "See the caveats in the documentation: https://pandas.pydata.org/pandas-docs/stable/user_guide/indexing.html#returning-a-view-versus-a-copy\n",
      "  score[\"match_number\"] = range(len(score))\n"
     ]
    },
    {
     "name": "stdout",
     "output_type": "stream",
     "text": [
      "Future Forecasted Values (Next 5 Matches):\n",
      "182    25.523234\n",
      "183    25.450887\n",
      "184    25.451689\n",
      "185    25.451680\n",
      "186    25.451680\n",
      "Name: predicted_mean, dtype: float64\n",
      "Evaluation Metrics:\n",
      "Mean Absolute Error (MAE): 14.75\n",
      "Mean Squared Error (MSE): 288.11\n",
      "Root Mean Squared Error (RMSE): 16.97\n",
      "--------------------------------------------------\n",
      "Batsman: AB de Villiers\n"
     ]
    },
    {
     "name": "stderr",
     "output_type": "stream",
     "text": [
      "C:\\Users\\LENOVO\\AppData\\Local\\Temp\\ipykernel_13408\\2967835382.py:9: SettingWithCopyWarning: \n",
      "A value is trying to be set on a copy of a slice from a DataFrame.\n",
      "Try using .loc[row_indexer,col_indexer] = value instead\n",
      "\n",
      "See the caveats in the documentation: https://pandas.pydata.org/pandas-docs/stable/user_guide/indexing.html#returning-a-view-versus-a-copy\n",
      "  score[\"match_number\"] = range(len(score))\n"
     ]
    },
    {
     "name": "stdout",
     "output_type": "stream",
     "text": [
      "Future Forecasted Values (Next 5 Matches):\n",
      "136    32.328824\n",
      "137    35.492500\n",
      "138    35.117232\n",
      "139    35.161745\n",
      "140    35.156465\n",
      "Name: predicted_mean, dtype: float64\n",
      "Evaluation Metrics:\n",
      "Mean Absolute Error (MAE): 24.24\n",
      "Mean Squared Error (MSE): 723.09\n",
      "Root Mean Squared Error (RMSE): 26.89\n",
      "--------------------------------------------------\n",
      "Batsman: CH Gayle\n",
      "Future Forecasted Values (Next 5 Matches):\n",
      "112    22.419313\n",
      "113    31.696701\n",
      "114    30.175512\n",
      "115    30.424938\n",
      "116    30.384040\n",
      "Name: predicted_mean, dtype: float64\n",
      "Evaluation Metrics:\n",
      "Mean Absolute Error (MAE): 19.73\n",
      "Mean Squared Error (MSE): 661.30\n",
      "Root Mean Squared Error (RMSE): 25.72\n",
      "--------------------------------------------------\n",
      "Batsman: RV Uthappa\n"
     ]
    },
    {
     "name": "stderr",
     "output_type": "stream",
     "text": [
      "C:\\Users\\LENOVO\\AppData\\Local\\Temp\\ipykernel_13408\\2967835382.py:9: SettingWithCopyWarning: \n",
      "A value is trying to be set on a copy of a slice from a DataFrame.\n",
      "Try using .loc[row_indexer,col_indexer] = value instead\n",
      "\n",
      "See the caveats in the documentation: https://pandas.pydata.org/pandas-docs/stable/user_guide/indexing.html#returning-a-view-versus-a-copy\n",
      "  score[\"match_number\"] = range(len(score))\n",
      "C:\\Users\\LENOVO\\AppData\\Local\\Temp\\ipykernel_13408\\2967835382.py:9: SettingWithCopyWarning: \n",
      "A value is trying to be set on a copy of a slice from a DataFrame.\n",
      "Try using .loc[row_indexer,col_indexer] = value instead\n",
      "\n",
      "See the caveats in the documentation: https://pandas.pydata.org/pandas-docs/stable/user_guide/indexing.html#returning-a-view-versus-a-copy\n",
      "  score[\"match_number\"] = range(len(score))\n"
     ]
    },
    {
     "name": "stdout",
     "output_type": "stream",
     "text": [
      "Future Forecasted Values (Next 5 Matches):\n",
      "157    27.401154\n",
      "158    26.963615\n",
      "159    26.952737\n",
      "160    26.952467\n",
      "161    26.952460\n",
      "Name: predicted_mean, dtype: float64\n",
      "Evaluation Metrics:\n",
      "Mean Absolute Error (MAE): 17.15\n",
      "Mean Squared Error (MSE): 440.21\n",
      "Root Mean Squared Error (RMSE): 20.98\n",
      "--------------------------------------------------\n",
      "Batsman: KD Karthik\n"
     ]
    },
    {
     "name": "stderr",
     "output_type": "stream",
     "text": [
      "C:\\Users\\LENOVO\\AppData\\Local\\Temp\\ipykernel_13408\\2967835382.py:9: SettingWithCopyWarning: \n",
      "A value is trying to be set on a copy of a slice from a DataFrame.\n",
      "Try using .loc[row_indexer,col_indexer] = value instead\n",
      "\n",
      "See the caveats in the documentation: https://pandas.pydata.org/pandas-docs/stable/user_guide/indexing.html#returning-a-view-versus-a-copy\n",
      "  score[\"match_number\"] = range(len(score))\n"
     ]
    },
    {
     "name": "stdout",
     "output_type": "stream",
     "text": [
      "Future Forecasted Values (Next 5 Matches):\n",
      "186    22.305427\n",
      "187    21.422765\n",
      "188    21.491678\n",
      "189    21.486298\n",
      "190    21.486718\n",
      "Name: predicted_mean, dtype: float64\n",
      "Evaluation Metrics:\n",
      "Mean Absolute Error (MAE): 14.28\n",
      "Mean Squared Error (MSE): 322.30\n",
      "Root Mean Squared Error (RMSE): 17.95\n",
      "--------------------------------------------------\n"
     ]
    }
   ],
   "source": [
    "from sklearn.metrics import mean_absolute_error, mean_squared_error\n",
    "\n",
    "for i in range(len(top_batter_scores)):\n",
    "    batsman = top_batter_scores.iloc[i][\"batter\"]\n",
    "    print(f\"Batsman: {batsman}\")\n",
    "    score = batter[batter['batter'] == batsman]\n",
    "\n",
    "    # Preparing data\n",
    "    score[\"match_number\"] = range(len(score))\n",
    "    score.set_index(\"match_number\", inplace=True)\n",
    "\n",
    "    # Splitting into train and test sets\n",
    "    train_size = int(len(score) * 0.8)  # 80% train, 20% test\n",
    "    train, test = score[\"batsman_runs\"][:train_size], score[\"batsman_runs\"][train_size:]\n",
    "\n",
    "    # Fitting the ARIMA model\n",
    "    model = ARIMA(train, order=(1, 1, 1))\n",
    "    model_fit = model.fit()\n",
    "\n",
    "    # Forecasting for test set\n",
    "    test_forecast = model_fit.forecast(steps=len(test))\n",
    "\n",
    "    # Forecasting beyond the dataset\n",
    "    future_forecast = model_fit.forecast(steps=5)\n",
    "\n",
    "    # Evaluation metrics\n",
    "    mae = mean_absolute_error(test, test_forecast)\n",
    "    mse = mean_squared_error(test, test_forecast)\n",
    "    rmse = np.sqrt(mse)\n",
    "\n",
    "    # Display results\n",
    "    print(\"Future Forecasted Values (Next 5 Matches):\")\n",
    "    print(future_forecast)\n",
    "    print(\"Evaluation Metrics:\")\n",
    "    print(f\"Mean Absolute Error (MAE): {mae:.2f}\")\n",
    "    print(f\"Mean Squared Error (MSE): {mse:.2f}\")\n",
    "    print(f\"Root Mean Squared Error (RMSE): {rmse:.2f}\")\n",
    "    print(\"-\" * 50)"
   ]
  },
  {
   "cell_type": "code",
   "execution_count": 14,
   "id": "78638cfd",
   "metadata": {},
   "outputs": [
    {
     "name": "stdout",
     "output_type": "stream",
     "text": [
      "     match_id  batsman_runs\n",
      "0      335983             2\n",
      "1      335989            30\n",
      "2      335993            43\n",
      "3      335996            65\n",
      "4      336001            32\n",
      "..        ...           ...\n",
      "223   1426284             5\n",
      "224   1426287            14\n",
      "225   1426291             0\n",
      "226   1426297            26\n",
      "227   1426306            25\n",
      "\n",
      "[228 rows x 2 columns]\n"
     ]
    },
    {
     "name": "stderr",
     "output_type": "stream",
     "text": [
      "C:\\Users\\LENOVO\\AppData\\Local\\Temp\\ipykernel_13408\\4149516577.py:7: SettingWithCopyWarning: \n",
      "A value is trying to be set on a copy of a slice from a DataFrame.\n",
      "Try using .loc[row_indexer,col_indexer] = value instead\n",
      "\n",
      "See the caveats in the documentation: https://pandas.pydata.org/pandas-docs/stable/user_guide/indexing.html#returning-a-view-versus-a-copy\n",
      "  dhoni_score_sub[\"match_number\"]=range(len(dhoni_score_sub))\n"
     ]
    },
    {
     "name": "stdout",
     "output_type": "stream",
     "text": [
      "239    45.064196\n",
      "240    44.510021\n",
      "241    44.497705\n",
      "242    44.497431\n",
      "243    44.497425\n",
      "Name: predicted_mean, dtype: float64\n"
     ]
    }
   ],
   "source": [
    "#preparing data\n",
    "dhoni=deliveries[deliveries.batter==\"MS Dhoni\"]\n",
    "dhoni_score=dhoni.groupby('match_id')['batsman_runs'].sum().reset_index()\n",
    "print(dhoni_score)\n",
    "dhoni_score_sub=dhoni_score.head(239)\n",
    "dhoni_score_sub\n",
    "dhoni_score_sub[\"match_number\"]=range(len(dhoni_score_sub))\n",
    "dhoni_score_sub.set_index(\"match_number\",inplace=True)\n",
    "model=ARIMA(vkohli_score_sub[\"batsman_runs\"],order=(1,1,1))\n",
    "model_fit=model.fit()\n",
    "forecast=model_fit.forecast(steps=5)\n",
    "print(forecast)"
   ]
  },
  {
   "cell_type": "code",
   "execution_count": 15,
   "id": "d413534a",
   "metadata": {},
   "outputs": [
    {
     "name": "stdout",
     "output_type": "stream",
     "text": [
      "       match_id         bowler  wickets  runs_conceded\n",
      "0        335982      AA Noffke        1             41\n",
      "1        335982     AB Agarkar        3             25\n",
      "2        335982       AB Dinda        2              9\n",
      "3        335982       CL White        0             24\n",
      "4        335982       I Sharma        1             13\n",
      "...         ...            ...      ...            ...\n",
      "12973   1426312     PJ Cummins        1             18\n",
      "12974   1426312      SP Narine        1             20\n",
      "12975   1426312  Shahbaz Ahmed        1             28\n",
      "12976   1426312    T Natarajan        0             29\n",
      "12977   1426312       VG Arora        1             26\n",
      "\n",
      "[12978 rows x 4 columns]\n",
      "match_id\n",
      "598029     0\n",
      "729281     1\n",
      "729287     2\n",
      "729299     1\n",
      "729305     1\n",
      "          ..\n",
      "1426294    1\n",
      "1426299    1\n",
      "1426303    2\n",
      "1426310    1\n",
      "1426311    0\n",
      "Name: wickets, Length: 159, dtype: int64\n"
     ]
    }
   ],
   "source": [
    "bowler_data = deliveries[['match_id', 'bowler', 'is_wicket', 'total_runs']]\n",
    "performance = bowler_data.groupby(['match_id', 'bowler']).agg(\n",
    "    wickets=('is_wicket', 'sum'),\n",
    "    runs_conceded=('total_runs', 'sum')\n",
    ").reset_index()\n",
    "\n",
    "print(performance)\n",
    "\n",
    "top_bowler = 'YS Chahal'\n",
    "bowler_timeseries = performance[performance['bowler'] == top_bowler].set_index('match_id')['wickets']\n",
    "print(bowler_timeseries)\n",
    "\n",
    "bowler_timeseries = bowler_timeseries.sort_index()"
   ]
  },
  {
   "cell_type": "code",
   "execution_count": 16,
   "id": "a0467a31",
   "metadata": {},
   "outputs": [
    {
     "name": "stderr",
     "output_type": "stream",
     "text": [
      "C:\\Users\\LENOVO\\anaconda3\\lib\\site-packages\\statsmodels\\tsa\\base\\tsa_model.py:471: ValueWarning: An unsupported index was provided and will be ignored when e.g. forecasting.\n",
      "  self._init_dates(dates, freq)\n",
      "C:\\Users\\LENOVO\\anaconda3\\lib\\site-packages\\statsmodels\\tsa\\base\\tsa_model.py:471: ValueWarning: An unsupported index was provided and will be ignored when e.g. forecasting.\n",
      "  self._init_dates(dates, freq)\n",
      "C:\\Users\\LENOVO\\anaconda3\\lib\\site-packages\\statsmodels\\tsa\\base\\tsa_model.py:471: ValueWarning: An unsupported index was provided and will be ignored when e.g. forecasting.\n",
      "  self._init_dates(dates, freq)\n",
      "C:\\Users\\LENOVO\\anaconda3\\lib\\site-packages\\statsmodels\\base\\model.py:604: ConvergenceWarning: Maximum Likelihood optimization failed to converge. Check mle_retvals\n",
      "  warnings.warn(\"Maximum Likelihood optimization failed to \"\n",
      "C:\\Users\\LENOVO\\anaconda3\\lib\\site-packages\\statsmodels\\tsa\\base\\tsa_model.py:834: ValueWarning: No supported index is available. Prediction results will be given with an integer index beginning at `start`.\n",
      "  return get_prediction_index(\n"
     ]
    }
   ],
   "source": [
    "model = ARIMA(bowler_timeseries, order=(2, 1, 2))\n",
    "model_fit = model.fit()\n",
    "\n",
    "forecast_steps = 10\n",
    "forecast = model_fit.forecast(steps=forecast_steps)"
   ]
  },
  {
   "cell_type": "code",
   "execution_count": 17,
   "id": "e60f83ec",
   "metadata": {},
   "outputs": [
    {
     "name": "stdout",
     "output_type": "stream",
     "text": [
      "159    1.005076\n",
      "160    1.437704\n",
      "161    1.202591\n",
      "162    1.464833\n",
      "163    1.206323\n",
      "164    1.465341\n",
      "165    1.206398\n",
      "166    1.465347\n",
      "167    1.206403\n",
      "168    1.465342\n",
      "Name: predicted_mean, dtype: float64\n"
     ]
    }
   ],
   "source": [
    "print(forecast)"
   ]
  },
  {
   "cell_type": "code",
   "execution_count": 18,
   "id": "2dea894d",
   "metadata": {},
   "outputs": [
    {
     "data": {
      "text/html": [
       "<div>\n",
       "<style scoped>\n",
       "    .dataframe tbody tr th:only-of-type {\n",
       "        vertical-align: middle;\n",
       "    }\n",
       "\n",
       "    .dataframe tbody tr th {\n",
       "        vertical-align: top;\n",
       "    }\n",
       "\n",
       "    .dataframe thead th {\n",
       "        text-align: right;\n",
       "    }\n",
       "</style>\n",
       "<table border=\"1\" class=\"dataframe\">\n",
       "  <thead>\n",
       "    <tr style=\"text-align: right;\">\n",
       "      <th></th>\n",
       "      <th>bowler</th>\n",
       "      <th>wickets</th>\n",
       "    </tr>\n",
       "  </thead>\n",
       "  <tbody>\n",
       "    <tr>\n",
       "      <th>524</th>\n",
       "      <td>YS Chahal</td>\n",
       "      <td>213</td>\n",
       "    </tr>\n",
       "    <tr>\n",
       "      <th>119</th>\n",
       "      <td>DJ Bravo</td>\n",
       "      <td>207</td>\n",
       "    </tr>\n",
       "    <tr>\n",
       "      <th>348</th>\n",
       "      <td>PP Chawla</td>\n",
       "      <td>201</td>\n",
       "    </tr>\n",
       "    <tr>\n",
       "      <th>446</th>\n",
       "      <td>SP Narine</td>\n",
       "      <td>200</td>\n",
       "    </tr>\n",
       "    <tr>\n",
       "      <th>355</th>\n",
       "      <td>R Ashwin</td>\n",
       "      <td>198</td>\n",
       "    </tr>\n",
       "    <tr>\n",
       "      <th>71</th>\n",
       "      <td>B Kumar</td>\n",
       "      <td>195</td>\n",
       "    </tr>\n",
       "    <tr>\n",
       "      <th>438</th>\n",
       "      <td>SL Malinga</td>\n",
       "      <td>188</td>\n",
       "    </tr>\n",
       "    <tr>\n",
       "      <th>8</th>\n",
       "      <td>A Mishra</td>\n",
       "      <td>183</td>\n",
       "    </tr>\n",
       "    <tr>\n",
       "      <th>193</th>\n",
       "      <td>JJ Bumrah</td>\n",
       "      <td>182</td>\n",
       "    </tr>\n",
       "    <tr>\n",
       "      <th>373</th>\n",
       "      <td>RA Jadeja</td>\n",
       "      <td>169</td>\n",
       "    </tr>\n",
       "  </tbody>\n",
       "</table>\n",
       "</div>"
      ],
      "text/plain": [
       "         bowler  wickets\n",
       "524   YS Chahal      213\n",
       "119    DJ Bravo      207\n",
       "348   PP Chawla      201\n",
       "446   SP Narine      200\n",
       "355    R Ashwin      198\n",
       "71      B Kumar      195\n",
       "438  SL Malinga      188\n",
       "8      A Mishra      183\n",
       "193   JJ Bumrah      182\n",
       "373   RA Jadeja      169"
      ]
     },
     "execution_count": 18,
     "metadata": {},
     "output_type": "execute_result"
    }
   ],
   "source": [
    "bowlers=performance.groupby('bowler')['wickets'].sum().reset_index()\n",
    "top_bowl=bowlers.sort_values(by=\"wickets\",ascending=False)\n",
    "top_bowlers=top_bowl.head(10)\n",
    "top_bowlers"
   ]
  },
  {
   "cell_type": "code",
   "execution_count": 19,
   "id": "2c55ff02",
   "metadata": {},
   "outputs": [
    {
     "name": "stdout",
     "output_type": "stream",
     "text": [
      "YS Chahal\n",
      "       match_id     bowler  wickets  runs_conceded\n",
      "4236     598029  YS Chahal        0             35\n",
      "4782     729281  YS Chahal        1             18\n",
      "4816     729287  YS Chahal        2             17\n",
      "4889     729299  YS Chahal        1             26\n",
      "4923     729305  YS Chahal        1             17\n",
      "...         ...        ...      ...            ...\n",
      "12793   1426294  YS Chahal        1             48\n",
      "12851   1426299  YS Chahal        1             22\n",
      "12890   1426303  YS Chahal        2             31\n",
      "12952   1426310  YS Chahal        1             43\n",
      "12965   1426311  YS Chahal        0             34\n",
      "\n",
      "[159 rows x 4 columns]\n",
      "DJ Bravo\n",
      "       match_id    bowler  wickets  runs_conceded\n",
      "84       335989  DJ Bravo        0             37\n",
      "110      335991  DJ Bravo        0             27\n",
      "146      335994  DJ Bravo        0             31\n",
      "182      335997  DJ Bravo        1             25\n",
      "267      336004  DJ Bravo        1             29\n",
      "...         ...       ...      ...            ...\n",
      "10698   1304075  DJ Bravo        3             23\n",
      "10742   1304079  DJ Bravo        2             38\n",
      "10798   1304084  DJ Bravo        3             42\n",
      "10997   1304101  DJ Bravo        2             25\n",
      "11040   1304105  DJ Bravo        0             16\n",
      "\n",
      "[158 rows x 4 columns]\n",
      "PP Chawla\n",
      "       match_id     bowler  wickets  runs_conceded\n",
      "20       335983  PP Chawla        0             19\n",
      "63       335987  PP Chawla        0             27\n",
      "115      335991  PP Chawla        2             16\n",
      "161      335995  PP Chawla        0             29\n",
      "209      335999  PP Chawla        4             28\n",
      "...         ...        ...      ...            ...\n",
      "12697   1426286  PP Chawla        0             23\n",
      "12732   1426289  PP Chawla        1             15\n",
      "12779   1426293  PP Chawla        3             33\n",
      "12838   1426298  PP Chawla        2             28\n",
      "12902   1426305  PP Chawla        3             29\n",
      "\n",
      "[191 rows x 4 columns]\n",
      "SP Narine\n",
      "       match_id     bowler  wickets  runs_conceded\n",
      "3080     548312  SP Narine        0             29\n",
      "3174     548320  SP Narine        1             22\n",
      "3209     548323  SP Narine        5             20\n",
      "3265     548328  SP Narine        2             24\n",
      "3348     548335  SP Narine        2             27\n",
      "...         ...        ...      ...            ...\n",
      "12733   1426289  SP Narine        2             22\n",
      "12767   1426292  SP Narine        1             22\n",
      "12839   1426298  SP Narine        1             21\n",
      "12938   1426309  SP Narine        2             40\n",
      "12974   1426312  SP Narine        1             20\n",
      "\n",
      "[175 rows x 4 columns]\n",
      "R Ashwin\n",
      "       match_id    bowler  wickets  runs_conceded\n",
      "1330     392234  R Ashwin        2             14\n",
      "1452     419110  R Ashwin        2             28\n",
      "1492     419113  R Ashwin        1             22\n",
      "1523     419116  R Ashwin        1             41\n",
      "1583     419121  R Ashwin        0             33\n",
      "...         ...       ...      ...            ...\n",
      "12788   1426294  R Ashwin        3             24\n",
      "12844   1426299  R Ashwin        2             35\n",
      "12885   1426303  R Ashwin        0             31\n",
      "12948   1426310  R Ashwin        2             19\n",
      "12960   1426311  R Ashwin        0             43\n",
      "\n",
      "[208 rows x 4 columns]\n",
      "B Kumar\n",
      "       match_id   bowler  wickets  runs_conceded\n",
      "2718     501248  B Kumar        2             15\n",
      "2742     501250  B Kumar        0             24\n",
      "2848     501259  B Kumar        0             10\n",
      "2882     501262  B Kumar        1             19\n",
      "3022     548308  B Kumar        0             13\n",
      "...         ...      ...      ...            ...\n",
      "12795   1426295  B Kumar        2             13\n",
      "12920   1426307  B Kumar        0             37\n",
      "12932   1426309  B Kumar        0             32\n",
      "12957   1426311  B Kumar        0             33\n",
      "12968   1426312  B Kumar        0             25\n",
      "\n",
      "[176 rows x 4 columns]\n",
      "SL Malinga\n",
      "      match_id      bowler  wickets  runs_conceded\n",
      "692     392181  SL Malinga        3             20\n",
      "813     392192  SL Malinga        3             24\n",
      "863     392197  SL Malinga        3             11\n",
      "897     392200  SL Malinga        2             16\n",
      "939     392203  SL Malinga        1             23\n",
      "...        ...         ...      ...            ...\n",
      "8828   1178422  SL Malinga        0             48\n",
      "8871   1178426  SL Malinga        0             44\n",
      "8929   1178431  SL Malinga        3             36\n",
      "8941   1181764  SL Malinga        0             27\n",
      "8975   1181768  SL Malinga        2             49\n",
      "\n",
      "[122 rows x 4 columns]\n",
      "A Mishra\n",
      "       match_id    bowler  wickets  runs_conceded\n",
      "396      336015  A Mishra        2             27\n",
      "419      336017  A Mishra        0             14\n",
      "456      336020  A Mishra        5             17\n",
      "476      336022  A Mishra        1             21\n",
      "582      336032  A Mishra        1             23\n",
      "...         ...       ...      ...            ...\n",
      "11574   1359504  A Mishra        1              9\n",
      "11675   1359512  A Mishra        0             23\n",
      "11738   1359517  A Mishra        2             21\n",
      "11918   1359532  A Mishra        1             40\n",
      "12640   1426282  A Mishra        1             20\n",
      "\n",
      "[162 rows x 4 columns]\n",
      "JJ Bumrah\n",
      "       match_id     bowler  wickets  runs_conceded\n",
      "3886     597999  JJ Bumrah        3             36\n",
      "4172     598024  JJ Bumrah        0             38\n",
      "4811     729287  JJ Bumrah        0             14\n",
      "5009     733973  JJ Bumrah        0             25\n",
      "5066     733983  JJ Bumrah        2             23\n",
      "...         ...        ...      ...            ...\n",
      "12630   1426281  JJ Bumrah        1             36\n",
      "12690   1426286  JJ Bumrah        0             17\n",
      "12728   1426289  JJ Bumrah        3             18\n",
      "12774   1426293  JJ Bumrah        1             23\n",
      "12835   1426298  JJ Bumrah        3             40\n",
      "\n",
      "[133 rows x 4 columns]\n",
      "RA Jadeja\n",
      "       match_id     bowler  wickets  runs_conceded\n",
      "493      336023  RA Jadeja        0             21\n",
      "657      336038  RA Jadeja        1              0\n",
      "786      392190  RA Jadeja        0              7\n",
      "874      392198  RA Jadeja        0             17\n",
      "959      392205  RA Jadeja        1             23\n",
      "...         ...        ...      ...            ...\n",
      "12706   1426287  RA Jadeja        0             22\n",
      "12751   1426291  RA Jadeja        3             20\n",
      "12823   1426297  RA Jadeja        0             29\n",
      "12845   1426299  RA Jadeja        0             24\n",
      "12912   1426306  RA Jadeja        0             40\n",
      "\n",
      "[211 rows x 4 columns]\n"
     ]
    }
   ],
   "source": [
    "for i in range(len(top_bowlers)):\n",
    "  bowler=top_bowlers.iloc[i][\"bowler\"]\n",
    "  print(bowler)\n",
    "  bscore=performance[performance['bowler']==bowler]\n",
    "  print(bscore)"
   ]
  },
  {
   "cell_type": "markdown",
   "id": "6a8c77c5",
   "metadata": {},
   "source": [
    "ARIMA MODEL FOR TOP 10 BOWLERS"
   ]
  },
  {
   "cell_type": "code",
   "execution_count": 20,
   "id": "d62cbac5",
   "metadata": {},
   "outputs": [
    {
     "name": "stdout",
     "output_type": "stream",
     "text": [
      "Bowler: YS Chahal\n"
     ]
    },
    {
     "name": "stderr",
     "output_type": "stream",
     "text": [
      "C:\\Users\\LENOVO\\AppData\\Local\\Temp\\ipykernel_13408\\3624914027.py:10: SettingWithCopyWarning: \n",
      "A value is trying to be set on a copy of a slice from a DataFrame.\n",
      "Try using .loc[row_indexer,col_indexer] = value instead\n",
      "\n",
      "See the caveats in the documentation: https://pandas.pydata.org/pandas-docs/stable/user_guide/indexing.html#returning-a-view-versus-a-copy\n",
      "  bscore[\"match_number\"] = range(len(bscore))\n"
     ]
    },
    {
     "name": "stdout",
     "output_type": "stream",
     "text": [
      "Bowler: DJ Bravo\n"
     ]
    },
    {
     "name": "stderr",
     "output_type": "stream",
     "text": [
      "C:\\Users\\LENOVO\\AppData\\Local\\Temp\\ipykernel_13408\\3624914027.py:10: SettingWithCopyWarning: \n",
      "A value is trying to be set on a copy of a slice from a DataFrame.\n",
      "Try using .loc[row_indexer,col_indexer] = value instead\n",
      "\n",
      "See the caveats in the documentation: https://pandas.pydata.org/pandas-docs/stable/user_guide/indexing.html#returning-a-view-versus-a-copy\n",
      "  bscore[\"match_number\"] = range(len(bscore))\n",
      "C:\\Users\\LENOVO\\anaconda3\\lib\\site-packages\\statsmodels\\tsa\\statespace\\sarimax.py:978: UserWarning: Non-invertible starting MA parameters found. Using zeros as starting parameters.\n",
      "  warn('Non-invertible starting MA parameters found.'\n"
     ]
    },
    {
     "name": "stdout",
     "output_type": "stream",
     "text": [
      "Bowler: PP Chawla\n"
     ]
    },
    {
     "name": "stderr",
     "output_type": "stream",
     "text": [
      "C:\\Users\\LENOVO\\AppData\\Local\\Temp\\ipykernel_13408\\3624914027.py:10: SettingWithCopyWarning: \n",
      "A value is trying to be set on a copy of a slice from a DataFrame.\n",
      "Try using .loc[row_indexer,col_indexer] = value instead\n",
      "\n",
      "See the caveats in the documentation: https://pandas.pydata.org/pandas-docs/stable/user_guide/indexing.html#returning-a-view-versus-a-copy\n",
      "  bscore[\"match_number\"] = range(len(bscore))\n"
     ]
    },
    {
     "name": "stdout",
     "output_type": "stream",
     "text": [
      "Bowler: SP Narine\n"
     ]
    },
    {
     "name": "stderr",
     "output_type": "stream",
     "text": [
      "C:\\Users\\LENOVO\\AppData\\Local\\Temp\\ipykernel_13408\\3624914027.py:10: SettingWithCopyWarning: \n",
      "A value is trying to be set on a copy of a slice from a DataFrame.\n",
      "Try using .loc[row_indexer,col_indexer] = value instead\n",
      "\n",
      "See the caveats in the documentation: https://pandas.pydata.org/pandas-docs/stable/user_guide/indexing.html#returning-a-view-versus-a-copy\n",
      "  bscore[\"match_number\"] = range(len(bscore))\n"
     ]
    },
    {
     "name": "stdout",
     "output_type": "stream",
     "text": [
      "Bowler: R Ashwin\n"
     ]
    },
    {
     "name": "stderr",
     "output_type": "stream",
     "text": [
      "C:\\Users\\LENOVO\\AppData\\Local\\Temp\\ipykernel_13408\\3624914027.py:10: SettingWithCopyWarning: \n",
      "A value is trying to be set on a copy of a slice from a DataFrame.\n",
      "Try using .loc[row_indexer,col_indexer] = value instead\n",
      "\n",
      "See the caveats in the documentation: https://pandas.pydata.org/pandas-docs/stable/user_guide/indexing.html#returning-a-view-versus-a-copy\n",
      "  bscore[\"match_number\"] = range(len(bscore))\n"
     ]
    },
    {
     "name": "stdout",
     "output_type": "stream",
     "text": [
      "Bowler: B Kumar\n"
     ]
    },
    {
     "name": "stderr",
     "output_type": "stream",
     "text": [
      "C:\\Users\\LENOVO\\AppData\\Local\\Temp\\ipykernel_13408\\3624914027.py:10: SettingWithCopyWarning: \n",
      "A value is trying to be set on a copy of a slice from a DataFrame.\n",
      "Try using .loc[row_indexer,col_indexer] = value instead\n",
      "\n",
      "See the caveats in the documentation: https://pandas.pydata.org/pandas-docs/stable/user_guide/indexing.html#returning-a-view-versus-a-copy\n",
      "  bscore[\"match_number\"] = range(len(bscore))\n"
     ]
    },
    {
     "name": "stdout",
     "output_type": "stream",
     "text": [
      "Bowler: SL Malinga\n"
     ]
    },
    {
     "name": "stderr",
     "output_type": "stream",
     "text": [
      "C:\\Users\\LENOVO\\AppData\\Local\\Temp\\ipykernel_13408\\3624914027.py:10: SettingWithCopyWarning: \n",
      "A value is trying to be set on a copy of a slice from a DataFrame.\n",
      "Try using .loc[row_indexer,col_indexer] = value instead\n",
      "\n",
      "See the caveats in the documentation: https://pandas.pydata.org/pandas-docs/stable/user_guide/indexing.html#returning-a-view-versus-a-copy\n",
      "  bscore[\"match_number\"] = range(len(bscore))\n",
      "C:\\Users\\LENOVO\\anaconda3\\lib\\site-packages\\statsmodels\\tsa\\statespace\\sarimax.py:966: UserWarning: Non-stationary starting autoregressive parameters found. Using zeros as starting parameters.\n",
      "  warn('Non-stationary starting autoregressive parameters'\n",
      "C:\\Users\\LENOVO\\anaconda3\\lib\\site-packages\\statsmodels\\tsa\\statespace\\sarimax.py:978: UserWarning: Non-invertible starting MA parameters found. Using zeros as starting parameters.\n",
      "  warn('Non-invertible starting MA parameters found.'\n"
     ]
    },
    {
     "name": "stdout",
     "output_type": "stream",
     "text": [
      "Bowler: A Mishra\n"
     ]
    },
    {
     "name": "stderr",
     "output_type": "stream",
     "text": [
      "C:\\Users\\LENOVO\\AppData\\Local\\Temp\\ipykernel_13408\\3624914027.py:10: SettingWithCopyWarning: \n",
      "A value is trying to be set on a copy of a slice from a DataFrame.\n",
      "Try using .loc[row_indexer,col_indexer] = value instead\n",
      "\n",
      "See the caveats in the documentation: https://pandas.pydata.org/pandas-docs/stable/user_guide/indexing.html#returning-a-view-versus-a-copy\n",
      "  bscore[\"match_number\"] = range(len(bscore))\n"
     ]
    },
    {
     "name": "stdout",
     "output_type": "stream",
     "text": [
      "Bowler: JJ Bumrah\n"
     ]
    },
    {
     "name": "stderr",
     "output_type": "stream",
     "text": [
      "C:\\Users\\LENOVO\\AppData\\Local\\Temp\\ipykernel_13408\\3624914027.py:10: SettingWithCopyWarning: \n",
      "A value is trying to be set on a copy of a slice from a DataFrame.\n",
      "Try using .loc[row_indexer,col_indexer] = value instead\n",
      "\n",
      "See the caveats in the documentation: https://pandas.pydata.org/pandas-docs/stable/user_guide/indexing.html#returning-a-view-versus-a-copy\n",
      "  bscore[\"match_number\"] = range(len(bscore))\n"
     ]
    },
    {
     "name": "stdout",
     "output_type": "stream",
     "text": [
      "Bowler: RA Jadeja\n"
     ]
    },
    {
     "name": "stderr",
     "output_type": "stream",
     "text": [
      "C:\\Users\\LENOVO\\AppData\\Local\\Temp\\ipykernel_13408\\3624914027.py:10: SettingWithCopyWarning: \n",
      "A value is trying to be set on a copy of a slice from a DataFrame.\n",
      "Try using .loc[row_indexer,col_indexer] = value instead\n",
      "\n",
      "See the caveats in the documentation: https://pandas.pydata.org/pandas-docs/stable/user_guide/indexing.html#returning-a-view-versus-a-copy\n",
      "  bscore[\"match_number\"] = range(len(bscore))\n",
      "C:\\Users\\LENOVO\\anaconda3\\lib\\site-packages\\statsmodels\\tsa\\statespace\\sarimax.py:966: UserWarning: Non-stationary starting autoregressive parameters found. Using zeros as starting parameters.\n",
      "  warn('Non-stationary starting autoregressive parameters'\n",
      "C:\\Users\\LENOVO\\anaconda3\\lib\\site-packages\\statsmodels\\tsa\\statespace\\sarimax.py:978: UserWarning: Non-invertible starting MA parameters found. Using zeros as starting parameters.\n",
      "  warn('Non-invertible starting MA parameters found.'\n"
     ]
    }
   ],
   "source": [
    "# Loop through top bowlers to predict and evaluate\n",
    "for i in range(len(top_bowlers)):\n",
    "    bowler = top_bowlers.iloc[i][\"bowler\"]\n",
    "    print(f\"Bowler: {bowler}\")\n",
    "\n",
    "    # Filter performance data for the bowler\n",
    "    bscore = performance[performance['bowler'] == bowler]\n",
    "\n",
    "    # Preparing data\n",
    "    bscore[\"match_number\"] = range(len(bscore))\n",
    "    bscore.set_index(\"match_number\", inplace=True)\n",
    "\n",
    "    # Splitting into train and test sets\n",
    "    train_size = int(len(bscore) * 0.8)  # 80% train, 20% test\n",
    "    train, test = bscore[\"wickets\"][:train_size], bscore[\"wickets\"][train_size:]\n",
    "\n",
    "    # Fitting the ARIMA model\n",
    "    model = ARIMA(train, order=(2, 1, 2))\n",
    "    model_fit = model.fit()\n",
    "\n",
    "    # Forecasting for test set\n",
    "    test_forecast = model_fit.forecast(steps=len(test))\n",
    "\n",
    "    # Forecasting beyond the dataset\n",
    "    future_forecast = model_fit.forecast(steps=5)\n",
    "\n",
    "    # Evaluation metrics\n",
    "    mae = mean_absolute_error(test, test_forecast)\n",
    "    mse = mean_squared_error(test, test_forecast)\n",
    "    rmse = np.sqrt(mse)"
   ]
  },
  {
   "cell_type": "code",
   "execution_count": 22,
   "id": "a9ea2d83",
   "metadata": {},
   "outputs": [
    {
     "name": "stdout",
     "output_type": "stream",
     "text": [
      "Future Forecasted Values (Next 5 Matches):\n",
      "168    0.584977\n",
      "169    0.884252\n",
      "170    0.710322\n",
      "171    0.845227\n",
      "172    0.736828\n",
      "Name: predicted_mean, dtype: float64\n",
      "Evaluation Metrics:\n",
      "Mean Absolute Error (MAE): 0.80\n",
      "Mean Squared Error (MSE): 1.00\n",
      "Root Mean Squared Error (RMSE): 1.00\n",
      "--------------------------------------------------\n"
     ]
    }
   ],
   "source": [
    "# results\n",
    "print(\"Future Forecasted Values (Next 5 Matches):\")\n",
    "print(future_forecast)\n",
    "print(\"Evaluation Metrics:\")\n",
    "print(f\"Mean Absolute Error (MAE): {mae:.2f}\")\n",
    "print(f\"Mean Squared Error (MSE): {mse:.2f}\")\n",
    "print(f\"Root Mean Squared Error (RMSE): {rmse:.2f}\")\n",
    "print(\"-\" * 50)\n"
   ]
  },
  {
   "cell_type": "code",
   "execution_count": 24,
   "id": "1172813c",
   "metadata": {},
   "outputs": [
    {
     "data": {
      "text/plain": [
       "Text(0, 0.5, 'wickets')"
      ]
     },
     "execution_count": 24,
     "metadata": {},
     "output_type": "execute_result"
    },
    {
     "data": {
      "image/png": "[encoded data removed]",
      "text/plain": [
       "<Figure size 1000x500 with 1 Axes>"
      ]
     },
     "metadata": {},
     "output_type": "display_data"
    }
   ],
   "source": [
    "bowler=top_bowlers['bowler']\n",
    "scores=top_bowlers['wickets']\n",
    "fig = plt.figure(figsize = (10, 5))\n",
    "plt.bar(bowler,scores)\n",
    "plt.title('Top bowlers with wickets')\n",
    "plt.xlabel('bowler')\n",
    "plt.ylabel('wickets')"
   ]
  },
  {
   "cell_type": "code",
   "execution_count": null,
   "id": "4e17f3bb",
   "metadata": {},
   "outputs": [],
   "source": []
  }
 ],
 "metadata": {
  "kernelspec": {
   "display_name": "Python 3 (ipykernel)",
   "language": "python",
   "name": "python3"
  },
  "language_info": {
   "codemirror_mode": {
    "name": "ipython",
    "version": 3
   },
   "file_extension": ".py",
   "mimetype": "text/x-python",
   "name": "python",
   "nbconvert_exporter": "python",
   "pygments_lexer": "ipython3",
   "version": "3.10.9"
  }
 },
 "nbformat": 4,
 "nbformat_minor": 5
}
