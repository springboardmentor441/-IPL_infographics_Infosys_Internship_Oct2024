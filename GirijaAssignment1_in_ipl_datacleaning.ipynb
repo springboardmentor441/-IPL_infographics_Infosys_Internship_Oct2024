{
  "nbformat": 4,
  "nbformat_minor": 0,
  "metadata": {
    "colab": {
      "provenance": []
    },
    "kernelspec": {
      "name": "python3",
      "display_name": "Python 3"
    },
    "language_info": {
      "name": "python"
    }
  },
  "cells": [
    {
      "cell_type": "code",
      "execution_count": null,
      "metadata": {
        "id": "LN5M9uJRLFx3"
      },
      "outputs": [],
      "source": [
        "import pandas as pd"
      ]
    },
    {
      "cell_type": "code",
      "source": [
        "import matplotlib.pyplot as plt\n"
      ],
      "metadata": {
        "id": "jcHnrVqpLJg6"
      },
      "execution_count": null,
      "outputs": []
    },
    {
      "cell_type": "markdown",
      "source": [
        "**READING DATA**"
      ],
      "metadata": {
        "id": "7P-rpMGcjnhm"
      }
    },
    {
      "cell_type": "code",
      "source": [
        "matches=pd.read_csv(\"/content/drive/MyDrive/Copy of matches.csv\")"
      ],
      "metadata": {
        "id": "bqlKpt-nLOQ1"
      },
      "execution_count": null,
      "outputs": []
    },
    {
      "cell_type": "markdown",
      "source": [
        "FINDING THE NULL VALUES"
      ],
      "metadata": {
        "id": "eH-2ERi0kA4j"
      }
    },
    {
      "cell_type": "code",
      "source": [
        "matches.isnull().sum()"
      ],
      "metadata": {
        "id": "689T49bELclg",
        "colab": {
          "base_uri": "https://localhost:8080/",
          "height": 711
        },
        "outputId": "d1ec1c54-6774-4833-fe09-edc5adfb9eff"
      },
      "execution_count": null,
      "outputs": [
        {
          "output_type": "execute_result",
          "data": {
            "text/plain": [
              "id                    0\n",
              "season                0\n",
              "city                 51\n",
              "date                  0\n",
              "match_type            0\n",
              "player_of_match       5\n",
              "venue                 0\n",
              "team1                 0\n",
              "team2                 0\n",
              "toss_winner           0\n",
              "toss_decision         0\n",
              "winner                5\n",
              "result                0\n",
              "result_margin        19\n",
              "target_runs           3\n",
              "target_overs          3\n",
              "super_over            0\n",
              "method             1074\n",
              "umpire1               0\n",
              "umpire2               0\n",
              "dtype: int64"
            ],
            "text/html": [
              "<div>\n",
              "<style scoped>\n",
              "    .dataframe tbody tr th:only-of-type {\n",
              "        vertical-align: middle;\n",
              "    }\n",
              "\n",
              "    .dataframe tbody tr th {\n",
              "        vertical-align: top;\n",
              "    }\n",
              "\n",
              "    .dataframe thead th {\n",
              "        text-align: right;\n",
              "    }\n",
              "</style>\n",
              "<table border=\"1\" class=\"dataframe\">\n",
              "  <thead>\n",
              "    <tr style=\"text-align: right;\">\n",
              "      <th></th>\n",
              "      <th>0</th>\n",
              "    </tr>\n",
              "  </thead>\n",
              "  <tbody>\n",
              "    <tr>\n",
              "      <th>id</th>\n",
              "      <td>0</td>\n",
              "    </tr>\n",
              "    <tr>\n",
              "      <th>season</th>\n",
              "      <td>0</td>\n",
              "    </tr>\n",
              "    <tr>\n",
              "      <th>city</th>\n",
              "      <td>51</td>\n",
              "    </tr>\n",
              "    <tr>\n",
              "      <th>date</th>\n",
              "      <td>0</td>\n",
              "    </tr>\n",
              "    <tr>\n",
              "      <th>match_type</th>\n",
              "      <td>0</td>\n",
              "    </tr>\n",
              "    <tr>\n",
              "      <th>player_of_match</th>\n",
              "      <td>5</td>\n",
              "    </tr>\n",
              "    <tr>\n",
              "      <th>venue</th>\n",
              "      <td>0</td>\n",
              "    </tr>\n",
              "    <tr>\n",
              "      <th>team1</th>\n",
              "      <td>0</td>\n",
              "    </tr>\n",
              "    <tr>\n",
              "      <th>team2</th>\n",
              "      <td>0</td>\n",
              "    </tr>\n",
              "    <tr>\n",
              "      <th>toss_winner</th>\n",
              "      <td>0</td>\n",
              "    </tr>\n",
              "    <tr>\n",
              "      <th>toss_decision</th>\n",
              "      <td>0</td>\n",
              "    </tr>\n",
              "    <tr>\n",
              "      <th>winner</th>\n",
              "      <td>5</td>\n",
              "    </tr>\n",
              "    <tr>\n",
              "      <th>result</th>\n",
              "      <td>0</td>\n",
              "    </tr>\n",
              "    <tr>\n",
              "      <th>result_margin</th>\n",
              "      <td>19</td>\n",
              "    </tr>\n",
              "    <tr>\n",
              "      <th>target_runs</th>\n",
              "      <td>3</td>\n",
              "    </tr>\n",
              "    <tr>\n",
              "      <th>target_overs</th>\n",
              "      <td>3</td>\n",
              "    </tr>\n",
              "    <tr>\n",
              "      <th>super_over</th>\n",
              "      <td>0</td>\n",
              "    </tr>\n",
              "    <tr>\n",
              "      <th>method</th>\n",
              "      <td>1074</td>\n",
              "    </tr>\n",
              "    <tr>\n",
              "      <th>umpire1</th>\n",
              "      <td>0</td>\n",
              "    </tr>\n",
              "    <tr>\n",
              "      <th>umpire2</th>\n",
              "      <td>0</td>\n",
              "    </tr>\n",
              "  </tbody>\n",
              "</table>\n",
              "</div><br><label><b>dtype:</b> int64</label>"
            ]
          },
          "metadata": {},
          "execution_count": 5
        }
      ]
    },
    {
      "cell_type": "code",
      "source": [
        "matches.info()"
      ],
      "metadata": {
        "colab": {
          "base_uri": "https://localhost:8080/"
        },
        "id": "M8YayqCgTwHL",
        "outputId": "441fd4c3-7c5d-479e-a3e7-08004e20257b"
      },
      "execution_count": null,
      "outputs": [
        {
          "output_type": "stream",
          "name": "stdout",
          "text": [
            "<class 'pandas.core.frame.DataFrame'>\n",
            "RangeIndex: 1095 entries, 0 to 1094\n",
            "Data columns (total 20 columns):\n",
            " #   Column           Non-Null Count  Dtype  \n",
            "---  ------           --------------  -----  \n",
            " 0   id               1095 non-null   int64  \n",
            " 1   season           1095 non-null   object \n",
            " 2   city             1044 non-null   object \n",
            " 3   date             1095 non-null   object \n",
            " 4   match_type       1095 non-null   object \n",
            " 5   player_of_match  1090 non-null   object \n",
            " 6   venue            1095 non-null   object \n",
            " 7   team1            1095 non-null   object \n",
            " 8   team2            1095 non-null   object \n",
            " 9   toss_winner      1095 non-null   object \n",
            " 10  toss_decision    1095 non-null   object \n",
            " 11  winner           1090 non-null   object \n",
            " 12  result           1095 non-null   object \n",
            " 13  result_margin    1076 non-null   float64\n",
            " 14  target_runs      1092 non-null   float64\n",
            " 15  target_overs     1092 non-null   float64\n",
            " 16  super_over       1095 non-null   object \n",
            " 17  method           21 non-null     object \n",
            " 18  umpire1          1095 non-null   object \n",
            " 19  umpire2          1095 non-null   object \n",
            "dtypes: float64(3), int64(1), object(16)\n",
            "memory usage: 171.2+ KB\n"
          ]
        }
      ]
    },
    {
      "cell_type": "markdown",
      "source": [
        "**HANDLING NULL VALUES**"
      ],
      "metadata": {
        "id": "KlUYCY-LkN9s"
      }
    },
    {
      "cell_type": "code",
      "source": [
        "matches.drop('method',axis=1,inplace=True)\n"
      ],
      "metadata": {
        "id": "1hIIK1_GM1cL"
      },
      "execution_count": null,
      "outputs": []
    },
    {
      "cell_type": "code",
      "source": [
        "matches['city'] = matches['city'].fillna(matches['venue'])\n",
        "matches['player_of_match'] = matches['player_of_match'].fillna('unknown')\n",
        "matches['winner'] = matches['winner'].fillna('unknown')\n",
        "matches['target_runs'] = matches['target_runs'].fillna(0)\n",
        "matches['target_overs'] = matches['target_overs'].fillna(0)\n",
        "matches['result_margin'] = matches['result_margin'].fillna(0)"
      ],
      "metadata": {
        "id": "95eHqSKNSbPx"
      },
      "execution_count": null,
      "outputs": []
    },
    {
      "cell_type": "code",
      "source": [
        "matches.isnull().sum()"
      ],
      "metadata": {
        "colab": {
          "base_uri": "https://localhost:8080/",
          "height": 711
        },
        "id": "r4-vx4CyN6Lp",
        "outputId": "aef2de3f-7b84-4108-fed2-262ac090b60c"
      },
      "execution_count": null,
      "outputs": [
        {
          "output_type": "execute_result",
          "data": {
            "text/plain": [
              "id                    0\n",
              "season                0\n",
              "city                  0\n",
              "date                  0\n",
              "match_type            0\n",
              "player_of_match       0\n",
              "venue                 0\n",
              "team1                 0\n",
              "team2                 0\n",
              "toss_winner           0\n",
              "toss_decision         0\n",
              "winner                0\n",
              "result                0\n",
              "result_margin         0\n",
              "target_runs           0\n",
              "target_overs          0\n",
              "super_over            0\n",
              "method             1074\n",
              "umpire1               0\n",
              "umpire2               0\n",
              "dtype: int64"
            ],
            "text/html": [
              "<div>\n",
              "<style scoped>\n",
              "    .dataframe tbody tr th:only-of-type {\n",
              "        vertical-align: middle;\n",
              "    }\n",
              "\n",
              "    .dataframe tbody tr th {\n",
              "        vertical-align: top;\n",
              "    }\n",
              "\n",
              "    .dataframe thead th {\n",
              "        text-align: right;\n",
              "    }\n",
              "</style>\n",
              "<table border=\"1\" class=\"dataframe\">\n",
              "  <thead>\n",
              "    <tr style=\"text-align: right;\">\n",
              "      <th></th>\n",
              "      <th>0</th>\n",
              "    </tr>\n",
              "  </thead>\n",
              "  <tbody>\n",
              "    <tr>\n",
              "      <th>id</th>\n",
              "      <td>0</td>\n",
              "    </tr>\n",
              "    <tr>\n",
              "      <th>season</th>\n",
              "      <td>0</td>\n",
              "    </tr>\n",
              "    <tr>\n",
              "      <th>city</th>\n",
              "      <td>0</td>\n",
              "    </tr>\n",
              "    <tr>\n",
              "      <th>date</th>\n",
              "      <td>0</td>\n",
              "    </tr>\n",
              "    <tr>\n",
              "      <th>match_type</th>\n",
              "      <td>0</td>\n",
              "    </tr>\n",
              "    <tr>\n",
              "      <th>player_of_match</th>\n",
              "      <td>0</td>\n",
              "    </tr>\n",
              "    <tr>\n",
              "      <th>venue</th>\n",
              "      <td>0</td>\n",
              "    </tr>\n",
              "    <tr>\n",
              "      <th>team1</th>\n",
              "      <td>0</td>\n",
              "    </tr>\n",
              "    <tr>\n",
              "      <th>team2</th>\n",
              "      <td>0</td>\n",
              "    </tr>\n",
              "    <tr>\n",
              "      <th>toss_winner</th>\n",
              "      <td>0</td>\n",
              "    </tr>\n",
              "    <tr>\n",
              "      <th>toss_decision</th>\n",
              "      <td>0</td>\n",
              "    </tr>\n",
              "    <tr>\n",
              "      <th>winner</th>\n",
              "      <td>0</td>\n",
              "    </tr>\n",
              "    <tr>\n",
              "      <th>result</th>\n",
              "      <td>0</td>\n",
              "    </tr>\n",
              "    <tr>\n",
              "      <th>result_margin</th>\n",
              "      <td>0</td>\n",
              "    </tr>\n",
              "    <tr>\n",
              "      <th>target_runs</th>\n",
              "      <td>0</td>\n",
              "    </tr>\n",
              "    <tr>\n",
              "      <th>target_overs</th>\n",
              "      <td>0</td>\n",
              "    </tr>\n",
              "    <tr>\n",
              "      <th>super_over</th>\n",
              "      <td>0</td>\n",
              "    </tr>\n",
              "    <tr>\n",
              "      <th>method</th>\n",
              "      <td>1074</td>\n",
              "    </tr>\n",
              "    <tr>\n",
              "      <th>umpire1</th>\n",
              "      <td>0</td>\n",
              "    </tr>\n",
              "    <tr>\n",
              "      <th>umpire2</th>\n",
              "      <td>0</td>\n",
              "    </tr>\n",
              "  </tbody>\n",
              "</table>\n",
              "</div><br><label><b>dtype:</b> int64</label>"
            ]
          },
          "metadata": {},
          "execution_count": 10
        }
      ]
    },
    {
      "cell_type": "code",
      "source": [
        "matches.info()"
      ],
      "metadata": {
        "colab": {
          "base_uri": "https://localhost:8080/"
        },
        "id": "w30uLcb0UsJE",
        "outputId": "d89881d9-187a-4371-bda6-db86de9bad67"
      },
      "execution_count": null,
      "outputs": [
        {
          "output_type": "stream",
          "name": "stdout",
          "text": [
            "<class 'pandas.core.frame.DataFrame'>\n",
            "RangeIndex: 1095 entries, 0 to 1094\n",
            "Data columns (total 19 columns):\n",
            " #   Column           Non-Null Count  Dtype  \n",
            "---  ------           --------------  -----  \n",
            " 0   id               1095 non-null   int64  \n",
            " 1   season           1095 non-null   object \n",
            " 2   city             1095 non-null   object \n",
            " 3   date             1095 non-null   object \n",
            " 4   match_type       1095 non-null   object \n",
            " 5   player_of_match  1095 non-null   object \n",
            " 6   venue            1095 non-null   object \n",
            " 7   team1            1095 non-null   object \n",
            " 8   team2            1095 non-null   object \n",
            " 9   toss_winner      1095 non-null   object \n",
            " 10  toss_decision    1095 non-null   object \n",
            " 11  winner           1095 non-null   object \n",
            " 12  result           1095 non-null   object \n",
            " 13  result_margin    1095 non-null   float64\n",
            " 14  target_runs      1095 non-null   float64\n",
            " 15  target_overs     1095 non-null   float64\n",
            " 16  super_over       1095 non-null   object \n",
            " 17  umpire1          1095 non-null   object \n",
            " 18  umpire2          1095 non-null   object \n",
            "dtypes: float64(3), int64(1), object(15)\n",
            "memory usage: 162.7+ KB\n"
          ]
        }
      ]
    },
    {
      "cell_type": "code",
      "source": [
        "matches.sample(10)"
      ],
      "metadata": {
        "colab": {
          "base_uri": "https://localhost:8080/",
          "height": 730
        },
        "id": "0U1xfhRXSoZU",
        "outputId": "c08e2dd2-4e3d-41bd-9ded-b8e5fca38f81"
      },
      "execution_count": null,
      "outputs": [
        {
          "output_type": "execute_result",
          "data": {
            "text/plain": [
              "          id   season       city        date match_type player_of_match  \\\n",
              "527   980921     2016  Bangalore  2016-04-17     League       Q de Kock   \n",
              "774  1216519  2020/21      Dubai  2020-10-05     League        AR Patel   \n",
              "399   729281     2014    Sharjah  2014-04-17     League       YS Chahal   \n",
              "57    336040  2007/08     Mumbai  2008-06-01      Final       YK Pathan   \n",
              "613  1082628     2017     Mumbai  2017-05-01     League       RG Sharma   \n",
              "400   729283     2014  Abu Dhabi  2014-04-18     League      GJ Maxwell   \n",
              "120   419111  2009/10  Ahmedabad  2010-03-15     League        V Sehwag   \n",
              "274   548333     2012      Delhi  2012-04-21     League      SC Ganguly   \n",
              "530   980927     2016     Mumbai  2016-04-20     League       RG Sharma   \n",
              "243   501267     2011    Kolkata  2011-05-22     League    JEC Franklin   \n",
              "\n",
              "                                   venue                        team1  \\\n",
              "527                M Chinnaswamy Stadium  Royal Challengers Bangalore   \n",
              "774  Dubai International Cricket Stadium               Delhi Capitals   \n",
              "399              Sharjah Cricket Stadium               Delhi Capitals   \n",
              "57            Dr DY Patil Sports Academy          Chennai Super Kings   \n",
              "613                     Wankhede Stadium               Mumbai Indians   \n",
              "400                 Sheikh Zayed Stadium          Chennai Super Kings   \n",
              "120         Sardar Patel Stadium, Motera             Rajasthan Royals   \n",
              "274                     Feroz Shah Kotla               Delhi Capitals   \n",
              "530                     Wankhede Stadium               Mumbai Indians   \n",
              "243                         Eden Gardens        Kolkata Knight Riders   \n",
              "\n",
              "                           team2                  toss_winner toss_decision  \\\n",
              "527               Delhi Capitals               Delhi Capitals         field   \n",
              "774  Royal Challengers Bangalore  Royal Challengers Bangalore         field   \n",
              "399  Royal Challengers Bangalore  Royal Challengers Bangalore         field   \n",
              "57              Rajasthan Royals             Rajasthan Royals         field   \n",
              "613  Royal Challengers Bangalore  Royal Challengers Bangalore           bat   \n",
              "400              Kings XI Punjab          Chennai Super Kings           bat   \n",
              "120               Delhi Capitals               Delhi Capitals         field   \n",
              "274                Pune Warriors               Delhi Capitals         field   \n",
              "530  Royal Challengers Bangalore               Mumbai Indians         field   \n",
              "243               Mumbai Indians               Mumbai Indians         field   \n",
              "\n",
              "                          winner   result  result_margin  target_runs  \\\n",
              "527               Delhi Capitals  wickets            7.0        192.0   \n",
              "774               Delhi Capitals     runs           59.0        197.0   \n",
              "399  Royal Challengers Bangalore  wickets            8.0        146.0   \n",
              "57              Rajasthan Royals  wickets            3.0        164.0   \n",
              "613               Mumbai Indians  wickets            5.0        163.0   \n",
              "400              Kings XI Punjab  wickets            6.0        206.0   \n",
              "120               Delhi Capitals  wickets            6.0        142.0   \n",
              "274                Pune Warriors     runs           20.0        193.0   \n",
              "530               Mumbai Indians  wickets            6.0        171.0   \n",
              "243               Mumbai Indians  wickets            5.0        176.0   \n",
              "\n",
              "     target_overs super_over         umpire1         umpire2  \n",
              "527          20.0          N     VA Kulkarni  A Nand Kishore  \n",
              "774          20.0          N     Nitin Menon        YC Barde  \n",
              "399          20.0          N       Aleem Dar          S Ravi  \n",
              "57           20.0          N       BF Bowden     RE Koertzen  \n",
              "613          20.0          N    AK Chaudhary     CB Gaffaney  \n",
              "400          20.0          N  RK Illingworth   C Shamshuddin  \n",
              "120          20.0          N      BG Jerling     RE Koertzen  \n",
              "274          20.0          N       Asad Rauf           S Das  \n",
              "530          20.0          N    AK Chaudhary       CK Nandan  \n",
              "243          20.0          N     SK Tarapore      SJA Taufel  "
            ],
            "text/html": [
              "\n",
              "  <div id=\"df-a1417ee9-4753-4f4e-9386-3c7d516e57c0\" class=\"colab-df-container\">\n",
              "    <div>\n",
              "<style scoped>\n",
              "    .dataframe tbody tr th:only-of-type {\n",
              "        vertical-align: middle;\n",
              "    }\n",
              "\n",
              "    .dataframe tbody tr th {\n",
              "        vertical-align: top;\n",
              "    }\n",
              "\n",
              "    .dataframe thead th {\n",
              "        text-align: right;\n",
              "    }\n",
              "</style>\n",
              "<table border=\"1\" class=\"dataframe\">\n",
              "  <thead>\n",
              "    <tr style=\"text-align: right;\">\n",
              "      <th></th>\n",
              "      <th>id</th>\n",
              "      <th>season</th>\n",
              "      <th>city</th>\n",
              "      <th>date</th>\n",
              "      <th>match_type</th>\n",
              "      <th>player_of_match</th>\n",
              "      <th>venue</th>\n",
              "      <th>team1</th>\n",
              "      <th>team2</th>\n",
              "      <th>toss_winner</th>\n",
              "      <th>toss_decision</th>\n",
              "      <th>winner</th>\n",
              "      <th>result</th>\n",
              "      <th>result_margin</th>\n",
              "      <th>target_runs</th>\n",
              "      <th>target_overs</th>\n",
              "      <th>super_over</th>\n",
              "      <th>umpire1</th>\n",
              "      <th>umpire2</th>\n",
              "    </tr>\n",
              "  </thead>\n",
              "  <tbody>\n",
              "    <tr>\n",
              "      <th>527</th>\n",
              "      <td>980921</td>\n",
              "      <td>2016</td>\n",
              "      <td>Bangalore</td>\n",
              "      <td>2016-04-17</td>\n",
              "      <td>League</td>\n",
              "      <td>Q de Kock</td>\n",
              "      <td>M Chinnaswamy Stadium</td>\n",
              "      <td>Royal Challengers Bangalore</td>\n",
              "      <td>Delhi Capitals</td>\n",
              "      <td>Delhi Capitals</td>\n",
              "      <td>field</td>\n",
              "      <td>Delhi Capitals</td>\n",
              "      <td>wickets</td>\n",
              "      <td>7.0</td>\n",
              "      <td>192.0</td>\n",
              "      <td>20.0</td>\n",
              "      <td>N</td>\n",
              "      <td>VA Kulkarni</td>\n",
              "      <td>A Nand Kishore</td>\n",
              "    </tr>\n",
              "    <tr>\n",
              "      <th>774</th>\n",
              "      <td>1216519</td>\n",
              "      <td>2020/21</td>\n",
              "      <td>Dubai</td>\n",
              "      <td>2020-10-05</td>\n",
              "      <td>League</td>\n",
              "      <td>AR Patel</td>\n",
              "      <td>Dubai International Cricket Stadium</td>\n",
              "      <td>Delhi Capitals</td>\n",
              "      <td>Royal Challengers Bangalore</td>\n",
              "      <td>Royal Challengers Bangalore</td>\n",
              "      <td>field</td>\n",
              "      <td>Delhi Capitals</td>\n",
              "      <td>runs</td>\n",
              "      <td>59.0</td>\n",
              "      <td>197.0</td>\n",
              "      <td>20.0</td>\n",
              "      <td>N</td>\n",
              "      <td>Nitin Menon</td>\n",
              "      <td>YC Barde</td>\n",
              "    </tr>\n",
              "    <tr>\n",
              "      <th>399</th>\n",
              "      <td>729281</td>\n",
              "      <td>2014</td>\n",
              "      <td>Sharjah</td>\n",
              "      <td>2014-04-17</td>\n",
              "      <td>League</td>\n",
              "      <td>YS Chahal</td>\n",
              "      <td>Sharjah Cricket Stadium</td>\n",
              "      <td>Delhi Capitals</td>\n",
              "      <td>Royal Challengers Bangalore</td>\n",
              "      <td>Royal Challengers Bangalore</td>\n",
              "      <td>field</td>\n",
              "      <td>Royal Challengers Bangalore</td>\n",
              "      <td>wickets</td>\n",
              "      <td>8.0</td>\n",
              "      <td>146.0</td>\n",
              "      <td>20.0</td>\n",
              "      <td>N</td>\n",
              "      <td>Aleem Dar</td>\n",
              "      <td>S Ravi</td>\n",
              "    </tr>\n",
              "    <tr>\n",
              "      <th>57</th>\n",
              "      <td>336040</td>\n",
              "      <td>2007/08</td>\n",
              "      <td>Mumbai</td>\n",
              "      <td>2008-06-01</td>\n",
              "      <td>Final</td>\n",
              "      <td>YK Pathan</td>\n",
              "      <td>Dr DY Patil Sports Academy</td>\n",
              "      <td>Chennai Super Kings</td>\n",
              "      <td>Rajasthan Royals</td>\n",
              "      <td>Rajasthan Royals</td>\n",
              "      <td>field</td>\n",
              "      <td>Rajasthan Royals</td>\n",
              "      <td>wickets</td>\n",
              "      <td>3.0</td>\n",
              "      <td>164.0</td>\n",
              "      <td>20.0</td>\n",
              "      <td>N</td>\n",
              "      <td>BF Bowden</td>\n",
              "      <td>RE Koertzen</td>\n",
              "    </tr>\n",
              "    <tr>\n",
              "      <th>613</th>\n",
              "      <td>1082628</td>\n",
              "      <td>2017</td>\n",
              "      <td>Mumbai</td>\n",
              "      <td>2017-05-01</td>\n",
              "      <td>League</td>\n",
              "      <td>RG Sharma</td>\n",
              "      <td>Wankhede Stadium</td>\n",
              "      <td>Mumbai Indians</td>\n",
              "      <td>Royal Challengers Bangalore</td>\n",
              "      <td>Royal Challengers Bangalore</td>\n",
              "      <td>bat</td>\n",
              "      <td>Mumbai Indians</td>\n",
              "      <td>wickets</td>\n",
              "      <td>5.0</td>\n",
              "      <td>163.0</td>\n",
              "      <td>20.0</td>\n",
              "      <td>N</td>\n",
              "      <td>AK Chaudhary</td>\n",
              "      <td>CB Gaffaney</td>\n",
              "    </tr>\n",
              "    <tr>\n",
              "      <th>400</th>\n",
              "      <td>729283</td>\n",
              "      <td>2014</td>\n",
              "      <td>Abu Dhabi</td>\n",
              "      <td>2014-04-18</td>\n",
              "      <td>League</td>\n",
              "      <td>GJ Maxwell</td>\n",
              "      <td>Sheikh Zayed Stadium</td>\n",
              "      <td>Chennai Super Kings</td>\n",
              "      <td>Kings XI Punjab</td>\n",
              "      <td>Chennai Super Kings</td>\n",
              "      <td>bat</td>\n",
              "      <td>Kings XI Punjab</td>\n",
              "      <td>wickets</td>\n",
              "      <td>6.0</td>\n",
              "      <td>206.0</td>\n",
              "      <td>20.0</td>\n",
              "      <td>N</td>\n",
              "      <td>RK Illingworth</td>\n",
              "      <td>C Shamshuddin</td>\n",
              "    </tr>\n",
              "    <tr>\n",
              "      <th>120</th>\n",
              "      <td>419111</td>\n",
              "      <td>2009/10</td>\n",
              "      <td>Ahmedabad</td>\n",
              "      <td>2010-03-15</td>\n",
              "      <td>League</td>\n",
              "      <td>V Sehwag</td>\n",
              "      <td>Sardar Patel Stadium, Motera</td>\n",
              "      <td>Rajasthan Royals</td>\n",
              "      <td>Delhi Capitals</td>\n",
              "      <td>Delhi Capitals</td>\n",
              "      <td>field</td>\n",
              "      <td>Delhi Capitals</td>\n",
              "      <td>wickets</td>\n",
              "      <td>6.0</td>\n",
              "      <td>142.0</td>\n",
              "      <td>20.0</td>\n",
              "      <td>N</td>\n",
              "      <td>BG Jerling</td>\n",
              "      <td>RE Koertzen</td>\n",
              "    </tr>\n",
              "    <tr>\n",
              "      <th>274</th>\n",
              "      <td>548333</td>\n",
              "      <td>2012</td>\n",
              "      <td>Delhi</td>\n",
              "      <td>2012-04-21</td>\n",
              "      <td>League</td>\n",
              "      <td>SC Ganguly</td>\n",
              "      <td>Feroz Shah Kotla</td>\n",
              "      <td>Delhi Capitals</td>\n",
              "      <td>Pune Warriors</td>\n",
              "      <td>Delhi Capitals</td>\n",
              "      <td>field</td>\n",
              "      <td>Pune Warriors</td>\n",
              "      <td>runs</td>\n",
              "      <td>20.0</td>\n",
              "      <td>193.0</td>\n",
              "      <td>20.0</td>\n",
              "      <td>N</td>\n",
              "      <td>Asad Rauf</td>\n",
              "      <td>S Das</td>\n",
              "    </tr>\n",
              "    <tr>\n",
              "      <th>530</th>\n",
              "      <td>980927</td>\n",
              "      <td>2016</td>\n",
              "      <td>Mumbai</td>\n",
              "      <td>2016-04-20</td>\n",
              "      <td>League</td>\n",
              "      <td>RG Sharma</td>\n",
              "      <td>Wankhede Stadium</td>\n",
              "      <td>Mumbai Indians</td>\n",
              "      <td>Royal Challengers Bangalore</td>\n",
              "      <td>Mumbai Indians</td>\n",
              "      <td>field</td>\n",
              "      <td>Mumbai Indians</td>\n",
              "      <td>wickets</td>\n",
              "      <td>6.0</td>\n",
              "      <td>171.0</td>\n",
              "      <td>20.0</td>\n",
              "      <td>N</td>\n",
              "      <td>AK Chaudhary</td>\n",
              "      <td>CK Nandan</td>\n",
              "    </tr>\n",
              "    <tr>\n",
              "      <th>243</th>\n",
              "      <td>501267</td>\n",
              "      <td>2011</td>\n",
              "      <td>Kolkata</td>\n",
              "      <td>2011-05-22</td>\n",
              "      <td>League</td>\n",
              "      <td>JEC Franklin</td>\n",
              "      <td>Eden Gardens</td>\n",
              "      <td>Kolkata Knight Riders</td>\n",
              "      <td>Mumbai Indians</td>\n",
              "      <td>Mumbai Indians</td>\n",
              "      <td>field</td>\n",
              "      <td>Mumbai Indians</td>\n",
              "      <td>wickets</td>\n",
              "      <td>5.0</td>\n",
              "      <td>176.0</td>\n",
              "      <td>20.0</td>\n",
              "      <td>N</td>\n",
              "      <td>SK Tarapore</td>\n",
              "      <td>SJA Taufel</td>\n",
              "    </tr>\n",
              "  </tbody>\n",
              "</table>\n",
              "</div>\n",
              "    <div class=\"colab-df-buttons\">\n",
              "\n",
              "  <div class=\"colab-df-container\">\n",
              "    <button class=\"colab-df-convert\" onclick=\"convertToInteractive('df-a1417ee9-4753-4f4e-9386-3c7d516e57c0')\"\n",
              "            title=\"Convert this dataframe to an interactive table.\"\n",
              "            style=\"display:none;\">\n",
              "\n",
              "  <svg xmlns=\"http://www.w3.org/2000/svg\" height=\"24px\" viewBox=\"0 -960 960 960\">\n",
              "    <path d=\"M120-120v-720h720v720H120Zm60-500h600v-160H180v160Zm220 220h160v-160H400v160Zm0 220h160v-160H400v160ZM180-400h160v-160H180v160Zm440 0h160v-160H620v160ZM180-180h160v-160H180v160Zm440 0h160v-160H620v160Z\"/>\n",
              "  </svg>\n",
              "    </button>\n",
              "\n",
              "  <style>\n",
              "    .colab-df-container {\n",
              "      display:flex;\n",
              "      gap: 12px;\n",
              "    }\n",
              "\n",
              "    .colab-df-convert {\n",
              "      background-color: #E8F0FE;\n",
              "      border: none;\n",
              "      border-radius: 50%;\n",
              "      cursor: pointer;\n",
              "      display: none;\n",
              "      fill: #1967D2;\n",
              "      height: 32px;\n",
              "      padding: 0 0 0 0;\n",
              "      width: 32px;\n",
              "    }\n",
              "\n",
              "    .colab-df-convert:hover {\n",
              "      background-color: #E2EBFA;\n",
              "      box-shadow: 0px 1px 2px rgba(60, 64, 67, 0.3), 0px 1px 3px 1px rgba(60, 64, 67, 0.15);\n",
              "      fill: #174EA6;\n",
              "    }\n",
              "\n",
              "    .colab-df-buttons div {\n",
              "      margin-bottom: 4px;\n",
              "    }\n",
              "\n",
              "    [theme=dark] .colab-df-convert {\n",
              "      background-color: #3B4455;\n",
              "      fill: #D2E3FC;\n",
              "    }\n",
              "\n",
              "    [theme=dark] .colab-df-convert:hover {\n",
              "      background-color: #434B5C;\n",
              "      box-shadow: 0px 1px 3px 1px rgba(0, 0, 0, 0.15);\n",
              "      filter: drop-shadow(0px 1px 2px rgba(0, 0, 0, 0.3));\n",
              "      fill: #FFFFFF;\n",
              "    }\n",
              "  </style>\n",
              "\n",
              "    <script>\n",
              "      const buttonEl =\n",
              "        document.querySelector('#df-a1417ee9-4753-4f4e-9386-3c7d516e57c0 button.colab-df-convert');\n",
              "      buttonEl.style.display =\n",
              "        google.colab.kernel.accessAllowed ? 'block' : 'none';\n",
              "\n",
              "      async function convertToInteractive(key) {\n",
              "        const element = document.querySelector('#df-a1417ee9-4753-4f4e-9386-3c7d516e57c0');\n",
              "        const dataTable =\n",
              "          await google.colab.kernel.invokeFunction('convertToInteractive',\n",
              "                                                    [key], {});\n",
              "        if (!dataTable) return;\n",
              "\n",
              "        const docLinkHtml = 'Like what you see? Visit the ' +\n",
              "          '<a target=\"_blank\" href=https://colab.research.google.com/notebooks/data_table.ipynb>data table notebook</a>'\n",
              "          + ' to learn more about interactive tables.';\n",
              "        element.innerHTML = '';\n",
              "        dataTable['output_type'] = 'display_data';\n",
              "        await google.colab.output.renderOutput(dataTable, element);\n",
              "        const docLink = document.createElement('div');\n",
              "        docLink.innerHTML = docLinkHtml;\n",
              "        element.appendChild(docLink);\n",
              "      }\n",
              "    </script>\n",
              "  </div>\n",
              "\n",
              "\n",
              "<div id=\"df-655c529c-da92-40ef-b3ab-fc26aed17e43\">\n",
              "  <button class=\"colab-df-quickchart\" onclick=\"quickchart('df-655c529c-da92-40ef-b3ab-fc26aed17e43')\"\n",
              "            title=\"Suggest charts\"\n",
              "            style=\"display:none;\">\n",
              "\n",
              "<svg xmlns=\"http://www.w3.org/2000/svg\" height=\"24px\"viewBox=\"0 0 24 24\"\n",
              "     width=\"24px\">\n",
              "    <g>\n",
              "        <path d=\"M19 3H5c-1.1 0-2 .9-2 2v14c0 1.1.9 2 2 2h14c1.1 0 2-.9 2-2V5c0-1.1-.9-2-2-2zM9 17H7v-7h2v7zm4 0h-2V7h2v10zm4 0h-2v-4h2v4z\"/>\n",
              "    </g>\n",
              "</svg>\n",
              "  </button>\n",
              "\n",
              "<style>\n",
              "  .colab-df-quickchart {\n",
              "      --bg-color: #E8F0FE;\n",
              "      --fill-color: #1967D2;\n",
              "      --hover-bg-color: #E2EBFA;\n",
              "      --hover-fill-color: #174EA6;\n",
              "      --disabled-fill-color: #AAA;\n",
              "      --disabled-bg-color: #DDD;\n",
              "  }\n",
              "\n",
              "  [theme=dark] .colab-df-quickchart {\n",
              "      --bg-color: #3B4455;\n",
              "      --fill-color: #D2E3FC;\n",
              "      --hover-bg-color: #434B5C;\n",
              "      --hover-fill-color: #FFFFFF;\n",
              "      --disabled-bg-color: #3B4455;\n",
              "      --disabled-fill-color: #666;\n",
              "  }\n",
              "\n",
              "  .colab-df-quickchart {\n",
              "    background-color: var(--bg-color);\n",
              "    border: none;\n",
              "    border-radius: 50%;\n",
              "    cursor: pointer;\n",
              "    display: none;\n",
              "    fill: var(--fill-color);\n",
              "    height: 32px;\n",
              "    padding: 0;\n",
              "    width: 32px;\n",
              "  }\n",
              "\n",
              "  .colab-df-quickchart:hover {\n",
              "    background-color: var(--hover-bg-color);\n",
              "    box-shadow: 0 1px 2px rgba(60, 64, 67, 0.3), 0 1px 3px 1px rgba(60, 64, 67, 0.15);\n",
              "    fill: var(--button-hover-fill-color);\n",
              "  }\n",
              "\n",
              "  .colab-df-quickchart-complete:disabled,\n",
              "  .colab-df-quickchart-complete:disabled:hover {\n",
              "    background-color: var(--disabled-bg-color);\n",
              "    fill: var(--disabled-fill-color);\n",
              "    box-shadow: none;\n",
              "  }\n",
              "\n",
              "  .colab-df-spinner {\n",
              "    border: 2px solid var(--fill-color);\n",
              "    border-color: transparent;\n",
              "    border-bottom-color: var(--fill-color);\n",
              "    animation:\n",
              "      spin 1s steps(1) infinite;\n",
              "  }\n",
              "\n",
              "  @keyframes spin {\n",
              "    0% {\n",
              "      border-color: transparent;\n",
              "      border-bottom-color: var(--fill-color);\n",
              "      border-left-color: var(--fill-color);\n",
              "    }\n",
              "    20% {\n",
              "      border-color: transparent;\n",
              "      border-left-color: var(--fill-color);\n",
              "      border-top-color: var(--fill-color);\n",
              "    }\n",
              "    30% {\n",
              "      border-color: transparent;\n",
              "      border-left-color: var(--fill-color);\n",
              "      border-top-color: var(--fill-color);\n",
              "      border-right-color: var(--fill-color);\n",
              "    }\n",
              "    40% {\n",
              "      border-color: transparent;\n",
              "      border-right-color: var(--fill-color);\n",
              "      border-top-color: var(--fill-color);\n",
              "    }\n",
              "    60% {\n",
              "      border-color: transparent;\n",
              "      border-right-color: var(--fill-color);\n",
              "    }\n",
              "    80% {\n",
              "      border-color: transparent;\n",
              "      border-right-color: var(--fill-color);\n",
              "      border-bottom-color: var(--fill-color);\n",
              "    }\n",
              "    90% {\n",
              "      border-color: transparent;\n",
              "      border-bottom-color: var(--fill-color);\n",
              "    }\n",
              "  }\n",
              "</style>\n",
              "\n",
              "  <script>\n",
              "    async function quickchart(key) {\n",
              "      const quickchartButtonEl =\n",
              "        document.querySelector('#' + key + ' button');\n",
              "      quickchartButtonEl.disabled = true;  // To prevent multiple clicks.\n",
              "      quickchartButtonEl.classList.add('colab-df-spinner');\n",
              "      try {\n",
              "        const charts = await google.colab.kernel.invokeFunction(\n",
              "            'suggestCharts', [key], {});\n",
              "      } catch (error) {\n",
              "        console.error('Error during call to suggestCharts:', error);\n",
              "      }\n",
              "      quickchartButtonEl.classList.remove('colab-df-spinner');\n",
              "      quickchartButtonEl.classList.add('colab-df-quickchart-complete');\n",
              "    }\n",
              "    (() => {\n",
              "      let quickchartButtonEl =\n",
              "        document.querySelector('#df-655c529c-da92-40ef-b3ab-fc26aed17e43 button');\n",
              "      quickchartButtonEl.style.display =\n",
              "        google.colab.kernel.accessAllowed ? 'block' : 'none';\n",
              "    })();\n",
              "  </script>\n",
              "</div>\n",
              "\n",
              "    </div>\n",
              "  </div>\n"
            ],
            "application/vnd.google.colaboratory.intrinsic+json": {
              "type": "dataframe",
              "repr_error": "0"
            }
          },
          "metadata": {},
          "execution_count": 39
        }
      ]
    },
    {
      "cell_type": "markdown",
      "source": [
        "**HANDLING DUPLICATES**"
      ],
      "metadata": {
        "id": "lKwmpx3lkZeT"
      }
    },
    {
      "cell_type": "code",
      "source": [
        "matches.city.unique()"
      ],
      "metadata": {
        "colab": {
          "base_uri": "https://localhost:8080/"
        },
        "id": "OksQLzuAi9GJ",
        "outputId": "fc1f042c-c674-449e-db5c-9c9f19fa0707"
      },
      "execution_count": null,
      "outputs": [
        {
          "output_type": "execute_result",
          "data": {
            "text/plain": [
              "array(['Bangalore', 'Chandigarh', 'Delhi', 'Mumbai', 'Kolkata', 'Jaipur',\n",
              "       'Hyderabad', 'Chennai', 'Cape Town', 'Port Elizabeth', 'Durban',\n",
              "       'Centurion', 'East London', 'Johannesburg', 'Kimberley',\n",
              "       'Bloemfontein', 'Ahmedabad', 'Cuttack', 'Nagpur', 'Dharamsala',\n",
              "       'Kochi', 'Indore', 'Visakhapatnam', 'Pune', 'Raipur', 'Ranchi',\n",
              "       'Abu Dhabi', 'Sharjah', 'Dubai', 'Rajkot', 'Kanpur', 'Lucknow',\n",
              "       'Guwahati', 'Mohali'], dtype=object)"
            ]
          },
          "metadata": {},
          "execution_count": 40
        }
      ]
    },
    {
      "cell_type": "code",
      "source": [
        "print(matches.venue.nunique())\n",
        "print(matches.team1.nunique())\n",
        "print(matches.city.nunique())"
      ],
      "metadata": {
        "colab": {
          "base_uri": "https://localhost:8080/"
        },
        "id": "c2UM9JS0Xuyo",
        "outputId": "a7ea4b2b-6e77-4b6b-bc00-55e6157ae15e"
      },
      "execution_count": null,
      "outputs": [
        {
          "output_type": "stream",
          "name": "stdout",
          "text": [
            "40\n",
            "15\n",
            "34\n"
          ]
        }
      ]
    },
    {
      "cell_type": "markdown",
      "source": [
        "handling duplicates in team"
      ],
      "metadata": {
        "id": "W8TX5bXaymMG"
      }
    },
    {
      "cell_type": "code",
      "source": [
        "team_dup={\"Delhi Daredevils\":\"Delhi Capitals\",\n",
        "\"Rising Pune Supergiants\":\"Rising Pune Supergiant\",\n",
        "\"Royal Challengers Bengaluru\":\"Royal Challengers Bangalore\",'Gujarat Lions':'Gujarat Titans'}\n",
        "matches.replace(to_replace=team_dup,inplace=True)"
      ],
      "metadata": {
        "id": "Dt5BGjaex_1g"
      },
      "execution_count": null,
      "outputs": []
    },
    {
      "cell_type": "markdown",
      "source": [
        "handling duplicates in city"
      ],
      "metadata": {
        "id": "otoj1nCzytzT"
      }
    },
    {
      "cell_type": "code",
      "source": [
        "city_dup={'Bengaluru':'Bangalore','Navi Mumbai':'Mumbai','Dubai International Cricket Stadium':'Dubai','Sharjah Cricket Stadium':'Sharjah'}\n",
        "matches['city'].replace(to_replace=city_dup,inplace=True)"
      ],
      "metadata": {
        "id": "IEgA5-CDU7Gg",
        "colab": {
          "base_uri": "https://localhost:8080/"
        },
        "outputId": "72248cfc-ce4d-496e-e8ca-d203e80cd836"
      },
      "execution_count": null,
      "outputs": [
        {
          "output_type": "stream",
          "name": "stderr",
          "text": [
            "<ipython-input-44-890f7980b932>:2: FutureWarning: A value is trying to be set on a copy of a DataFrame or Series through chained assignment using an inplace method.\n",
            "The behavior will change in pandas 3.0. This inplace method will never work because the intermediate object on which we are setting values always behaves as a copy.\n",
            "\n",
            "For example, when doing 'df[col].method(value, inplace=True)', try using 'df.method({col: value}, inplace=True)' or df[col] = df[col].method(value) instead, to perform the operation inplace on the original object.\n",
            "\n",
            "\n",
            "  matches['city'].replace(to_replace=city_dup,inplace=True)\n"
          ]
        }
      ]
    },
    {
      "cell_type": "code",
      "source": [
        "matches['city'].unique()"
      ],
      "metadata": {
        "colab": {
          "base_uri": "https://localhost:8080/"
        },
        "id": "K0SFymQJ1pG4",
        "outputId": "91393cf9-96f7-4b71-88ae-4c0279ed6295"
      },
      "execution_count": null,
      "outputs": [
        {
          "output_type": "execute_result",
          "data": {
            "text/plain": [
              "array(['Bangalore', 'Chandigarh', 'Delhi', 'Mumbai', 'Kolkata', 'Jaipur',\n",
              "       'Hyderabad', 'Chennai', 'Cape Town', 'Port Elizabeth', 'Durban',\n",
              "       'Centurion', 'East London', 'Johannesburg', 'Kimberley',\n",
              "       'Bloemfontein', 'Ahmedabad', 'Cuttack', 'Nagpur', 'Dharamsala',\n",
              "       'Kochi', 'Indore', 'Visakhapatnam', 'Pune', 'Raipur', 'Ranchi',\n",
              "       'Abu Dhabi', 'Sharjah', 'Dubai', 'Rajkot', 'Kanpur', 'Lucknow',\n",
              "       'Guwahati', 'Mohali'], dtype=object)"
            ]
          },
          "metadata": {},
          "execution_count": 45
        }
      ]
    },
    {
      "cell_type": "markdown",
      "source": [
        "handling duplicates in venue\n",
        "\n"
      ],
      "metadata": {
        "id": "DQIhK2nw3bPT"
      }
    },
    {
      "cell_type": "code",
      "source": [
        "\n",
        "matches.replace('Arun Jaitley Stadium, Delhi','Arun Jaitley Stadium',inplace=True)\n",
        "matches.replace('Brabourne Stadium, Mumbai','Brabourne Stadium',inplace=True)\n",
        "matches.replace('Dr DY Patil Sports Academy, Mumbai','Dr DY Patil Sports Academy',inplace=True)\n",
        "matches.replace('Eden Gardens, Kolkata','Eden Gardens',inplace=True)\n",
        "matches.replace('Wankhede Stadium, Mumbai','Wankhede Stadium',inplace=True)\n",
        "matches.replace('Sawai Mansingh Stadium, Jaipur','Sawai Mansingh Stadium',inplace=True)\n",
        "matches.replace('Zayed Cricket Stadium, Abu Dhabi','Sheikh Zayed Stadium',inplace=True)\n",
        "matches.replace('MA Chidambaram Stadium, Chepauk','MA Chidambaram Stadium',inplace=True)\n",
        "matches.replace('MA Chidambaram Stadium, Chepauk, Chennai, Chepauk','MA Chidambaram Stadium',inplace=True)\n",
        "matches.replace('Maharashtra Cricket Association Stadium, Pune','Maharashtra Cricket Association Stadium',inplace=True)\n",
        "matches.replace('Subrata Roy Sahara Stadium','Maharashtra Cricket Association Stadium',inplace=True)\n",
        "matches.replace('M.Chinnaswamy Stadium','M Chinnaswamy Stadium',inplace=True)\n",
        "matches.replace('Punjab Cricket Association Stadium, Mohali','Punjab Cricket Association Stadium',inplace=True)\n",
        "matches.replace('Punjab Cricket Association IS Bindra Stadium, Mohali','Punjab Cricket Association Stadium',inplace=True)\n",
        "matches.replace('Punjab Cricket Association IS Bindra Stadium, Mohali, Chandigarh','Punjab Cricket Association Stadium',inplace=True)\n",
        "matches.replace('M Chinnaswamy Stadium, Bengaluru','M Chinnaswamy Stadium',inplace=True)\n",
        "matches.replace('Rajiv Gandhi International Stadium, Uppal','Rajiv Gandhi International Stadium',inplace=True)\n",
        "matches.replace('Rajiv Gandhi International Stadium, Uppal, Hyderabad','Rajiv Gandhi International Stadium',inplace=True)\n",
        "matches.replace('Himachal Pradesh Cricket Association Stadium, Dharamsala','Himachal Pradesh Cricket Association Stadium',inplace=True)\n",
        "matches.replace('Dr. Y.S. Rajasekhara Reddy ACA-VDCA Cricket Stadium, Visakhapatnam','Dr. Y.S. Rajasekhara Reddy ACA-VDCA Cricket Stadium',inplace=True)"
      ],
      "metadata": {
        "id": "P7R4bu39V45E"
      },
      "execution_count": null,
      "outputs": []
    },
    {
      "cell_type": "code",
      "source": [
        "matches['venue'].unique()"
      ],
      "metadata": {
        "colab": {
          "base_uri": "https://localhost:8080/"
        },
        "id": "y-tqxJIzjRNm",
        "outputId": "601624ff-b5f6-440f-bdbc-04131a8c74f1"
      },
      "execution_count": null,
      "outputs": [
        {
          "output_type": "execute_result",
          "data": {
            "text/plain": [
              "array(['M Chinnaswamy Stadium', 'Punjab Cricket Association Stadium',\n",
              "       'Feroz Shah Kotla', 'Wankhede Stadium', 'Eden Gardens',\n",
              "       'Sawai Mansingh Stadium', 'Rajiv Gandhi International Stadium',\n",
              "       'MA Chidambaram Stadium', 'Dr DY Patil Sports Academy', 'Newlands',\n",
              "       \"St George's Park\", 'Kingsmead', 'SuperSport Park', 'Buffalo Park',\n",
              "       'New Wanderers Stadium', 'De Beers Diamond Oval',\n",
              "       'OUTsurance Oval', 'Brabourne Stadium',\n",
              "       'Sardar Patel Stadium, Motera', 'Barabati Stadium',\n",
              "       'Vidarbha Cricket Association Stadium, Jamtha',\n",
              "       'Himachal Pradesh Cricket Association Stadium', 'Nehru Stadium',\n",
              "       'Holkar Cricket Stadium',\n",
              "       'Dr. Y.S. Rajasekhara Reddy ACA-VDCA Cricket Stadium',\n",
              "       'Maharashtra Cricket Association Stadium',\n",
              "       'Shaheed Veer Narayan Singh International Stadium',\n",
              "       'JSCA International Stadium Complex', 'Sheikh Zayed Stadium',\n",
              "       'Sharjah Cricket Stadium', 'Dubai International Cricket Stadium',\n",
              "       'Saurashtra Cricket Association Stadium', 'Green Park',\n",
              "       'Punjab Cricket Association IS Bindra Stadium',\n",
              "       'Arun Jaitley Stadium', 'MA Chidambaram Stadium, Chepauk, Chennai',\n",
              "       'Narendra Modi Stadium, Ahmedabad',\n",
              "       'Bharat Ratna Shri Atal Bihari Vajpayee Ekana Cricket Stadium, Lucknow',\n",
              "       'Barsapara Cricket Stadium, Guwahati',\n",
              "       'Maharaja Yadavindra Singh International Cricket Stadium, Mullanpur'],\n",
              "      dtype=object)"
            ]
          },
          "metadata": {},
          "execution_count": 47
        }
      ]
    },
    {
      "cell_type": "code",
      "source": [
        "print(matches.venue.nunique())\n",
        "print(matches.team1.nunique())\n",
        "print(matches.city.nunique())"
      ],
      "metadata": {
        "id": "5bWaPKfShXm9",
        "outputId": "1d648759-0019-4aa3-cf39-eac204a5f478",
        "colab": {
          "base_uri": "https://localhost:8080/"
        }
      },
      "execution_count": null,
      "outputs": [
        {
          "output_type": "stream",
          "name": "stdout",
          "text": [
            "40\n",
            "15\n",
            "34\n"
          ]
        }
      ]
    }
  ]
}