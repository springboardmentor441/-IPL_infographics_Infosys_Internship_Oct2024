{
 "cells": [
  {
   "cell_type": "code",
   "execution_count": null,
   "metadata": {},
   "outputs": [
    {
     "name": "stdout",
     "output_type": "stream",
     "text": [
      "city\n",
      "Mumbai           173\n",
      "Kolkata           93\n",
      "Delhi             90\n",
      "Chennai           85\n",
      "Hyderabad         77\n",
      "Bangalore         65\n",
      "Chandigarh        61\n",
      "Jaipur            57\n",
      "Pune              51\n",
      "Abu Dhabi         37\n",
      "Ahmedabad         36\n",
      "Bengaluru         29\n",
      "Visakhapatnam     15\n",
      "Durban            15\n",
      "Lucknow           14\n",
      "Dubai             13\n",
      "Dharamsala        13\n",
      "Centurion         12\n",
      "Rajkot            10\n",
      "Sharjah           10\n",
      "Name: count, dtype: int64\n"
     ]
    }
   ],
   "source": [
    "#top 20 cities (most matches played)\n",
    "import pandas as pd\n",
    "matches_df = pd.read_csv(\"matches.csv\")  \n",
    "city_match_counts = matches_df['city'].value_counts().head(20)\n",
    "print(city_match_counts)"
   ]
  }
 ],
 "metadata": {
  "kernelspec": {
   "display_name": "Python 3",
   "language": "python",
   "name": "python3"
  },
  "language_info": {
   "codemirror_mode": {
    "name": "ipython",
    "version": 3
   },
   "file_extension": ".py",
   "mimetype": "text/x-python",
   "name": "python",
   "nbconvert_exporter": "python",
   "pygments_lexer": "ipython3",
   "version": "3.13.1"
  }
 },
 "nbformat": 4,
 "nbformat_minor": 2
}
