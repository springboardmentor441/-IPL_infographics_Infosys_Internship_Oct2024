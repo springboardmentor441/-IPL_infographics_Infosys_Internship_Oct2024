{
 "cells": [
  {
   "cell_type": "code",
   "execution_count": null,
   "id": "d265ec52-e5ca-43b9-a99a-0fc7f7b014f0",
   "metadata": {},
   "outputs": [],
   "source": []
  },
  {
   "cell_type": "code",
   "execution_count": 1,
   "id": "0c86394f-dad8-401b-8751-81681978eeed",
   "metadata": {},
   "outputs": [],
   "source": [
    "import pandas as pd"
   ]
  },
  {
   "cell_type": "code",
   "execution_count": 3,
   "id": "4297d931-3058-4a1f-8b0f-ad19b4425151",
   "metadata": {},
   "outputs": [],
   "source": [
    "df = pd.read_csv('deliveries.csv')"
   ]
  },
  {
   "cell_type": "code",
   "execution_count": 5,
   "id": "ff4bbba3-e3d7-459b-b831-9c78fefdc5ba",
   "metadata": {},
   "outputs": [
    {
     "name": "stdout",
     "output_type": "stream",
     "text": [
      "Requirement already satisfied: pandas in c:\\users\\hp\\anaconda3\\lib\\site-packages (2.2.2)\n",
      "Requirement already satisfied: numpy in c:\\users\\hp\\anaconda3\\lib\\site-packages (1.26.4)\n",
      "Requirement already satisfied: openpyxl in c:\\users\\hp\\anaconda3\\lib\\site-packages (3.1.5)\n",
      "Requirement already satisfied: python-dateutil>=2.8.2 in c:\\users\\hp\\anaconda3\\lib\\site-packages (from pandas) (2.9.0.post0)\n",
      "Requirement already satisfied: pytz>=2020.1 in c:\\users\\hp\\anaconda3\\lib\\site-packages (from pandas) (2024.1)\n",
      "Requirement already satisfied: tzdata>=2022.7 in c:\\users\\hp\\anaconda3\\lib\\site-packages (from pandas) (2023.3)\n",
      "Requirement already satisfied: et-xmlfile in c:\\users\\hp\\anaconda3\\lib\\site-packages (from openpyxl) (1.1.0)\n",
      "Requirement already satisfied: six>=1.5 in c:\\users\\hp\\anaconda3\\lib\\site-packages (from python-dateutil>=2.8.2->pandas) (1.16.0)\n",
      "Note: you may need to restart the kernel to use updated packages.\n"
     ]
    }
   ],
   "source": [
    "pip install pandas numpy openpyxl"
   ]
  },
  {
   "cell_type": "code",
   "execution_count": 7,
   "id": "25caefe3-83c4-4c1e-8f47-3eab08426a1e",
   "metadata": {},
   "outputs": [],
   "source": [
    "import pandas as pd"
   ]
  },
  {
   "cell_type": "code",
   "execution_count": null,
   "id": "6d4af7ed-072a-43d3-b16a-52fce584ef38",
   "metadata": {},
   "outputs": [],
   "source": []
  },
  {
   "cell_type": "code",
   "execution_count": 17,
   "id": "4d41875e-f9d3-4948-8241-c61ebdf26bea",
   "metadata": {},
   "outputs": [],
   "source": [
    "df = pd.read_csv('deliveries.csv')"
   ]
  },
  {
   "cell_type": "code",
   "execution_count": 19,
   "id": "8faa9fad-cffe-403b-8d0e-5d1f279060ca",
   "metadata": {},
   "outputs": [
    {
     "data": {
      "text/html": [
       "<div>\n",
       "<style scoped>\n",
       "    .dataframe tbody tr th:only-of-type {\n",
       "        vertical-align: middle;\n",
       "    }\n",
       "\n",
       "    .dataframe tbody tr th {\n",
       "        vertical-align: top;\n",
       "    }\n",
       "\n",
       "    .dataframe thead th {\n",
       "        text-align: right;\n",
       "    }\n",
       "</style>\n",
       "<table border=\"1\" class=\"dataframe\">\n",
       "  <thead>\n",
       "    <tr style=\"text-align: right;\">\n",
       "      <th></th>\n",
       "      <th>Name</th>\n",
       "      <th>Age</th>\n",
       "    </tr>\n",
       "  </thead>\n",
       "  <tbody>\n",
       "    <tr>\n",
       "      <th>0</th>\n",
       "      <td>Ram</td>\n",
       "      <td>34</td>\n",
       "    </tr>\n",
       "    <tr>\n",
       "      <th>1</th>\n",
       "      <td>Krishna</td>\n",
       "      <td>43</td>\n",
       "    </tr>\n",
       "  </tbody>\n",
       "</table>\n",
       "</div>"
      ],
      "text/plain": [
       "      Name Age\n",
       "0      Ram  34\n",
       "1  Krishna  43"
      ]
     },
     "execution_count": 19,
     "metadata": {},
     "output_type": "execute_result"
    }
   ],
   "source": [
    "df = pd.DataFrame({'Name': ['Ram','Krishna'], 'Age': ['34','43']})\n",
    "df"
   ]
  },
  {
   "cell_type": "code",
   "execution_count": 33,
   "id": "92fea1c5-885f-428a-b0ab-6d58aab53dc7",
   "metadata": {},
   "outputs": [
    {
     "ename": "FileNotFoundError",
     "evalue": "[Errno 2] No such file or directory: 'C:\\\\\\\\Users\\\\\\\\HP\\\\\\\\Downloads\\\\\\\\deliveries.xlsx'",
     "output_type": "error",
     "traceback": [
      "\u001b[1;31m---------------------------------------------------------------------------\u001b[0m",
      "\u001b[1;31mFileNotFoundError\u001b[0m                         Traceback (most recent call last)",
      "Cell \u001b[1;32mIn[33], line 1\u001b[0m\n\u001b[1;32m----> 1\u001b[0m df \u001b[38;5;241m=\u001b[39m pd\u001b[38;5;241m.\u001b[39mread_excel(\u001b[38;5;124mr\u001b[39m\u001b[38;5;124m'\u001b[39m\u001b[38;5;124mC:\u001b[39m\u001b[38;5;130;01m\\\\\u001b[39;00m\u001b[38;5;124mUsers\u001b[39m\u001b[38;5;130;01m\\\\\u001b[39;00m\u001b[38;5;124mHP\u001b[39m\u001b[38;5;130;01m\\\\\u001b[39;00m\u001b[38;5;124mDownloads\u001b[39m\u001b[38;5;130;01m\\\\\u001b[39;00m\u001b[38;5;124mdeliveries.xlsx\u001b[39m\u001b[38;5;124m'\u001b[39m)\n",
      "File \u001b[1;32m~\\anaconda3\\Lib\\site-packages\\pandas\\io\\excel\\_base.py:495\u001b[0m, in \u001b[0;36mread_excel\u001b[1;34m(io, sheet_name, header, names, index_col, usecols, dtype, engine, converters, true_values, false_values, skiprows, nrows, na_values, keep_default_na, na_filter, verbose, parse_dates, date_parser, date_format, thousands, decimal, comment, skipfooter, storage_options, dtype_backend, engine_kwargs)\u001b[0m\n\u001b[0;32m    493\u001b[0m \u001b[38;5;28;01mif\u001b[39;00m \u001b[38;5;129;01mnot\u001b[39;00m \u001b[38;5;28misinstance\u001b[39m(io, ExcelFile):\n\u001b[0;32m    494\u001b[0m     should_close \u001b[38;5;241m=\u001b[39m \u001b[38;5;28;01mTrue\u001b[39;00m\n\u001b[1;32m--> 495\u001b[0m     io \u001b[38;5;241m=\u001b[39m ExcelFile(\n\u001b[0;32m    496\u001b[0m         io,\n\u001b[0;32m    497\u001b[0m         storage_options\u001b[38;5;241m=\u001b[39mstorage_options,\n\u001b[0;32m    498\u001b[0m         engine\u001b[38;5;241m=\u001b[39mengine,\n\u001b[0;32m    499\u001b[0m         engine_kwargs\u001b[38;5;241m=\u001b[39mengine_kwargs,\n\u001b[0;32m    500\u001b[0m     )\n\u001b[0;32m    501\u001b[0m \u001b[38;5;28;01melif\u001b[39;00m engine \u001b[38;5;129;01mand\u001b[39;00m engine \u001b[38;5;241m!=\u001b[39m io\u001b[38;5;241m.\u001b[39mengine:\n\u001b[0;32m    502\u001b[0m     \u001b[38;5;28;01mraise\u001b[39;00m \u001b[38;5;167;01mValueError\u001b[39;00m(\n\u001b[0;32m    503\u001b[0m         \u001b[38;5;124m\"\u001b[39m\u001b[38;5;124mEngine should not be specified when passing \u001b[39m\u001b[38;5;124m\"\u001b[39m\n\u001b[0;32m    504\u001b[0m         \u001b[38;5;124m\"\u001b[39m\u001b[38;5;124man ExcelFile - ExcelFile already has the engine set\u001b[39m\u001b[38;5;124m\"\u001b[39m\n\u001b[0;32m    505\u001b[0m     )\n",
      "File \u001b[1;32m~\\anaconda3\\Lib\\site-packages\\pandas\\io\\excel\\_base.py:1550\u001b[0m, in \u001b[0;36mExcelFile.__init__\u001b[1;34m(self, path_or_buffer, engine, storage_options, engine_kwargs)\u001b[0m\n\u001b[0;32m   1548\u001b[0m     ext \u001b[38;5;241m=\u001b[39m \u001b[38;5;124m\"\u001b[39m\u001b[38;5;124mxls\u001b[39m\u001b[38;5;124m\"\u001b[39m\n\u001b[0;32m   1549\u001b[0m \u001b[38;5;28;01melse\u001b[39;00m:\n\u001b[1;32m-> 1550\u001b[0m     ext \u001b[38;5;241m=\u001b[39m inspect_excel_format(\n\u001b[0;32m   1551\u001b[0m         content_or_path\u001b[38;5;241m=\u001b[39mpath_or_buffer, storage_options\u001b[38;5;241m=\u001b[39mstorage_options\n\u001b[0;32m   1552\u001b[0m     )\n\u001b[0;32m   1553\u001b[0m     \u001b[38;5;28;01mif\u001b[39;00m ext \u001b[38;5;129;01mis\u001b[39;00m \u001b[38;5;28;01mNone\u001b[39;00m:\n\u001b[0;32m   1554\u001b[0m         \u001b[38;5;28;01mraise\u001b[39;00m \u001b[38;5;167;01mValueError\u001b[39;00m(\n\u001b[0;32m   1555\u001b[0m             \u001b[38;5;124m\"\u001b[39m\u001b[38;5;124mExcel file format cannot be determined, you must specify \u001b[39m\u001b[38;5;124m\"\u001b[39m\n\u001b[0;32m   1556\u001b[0m             \u001b[38;5;124m\"\u001b[39m\u001b[38;5;124man engine manually.\u001b[39m\u001b[38;5;124m\"\u001b[39m\n\u001b[0;32m   1557\u001b[0m         )\n",
      "File \u001b[1;32m~\\anaconda3\\Lib\\site-packages\\pandas\\io\\excel\\_base.py:1402\u001b[0m, in \u001b[0;36minspect_excel_format\u001b[1;34m(content_or_path, storage_options)\u001b[0m\n\u001b[0;32m   1399\u001b[0m \u001b[38;5;28;01mif\u001b[39;00m \u001b[38;5;28misinstance\u001b[39m(content_or_path, \u001b[38;5;28mbytes\u001b[39m):\n\u001b[0;32m   1400\u001b[0m     content_or_path \u001b[38;5;241m=\u001b[39m BytesIO(content_or_path)\n\u001b[1;32m-> 1402\u001b[0m \u001b[38;5;28;01mwith\u001b[39;00m get_handle(\n\u001b[0;32m   1403\u001b[0m     content_or_path, \u001b[38;5;124m\"\u001b[39m\u001b[38;5;124mrb\u001b[39m\u001b[38;5;124m\"\u001b[39m, storage_options\u001b[38;5;241m=\u001b[39mstorage_options, is_text\u001b[38;5;241m=\u001b[39m\u001b[38;5;28;01mFalse\u001b[39;00m\n\u001b[0;32m   1404\u001b[0m ) \u001b[38;5;28;01mas\u001b[39;00m handle:\n\u001b[0;32m   1405\u001b[0m     stream \u001b[38;5;241m=\u001b[39m handle\u001b[38;5;241m.\u001b[39mhandle\n\u001b[0;32m   1406\u001b[0m     stream\u001b[38;5;241m.\u001b[39mseek(\u001b[38;5;241m0\u001b[39m)\n",
      "File \u001b[1;32m~\\anaconda3\\Lib\\site-packages\\pandas\\io\\common.py:882\u001b[0m, in \u001b[0;36mget_handle\u001b[1;34m(path_or_buf, mode, encoding, compression, memory_map, is_text, errors, storage_options)\u001b[0m\n\u001b[0;32m    873\u001b[0m         handle \u001b[38;5;241m=\u001b[39m \u001b[38;5;28mopen\u001b[39m(\n\u001b[0;32m    874\u001b[0m             handle,\n\u001b[0;32m    875\u001b[0m             ioargs\u001b[38;5;241m.\u001b[39mmode,\n\u001b[1;32m   (...)\u001b[0m\n\u001b[0;32m    878\u001b[0m             newline\u001b[38;5;241m=\u001b[39m\u001b[38;5;124m\"\u001b[39m\u001b[38;5;124m\"\u001b[39m,\n\u001b[0;32m    879\u001b[0m         )\n\u001b[0;32m    880\u001b[0m     \u001b[38;5;28;01melse\u001b[39;00m:\n\u001b[0;32m    881\u001b[0m         \u001b[38;5;66;03m# Binary mode\u001b[39;00m\n\u001b[1;32m--> 882\u001b[0m         handle \u001b[38;5;241m=\u001b[39m \u001b[38;5;28mopen\u001b[39m(handle, ioargs\u001b[38;5;241m.\u001b[39mmode)\n\u001b[0;32m    883\u001b[0m     handles\u001b[38;5;241m.\u001b[39mappend(handle)\n\u001b[0;32m    885\u001b[0m \u001b[38;5;66;03m# Convert BytesIO or file objects passed with an encoding\u001b[39;00m\n",
      "\u001b[1;31mFileNotFoundError\u001b[0m: [Errno 2] No such file or directory: 'C:\\\\\\\\Users\\\\\\\\HP\\\\\\\\Downloads\\\\\\\\deliveries.xlsx'"
     ]
    }
   ],
   "source": [
    "df = pd.read_excel(r'C:\\\\Users\\\\HP\\\\Downloads\\\\deliveries.xlsx')"
   ]
  },
  {
   "cell_type": "code",
   "execution_count": 35,
   "id": "ed5921a1-c77d-4196-afe7-636d9dce404b",
   "metadata": {},
   "outputs": [],
   "source": [
    "import os"
   ]
  },
  {
   "cell_type": "code",
   "execution_count": 37,
   "id": "9143b218-8792-411c-ab36-3643bb2520ff",
   "metadata": {},
   "outputs": [
    {
     "ename": "FileNotFoundError",
     "evalue": "[WinError 3] The system cannot find the path specified: 'C:/user/HP/Downloads'",
     "output_type": "error",
     "traceback": [
      "\u001b[1;31m---------------------------------------------------------------------------\u001b[0m",
      "\u001b[1;31mFileNotFoundError\u001b[0m                         Traceback (most recent call last)",
      "Cell \u001b[1;32mIn[37], line 1\u001b[0m\n\u001b[1;32m----> 1\u001b[0m \u001b[38;5;28mprint\u001b[39m(os\u001b[38;5;241m.\u001b[39mlistdir(\u001b[38;5;124mr\u001b[39m\u001b[38;5;124m'\u001b[39m\u001b[38;5;124mC:/user/HP/Downloads\u001b[39m\u001b[38;5;124m'\u001b[39m))\n",
      "\u001b[1;31mFileNotFoundError\u001b[0m: [WinError 3] The system cannot find the path specified: 'C:/user/HP/Downloads'"
     ]
    }
   ],
   "source": [
    "print(os.listdir(r'C:/user/HP/Downloads'))"
   ]
  },
  {
   "cell_type": "code",
   "execution_count": 39,
   "id": "93cb3ae2-3616-4750-bc86-e374cfbe5cb2",
   "metadata": {},
   "outputs": [],
   "source": [
    "df = pd.read_csv(r'C:\\\\Users\\\\HP\\\\Downloads\\\\deliveries.csv')"
   ]
  },
  {
   "cell_type": "code",
   "execution_count": 41,
   "id": "ef9f972c-3268-4476-94a8-2900b723c1c2",
   "metadata": {},
   "outputs": [
    {
     "name": "stdout",
     "output_type": "stream",
     "text": [
      "   match_id  inning           batting_team                 bowling_team  over  \\\n",
      "0    335982       1  Kolkata Knight Riders  Royal Challengers Bangalore     0   \n",
      "1    335982       1  Kolkata Knight Riders  Royal Challengers Bangalore     0   \n",
      "2    335982       1  Kolkata Knight Riders  Royal Challengers Bangalore     0   \n",
      "3    335982       1  Kolkata Knight Riders  Royal Challengers Bangalore     0   \n",
      "4    335982       1  Kolkata Knight Riders  Royal Challengers Bangalore     0   \n",
      "\n",
      "   ball       batter   bowler  non_striker  batsman_runs  extra_runs  \\\n",
      "0     1   SC Ganguly  P Kumar  BB McCullum             0           1   \n",
      "1     2  BB McCullum  P Kumar   SC Ganguly             0           0   \n",
      "2     3  BB McCullum  P Kumar   SC Ganguly             0           1   \n",
      "3     4  BB McCullum  P Kumar   SC Ganguly             0           0   \n",
      "4     5  BB McCullum  P Kumar   SC Ganguly             0           0   \n",
      "\n",
      "   total_runs extras_type  is_wicket player_dismissed dismissal_kind fielder  \n",
      "0           1     legbyes          0              NaN            NaN     NaN  \n",
      "1           0         NaN          0              NaN            NaN     NaN  \n",
      "2           1       wides          0              NaN            NaN     NaN  \n",
      "3           0         NaN          0              NaN            NaN     NaN  \n",
      "4           0         NaN          0              NaN            NaN     NaN  \n"
     ]
    }
   ],
   "source": [
    "print(df.head())"
   ]
  },
  {
   "cell_type": "code",
   "execution_count": 43,
   "id": "32b6e96c-8d36-455d-966b-73caaf81911f",
   "metadata": {},
   "outputs": [
    {
     "name": "stdout",
     "output_type": "stream",
     "text": [
      "        match_id  inning           batting_team                 bowling_team  \\\n",
      "0         335982       1  Kolkata Knight Riders  Royal Challengers Bangalore   \n",
      "1         335982       1  Kolkata Knight Riders  Royal Challengers Bangalore   \n",
      "2         335982       1  Kolkata Knight Riders  Royal Challengers Bangalore   \n",
      "3         335982       1  Kolkata Knight Riders  Royal Challengers Bangalore   \n",
      "4         335982       1  Kolkata Knight Riders  Royal Challengers Bangalore   \n",
      "...          ...     ...                    ...                          ...   \n",
      "260915   1426312       2  Kolkata Knight Riders          Sunrisers Hyderabad   \n",
      "260916   1426312       2  Kolkata Knight Riders          Sunrisers Hyderabad   \n",
      "260917   1426312       2  Kolkata Knight Riders          Sunrisers Hyderabad   \n",
      "260918   1426312       2  Kolkata Knight Riders          Sunrisers Hyderabad   \n",
      "260919   1426312       2  Kolkata Knight Riders          Sunrisers Hyderabad   \n",
      "\n",
      "        over  ball       batter         bowler  non_striker  batsman_runs  \\\n",
      "0          0     1   SC Ganguly        P Kumar  BB McCullum             0   \n",
      "1          0     2  BB McCullum        P Kumar   SC Ganguly             0   \n",
      "2          0     3  BB McCullum        P Kumar   SC Ganguly             0   \n",
      "3          0     4  BB McCullum        P Kumar   SC Ganguly             0   \n",
      "4          0     5  BB McCullum        P Kumar   SC Ganguly             0   \n",
      "...      ...   ...          ...            ...          ...           ...   \n",
      "260915     9     5      SS Iyer     AK Markram      VR Iyer             1   \n",
      "260916     9     6      VR Iyer     AK Markram      SS Iyer             1   \n",
      "260917    10     1      VR Iyer  Shahbaz Ahmed      SS Iyer             1   \n",
      "260918    10     2      SS Iyer  Shahbaz Ahmed      VR Iyer             1   \n",
      "260919    10     3      VR Iyer  Shahbaz Ahmed      SS Iyer             1   \n",
      "\n",
      "        extra_runs  total_runs extras_type  is_wicket player_dismissed  \\\n",
      "0                1           1     legbyes          0              NaN   \n",
      "1                0           0         NaN          0              NaN   \n",
      "2                1           1       wides          0              NaN   \n",
      "3                0           0         NaN          0              NaN   \n",
      "4                0           0         NaN          0              NaN   \n",
      "...            ...         ...         ...        ...              ...   \n",
      "260915           0           1         NaN          0              NaN   \n",
      "260916           0           1         NaN          0              NaN   \n",
      "260917           0           1         NaN          0              NaN   \n",
      "260918           0           1         NaN          0              NaN   \n",
      "260919           0           1         NaN          0              NaN   \n",
      "\n",
      "       dismissal_kind fielder  \n",
      "0                 NaN     NaN  \n",
      "1                 NaN     NaN  \n",
      "2                 NaN     NaN  \n",
      "3                 NaN     NaN  \n",
      "4                 NaN     NaN  \n",
      "...               ...     ...  \n",
      "260915            NaN     NaN  \n",
      "260916            NaN     NaN  \n",
      "260917            NaN     NaN  \n",
      "260918            NaN     NaN  \n",
      "260919            NaN     NaN  \n",
      "\n",
      "[260920 rows x 17 columns]\n"
     ]
    }
   ],
   "source": [
    "print(df)"
   ]
  },
  {
   "cell_type": "code",
   "execution_count": 45,
   "id": "48de13fd-8fef-491a-8680-85961cb23aad",
   "metadata": {},
   "outputs": [
    {
     "data": {
      "text/html": [
       "<div>\n",
       "<style scoped>\n",
       "    .dataframe tbody tr th:only-of-type {\n",
       "        vertical-align: middle;\n",
       "    }\n",
       "\n",
       "    .dataframe tbody tr th {\n",
       "        vertical-align: top;\n",
       "    }\n",
       "\n",
       "    .dataframe thead th {\n",
       "        text-align: right;\n",
       "    }\n",
       "</style>\n",
       "<table border=\"1\" class=\"dataframe\">\n",
       "  <thead>\n",
       "    <tr style=\"text-align: right;\">\n",
       "      <th></th>\n",
       "      <th>match_id</th>\n",
       "      <th>inning</th>\n",
       "      <th>batting_team</th>\n",
       "      <th>bowling_team</th>\n",
       "      <th>over</th>\n",
       "      <th>ball</th>\n",
       "      <th>batter</th>\n",
       "      <th>bowler</th>\n",
       "      <th>non_striker</th>\n",
       "      <th>batsman_runs</th>\n",
       "      <th>extra_runs</th>\n",
       "      <th>total_runs</th>\n",
       "      <th>extras_type</th>\n",
       "      <th>is_wicket</th>\n",
       "      <th>player_dismissed</th>\n",
       "      <th>dismissal_kind</th>\n",
       "      <th>fielder</th>\n",
       "    </tr>\n",
       "  </thead>\n",
       "  <tbody>\n",
       "    <tr>\n",
       "      <th>0</th>\n",
       "      <td>335982</td>\n",
       "      <td>1</td>\n",
       "      <td>Kolkata Knight Riders</td>\n",
       "      <td>Royal Challengers Bangalore</td>\n",
       "      <td>0</td>\n",
       "      <td>1</td>\n",
       "      <td>SC Ganguly</td>\n",
       "      <td>P Kumar</td>\n",
       "      <td>BB McCullum</td>\n",
       "      <td>0</td>\n",
       "      <td>1</td>\n",
       "      <td>1</td>\n",
       "      <td>legbyes</td>\n",
       "      <td>0</td>\n",
       "      <td>NaN</td>\n",
       "      <td>NaN</td>\n",
       "      <td>NaN</td>\n",
       "    </tr>\n",
       "    <tr>\n",
       "      <th>1</th>\n",
       "      <td>335982</td>\n",
       "      <td>1</td>\n",
       "      <td>Kolkata Knight Riders</td>\n",
       "      <td>Royal Challengers Bangalore</td>\n",
       "      <td>0</td>\n",
       "      <td>2</td>\n",
       "      <td>BB McCullum</td>\n",
       "      <td>P Kumar</td>\n",
       "      <td>SC Ganguly</td>\n",
       "      <td>0</td>\n",
       "      <td>0</td>\n",
       "      <td>0</td>\n",
       "      <td>NaN</td>\n",
       "      <td>0</td>\n",
       "      <td>NaN</td>\n",
       "      <td>NaN</td>\n",
       "      <td>NaN</td>\n",
       "    </tr>\n",
       "    <tr>\n",
       "      <th>2</th>\n",
       "      <td>335982</td>\n",
       "      <td>1</td>\n",
       "      <td>Kolkata Knight Riders</td>\n",
       "      <td>Royal Challengers Bangalore</td>\n",
       "      <td>0</td>\n",
       "      <td>3</td>\n",
       "      <td>BB McCullum</td>\n",
       "      <td>P Kumar</td>\n",
       "      <td>SC Ganguly</td>\n",
       "      <td>0</td>\n",
       "      <td>1</td>\n",
       "      <td>1</td>\n",
       "      <td>wides</td>\n",
       "      <td>0</td>\n",
       "      <td>NaN</td>\n",
       "      <td>NaN</td>\n",
       "      <td>NaN</td>\n",
       "    </tr>\n",
       "    <tr>\n",
       "      <th>3</th>\n",
       "      <td>335982</td>\n",
       "      <td>1</td>\n",
       "      <td>Kolkata Knight Riders</td>\n",
       "      <td>Royal Challengers Bangalore</td>\n",
       "      <td>0</td>\n",
       "      <td>4</td>\n",
       "      <td>BB McCullum</td>\n",
       "      <td>P Kumar</td>\n",
       "      <td>SC Ganguly</td>\n",
       "      <td>0</td>\n",
       "      <td>0</td>\n",
       "      <td>0</td>\n",
       "      <td>NaN</td>\n",
       "      <td>0</td>\n",
       "      <td>NaN</td>\n",
       "      <td>NaN</td>\n",
       "      <td>NaN</td>\n",
       "    </tr>\n",
       "    <tr>\n",
       "      <th>4</th>\n",
       "      <td>335982</td>\n",
       "      <td>1</td>\n",
       "      <td>Kolkata Knight Riders</td>\n",
       "      <td>Royal Challengers Bangalore</td>\n",
       "      <td>0</td>\n",
       "      <td>5</td>\n",
       "      <td>BB McCullum</td>\n",
       "      <td>P Kumar</td>\n",
       "      <td>SC Ganguly</td>\n",
       "      <td>0</td>\n",
       "      <td>0</td>\n",
       "      <td>0</td>\n",
       "      <td>NaN</td>\n",
       "      <td>0</td>\n",
       "      <td>NaN</td>\n",
       "      <td>NaN</td>\n",
       "      <td>NaN</td>\n",
       "    </tr>\n",
       "    <tr>\n",
       "      <th>...</th>\n",
       "      <td>...</td>\n",
       "      <td>...</td>\n",
       "      <td>...</td>\n",
       "      <td>...</td>\n",
       "      <td>...</td>\n",
       "      <td>...</td>\n",
       "      <td>...</td>\n",
       "      <td>...</td>\n",
       "      <td>...</td>\n",
       "      <td>...</td>\n",
       "      <td>...</td>\n",
       "      <td>...</td>\n",
       "      <td>...</td>\n",
       "      <td>...</td>\n",
       "      <td>...</td>\n",
       "      <td>...</td>\n",
       "      <td>...</td>\n",
       "    </tr>\n",
       "    <tr>\n",
       "      <th>260915</th>\n",
       "      <td>1426312</td>\n",
       "      <td>2</td>\n",
       "      <td>Kolkata Knight Riders</td>\n",
       "      <td>Sunrisers Hyderabad</td>\n",
       "      <td>9</td>\n",
       "      <td>5</td>\n",
       "      <td>SS Iyer</td>\n",
       "      <td>AK Markram</td>\n",
       "      <td>VR Iyer</td>\n",
       "      <td>1</td>\n",
       "      <td>0</td>\n",
       "      <td>1</td>\n",
       "      <td>NaN</td>\n",
       "      <td>0</td>\n",
       "      <td>NaN</td>\n",
       "      <td>NaN</td>\n",
       "      <td>NaN</td>\n",
       "    </tr>\n",
       "    <tr>\n",
       "      <th>260916</th>\n",
       "      <td>1426312</td>\n",
       "      <td>2</td>\n",
       "      <td>Kolkata Knight Riders</td>\n",
       "      <td>Sunrisers Hyderabad</td>\n",
       "      <td>9</td>\n",
       "      <td>6</td>\n",
       "      <td>VR Iyer</td>\n",
       "      <td>AK Markram</td>\n",
       "      <td>SS Iyer</td>\n",
       "      <td>1</td>\n",
       "      <td>0</td>\n",
       "      <td>1</td>\n",
       "      <td>NaN</td>\n",
       "      <td>0</td>\n",
       "      <td>NaN</td>\n",
       "      <td>NaN</td>\n",
       "      <td>NaN</td>\n",
       "    </tr>\n",
       "    <tr>\n",
       "      <th>260917</th>\n",
       "      <td>1426312</td>\n",
       "      <td>2</td>\n",
       "      <td>Kolkata Knight Riders</td>\n",
       "      <td>Sunrisers Hyderabad</td>\n",
       "      <td>10</td>\n",
       "      <td>1</td>\n",
       "      <td>VR Iyer</td>\n",
       "      <td>Shahbaz Ahmed</td>\n",
       "      <td>SS Iyer</td>\n",
       "      <td>1</td>\n",
       "      <td>0</td>\n",
       "      <td>1</td>\n",
       "      <td>NaN</td>\n",
       "      <td>0</td>\n",
       "      <td>NaN</td>\n",
       "      <td>NaN</td>\n",
       "      <td>NaN</td>\n",
       "    </tr>\n",
       "    <tr>\n",
       "      <th>260918</th>\n",
       "      <td>1426312</td>\n",
       "      <td>2</td>\n",
       "      <td>Kolkata Knight Riders</td>\n",
       "      <td>Sunrisers Hyderabad</td>\n",
       "      <td>10</td>\n",
       "      <td>2</td>\n",
       "      <td>SS Iyer</td>\n",
       "      <td>Shahbaz Ahmed</td>\n",
       "      <td>VR Iyer</td>\n",
       "      <td>1</td>\n",
       "      <td>0</td>\n",
       "      <td>1</td>\n",
       "      <td>NaN</td>\n",
       "      <td>0</td>\n",
       "      <td>NaN</td>\n",
       "      <td>NaN</td>\n",
       "      <td>NaN</td>\n",
       "    </tr>\n",
       "    <tr>\n",
       "      <th>260919</th>\n",
       "      <td>1426312</td>\n",
       "      <td>2</td>\n",
       "      <td>Kolkata Knight Riders</td>\n",
       "      <td>Sunrisers Hyderabad</td>\n",
       "      <td>10</td>\n",
       "      <td>3</td>\n",
       "      <td>VR Iyer</td>\n",
       "      <td>Shahbaz Ahmed</td>\n",
       "      <td>SS Iyer</td>\n",
       "      <td>1</td>\n",
       "      <td>0</td>\n",
       "      <td>1</td>\n",
       "      <td>NaN</td>\n",
       "      <td>0</td>\n",
       "      <td>NaN</td>\n",
       "      <td>NaN</td>\n",
       "      <td>NaN</td>\n",
       "    </tr>\n",
       "  </tbody>\n",
       "</table>\n",
       "<p>260920 rows × 17 columns</p>\n",
       "</div>"
      ],
      "text/plain": [
       "        match_id  inning           batting_team                 bowling_team  \\\n",
       "0         335982       1  Kolkata Knight Riders  Royal Challengers Bangalore   \n",
       "1         335982       1  Kolkata Knight Riders  Royal Challengers Bangalore   \n",
       "2         335982       1  Kolkata Knight Riders  Royal Challengers Bangalore   \n",
       "3         335982       1  Kolkata Knight Riders  Royal Challengers Bangalore   \n",
       "4         335982       1  Kolkata Knight Riders  Royal Challengers Bangalore   \n",
       "...          ...     ...                    ...                          ...   \n",
       "260915   1426312       2  Kolkata Knight Riders          Sunrisers Hyderabad   \n",
       "260916   1426312       2  Kolkata Knight Riders          Sunrisers Hyderabad   \n",
       "260917   1426312       2  Kolkata Knight Riders          Sunrisers Hyderabad   \n",
       "260918   1426312       2  Kolkata Knight Riders          Sunrisers Hyderabad   \n",
       "260919   1426312       2  Kolkata Knight Riders          Sunrisers Hyderabad   \n",
       "\n",
       "        over  ball       batter         bowler  non_striker  batsman_runs  \\\n",
       "0          0     1   SC Ganguly        P Kumar  BB McCullum             0   \n",
       "1          0     2  BB McCullum        P Kumar   SC Ganguly             0   \n",
       "2          0     3  BB McCullum        P Kumar   SC Ganguly             0   \n",
       "3          0     4  BB McCullum        P Kumar   SC Ganguly             0   \n",
       "4          0     5  BB McCullum        P Kumar   SC Ganguly             0   \n",
       "...      ...   ...          ...            ...          ...           ...   \n",
       "260915     9     5      SS Iyer     AK Markram      VR Iyer             1   \n",
       "260916     9     6      VR Iyer     AK Markram      SS Iyer             1   \n",
       "260917    10     1      VR Iyer  Shahbaz Ahmed      SS Iyer             1   \n",
       "260918    10     2      SS Iyer  Shahbaz Ahmed      VR Iyer             1   \n",
       "260919    10     3      VR Iyer  Shahbaz Ahmed      SS Iyer             1   \n",
       "\n",
       "        extra_runs  total_runs extras_type  is_wicket player_dismissed  \\\n",
       "0                1           1     legbyes          0              NaN   \n",
       "1                0           0         NaN          0              NaN   \n",
       "2                1           1       wides          0              NaN   \n",
       "3                0           0         NaN          0              NaN   \n",
       "4                0           0         NaN          0              NaN   \n",
       "...            ...         ...         ...        ...              ...   \n",
       "260915           0           1         NaN          0              NaN   \n",
       "260916           0           1         NaN          0              NaN   \n",
       "260917           0           1         NaN          0              NaN   \n",
       "260918           0           1         NaN          0              NaN   \n",
       "260919           0           1         NaN          0              NaN   \n",
       "\n",
       "       dismissal_kind fielder  \n",
       "0                 NaN     NaN  \n",
       "1                 NaN     NaN  \n",
       "2                 NaN     NaN  \n",
       "3                 NaN     NaN  \n",
       "4                 NaN     NaN  \n",
       "...               ...     ...  \n",
       "260915            NaN     NaN  \n",
       "260916            NaN     NaN  \n",
       "260917            NaN     NaN  \n",
       "260918            NaN     NaN  \n",
       "260919            NaN     NaN  \n",
       "\n",
       "[260920 rows x 17 columns]"
      ]
     },
     "execution_count": 45,
     "metadata": {},
     "output_type": "execute_result"
    }
   ],
   "source": [
    "df"
   ]
  },
  {
   "cell_type": "code",
   "execution_count": 47,
   "id": "6a0f4109-5ee0-4419-a878-72f308fd935d",
   "metadata": {},
   "outputs": [
    {
     "name": "stdout",
     "output_type": "stream",
     "text": [
      "   match_id  inning           batting_team                 bowling_team  over  \\\n",
      "0    335982       1  Kolkata Knight Riders  Royal Challengers Bangalore     0   \n",
      "1    335982       1  Kolkata Knight Riders  Royal Challengers Bangalore     0   \n",
      "2    335982       1  Kolkata Knight Riders  Royal Challengers Bangalore     0   \n",
      "3    335982       1  Kolkata Knight Riders  Royal Challengers Bangalore     0   \n",
      "4    335982       1  Kolkata Knight Riders  Royal Challengers Bangalore     0   \n",
      "\n",
      "   ball       batter   bowler  non_striker  batsman_runs  extra_runs  \\\n",
      "0     1   SC Ganguly  P Kumar  BB McCullum             0           1   \n",
      "1     2  BB McCullum  P Kumar   SC Ganguly             0           0   \n",
      "2     3  BB McCullum  P Kumar   SC Ganguly             0           1   \n",
      "3     4  BB McCullum  P Kumar   SC Ganguly             0           0   \n",
      "4     5  BB McCullum  P Kumar   SC Ganguly             0           0   \n",
      "\n",
      "   total_runs extras_type  is_wicket player_dismissed dismissal_kind fielder  \n",
      "0           1     legbyes          0              NaN            NaN     NaN  \n",
      "1           0         NaN          0              NaN            NaN     NaN  \n",
      "2           1       wides          0              NaN            NaN     NaN  \n",
      "3           0         NaN          0              NaN            NaN     NaN  \n",
      "4           0         NaN          0              NaN            NaN     NaN  \n"
     ]
    }
   ],
   "source": [
    "print(df.head()) #Displays first 5 rows"
   ]
  },
  {
   "cell_type": "code",
   "execution_count": 49,
   "id": "23e58e56-2b07-43ec-ad98-9bcee2724083",
   "metadata": {},
   "outputs": [
    {
     "name": "stdout",
     "output_type": "stream",
     "text": [
      "(260920, 17)\n"
     ]
    }
   ],
   "source": [
    "print(df.shape) # returns number or rows an dcolumns"
   ]
  },
  {
   "cell_type": "code",
   "execution_count": 51,
   "id": "01449803-ecc9-4372-bbb4-58841fa84292",
   "metadata": {},
   "outputs": [
    {
     "name": "stdout",
     "output_type": "stream",
     "text": [
      "<class 'pandas.core.frame.DataFrame'>\n",
      "RangeIndex: 260920 entries, 0 to 260919\n",
      "Data columns (total 17 columns):\n",
      " #   Column            Non-Null Count   Dtype \n",
      "---  ------            --------------   ----- \n",
      " 0   match_id          260920 non-null  int64 \n",
      " 1   inning            260920 non-null  int64 \n",
      " 2   batting_team      260920 non-null  object\n",
      " 3   bowling_team      260920 non-null  object\n",
      " 4   over              260920 non-null  int64 \n",
      " 5   ball              260920 non-null  int64 \n",
      " 6   batter            260920 non-null  object\n",
      " 7   bowler            260920 non-null  object\n",
      " 8   non_striker       260920 non-null  object\n",
      " 9   batsman_runs      260920 non-null  int64 \n",
      " 10  extra_runs        260920 non-null  int64 \n",
      " 11  total_runs        260920 non-null  int64 \n",
      " 12  extras_type       14125 non-null   object\n",
      " 13  is_wicket         260920 non-null  int64 \n",
      " 14  player_dismissed  12950 non-null   object\n",
      " 15  dismissal_kind    12950 non-null   object\n",
      " 16  fielder           9354 non-null    object\n",
      "dtypes: int64(8), object(9)\n",
      "memory usage: 33.8+ MB\n",
      "None\n"
     ]
    }
   ],
   "source": [
    "print(df.info()) # shows data types an non-null counts"
   ]
  },
  {
   "cell_type": "code",
   "execution_count": 53,
   "id": "556521e9-1d78-45cb-a03b-4b7315814ba0",
   "metadata": {},
   "outputs": [
    {
     "name": "stdout",
     "output_type": "stream",
     "text": [
      "           match_id         inning           over           ball  \\\n",
      "count  2.609200e+05  260920.000000  260920.000000  260920.000000   \n",
      "mean   9.070665e+05       1.483531       9.197677       3.624486   \n",
      "std    3.679913e+05       0.502643       5.683484       1.814920   \n",
      "min    3.359820e+05       1.000000       0.000000       1.000000   \n",
      "25%    5.483340e+05       1.000000       4.000000       2.000000   \n",
      "50%    9.809670e+05       1.000000       9.000000       4.000000   \n",
      "75%    1.254066e+06       2.000000      14.000000       5.000000   \n",
      "max    1.426312e+06       6.000000      19.000000      11.000000   \n",
      "\n",
      "        batsman_runs     extra_runs     total_runs      is_wicket  \n",
      "count  260920.000000  260920.000000  260920.000000  260920.000000  \n",
      "mean        1.265001       0.067806       1.332807       0.049632  \n",
      "std         1.639298       0.343265       1.626416       0.217184  \n",
      "min         0.000000       0.000000       0.000000       0.000000  \n",
      "25%         0.000000       0.000000       0.000000       0.000000  \n",
      "50%         1.000000       0.000000       1.000000       0.000000  \n",
      "75%         1.000000       0.000000       1.000000       0.000000  \n",
      "max         6.000000       7.000000       7.000000       1.000000  \n"
     ]
    }
   ],
   "source": [
    "print(df.describe())  # provides statistical insights like mean, min , max "
   ]
  },
  {
   "cell_type": "code",
   "execution_count": 55,
   "id": "6f0cac92-30ad-46e2-85a5-8962f7fbfdf1",
   "metadata": {},
   "outputs": [
    {
     "name": "stdout",
     "output_type": "stream",
     "text": [
      "match_id                 0\n",
      "inning                   0\n",
      "batting_team             0\n",
      "bowling_team             0\n",
      "over                     0\n",
      "ball                     0\n",
      "batter                   0\n",
      "bowler                   0\n",
      "non_striker              0\n",
      "batsman_runs             0\n",
      "extra_runs               0\n",
      "total_runs               0\n",
      "extras_type         246795\n",
      "is_wicket                0\n",
      "player_dismissed    247970\n",
      "dismissal_kind      247970\n",
      "fielder             251566\n",
      "dtype: int64\n"
     ]
    }
   ],
   "source": [
    "print(df.isnull().sum()) # Check for missing values"
   ]
  },
  {
   "cell_type": "code",
   "execution_count": 57,
   "id": "1fd34e6e-4514-4371-959e-8af48dcd10b7",
   "metadata": {},
   "outputs": [
    {
     "name": "stderr",
     "output_type": "stream",
     "text": [
      "C:\\Users\\HP\\AppData\\Local\\Temp\\ipykernel_16336\\144923108.py:1: FutureWarning: A value is trying to be set on a copy of a DataFrame or Series through chained assignment using an inplace method.\n",
      "The behavior will change in pandas 3.0. This inplace method will never work because the intermediate object on which we are setting values always behaves as a copy.\n",
      "\n",
      "For example, when doing 'df[col].method(value, inplace=True)', try using 'df.method({col: value}, inplace=True)' or df[col] = df[col].method(value) instead, to perform the operation inplace on the original object.\n",
      "\n",
      "\n",
      "  df['player_dismissed'].fillna('Not Out', inplace=True) # If its a cricket match, 'Nowt Out' could be a placeholder.\n"
     ]
    }
   ],
   "source": [
    "df['player_dismissed'].fillna('Not Out', inplace=True) # If its a cricket match, 'Nowt Out' could be a placeholder.\n",
    "df.dropna(subset=['batter', 'bowler'], inplace=True) #Drop rows where key match details are missing "
   ]
  },
  {
   "cell_type": "code",
   "execution_count": 77,
   "id": "dd3b4065-a999-4c8b-a6f8-bae6621081d7",
   "metadata": {},
   "outputs": [
    {
     "name": "stdout",
     "output_type": "stream",
     "text": [
      "        match_id  inning           batting_team                 bowling_team  \\\n",
      "8         335982       1  Kolkata Knight Riders  Royal Challengers Bangalore   \n",
      "9         335982       1  Kolkata Knight Riders  Royal Challengers Bangalore   \n",
      "10        335982       1  Kolkata Knight Riders  Royal Challengers Bangalore   \n",
      "11        335982       1  Kolkata Knight Riders  Royal Challengers Bangalore   \n",
      "16        335982       1  Kolkata Knight Riders  Royal Challengers Bangalore   \n",
      "...          ...     ...                    ...                          ...   \n",
      "260915   1426312       2  Kolkata Knight Riders          Sunrisers Hyderabad   \n",
      "260916   1426312       2  Kolkata Knight Riders          Sunrisers Hyderabad   \n",
      "260917   1426312       2  Kolkata Knight Riders          Sunrisers Hyderabad   \n",
      "260918   1426312       2  Kolkata Knight Riders          Sunrisers Hyderabad   \n",
      "260919   1426312       2  Kolkata Knight Riders          Sunrisers Hyderabad   \n",
      "\n",
      "        over  ball       batter         bowler non_striker  batsman_runs  \\\n",
      "8          1     2  BB McCullum         Z Khan  SC Ganguly             4   \n",
      "9          1     3  BB McCullum         Z Khan  SC Ganguly             4   \n",
      "10         1     4  BB McCullum         Z Khan  SC Ganguly             6   \n",
      "11         1     5  BB McCullum         Z Khan  SC Ganguly             4   \n",
      "16         2     4  BB McCullum        P Kumar  SC Ganguly             4   \n",
      "...      ...   ...          ...            ...         ...           ...   \n",
      "260915     9     5      SS Iyer     AK Markram     VR Iyer             1   \n",
      "260916     9     6      VR Iyer     AK Markram     SS Iyer             1   \n",
      "260917    10     1      VR Iyer  Shahbaz Ahmed     SS Iyer             1   \n",
      "260918    10     2      SS Iyer  Shahbaz Ahmed     VR Iyer             1   \n",
      "260919    10     3      VR Iyer  Shahbaz Ahmed     SS Iyer             1   \n",
      "\n",
      "        extra_runs  total_runs extras_type  is_wicket player_dismissed  \\\n",
      "8                0           4         NaN          0          Not Out   \n",
      "9                0           4         NaN          0          Not Out   \n",
      "10               0           6         NaN          0          Not Out   \n",
      "11               0           4         NaN          0          Not Out   \n",
      "16               0           4         NaN          0          Not Out   \n",
      "...            ...         ...         ...        ...              ...   \n",
      "260915           0           1         NaN          0          Not Out   \n",
      "260916           0           1         NaN          0          Not Out   \n",
      "260917           0           1         NaN          0          Not Out   \n",
      "260918           0           1         NaN          0          Not Out   \n",
      "260919           0           1         NaN          0          Not Out   \n",
      "\n",
      "       dismissal_kind fielder  \n",
      "8                 NaN     NaN  \n",
      "9                 NaN     NaN  \n",
      "10                NaN     NaN  \n",
      "11                NaN     NaN  \n",
      "16                NaN     NaN  \n",
      "...               ...     ...  \n",
      "260915            NaN     NaN  \n",
      "260916            NaN     NaN  \n",
      "260917            NaN     NaN  \n",
      "260918            NaN     NaN  \n",
      "260919            NaN     NaN  \n",
      "\n",
      "[156980 rows x 17 columns]\n"
     ]
    }
   ],
   "source": [
    "df_batsman_runs = df[df['batsman_runs']>0]\n",
    "print(df_batsman_runs)"
   ]
  },
  {
   "cell_type": "code",
   "execution_count": 80,
   "id": "b0440b50-dc1e-4b45-92ec-d806e1038551",
   "metadata": {},
   "outputs": [
    {
     "name": "stdout",
     "output_type": "stream",
     "text": [
      "      match_id                 batting_team  total_runs\n",
      "0       335982        Kolkata Knight Riders         222\n",
      "1       335982  Royal Challengers Bangalore          82\n",
      "2       335983          Chennai Super Kings         240\n",
      "3       335983              Kings XI Punjab         207\n",
      "4       335984             Delhi Daredevils         132\n",
      "...        ...                          ...         ...\n",
      "2182   1426310  Royal Challengers Bengaluru         172\n",
      "2183   1426311             Rajasthan Royals         139\n",
      "2184   1426311          Sunrisers Hyderabad         175\n",
      "2185   1426312        Kolkata Knight Riders         114\n",
      "2186   1426312          Sunrisers Hyderabad         113\n",
      "\n",
      "[2187 rows x 3 columns]\n"
     ]
    }
   ],
   "source": [
    "total_runs_by_team = df.groupby(['match_id', 'batting_team'])['total_runs'].sum().reset_index()\n",
    "print(total_runs_by_team) # to find total runs scored by each team in each match"
   ]
  },
  {
   "cell_type": "code",
   "execution_count": 82,
   "id": "b3d906f2-51d7-4551-aac6-7cb4e38e086e",
   "metadata": {},
   "outputs": [
    {
     "name": "stdout",
     "output_type": "stream",
     "text": [
      "             bowler  is_wicket\n",
      "0    A Ashish Reddy         19\n",
      "1          A Badoni          2\n",
      "2        A Chandila         11\n",
      "3       A Choudhary          5\n",
      "4        A Flintoff          2\n",
      "..              ...        ...\n",
      "450      Yash Dayal         31\n",
      "451     Yash Thakur         27\n",
      "452   Yudhvir Singh          4\n",
      "453    Yuvraj Singh         39\n",
      "454          Z Khan        119\n",
      "\n",
      "[455 rows x 2 columns]\n"
     ]
    }
   ],
   "source": [
    "wickets_by_bowler = df[df['is_wicket'] == 1].groupby('bowler')['is_wicket'].count().reset_index()\n",
    "print(wickets_by_bowler)"
   ]
  },
  {
   "cell_type": "code",
   "execution_count": 16,
   "id": "ab81c65d-8759-4d98-ab15-e5e145819833",
   "metadata": {},
   "outputs": [],
   "source": [
    "import pandas as pd"
   ]
  },
  {
   "cell_type": "code",
   "execution_count": 18,
   "id": "022515d3-7ed4-4282-b625-3e2fbffbee1d",
   "metadata": {},
   "outputs": [],
   "source": [
    "df = pd.read_csv('deliveries.csv')"
   ]
  },
  {
   "cell_type": "code",
   "execution_count": 20,
   "id": "fe86c6f4-96ca-442b-89bd-3df1c96348f7",
   "metadata": {},
   "outputs": [
    {
     "name": "stdout",
     "output_type": "stream",
     "text": [
      "   match_id  inning           batting_team                 bowling_team  over  \\\n",
      "0    335982       1  Kolkata Knight Riders  Royal Challengers Bangalore     0   \n",
      "1    335982       1  Kolkata Knight Riders  Royal Challengers Bangalore     0   \n",
      "2    335982       1  Kolkata Knight Riders  Royal Challengers Bangalore     0   \n",
      "3    335982       1  Kolkata Knight Riders  Royal Challengers Bangalore     0   \n",
      "4    335982       1  Kolkata Knight Riders  Royal Challengers Bangalore     0   \n",
      "\n",
      "   ball       batter   bowler  non_striker  batsman_runs  extra_runs  \\\n",
      "0     1   SC Ganguly  P Kumar  BB McCullum             0           1   \n",
      "1     2  BB McCullum  P Kumar   SC Ganguly             0           0   \n",
      "2     3  BB McCullum  P Kumar   SC Ganguly             0           1   \n",
      "3     4  BB McCullum  P Kumar   SC Ganguly             0           0   \n",
      "4     5  BB McCullum  P Kumar   SC Ganguly             0           0   \n",
      "\n",
      "   total_runs extras_type  is_wicket player_dismissed dismissal_kind fielder  \n",
      "0           1     legbyes          0              NaN            NaN     NaN  \n",
      "1           0         NaN          0              NaN            NaN     NaN  \n",
      "2           1       wides          0              NaN            NaN     NaN  \n",
      "3           0         NaN          0              NaN            NaN     NaN  \n",
      "4           0         NaN          0              NaN            NaN     NaN  \n"
     ]
    }
   ],
   "source": [
    "print(df.head())"
   ]
  },
  {
   "cell_type": "code",
   "execution_count": 22,
   "id": "043ba06a-f804-43d3-b143-73f46a8a8e3f",
   "metadata": {},
   "outputs": [],
   "source": [
    "from scipy.stats import mode"
   ]
  },
  {
   "cell_type": "code",
   "execution_count": 24,
   "id": "44284190-49f5-4ff0-8071-44c810671207",
   "metadata": {},
   "outputs": [],
   "source": [
    "# To calculate the mean runs scored by players"
   ]
  },
  {
   "cell_type": "code",
   "execution_count": 30,
   "id": "e759da83-b9d0-4c5a-994d-67df68dd24b0",
   "metadata": {},
   "outputs": [
    {
     "name": "stdout",
     "output_type": "stream",
     "text": [
      "Mean runs scored by players: 490.4368499257058\n"
     ]
    }
   ],
   "source": [
    "runs_by_player = df.groupby('batter')['batsman_runs'].sum()\n",
    "mean_runs_player = runs_by_player.mean()\n",
    "print(f'Mean runs scored by players: {mean_runs_player}')"
   ]
  },
  {
   "cell_type": "code",
   "execution_count": 32,
   "id": "774c504e-ba4a-412a-af7b-e264ea371328",
   "metadata": {},
   "outputs": [],
   "source": [
    "#Calculate Mean runs scored by teams"
   ]
  },
  {
   "cell_type": "code",
   "execution_count": null,
   "id": "428e17b7-c122-4339-b795-671c55ca9eaa",
   "metadata": {},
   "outputs": [],
   "source": []
  },
  {
   "cell_type": "code",
   "execution_count": 36,
   "id": "7ffb1ddb-8163-455f-96c7-9ebdd79907cc",
   "metadata": {},
   "outputs": [
    {
     "name": "stdout",
     "output_type": "stream",
     "text": [
      "Mean runs scored by teams: 18302.947368421053\n"
     ]
    }
   ],
   "source": [
    "runs_by_team = df.groupby('batting_team')['total_runs'].sum()\n",
    "mean_runs_team = runs_by_team.mean()\n",
    "print(f'Mean runs scored by teams: {mean_runs_team}')"
   ]
  },
  {
   "cell_type": "code",
   "execution_count": 38,
   "id": "a98c7835-fa83-46b2-a483-e4faf9ead13f",
   "metadata": {},
   "outputs": [],
   "source": [
    "#Median runs scored by players"
   ]
  },
  {
   "cell_type": "code",
   "execution_count": 43,
   "id": "b2e68160-7543-44d1-bfc0-08ef0d02ce74",
   "metadata": {},
   "outputs": [
    {
     "name": "stdout",
     "output_type": "stream",
     "text": [
      "Median runs scored by players:75.0\n"
     ]
    }
   ],
   "source": [
    "median_runs_player = runs_by_player.median()\n",
    "print(f'Median runs scored by players:{median_runs_player}')"
   ]
  },
  {
   "cell_type": "code",
   "execution_count": 45,
   "id": "94a5aa76-7da6-4cdd-80e2-0e98e9c5f8e4",
   "metadata": {},
   "outputs": [],
   "source": [
    "#Median runs scored by teams"
   ]
  },
  {
   "cell_type": "code",
   "execution_count": 49,
   "id": "d6d711d8-54bb-44fe-8a41-aef299e7a91c",
   "metadata": {},
   "outputs": [
    {
     "name": "stdout",
     "output_type": "stream",
     "text": [
      "Median runs scored by teams:11463.0\n"
     ]
    }
   ],
   "source": [
    "median_runs_team = runs_by_team.median()\n",
    "print(f'Median runs scored by teams:{median_runs_team}')"
   ]
  },
  {
   "cell_type": "code",
   "execution_count": 63,
   "id": "783c3d27-3092-46c8-945d-835f8e3c7683",
   "metadata": {},
   "outputs": [],
   "source": [
    "import pandas as pd"
   ]
  },
  {
   "cell_type": "code",
   "execution_count": 65,
   "id": "829e311f-fc0f-4c54-87a3-dead5689121a",
   "metadata": {},
   "outputs": [],
   "source": [
    "df = pd.read_csv('deliveries.csv')"
   ]
  },
  {
   "cell_type": "code",
   "execution_count": 69,
   "id": "c0406b6e-8856-468b-adb9-3729a6406562",
   "metadata": {},
   "outputs": [],
   "source": [
    "from scipy.stats import mode"
   ]
  },
  {
   "cell_type": "code",
   "execution_count": 73,
   "id": "1ec3c517-162e-4db9-94c5-d7bc5cbdc7a4",
   "metadata": {},
   "outputs": [],
   "source": [
    "# Calculate mode for player runs"
   ]
  },
  {
   "cell_type": "code",
   "execution_count": 93,
   "id": "a3e53d1e-0e8d-4897-acbc-4931e5bab9e0",
   "metadata": {},
   "outputs": [
    {
     "name": "stdout",
     "output_type": "stream",
     "text": [
      "Mode runs scored by players: 0\n"
     ]
    }
   ],
   "source": [
    "player_mode = mode(runs_by_player, keepdims=True)\n",
    "mode_runs_player = player_mode.mode[0] if player_mode.mode.size > 0 else None\n",
    "print(f\"Mode runs scored by players: {mode_runs_player}\")"
   ]
  },
  {
   "cell_type": "code",
   "execution_count": 89,
   "id": "8bc9a251-1c34-428e-b0e8-9cb74450251d",
   "metadata": {},
   "outputs": [],
   "source": [
    "# Calculate mode for team runs"
   ]
  },
  {
   "cell_type": "code",
   "execution_count": 99,
   "id": "9d0ada08-7bab-44b3-87fd-8aae21e74b8c",
   "metadata": {},
   "outputs": [
    {
     "name": "stdout",
     "output_type": "stream",
     "text": [
      "Mode runs scored by teams: 1901\n"
     ]
    }
   ],
   "source": [
    "team_mode = mode(runs_by_team, keepdims=True)  # Ensure the output is always an array\n",
    "mode_runs_team = team_mode.mode[0] if team_mode.mode.size > 0 else None\n",
    "print(f\"Mode runs scored by teams: {mode_runs_team}\")"
   ]
  },
  {
   "cell_type": "code",
   "execution_count": 2,
   "id": "538c59ea-38b0-4d2b-b386-d3a41ac29698",
   "metadata": {},
   "outputs": [],
   "source": [
    "import pandas as pd"
   ]
  },
  {
   "cell_type": "code",
   "execution_count": 4,
   "id": "5724bab3-9e78-4e52-86f8-42733cb4bd4d",
   "metadata": {},
   "outputs": [],
   "source": [
    "df = pd.read_csv('deliveries.csv')"
   ]
  },
  {
   "cell_type": "code",
   "execution_count": null,
   "id": "2d1acaed-d3ae-4984-8972-52b8f25deb4f",
   "metadata": {},
   "outputs": [],
   "source": [
    "# For wickets statistickes "
   ]
  },
  {
   "cell_type": "code",
   "execution_count": 12,
   "id": "fc326c97-617d-473b-8a74-8d7c6a3f0607",
   "metadata": {},
   "outputs": [
    {
     "name": "stdout",
     "output_type": "stream",
     "text": [
      "             bowler  Total_Wickets\n",
      "0    A Ashish Reddy             19\n",
      "1          A Badoni              2\n",
      "2        A Chandila             11\n",
      "3       A Choudhary              5\n",
      "4        A Flintoff              2\n",
      "..              ...            ...\n",
      "450      Yash Dayal             31\n",
      "451     Yash Thakur             27\n",
      "452   Yudhvir Singh              4\n",
      "453    Yuvraj Singh             39\n",
      "454          Z Khan            119\n",
      "\n",
      "[455 rows x 2 columns]\n"
     ]
    }
   ],
   "source": [
    "# Load the dataset\n",
    "ipl_data = pd.read_csv(\"deliveries.csv\")\n",
    "\n",
    "wicket_data = ipl_data[ipl_data['is_wicket'] == 1] # Filter rows where wickets were taken\n",
    "\n",
    "wicket_stats = wicket_data.groupby('bowler')['player_dismissed'].agg(  # Group data by bowler to calculate statistics\n",
    "    Total_Wickets='count'  # Count the number of dismissals for each bowler\n",
    ").reset_index()\n",
    "\n",
    "print(wicket_stats) # Display the basic statistics"
   ]
  },
  {
   "cell_type": "code",
   "execution_count": 2,
   "id": "cbe7c25c-d327-4ec1-8b83-f35694146d95",
   "metadata": {},
   "outputs": [],
   "source": [
    "import pandas as pd"
   ]
  },
  {
   "cell_type": "code",
   "execution_count": 4,
   "id": "35ba5f66-693d-429b-92c5-965df723c11d",
   "metadata": {},
   "outputs": [],
   "source": [
    "df = pd.read_csv('deliveries.csv')"
   ]
  },
  {
   "cell_type": "code",
   "execution_count": 8,
   "id": "f17081c4-8dfa-4962-a847-f3e8a6e86bcb",
   "metadata": {},
   "outputs": [
    {
     "name": "stdout",
     "output_type": "stream",
     "text": [
      "        match_id  inning           batting_team                 bowling_team  \\\n",
      "0         335982       1  Kolkata Knight Riders  Royal Challengers Bangalore   \n",
      "1         335982       1  Kolkata Knight Riders  Royal Challengers Bangalore   \n",
      "2         335982       1  Kolkata Knight Riders  Royal Challengers Bangalore   \n",
      "3         335982       1  Kolkata Knight Riders  Royal Challengers Bangalore   \n",
      "4         335982       1  Kolkata Knight Riders  Royal Challengers Bangalore   \n",
      "...          ...     ...                    ...                          ...   \n",
      "260915   1426312       2  Kolkata Knight Riders          Sunrisers Hyderabad   \n",
      "260916   1426312       2  Kolkata Knight Riders          Sunrisers Hyderabad   \n",
      "260917   1426312       2  Kolkata Knight Riders          Sunrisers Hyderabad   \n",
      "260918   1426312       2  Kolkata Knight Riders          Sunrisers Hyderabad   \n",
      "260919   1426312       2  Kolkata Knight Riders          Sunrisers Hyderabad   \n",
      "\n",
      "        over  ball       batter         bowler  non_striker  batsman_runs  \\\n",
      "0          0     1   SC Ganguly        P Kumar  BB McCullum             0   \n",
      "1          0     2  BB McCullum        P Kumar   SC Ganguly             0   \n",
      "2          0     3  BB McCullum        P Kumar   SC Ganguly             0   \n",
      "3          0     4  BB McCullum        P Kumar   SC Ganguly             0   \n",
      "4          0     5  BB McCullum        P Kumar   SC Ganguly             0   \n",
      "...      ...   ...          ...            ...          ...           ...   \n",
      "260915     9     5      SS Iyer     AK Markram      VR Iyer             1   \n",
      "260916     9     6      VR Iyer     AK Markram      SS Iyer             1   \n",
      "260917    10     1      VR Iyer  Shahbaz Ahmed      SS Iyer             1   \n",
      "260918    10     2      SS Iyer  Shahbaz Ahmed      VR Iyer             1   \n",
      "260919    10     3      VR Iyer  Shahbaz Ahmed      SS Iyer             1   \n",
      "\n",
      "        extra_runs  total_runs extras_type  is_wicket player_dismissed  \\\n",
      "0                1           1     legbyes          0              NaN   \n",
      "1                0           0         NaN          0              NaN   \n",
      "2                1           1       wides          0              NaN   \n",
      "3                0           0         NaN          0              NaN   \n",
      "4                0           0         NaN          0              NaN   \n",
      "...            ...         ...         ...        ...              ...   \n",
      "260915           0           1         NaN          0              NaN   \n",
      "260916           0           1         NaN          0              NaN   \n",
      "260917           0           1         NaN          0              NaN   \n",
      "260918           0           1         NaN          0              NaN   \n",
      "260919           0           1         NaN          0              NaN   \n",
      "\n",
      "       dismissal_kind fielder  \n",
      "0                 NaN     NaN  \n",
      "1                 NaN     NaN  \n",
      "2                 NaN     NaN  \n",
      "3                 NaN     NaN  \n",
      "4                 NaN     NaN  \n",
      "...               ...     ...  \n",
      "260915            NaN     NaN  \n",
      "260916            NaN     NaN  \n",
      "260917            NaN     NaN  \n",
      "260918            NaN     NaN  \n",
      "260919            NaN     NaN  \n",
      "\n",
      "[260920 rows x 17 columns]\n"
     ]
    }
   ],
   "source": [
    "print (df)"
   ]
  },
  {
   "cell_type": "code",
   "execution_count": 2,
   "id": "cdde3540-8cae-4b42-a36d-b6eb3e575a65",
   "metadata": {},
   "outputs": [],
   "source": [
    "import pandas as pd"
   ]
  },
  {
   "cell_type": "code",
   "execution_count": 4,
   "id": "83731960-8577-4d3e-8364-edd4d19681f0",
   "metadata": {},
   "outputs": [],
   "source": [
    "df = pd.read_csv('deliveries.csv')"
   ]
  },
  {
   "cell_type": "code",
   "execution_count": 6,
   "id": "85fb17a8-06c1-4e59-8cdf-24d5c193f5b6",
   "metadata": {},
   "outputs": [
    {
     "name": "stdout",
     "output_type": "stream",
     "text": [
      "        match_id  inning           batting_team                 bowling_team  \\\n",
      "0         335982       1  Kolkata Knight Riders  Royal Challengers Bangalore   \n",
      "1         335982       1  Kolkata Knight Riders  Royal Challengers Bangalore   \n",
      "2         335982       1  Kolkata Knight Riders  Royal Challengers Bangalore   \n",
      "3         335982       1  Kolkata Knight Riders  Royal Challengers Bangalore   \n",
      "4         335982       1  Kolkata Knight Riders  Royal Challengers Bangalore   \n",
      "...          ...     ...                    ...                          ...   \n",
      "260915   1426312       2  Kolkata Knight Riders          Sunrisers Hyderabad   \n",
      "260916   1426312       2  Kolkata Knight Riders          Sunrisers Hyderabad   \n",
      "260917   1426312       2  Kolkata Knight Riders          Sunrisers Hyderabad   \n",
      "260918   1426312       2  Kolkata Knight Riders          Sunrisers Hyderabad   \n",
      "260919   1426312       2  Kolkata Knight Riders          Sunrisers Hyderabad   \n",
      "\n",
      "        over  ball       batter         bowler  non_striker  batsman_runs  \\\n",
      "0          0     1   SC Ganguly        P Kumar  BB McCullum             0   \n",
      "1          0     2  BB McCullum        P Kumar   SC Ganguly             0   \n",
      "2          0     3  BB McCullum        P Kumar   SC Ganguly             0   \n",
      "3          0     4  BB McCullum        P Kumar   SC Ganguly             0   \n",
      "4          0     5  BB McCullum        P Kumar   SC Ganguly             0   \n",
      "...      ...   ...          ...            ...          ...           ...   \n",
      "260915     9     5      SS Iyer     AK Markram      VR Iyer             1   \n",
      "260916     9     6      VR Iyer     AK Markram      SS Iyer             1   \n",
      "260917    10     1      VR Iyer  Shahbaz Ahmed      SS Iyer             1   \n",
      "260918    10     2      SS Iyer  Shahbaz Ahmed      VR Iyer             1   \n",
      "260919    10     3      VR Iyer  Shahbaz Ahmed      SS Iyer             1   \n",
      "\n",
      "        extra_runs  total_runs extras_type  is_wicket player_dismissed  \\\n",
      "0                1           1     legbyes          0              NaN   \n",
      "1                0           0         NaN          0              NaN   \n",
      "2                1           1       wides          0              NaN   \n",
      "3                0           0         NaN          0              NaN   \n",
      "4                0           0         NaN          0              NaN   \n",
      "...            ...         ...         ...        ...              ...   \n",
      "260915           0           1         NaN          0              NaN   \n",
      "260916           0           1         NaN          0              NaN   \n",
      "260917           0           1         NaN          0              NaN   \n",
      "260918           0           1         NaN          0              NaN   \n",
      "260919           0           1         NaN          0              NaN   \n",
      "\n",
      "       dismissal_kind fielder  \n",
      "0                 NaN     NaN  \n",
      "1                 NaN     NaN  \n",
      "2                 NaN     NaN  \n",
      "3                 NaN     NaN  \n",
      "4                 NaN     NaN  \n",
      "...               ...     ...  \n",
      "260915            NaN     NaN  \n",
      "260916            NaN     NaN  \n",
      "260917            NaN     NaN  \n",
      "260918            NaN     NaN  \n",
      "260919            NaN     NaN  \n",
      "\n",
      "[260920 rows x 17 columns]\n"
     ]
    }
   ],
   "source": [
    "print(df)"
   ]
  },
  {
   "cell_type": "code",
   "execution_count": 10,
   "id": "9d649fc5-25fc-433d-bd8c-ff53827434ce",
   "metadata": {},
   "outputs": [
    {
     "name": "stdout",
     "output_type": "stream",
     "text": [
      "<class 'pandas.core.frame.DataFrame'>\n",
      "RangeIndex: 260920 entries, 0 to 260919\n",
      "Data columns (total 17 columns):\n",
      " #   Column            Non-Null Count   Dtype \n",
      "---  ------            --------------   ----- \n",
      " 0   match_id          260920 non-null  int64 \n",
      " 1   inning            260920 non-null  int64 \n",
      " 2   batting_team      260920 non-null  object\n",
      " 3   bowling_team      260920 non-null  object\n",
      " 4   over              260920 non-null  int64 \n",
      " 5   ball              260920 non-null  int64 \n",
      " 6   batter            260920 non-null  object\n",
      " 7   bowler            260920 non-null  object\n",
      " 8   non_striker       260920 non-null  object\n",
      " 9   batsman_runs      260920 non-null  int64 \n",
      " 10  extra_runs        260920 non-null  int64 \n",
      " 11  total_runs        260920 non-null  int64 \n",
      " 12  extras_type       14125 non-null   object\n",
      " 13  is_wicket         260920 non-null  int64 \n",
      " 14  player_dismissed  12950 non-null   object\n",
      " 15  dismissal_kind    12950 non-null   object\n",
      " 16  fielder           9354 non-null    object\n",
      "dtypes: int64(8), object(9)\n",
      "memory usage: 33.8+ MB\n",
      "None\n"
     ]
    }
   ],
   "source": [
    "print(df.info())"
   ]
  },
  {
   "cell_type": "code",
   "execution_count": null,
   "id": "72a621f3-cabe-4632-8122-97e6d895f88f",
   "metadata": {},
   "outputs": [],
   "source": [
    "# 1. Total runs scored "
   ]
  },
  {
   "cell_type": "code",
   "execution_count": 14,
   "id": "51347265-3304-4f6d-8a2d-c5f6d80955d4",
   "metadata": {},
   "outputs": [
    {
     "name": "stdout",
     "output_type": "stream",
     "text": [
      "           batter  total_runs\n",
      "0  A Ashish Reddy         280\n",
      "1        A Badoni         634\n",
      "2      A Chandila           4\n",
      "3        A Chopra          53\n",
      "4     A Choudhary          25\n"
     ]
    }
   ],
   "source": [
    "# Group by batter and sum up the batsman_runs column\n",
    "player_runs = df.groupby(\"batter\")[\"batsman_runs\"].sum().reset_index()\n",
    "player_runs.rename(columns={\"batsman_runs\": \"total_runs\"}, inplace=True)\n",
    "print(player_runs.head())\n"
   ]
  },
  {
   "cell_type": "code",
   "execution_count": 16,
   "id": "72d16663-c28e-46a8-af1f-18d6edd34c10",
   "metadata": {},
   "outputs": [],
   "source": [
    "# 2. Total ball faced"
   ]
  },
  {
   "cell_type": "code",
   "execution_count": 18,
   "id": "9b60d202-445e-46ca-a882-3de4304c85ad",
   "metadata": {},
   "outputs": [
    {
     "name": "stdout",
     "output_type": "stream",
     "text": [
      "           batter  total_balls\n",
      "0  A Ashish Reddy          196\n",
      "1        A Badoni          505\n",
      "2      A Chandila            7\n",
      "3        A Chopra           75\n",
      "4     A Choudhary           20\n"
     ]
    }
   ],
   "source": [
    "# Count the number of balls faced by each batsman\n",
    "balls_faced = df.groupby(\"batter\")[\"ball\"].count().reset_index()\n",
    "balls_faced.rename(columns={\"ball\": \"total_balls\"}, inplace=True)\n",
    "print(balls_faced.head())\n"
   ]
  },
  {
   "cell_type": "code",
   "execution_count": 22,
   "id": "82f41a7b-cb4d-46cd-8752-a6065c1bd05e",
   "metadata": {},
   "outputs": [],
   "source": [
    "# 3. number of dismissals"
   ]
  },
  {
   "cell_type": "code",
   "execution_count": 26,
   "id": "38d4163f-77fd-4fa0-8333-368b08b6e731",
   "metadata": {},
   "outputs": [
    {
     "name": "stdout",
     "output_type": "stream",
     "text": [
      "           batter  total_dismissals\n",
      "0  A Ashish Reddy                15\n",
      "1        A Badoni                26\n",
      "2      A Chandila                 1\n",
      "3        A Chopra                 5\n",
      "4     A Choudhary                 2\n"
     ]
    }
   ],
   "source": [
    "# Count dismissals for each player (only rows where is_wicket = 1)\n",
    "dismissals = df[df[\"is_wicket\"] == 1].groupby(\"batter\").size().reset_index(name=\"total_dismissals\")\n",
    "print(dismissals.head())\n"
   ]
  },
  {
   "cell_type": "code",
   "execution_count": 28,
   "id": "981cf09b-a8ec-49a2-aff1-d5b7e12606e3",
   "metadata": {},
   "outputs": [],
   "source": [
    "# 4 Count centuries and fifties"
   ]
  },
  {
   "cell_type": "code",
   "execution_count": 32,
   "id": "7304d55c-c560-4209-aeef-ad49698fdcaa",
   "metadata": {},
   "outputs": [
    {
     "name": "stdout",
     "output_type": "stream",
     "text": [
      "           batter  centuries\n",
      "0  A Ashish Reddy          0\n",
      "1        A Badoni          0\n",
      "2      A Chandila          0\n",
      "3        A Chopra          0\n",
      "4     A Choudhary          0\n",
      "           batter  fifties\n",
      "0  A Ashish Reddy        0\n",
      "1        A Badoni        0\n",
      "2      A Chandila        0\n",
      "3        A Chopra        0\n",
      "4     A Choudhary        0\n"
     ]
    }
   ],
   "source": [
    "# Identify players with 100s and 50s\n",
    "high_scores = df.groupby(\"batter\")[\"batsman_runs\"].apply(lambda x: (x >= 100).sum()).reset_index()\n",
    "high_scores.rename(columns={\"batsman_runs\": \"centuries\"}, inplace=True)\n",
    "\n",
    "fifties = df.groupby(\"batter\")[\"batsman_runs\"].apply(lambda x: ((x >= 50) & (x < 100)).sum()).reset_index()\n",
    "fifties.rename(columns={\"batsman_runs\": \"fifties\"}, inplace=True)\n",
    "\n",
    "print(high_scores.head())\n",
    "print(fifties.head())\n",
    "\n"
   ]
  },
  {
   "cell_type": "code",
   "execution_count": 34,
   "id": "f7bd6286-6963-4f2e-8b16-aa839549f527",
   "metadata": {},
   "outputs": [],
   "source": [
    "##### Merging all Matrics"
   ]
  },
  {
   "cell_type": "code",
   "execution_count": 36,
   "id": "3cc435b0-a820-47a1-9b33-4429c25ea601",
   "metadata": {},
   "outputs": [
    {
     "name": "stdout",
     "output_type": "stream",
     "text": [
      "           batter  total_runs  total_balls  total_dismissals  centuries  \\\n",
      "0  A Ashish Reddy         280          196              15.0          0   \n",
      "1        A Badoni         634          505              26.0          0   \n",
      "2      A Chandila           4            7               1.0          0   \n",
      "3        A Chopra          53           75               5.0          0   \n",
      "4     A Choudhary          25           20               2.0          0   \n",
      "\n",
      "   fifties  \n",
      "0        0  \n",
      "1        0  \n",
      "2        0  \n",
      "3        0  \n",
      "4        0  \n"
     ]
    }
   ],
   "source": [
    "# Merge all calculated metrics\n",
    "player_stats = player_runs.merge(balls_faced, on=\"batter\", how=\"left\")\n",
    "player_stats = player_stats.merge(dismissals, on=\"batter\", how=\"left\")\n",
    "player_stats = player_stats.merge(high_scores, on=\"batter\", how=\"left\")\n",
    "player_stats = player_stats.merge(fifties, on=\"batter\", how=\"left\")\n",
    "\n",
    "# Fill NaN values (for players with no dismissals, centuries, or fifties)\n",
    "player_stats.fillna(0, inplace=True)\n",
    "\n",
    "print(player_stats.head())\n"
   ]
  },
  {
   "cell_type": "code",
   "execution_count": 38,
   "id": "fd8078ca-ff7a-484c-b352-e1a0b3ea3424",
   "metadata": {},
   "outputs": [],
   "source": [
    "## Batting average "
   ]
  },
  {
   "cell_type": "code",
   "execution_count": 40,
   "id": "2b64ceeb-3782-4026-8890-e41417940578",
   "metadata": {},
   "outputs": [
    {
     "name": "stdout",
     "output_type": "stream",
     "text": [
      "           batter  batting_average\n",
      "0  A Ashish Reddy        18.666667\n",
      "1        A Badoni        24.384615\n",
      "2      A Chandila         4.000000\n",
      "3        A Chopra        10.600000\n",
      "4     A Choudhary        12.500000\n"
     ]
    }
   ],
   "source": [
    "# Avoid division by zero for players with zero dismissals\n",
    "player_stats[\"batting_average\"] = player_stats[\"total_runs\"] / player_stats[\"total_dismissals\"].replace(0, 1)\n",
    "print(player_stats[[\"batter\", \"batting_average\"]].head())\n"
   ]
  },
  {
   "cell_type": "code",
   "execution_count": 42,
   "id": "9ac22bb2-36b1-412c-8189-119319587976",
   "metadata": {},
   "outputs": [],
   "source": [
    "### Strike rate"
   ]
  },
  {
   "cell_type": "code",
   "execution_count": 46,
   "id": "cc8a778e-290e-475e-aba7-1c6f05450700",
   "metadata": {},
   "outputs": [
    {
     "name": "stdout",
     "output_type": "stream",
     "text": [
      "           batter  strike_rate\n",
      "0  A Ashish Reddy   142.857143\n",
      "1        A Badoni   125.544554\n",
      "2      A Chandila    57.142857\n",
      "3        A Chopra    70.666667\n",
      "4     A Choudhary   125.000000\n"
     ]
    }
   ],
   "source": [
    "player_stats[\"strike_rate\"] = (player_stats[\"total_runs\"] / player_stats[\"total_balls\"]) * 100\n",
    "print(player_stats[[\"batter\", \"strike_rate\"]].head())\n"
   ]
  },
  {
   "cell_type": "code",
   "execution_count": 48,
   "id": "2e663198-0dfd-4fdc-a0f3-9636c630d599",
   "metadata": {},
   "outputs": [],
   "source": [
    "### Normalize Matrics"
   ]
  },
  {
   "cell_type": "code",
   "execution_count": 50,
   "id": "eb692cfd-cd25-48f5-b4c6-06a49c5c56ac",
   "metadata": {},
   "outputs": [
    {
     "name": "stdout",
     "output_type": "stream",
     "text": [
      "           batter  normalized_average  normalized_strike_rate  \\\n",
      "0  A Ashish Reddy           21.212121               47.619048   \n",
      "1        A Badoni           27.709790               41.848185   \n",
      "2      A Chandila            4.545455               19.047619   \n",
      "3        A Chopra           12.045455               23.555556   \n",
      "4     A Choudhary           14.204545               41.666667   \n",
      "\n",
      "   normalized_centuries  normalized_fifties  \n",
      "0                   NaN                 NaN  \n",
      "1                   NaN                 NaN  \n",
      "2                   NaN                 NaN  \n",
      "3                   NaN                 NaN  \n",
      "4                   NaN                 NaN  \n"
     ]
    }
   ],
   "source": [
    "# Normalization function\n",
    "def normalize(column):\n",
    "    return (column / column.max()) * 100\n",
    "\n",
    "# Normalize metrics\n",
    "player_stats[\"normalized_average\"] = normalize(player_stats[\"batting_average\"])\n",
    "player_stats[\"normalized_strike_rate\"] = normalize(player_stats[\"strike_rate\"])\n",
    "player_stats[\"normalized_centuries\"] = normalize(player_stats[\"centuries\"])\n",
    "player_stats[\"normalized_fifties\"] = normalize(player_stats[\"fifties\"])\n",
    "\n",
    "print(player_stats[[\"batter\", \"normalized_average\", \"normalized_strike_rate\", \"normalized_centuries\", \"normalized_fifties\"]].head())\n"
   ]
  },
  {
   "cell_type": "code",
   "execution_count": 52,
   "id": "6b5781f2-fa36-4c28-922f-395233089e1c",
   "metadata": {},
   "outputs": [
    {
     "name": "stdout",
     "output_type": "stream",
     "text": [
      "           batter  overall_score\n",
      "0  A Ashish Reddy            NaN\n",
      "1        A Badoni            NaN\n",
      "2      A Chandila            NaN\n",
      "3        A Chopra            NaN\n",
      "4     A Choudhary            NaN\n"
     ]
    }
   ],
   "source": [
    "# Assign weights\n",
    "w1, w2, w3, w4 = 0.3, 0.4, 0.15, 0.05\n",
    "\n",
    "# Calculate overall score\n",
    "player_stats[\"overall_score\"] = (\n",
    "    player_stats[\"normalized_average\"] * w1 +\n",
    "    player_stats[\"normalized_strike_rate\"] * w2 +\n",
    "    player_stats[\"normalized_centuries\"] * w3 +\n",
    "    player_stats[\"normalized_fifties\"] * w4\n",
    ")\n",
    "\n",
    "print(player_stats[[\"batter\", \"overall_score\"]].sort_values(by=\"overall_score\", ascending=False).head())\n"
   ]
  },
  {
   "cell_type": "code",
   "execution_count": 54,
   "id": "645c8715-368e-4d9b-9a9d-b9baeafecda9",
   "metadata": {},
   "outputs": [
    {
     "name": "stdout",
     "output_type": "stream",
     "text": [
      "   rank          batter  overall_score\n",
      "0     1  A Ashish Reddy            NaN\n",
      "1     2        A Badoni            NaN\n",
      "2     3      A Chandila            NaN\n",
      "3     4        A Chopra            NaN\n",
      "4     5     A Choudhary            NaN\n"
     ]
    }
   ],
   "source": [
    "# Rank players\n",
    "player_stats = player_stats.sort_values(by=\"overall_score\", ascending=False).reset_index(drop=True)\n",
    "player_stats[\"rank\"] = player_stats.index + 1\n",
    "\n",
    "print(player_stats[[\"rank\", \"batter\", \"overall_score\"]].head())\n"
   ]
  },
  {
   "cell_type": "code",
   "execution_count": 56,
   "id": "49c8d022-b326-4ddb-83d0-07234bf23812",
   "metadata": {},
   "outputs": [
    {
     "name": "stdout",
     "output_type": "stream",
     "text": [
      "           batter  normalized_average  normalized_strike_rate  \\\n",
      "0  A Ashish Reddy           21.212121               47.619048   \n",
      "1        A Badoni           27.709790               41.848185   \n",
      "2      A Chandila            4.545455               19.047619   \n",
      "3        A Chopra           12.045455               23.555556   \n",
      "4     A Choudhary           14.204545               41.666667   \n",
      "\n",
      "   normalized_centuries  normalized_fifties  \n",
      "0                   NaN                 NaN  \n",
      "1                   NaN                 NaN  \n",
      "2                   NaN                 NaN  \n",
      "3                   NaN                 NaN  \n",
      "4                   NaN                 NaN  \n"
     ]
    }
   ],
   "source": [
    "# Normalization function\n",
    "def normalize(column):\n",
    "    return (column / column.max()) * 100\n",
    "\n",
    "# Normalize metrics\n",
    "player_stats[\"normalized_average\"] = normalize(player_stats[\"batting_average\"])\n",
    "player_stats[\"normalized_strike_rate\"] = normalize(player_stats[\"strike_rate\"])\n",
    "player_stats[\"normalized_centuries\"] = normalize(player_stats[\"centuries\"])\n",
    "player_stats[\"normalized_fifties\"] = normalize(player_stats[\"fifties\"])\n",
    "\n",
    "print(player_stats[[\"batter\", \"normalized_average\", \"normalized_strike_rate\", \"normalized_centuries\", \"normalized_fifties\"]].head())\n"
   ]
  },
  {
   "cell_type": "code",
   "execution_count": 58,
   "id": "7d596ff8-5217-4e44-94b1-09d5b8870f17",
   "metadata": {},
   "outputs": [
    {
     "name": "stdout",
     "output_type": "stream",
     "text": [
      "           batter  overall_score\n",
      "0  A Ashish Reddy            NaN\n",
      "1        A Badoni            NaN\n",
      "2      A Chandila            NaN\n",
      "3        A Chopra            NaN\n",
      "4     A Choudhary            NaN\n"
     ]
    }
   ],
   "source": [
    "# Assign weights\n",
    "w1, w2, w3, w4 = 0.3, 0.4, 0.15, 0.05\n",
    "\n",
    "# Calculate overall score\n",
    "player_stats[\"overall_score\"] = (\n",
    "    player_stats[\"normalized_average\"] * w1 +\n",
    "    player_stats[\"normalized_strike_rate\"] * w2 +\n",
    "    player_stats[\"normalized_centuries\"] * w3 +\n",
    "    player_stats[\"normalized_fifties\"] * w4\n",
    ")\n",
    "\n",
    "print(player_stats[[\"batter\", \"overall_score\"]].head())\n"
   ]
  },
  {
   "cell_type": "code",
   "execution_count": 60,
   "id": "c795e857-6c0a-4ee4-b2ec-cef3f7395de3",
   "metadata": {},
   "outputs": [
    {
     "name": "stdout",
     "output_type": "stream",
     "text": [
      "   rank          batter  overall_score\n",
      "0     1  A Ashish Reddy            NaN\n",
      "1     2        A Badoni            NaN\n",
      "2     3      A Chandila            NaN\n",
      "3     4        A Chopra            NaN\n",
      "4     5     A Choudhary            NaN\n"
     ]
    }
   ],
   "source": [
    "# Rank players\n",
    "player_stats = player_stats.sort_values(by=\"overall_score\", ascending=False).reset_index(drop=True)\n",
    "player_stats[\"rank\"] = player_stats.index + 1\n",
    "\n",
    "print(player_stats[[\"rank\", \"batter\", \"overall_score\"]].head())\n"
   ]
  },
  {
   "cell_type": "code",
   "execution_count": 3,
   "id": "7fd31da4-605a-40a8-95ce-2dc9e7a24d02",
   "metadata": {},
   "outputs": [],
   "source": [
    "import pandas as pd"
   ]
  },
  {
   "cell_type": "code",
   "execution_count": 7,
   "id": "c65ecd43-0ef9-4c90-8f8f-217509342258",
   "metadata": {},
   "outputs": [],
   "source": [
    "df = pd.read_csv('deliveries.csv')"
   ]
  },
  {
   "cell_type": "code",
   "execution_count": 9,
   "id": "e4ff872a-4972-4348-a3c7-21e7be2041af",
   "metadata": {},
   "outputs": [
    {
     "name": "stdout",
     "output_type": "stream",
     "text": [
      "        match_id  inning           batting_team                 bowling_team  \\\n",
      "0         335982       1  Kolkata Knight Riders  Royal Challengers Bangalore   \n",
      "1         335982       1  Kolkata Knight Riders  Royal Challengers Bangalore   \n",
      "2         335982       1  Kolkata Knight Riders  Royal Challengers Bangalore   \n",
      "3         335982       1  Kolkata Knight Riders  Royal Challengers Bangalore   \n",
      "4         335982       1  Kolkata Knight Riders  Royal Challengers Bangalore   \n",
      "...          ...     ...                    ...                          ...   \n",
      "260915   1426312       2  Kolkata Knight Riders          Sunrisers Hyderabad   \n",
      "260916   1426312       2  Kolkata Knight Riders          Sunrisers Hyderabad   \n",
      "260917   1426312       2  Kolkata Knight Riders          Sunrisers Hyderabad   \n",
      "260918   1426312       2  Kolkata Knight Riders          Sunrisers Hyderabad   \n",
      "260919   1426312       2  Kolkata Knight Riders          Sunrisers Hyderabad   \n",
      "\n",
      "        over  ball       batter         bowler  non_striker  batsman_runs  \\\n",
      "0          0     1   SC Ganguly        P Kumar  BB McCullum             0   \n",
      "1          0     2  BB McCullum        P Kumar   SC Ganguly             0   \n",
      "2          0     3  BB McCullum        P Kumar   SC Ganguly             0   \n",
      "3          0     4  BB McCullum        P Kumar   SC Ganguly             0   \n",
      "4          0     5  BB McCullum        P Kumar   SC Ganguly             0   \n",
      "...      ...   ...          ...            ...          ...           ...   \n",
      "260915     9     5      SS Iyer     AK Markram      VR Iyer             1   \n",
      "260916     9     6      VR Iyer     AK Markram      SS Iyer             1   \n",
      "260917    10     1      VR Iyer  Shahbaz Ahmed      SS Iyer             1   \n",
      "260918    10     2      SS Iyer  Shahbaz Ahmed      VR Iyer             1   \n",
      "260919    10     3      VR Iyer  Shahbaz Ahmed      SS Iyer             1   \n",
      "\n",
      "        extra_runs  total_runs extras_type  is_wicket player_dismissed  \\\n",
      "0                1           1     legbyes          0              NaN   \n",
      "1                0           0         NaN          0              NaN   \n",
      "2                1           1       wides          0              NaN   \n",
      "3                0           0         NaN          0              NaN   \n",
      "4                0           0         NaN          0              NaN   \n",
      "...            ...         ...         ...        ...              ...   \n",
      "260915           0           1         NaN          0              NaN   \n",
      "260916           0           1         NaN          0              NaN   \n",
      "260917           0           1         NaN          0              NaN   \n",
      "260918           0           1         NaN          0              NaN   \n",
      "260919           0           1         NaN          0              NaN   \n",
      "\n",
      "       dismissal_kind fielder  \n",
      "0                 NaN     NaN  \n",
      "1                 NaN     NaN  \n",
      "2                 NaN     NaN  \n",
      "3                 NaN     NaN  \n",
      "4                 NaN     NaN  \n",
      "...               ...     ...  \n",
      "260915            NaN     NaN  \n",
      "260916            NaN     NaN  \n",
      "260917            NaN     NaN  \n",
      "260918            NaN     NaN  \n",
      "260919            NaN     NaN  \n",
      "\n",
      "[260920 rows x 17 columns]\n"
     ]
    }
   ],
   "source": [
    "print(df)"
   ]
  },
  {
   "cell_type": "code",
   "execution_count": null,
   "id": "ca0ed165-9c0b-4e7a-bddd-1a5b5efb4fbe",
   "metadata": {},
   "outputs": [],
   "source": [
    "##### Assignment 2 --->>>"
   ]
  },
  {
   "cell_type": "code",
   "execution_count": 17,
   "id": "e271acc2-bd8e-4e62-9f30-2e5aa193ebf8",
   "metadata": {},
   "outputs": [
    {
     "ename": "KeyError",
     "evalue": "'city'",
     "output_type": "error",
     "traceback": [
      "\u001b[1;31m---------------------------------------------------------------------------\u001b[0m",
      "\u001b[1;31mKeyError\u001b[0m                                  Traceback (most recent call last)",
      "Cell \u001b[1;32mIn[17], line 2\u001b[0m\n\u001b[0;32m      1\u001b[0m matches_df \u001b[38;5;241m=\u001b[39m pd\u001b[38;5;241m.\u001b[39mread_csv(\u001b[38;5;124m'\u001b[39m\u001b[38;5;124mdeliveries.csv\u001b[39m\u001b[38;5;124m'\u001b[39m)  \u001b[38;5;66;03m# Load the matches dataset\u001b[39;00m\n\u001b[1;32m----> 2\u001b[0m city_match_counts \u001b[38;5;241m=\u001b[39m matches_df\u001b[38;5;241m.\u001b[39mgroupby(\u001b[38;5;124m'\u001b[39m\u001b[38;5;124mcity\u001b[39m\u001b[38;5;124m'\u001b[39m)[\u001b[38;5;124m'\u001b[39m\u001b[38;5;124mid\u001b[39m\u001b[38;5;124m'\u001b[39m]\u001b[38;5;241m.\u001b[39mcount()\u001b[38;5;241m.\u001b[39mreset_index()\n\u001b[0;32m      3\u001b[0m city_match_counts\u001b[38;5;241m.\u001b[39mcolumns \u001b[38;5;241m=\u001b[39m [\u001b[38;5;124m'\u001b[39m\u001b[38;5;124mcity\u001b[39m\u001b[38;5;124m'\u001b[39m, \u001b[38;5;124m'\u001b[39m\u001b[38;5;124mmatch_count\u001b[39m\u001b[38;5;124m'\u001b[39m]\n\u001b[0;32m      4\u001b[0m sorted_city_matches \u001b[38;5;241m=\u001b[39m city_match_counts\u001b[38;5;241m.\u001b[39msort_values(by\u001b[38;5;241m=\u001b[39m\u001b[38;5;124m'\u001b[39m\u001b[38;5;124mmatch_count\u001b[39m\u001b[38;5;124m'\u001b[39m, ascending\u001b[38;5;241m=\u001b[39m\u001b[38;5;28;01mFalse\u001b[39;00m)\n",
      "File \u001b[1;32m~\\anaconda3\\Lib\\site-packages\\pandas\\core\\frame.py:9183\u001b[0m, in \u001b[0;36mDataFrame.groupby\u001b[1;34m(self, by, axis, level, as_index, sort, group_keys, observed, dropna)\u001b[0m\n\u001b[0;32m   9180\u001b[0m \u001b[38;5;28;01mif\u001b[39;00m level \u001b[38;5;129;01mis\u001b[39;00m \u001b[38;5;28;01mNone\u001b[39;00m \u001b[38;5;129;01mand\u001b[39;00m by \u001b[38;5;129;01mis\u001b[39;00m \u001b[38;5;28;01mNone\u001b[39;00m:\n\u001b[0;32m   9181\u001b[0m     \u001b[38;5;28;01mraise\u001b[39;00m \u001b[38;5;167;01mTypeError\u001b[39;00m(\u001b[38;5;124m\"\u001b[39m\u001b[38;5;124mYou have to supply one of \u001b[39m\u001b[38;5;124m'\u001b[39m\u001b[38;5;124mby\u001b[39m\u001b[38;5;124m'\u001b[39m\u001b[38;5;124m and \u001b[39m\u001b[38;5;124m'\u001b[39m\u001b[38;5;124mlevel\u001b[39m\u001b[38;5;124m'\u001b[39m\u001b[38;5;124m\"\u001b[39m)\n\u001b[1;32m-> 9183\u001b[0m \u001b[38;5;28;01mreturn\u001b[39;00m DataFrameGroupBy(\n\u001b[0;32m   9184\u001b[0m     obj\u001b[38;5;241m=\u001b[39m\u001b[38;5;28mself\u001b[39m,\n\u001b[0;32m   9185\u001b[0m     keys\u001b[38;5;241m=\u001b[39mby,\n\u001b[0;32m   9186\u001b[0m     axis\u001b[38;5;241m=\u001b[39maxis,\n\u001b[0;32m   9187\u001b[0m     level\u001b[38;5;241m=\u001b[39mlevel,\n\u001b[0;32m   9188\u001b[0m     as_index\u001b[38;5;241m=\u001b[39mas_index,\n\u001b[0;32m   9189\u001b[0m     sort\u001b[38;5;241m=\u001b[39msort,\n\u001b[0;32m   9190\u001b[0m     group_keys\u001b[38;5;241m=\u001b[39mgroup_keys,\n\u001b[0;32m   9191\u001b[0m     observed\u001b[38;5;241m=\u001b[39mobserved,\n\u001b[0;32m   9192\u001b[0m     dropna\u001b[38;5;241m=\u001b[39mdropna,\n\u001b[0;32m   9193\u001b[0m )\n",
      "File \u001b[1;32m~\\anaconda3\\Lib\\site-packages\\pandas\\core\\groupby\\groupby.py:1329\u001b[0m, in \u001b[0;36mGroupBy.__init__\u001b[1;34m(self, obj, keys, axis, level, grouper, exclusions, selection, as_index, sort, group_keys, observed, dropna)\u001b[0m\n\u001b[0;32m   1326\u001b[0m \u001b[38;5;28mself\u001b[39m\u001b[38;5;241m.\u001b[39mdropna \u001b[38;5;241m=\u001b[39m dropna\n\u001b[0;32m   1328\u001b[0m \u001b[38;5;28;01mif\u001b[39;00m grouper \u001b[38;5;129;01mis\u001b[39;00m \u001b[38;5;28;01mNone\u001b[39;00m:\n\u001b[1;32m-> 1329\u001b[0m     grouper, exclusions, obj \u001b[38;5;241m=\u001b[39m get_grouper(\n\u001b[0;32m   1330\u001b[0m         obj,\n\u001b[0;32m   1331\u001b[0m         keys,\n\u001b[0;32m   1332\u001b[0m         axis\u001b[38;5;241m=\u001b[39maxis,\n\u001b[0;32m   1333\u001b[0m         level\u001b[38;5;241m=\u001b[39mlevel,\n\u001b[0;32m   1334\u001b[0m         sort\u001b[38;5;241m=\u001b[39msort,\n\u001b[0;32m   1335\u001b[0m         observed\u001b[38;5;241m=\u001b[39m\u001b[38;5;28;01mFalse\u001b[39;00m \u001b[38;5;28;01mif\u001b[39;00m observed \u001b[38;5;129;01mis\u001b[39;00m lib\u001b[38;5;241m.\u001b[39mno_default \u001b[38;5;28;01melse\u001b[39;00m observed,\n\u001b[0;32m   1336\u001b[0m         dropna\u001b[38;5;241m=\u001b[39m\u001b[38;5;28mself\u001b[39m\u001b[38;5;241m.\u001b[39mdropna,\n\u001b[0;32m   1337\u001b[0m     )\n\u001b[0;32m   1339\u001b[0m \u001b[38;5;28;01mif\u001b[39;00m observed \u001b[38;5;129;01mis\u001b[39;00m lib\u001b[38;5;241m.\u001b[39mno_default:\n\u001b[0;32m   1340\u001b[0m     \u001b[38;5;28;01mif\u001b[39;00m \u001b[38;5;28many\u001b[39m(ping\u001b[38;5;241m.\u001b[39m_passed_categorical \u001b[38;5;28;01mfor\u001b[39;00m ping \u001b[38;5;129;01min\u001b[39;00m grouper\u001b[38;5;241m.\u001b[39mgroupings):\n",
      "File \u001b[1;32m~\\anaconda3\\Lib\\site-packages\\pandas\\core\\groupby\\grouper.py:1043\u001b[0m, in \u001b[0;36mget_grouper\u001b[1;34m(obj, key, axis, level, sort, observed, validate, dropna)\u001b[0m\n\u001b[0;32m   1041\u001b[0m         in_axis, level, gpr \u001b[38;5;241m=\u001b[39m \u001b[38;5;28;01mFalse\u001b[39;00m, gpr, \u001b[38;5;28;01mNone\u001b[39;00m\n\u001b[0;32m   1042\u001b[0m     \u001b[38;5;28;01melse\u001b[39;00m:\n\u001b[1;32m-> 1043\u001b[0m         \u001b[38;5;28;01mraise\u001b[39;00m \u001b[38;5;167;01mKeyError\u001b[39;00m(gpr)\n\u001b[0;32m   1044\u001b[0m \u001b[38;5;28;01melif\u001b[39;00m \u001b[38;5;28misinstance\u001b[39m(gpr, Grouper) \u001b[38;5;129;01mand\u001b[39;00m gpr\u001b[38;5;241m.\u001b[39mkey \u001b[38;5;129;01mis\u001b[39;00m \u001b[38;5;129;01mnot\u001b[39;00m \u001b[38;5;28;01mNone\u001b[39;00m:\n\u001b[0;32m   1045\u001b[0m     \u001b[38;5;66;03m# Add key to exclusions\u001b[39;00m\n\u001b[0;32m   1046\u001b[0m     exclusions\u001b[38;5;241m.\u001b[39madd(gpr\u001b[38;5;241m.\u001b[39mkey)\n",
      "\u001b[1;31mKeyError\u001b[0m: 'city'"
     ]
    }
   ],
   "source": [
    "matches_df = pd.read_csv('deliveries.csv')  # Load the matches dataset\n",
    "city_match_counts = matches_df.groupby('city')['id'].count().reset_index()\n",
    "city_match_counts.columns = ['city', 'match_count']\n",
    "sorted_city_matches = city_match_counts.sort_values(by='match_count', ascending=False)\n",
    "top_20_cities = sorted_city_matches.head(20)\n",
    "print(top_20_cities)\n",
    "\n"
   ]
  },
  {
   "cell_type": "code",
   "execution_count": 23,
   "id": "cfde2ab0-db9b-475b-a615-6f56b2424f78",
   "metadata": {},
   "outputs": [
    {
     "ename": "KeyError",
     "evalue": "\"['city'] not in index\"",
     "output_type": "error",
     "traceback": [
      "\u001b[1;31m---------------------------------------------------------------------------\u001b[0m",
      "\u001b[1;31mKeyError\u001b[0m                                  Traceback (most recent call last)",
      "Cell \u001b[1;32mIn[23], line 8\u001b[0m\n\u001b[0;32m      5\u001b[0m metadata_df \u001b[38;5;241m=\u001b[39m pd\u001b[38;5;241m.\u001b[39mread_csv(\u001b[38;5;124m'\u001b[39m\u001b[38;5;124mdeliveries.csv\u001b[39m\u001b[38;5;124m'\u001b[39m)  \u001b[38;5;66;03m# Ensure this has city and match_id columns\u001b[39;00m\n\u001b[0;32m      7\u001b[0m \u001b[38;5;66;03m# Merge datasets\u001b[39;00m\n\u001b[1;32m----> 8\u001b[0m matches_with_city \u001b[38;5;241m=\u001b[39m pd\u001b[38;5;241m.\u001b[39mmerge(ball_by_ball_df, metadata_df[[\u001b[38;5;124m'\u001b[39m\u001b[38;5;124mmatch_id\u001b[39m\u001b[38;5;124m'\u001b[39m, \u001b[38;5;124m'\u001b[39m\u001b[38;5;124mcity\u001b[39m\u001b[38;5;124m'\u001b[39m]], on\u001b[38;5;241m=\u001b[39m\u001b[38;5;124m'\u001b[39m\u001b[38;5;124mmatch_id\u001b[39m\u001b[38;5;124m'\u001b[39m, how\u001b[38;5;241m=\u001b[39m\u001b[38;5;124m'\u001b[39m\u001b[38;5;124mleft\u001b[39m\u001b[38;5;124m'\u001b[39m)\n\u001b[0;32m     10\u001b[0m \u001b[38;5;66;03m# Group by city to count matches\u001b[39;00m\n\u001b[0;32m     11\u001b[0m city_match_counts \u001b[38;5;241m=\u001b[39m matches_with_city\u001b[38;5;241m.\u001b[39mgroupby(\u001b[38;5;124m'\u001b[39m\u001b[38;5;124mcity\u001b[39m\u001b[38;5;124m'\u001b[39m)[\u001b[38;5;124m'\u001b[39m\u001b[38;5;124mmatch_id\u001b[39m\u001b[38;5;124m'\u001b[39m]\u001b[38;5;241m.\u001b[39mnunique()\u001b[38;5;241m.\u001b[39mreset_index()\n",
      "File \u001b[1;32m~\\anaconda3\\Lib\\site-packages\\pandas\\core\\frame.py:4108\u001b[0m, in \u001b[0;36mDataFrame.__getitem__\u001b[1;34m(self, key)\u001b[0m\n\u001b[0;32m   4106\u001b[0m     \u001b[38;5;28;01mif\u001b[39;00m is_iterator(key):\n\u001b[0;32m   4107\u001b[0m         key \u001b[38;5;241m=\u001b[39m \u001b[38;5;28mlist\u001b[39m(key)\n\u001b[1;32m-> 4108\u001b[0m     indexer \u001b[38;5;241m=\u001b[39m \u001b[38;5;28mself\u001b[39m\u001b[38;5;241m.\u001b[39mcolumns\u001b[38;5;241m.\u001b[39m_get_indexer_strict(key, \u001b[38;5;124m\"\u001b[39m\u001b[38;5;124mcolumns\u001b[39m\u001b[38;5;124m\"\u001b[39m)[\u001b[38;5;241m1\u001b[39m]\n\u001b[0;32m   4110\u001b[0m \u001b[38;5;66;03m# take() does not accept boolean indexers\u001b[39;00m\n\u001b[0;32m   4111\u001b[0m \u001b[38;5;28;01mif\u001b[39;00m \u001b[38;5;28mgetattr\u001b[39m(indexer, \u001b[38;5;124m\"\u001b[39m\u001b[38;5;124mdtype\u001b[39m\u001b[38;5;124m\"\u001b[39m, \u001b[38;5;28;01mNone\u001b[39;00m) \u001b[38;5;241m==\u001b[39m \u001b[38;5;28mbool\u001b[39m:\n",
      "File \u001b[1;32m~\\anaconda3\\Lib\\site-packages\\pandas\\core\\indexes\\base.py:6200\u001b[0m, in \u001b[0;36mIndex._get_indexer_strict\u001b[1;34m(self, key, axis_name)\u001b[0m\n\u001b[0;32m   6197\u001b[0m \u001b[38;5;28;01melse\u001b[39;00m:\n\u001b[0;32m   6198\u001b[0m     keyarr, indexer, new_indexer \u001b[38;5;241m=\u001b[39m \u001b[38;5;28mself\u001b[39m\u001b[38;5;241m.\u001b[39m_reindex_non_unique(keyarr)\n\u001b[1;32m-> 6200\u001b[0m \u001b[38;5;28mself\u001b[39m\u001b[38;5;241m.\u001b[39m_raise_if_missing(keyarr, indexer, axis_name)\n\u001b[0;32m   6202\u001b[0m keyarr \u001b[38;5;241m=\u001b[39m \u001b[38;5;28mself\u001b[39m\u001b[38;5;241m.\u001b[39mtake(indexer)\n\u001b[0;32m   6203\u001b[0m \u001b[38;5;28;01mif\u001b[39;00m \u001b[38;5;28misinstance\u001b[39m(key, Index):\n\u001b[0;32m   6204\u001b[0m     \u001b[38;5;66;03m# GH 42790 - Preserve name from an Index\u001b[39;00m\n",
      "File \u001b[1;32m~\\anaconda3\\Lib\\site-packages\\pandas\\core\\indexes\\base.py:6252\u001b[0m, in \u001b[0;36mIndex._raise_if_missing\u001b[1;34m(self, key, indexer, axis_name)\u001b[0m\n\u001b[0;32m   6249\u001b[0m     \u001b[38;5;28;01mraise\u001b[39;00m \u001b[38;5;167;01mKeyError\u001b[39;00m(\u001b[38;5;124mf\u001b[39m\u001b[38;5;124m\"\u001b[39m\u001b[38;5;124mNone of [\u001b[39m\u001b[38;5;132;01m{\u001b[39;00mkey\u001b[38;5;132;01m}\u001b[39;00m\u001b[38;5;124m] are in the [\u001b[39m\u001b[38;5;132;01m{\u001b[39;00maxis_name\u001b[38;5;132;01m}\u001b[39;00m\u001b[38;5;124m]\u001b[39m\u001b[38;5;124m\"\u001b[39m)\n\u001b[0;32m   6251\u001b[0m not_found \u001b[38;5;241m=\u001b[39m \u001b[38;5;28mlist\u001b[39m(ensure_index(key)[missing_mask\u001b[38;5;241m.\u001b[39mnonzero()[\u001b[38;5;241m0\u001b[39m]]\u001b[38;5;241m.\u001b[39munique())\n\u001b[1;32m-> 6252\u001b[0m \u001b[38;5;28;01mraise\u001b[39;00m \u001b[38;5;167;01mKeyError\u001b[39;00m(\u001b[38;5;124mf\u001b[39m\u001b[38;5;124m\"\u001b[39m\u001b[38;5;132;01m{\u001b[39;00mnot_found\u001b[38;5;132;01m}\u001b[39;00m\u001b[38;5;124m not in index\u001b[39m\u001b[38;5;124m\"\u001b[39m)\n",
      "\u001b[1;31mKeyError\u001b[0m: \"['city'] not in index\""
     ]
    }
   ],
   "source": [
    "import pandas as pd\n",
    "\n",
    "# Load the datasets\n",
    "ball_by_ball_df = pd.read_csv('deliveries.csv')\n",
    "metadata_df = pd.read_csv('deliveries.csv')  # Ensure this has city and match_id columns\n",
    "\n",
    "# Merge datasets\n",
    "matches_with_city = pd.merge(ball_by_ball_df, metadata_df[['match_id', 'city']], on='match_id', how='left')\n",
    "\n",
    "# Group by city to count matches\n",
    "city_match_counts = matches_with_city.groupby('city')['match_id'].nunique().reset_index()\n",
    "city_match_counts.columns = ['city', 'match_count']\n",
    "\n",
    "# Sort and select the top 20 cities\n",
    "top_20_cities = city_match_counts.sort_values(by='match_count', ascending=False).head(20)\n",
    "print(top_20_cities)\n"
   ]
  },
  {
   "cell_type": "code",
   "execution_count": 27,
   "id": "2f1a7527-cb8e-4f16-ad9f-bd07978867d2",
   "metadata": {},
   "outputs": [
    {
     "name": "stdout",
     "output_type": "stream",
     "text": [
      "   match_id  inning           batting_team                 bowling_team  over  \\\n",
      "0    335982       1  Kolkata Knight Riders  Royal Challengers Bangalore     0   \n",
      "1    335982       2  Kolkata Knight Riders  Royal Challengers Bangalore     1   \n",
      "2   1426312       1  Kolkata Knight Riders          Sunrisers Hyderabad     9   \n",
      "3   1426312       2  Kolkata Knight Riders          Sunrisers Hyderabad    10   \n",
      "\n",
      "   ball       city  \n",
      "0     1  Bengaluru  \n",
      "1     2  Bengaluru  \n",
      "2     5  Hyderabad  \n",
      "3     3  Hyderabad  \n"
     ]
    }
   ],
   "source": [
    "data = {\n",
    "    \"match_id\": [335982, 335982, 1426312, 1426312],\n",
    "    \"inning\": [1, 2, 1, 2],\n",
    "    \"batting_team\": [\"Kolkata Knight Riders\", \"Kolkata Knight Riders\", \"Kolkata Knight Riders\", \"Kolkata Knight Riders\"],\n",
    "    \"bowling_team\": [\"Royal Challengers Bangalore\", \"Royal Challengers Bangalore\", \"Sunrisers Hyderabad\", \"Sunrisers Hyderabad\"],\n",
    "    \"over\": [0, 1, 9, 10],\n",
    "    \"ball\": [1, 2, 5, 3],\n",
    "}\n",
    "\n",
    "# Creating  a DataFrame from the dataset\n",
    "df = pd.DataFrame(data)\n",
    "\n",
    "# Match to city mapping\n",
    "match_city_mapping = {\n",
    "    335982: \"Bengaluru\",\n",
    "    335983: \"Mumbai\",\n",
    "    335984: \"Kolkata\",\n",
    "    1426312: \"Hyderabad\",\n",
    "    # Adding more match_id to city mappings here\n",
    "}\n",
    "\n",
    "# Adding the `city` column by mapping match_id\n",
    "df[\"city\"] = df[\"match_id\"].map(match_city_mapping)\n",
    "\n",
    "\n",
    "df.to_csv(\"updated_dataset_with_city.csv\", index=False)\n",
    "\n",
    "# Display the updated DataFrame\n",
    "print(df)\n"
   ]
  },
  {
   "cell_type": "code",
   "execution_count": 2,
   "id": "1c1e9b1c-0472-425d-9177-1a03dbc82e35",
   "metadata": {},
   "outputs": [
    {
     "name": "stdout",
     "output_type": "stream",
     "text": [
      "        match_id  inning           batting_team                 bowling_team  \\\n",
      "0         335982       1  Kolkata Knight Riders  Royal Challengers Bangalore   \n",
      "1         335982       1  Kolkata Knight Riders  Royal Challengers Bangalore   \n",
      "2         335982       1  Kolkata Knight Riders  Royal Challengers Bangalore   \n",
      "3         335982       1  Kolkata Knight Riders  Royal Challengers Bangalore   \n",
      "4         335982       1  Kolkata Knight Riders  Royal Challengers Bangalore   \n",
      "...          ...     ...                    ...                          ...   \n",
      "260915   1426312       2  Kolkata Knight Riders          Sunrisers Hyderabad   \n",
      "260916   1426312       2  Kolkata Knight Riders          Sunrisers Hyderabad   \n",
      "260917   1426312       2  Kolkata Knight Riders          Sunrisers Hyderabad   \n",
      "260918   1426312       2  Kolkata Knight Riders          Sunrisers Hyderabad   \n",
      "260919   1426312       2  Kolkata Knight Riders          Sunrisers Hyderabad   \n",
      "\n",
      "        over  ball       batter         bowler  non_striker  batsman_runs  \\\n",
      "0          0     1   SC Ganguly        P Kumar  BB McCullum             0   \n",
      "1          0     2  BB McCullum        P Kumar   SC Ganguly             0   \n",
      "2          0     3  BB McCullum        P Kumar   SC Ganguly             0   \n",
      "3          0     4  BB McCullum        P Kumar   SC Ganguly             0   \n",
      "4          0     5  BB McCullum        P Kumar   SC Ganguly             0   \n",
      "...      ...   ...          ...            ...          ...           ...   \n",
      "260915     9     5      SS Iyer     AK Markram      VR Iyer             1   \n",
      "260916     9     6      VR Iyer     AK Markram      SS Iyer             1   \n",
      "260917    10     1      VR Iyer  Shahbaz Ahmed      SS Iyer             1   \n",
      "260918    10     2      SS Iyer  Shahbaz Ahmed      VR Iyer             1   \n",
      "260919    10     3      VR Iyer  Shahbaz Ahmed      SS Iyer             1   \n",
      "\n",
      "        extra_runs  total_runs extras_type  is_wicket player_dismissed  \\\n",
      "0                1           1     legbyes          0              NaN   \n",
      "1                0           0         NaN          0              NaN   \n",
      "2                1           1       wides          0              NaN   \n",
      "3                0           0         NaN          0              NaN   \n",
      "4                0           0         NaN          0              NaN   \n",
      "...            ...         ...         ...        ...              ...   \n",
      "260915           0           1         NaN          0              NaN   \n",
      "260916           0           1         NaN          0              NaN   \n",
      "260917           0           1         NaN          0              NaN   \n",
      "260918           0           1         NaN          0              NaN   \n",
      "260919           0           1         NaN          0              NaN   \n",
      "\n",
      "       dismissal_kind fielder  \n",
      "0                 NaN     NaN  \n",
      "1                 NaN     NaN  \n",
      "2                 NaN     NaN  \n",
      "3                 NaN     NaN  \n",
      "4                 NaN     NaN  \n",
      "...               ...     ...  \n",
      "260915            NaN     NaN  \n",
      "260916            NaN     NaN  \n",
      "260917            NaN     NaN  \n",
      "260918            NaN     NaN  \n",
      "260919            NaN     NaN  \n",
      "\n",
      "[260920 rows x 17 columns]\n"
     ]
    }
   ],
   "source": [
    "import pandas as pd\n",
    "df = pd.read_csv('deliveries.csv')\n",
    "print(df)"
   ]
  },
  {
   "cell_type": "code",
   "execution_count": 42,
   "id": "05934349-5130-4eab-84ea-6dd9f1005541",
   "metadata": {},
   "outputs": [
    {
     "name": "stdout",
     "output_type": "stream",
     "text": [
      "        match_id  inning           batting_team                 bowling_team  \\\n",
      "0         335982       1  Kolkata Knight Riders  Royal Challengers Bangalore   \n",
      "1         335982       1  Kolkata Knight Riders  Royal Challengers Bangalore   \n",
      "2         335982       1  Kolkata Knight Riders  Royal Challengers Bangalore   \n",
      "3         335982       1  Kolkata Knight Riders  Royal Challengers Bangalore   \n",
      "4         335982       1  Kolkata Knight Riders  Royal Challengers Bangalore   \n",
      "...          ...     ...                    ...                          ...   \n",
      "260915   1426312       2  Kolkata Knight Riders          Sunrisers Hyderabad   \n",
      "260916   1426312       2  Kolkata Knight Riders          Sunrisers Hyderabad   \n",
      "260917   1426312       2  Kolkata Knight Riders          Sunrisers Hyderabad   \n",
      "260918   1426312       2  Kolkata Knight Riders          Sunrisers Hyderabad   \n",
      "260919   1426312       2  Kolkata Knight Riders          Sunrisers Hyderabad   \n",
      "\n",
      "        over  ball       batter         bowler  non_striker  batsman_runs  \\\n",
      "0          0     1   SC Ganguly        P Kumar  BB McCullum             0   \n",
      "1          0     2  BB McCullum        P Kumar   SC Ganguly             0   \n",
      "2          0     3  BB McCullum        P Kumar   SC Ganguly             0   \n",
      "3          0     4  BB McCullum        P Kumar   SC Ganguly             0   \n",
      "4          0     5  BB McCullum        P Kumar   SC Ganguly             0   \n",
      "...      ...   ...          ...            ...          ...           ...   \n",
      "260915     9     5      SS Iyer     AK Markram      VR Iyer             1   \n",
      "260916     9     6      VR Iyer     AK Markram      SS Iyer             1   \n",
      "260917    10     1      VR Iyer  Shahbaz Ahmed      SS Iyer             1   \n",
      "260918    10     2      SS Iyer  Shahbaz Ahmed      VR Iyer             1   \n",
      "260919    10     3      VR Iyer  Shahbaz Ahmed      SS Iyer             1   \n",
      "\n",
      "        extra_runs  total_runs extras_type  is_wicket player_dismissed  \\\n",
      "0                1           1     legbyes          0              NaN   \n",
      "1                0           0         NaN          0              NaN   \n",
      "2                1           1       wides          0              NaN   \n",
      "3                0           0         NaN          0              NaN   \n",
      "4                0           0         NaN          0              NaN   \n",
      "...            ...         ...         ...        ...              ...   \n",
      "260915           0           1         NaN          0              NaN   \n",
      "260916           0           1         NaN          0              NaN   \n",
      "260917           0           1         NaN          0              NaN   \n",
      "260918           0           1         NaN          0              NaN   \n",
      "260919           0           1         NaN          0              NaN   \n",
      "\n",
      "       dismissal_kind fielder  \n",
      "0                 NaN     NaN  \n",
      "1                 NaN     NaN  \n",
      "2                 NaN     NaN  \n",
      "3                 NaN     NaN  \n",
      "4                 NaN     NaN  \n",
      "...               ...     ...  \n",
      "260915            NaN     NaN  \n",
      "260916            NaN     NaN  \n",
      "260917            NaN     NaN  \n",
      "260918            NaN     NaN  \n",
      "260919            NaN     NaN  \n",
      "\n",
      "[260920 rows x 17 columns]\n"
     ]
    }
   ],
   "source": [
    "import pandas as pd\n",
    "df = pd.read_csv('deliveries.csv')\n",
    "print(df)"
   ]
  },
  {
   "cell_type": "code",
   "execution_count": null,
   "id": "800fef37-9758-422f-9c7f-3c20f4fd3596",
   "metadata": {},
   "outputs": [],
   "source": []
  },
  {
   "cell_type": "code",
   "execution_count": 8,
   "id": "2e137f81-3393-45d4-b8a4-20249d6aa060",
   "metadata": {},
   "outputs": [],
   "source": [
    "# Import libraries\n",
    "import pandas as pd\n",
    "import matplotlib.pyplot as plt\n",
    "from statsmodels.tsa.arima.model import ARIMA\n",
    "from statsmodels.tsa.stattools import adfuller\n"
   ]
  },
  {
   "cell_type": "code",
   "execution_count": 70,
   "id": "87914cda-fe21-4a49-8f37-2f651f1cd306",
   "metadata": {},
   "outputs": [
    {
     "ename": "FileNotFoundError",
     "evalue": "[Errno 2] No such file or directory: 'deliveries.csv.csv'",
     "output_type": "error",
     "traceback": [
      "\u001b[1;31m---------------------------------------------------------------------------\u001b[0m",
      "\u001b[1;31mFileNotFoundError\u001b[0m                         Traceback (most recent call last)",
      "Cell \u001b[1;32mIn[70], line 3\u001b[0m\n\u001b[0;32m      1\u001b[0m matches_path \u001b[38;5;241m=\u001b[39m \u001b[38;5;124m\"\u001b[39m\u001b[38;5;124mdeliveries.csv.csv\u001b[39m\u001b[38;5;124m\"\u001b[39m\n\u001b[1;32m----> 3\u001b[0m matches_df \u001b[38;5;241m=\u001b[39m pd\u001b[38;5;241m.\u001b[39mread_csv(matches_path)\n\u001b[0;32m      5\u001b[0m \u001b[38;5;66;03m#data preparation\u001b[39;00m\n\u001b[0;32m      6\u001b[0m \u001b[38;5;28mprint\u001b[39m(matches_df\u001b[38;5;241m.\u001b[39mhead(\u001b[38;5;241m5\u001b[39m))\n",
      "File \u001b[1;32m~\\anaconda3\\Lib\\site-packages\\pandas\\io\\parsers\\readers.py:1026\u001b[0m, in \u001b[0;36mread_csv\u001b[1;34m(filepath_or_buffer, sep, delimiter, header, names, index_col, usecols, dtype, engine, converters, true_values, false_values, skipinitialspace, skiprows, skipfooter, nrows, na_values, keep_default_na, na_filter, verbose, skip_blank_lines, parse_dates, infer_datetime_format, keep_date_col, date_parser, date_format, dayfirst, cache_dates, iterator, chunksize, compression, thousands, decimal, lineterminator, quotechar, quoting, doublequote, escapechar, comment, encoding, encoding_errors, dialect, on_bad_lines, delim_whitespace, low_memory, memory_map, float_precision, storage_options, dtype_backend)\u001b[0m\n\u001b[0;32m   1013\u001b[0m kwds_defaults \u001b[38;5;241m=\u001b[39m _refine_defaults_read(\n\u001b[0;32m   1014\u001b[0m     dialect,\n\u001b[0;32m   1015\u001b[0m     delimiter,\n\u001b[1;32m   (...)\u001b[0m\n\u001b[0;32m   1022\u001b[0m     dtype_backend\u001b[38;5;241m=\u001b[39mdtype_backend,\n\u001b[0;32m   1023\u001b[0m )\n\u001b[0;32m   1024\u001b[0m kwds\u001b[38;5;241m.\u001b[39mupdate(kwds_defaults)\n\u001b[1;32m-> 1026\u001b[0m \u001b[38;5;28;01mreturn\u001b[39;00m _read(filepath_or_buffer, kwds)\n",
      "File \u001b[1;32m~\\anaconda3\\Lib\\site-packages\\pandas\\io\\parsers\\readers.py:620\u001b[0m, in \u001b[0;36m_read\u001b[1;34m(filepath_or_buffer, kwds)\u001b[0m\n\u001b[0;32m    617\u001b[0m _validate_names(kwds\u001b[38;5;241m.\u001b[39mget(\u001b[38;5;124m\"\u001b[39m\u001b[38;5;124mnames\u001b[39m\u001b[38;5;124m\"\u001b[39m, \u001b[38;5;28;01mNone\u001b[39;00m))\n\u001b[0;32m    619\u001b[0m \u001b[38;5;66;03m# Create the parser.\u001b[39;00m\n\u001b[1;32m--> 620\u001b[0m parser \u001b[38;5;241m=\u001b[39m TextFileReader(filepath_or_buffer, \u001b[38;5;241m*\u001b[39m\u001b[38;5;241m*\u001b[39mkwds)\n\u001b[0;32m    622\u001b[0m \u001b[38;5;28;01mif\u001b[39;00m chunksize \u001b[38;5;129;01mor\u001b[39;00m iterator:\n\u001b[0;32m    623\u001b[0m     \u001b[38;5;28;01mreturn\u001b[39;00m parser\n",
      "File \u001b[1;32m~\\anaconda3\\Lib\\site-packages\\pandas\\io\\parsers\\readers.py:1620\u001b[0m, in \u001b[0;36mTextFileReader.__init__\u001b[1;34m(self, f, engine, **kwds)\u001b[0m\n\u001b[0;32m   1617\u001b[0m     \u001b[38;5;28mself\u001b[39m\u001b[38;5;241m.\u001b[39moptions[\u001b[38;5;124m\"\u001b[39m\u001b[38;5;124mhas_index_names\u001b[39m\u001b[38;5;124m\"\u001b[39m] \u001b[38;5;241m=\u001b[39m kwds[\u001b[38;5;124m\"\u001b[39m\u001b[38;5;124mhas_index_names\u001b[39m\u001b[38;5;124m\"\u001b[39m]\n\u001b[0;32m   1619\u001b[0m \u001b[38;5;28mself\u001b[39m\u001b[38;5;241m.\u001b[39mhandles: IOHandles \u001b[38;5;241m|\u001b[39m \u001b[38;5;28;01mNone\u001b[39;00m \u001b[38;5;241m=\u001b[39m \u001b[38;5;28;01mNone\u001b[39;00m\n\u001b[1;32m-> 1620\u001b[0m \u001b[38;5;28mself\u001b[39m\u001b[38;5;241m.\u001b[39m_engine \u001b[38;5;241m=\u001b[39m \u001b[38;5;28mself\u001b[39m\u001b[38;5;241m.\u001b[39m_make_engine(f, \u001b[38;5;28mself\u001b[39m\u001b[38;5;241m.\u001b[39mengine)\n",
      "File \u001b[1;32m~\\anaconda3\\Lib\\site-packages\\pandas\\io\\parsers\\readers.py:1880\u001b[0m, in \u001b[0;36mTextFileReader._make_engine\u001b[1;34m(self, f, engine)\u001b[0m\n\u001b[0;32m   1878\u001b[0m     \u001b[38;5;28;01mif\u001b[39;00m \u001b[38;5;124m\"\u001b[39m\u001b[38;5;124mb\u001b[39m\u001b[38;5;124m\"\u001b[39m \u001b[38;5;129;01mnot\u001b[39;00m \u001b[38;5;129;01min\u001b[39;00m mode:\n\u001b[0;32m   1879\u001b[0m         mode \u001b[38;5;241m+\u001b[39m\u001b[38;5;241m=\u001b[39m \u001b[38;5;124m\"\u001b[39m\u001b[38;5;124mb\u001b[39m\u001b[38;5;124m\"\u001b[39m\n\u001b[1;32m-> 1880\u001b[0m \u001b[38;5;28mself\u001b[39m\u001b[38;5;241m.\u001b[39mhandles \u001b[38;5;241m=\u001b[39m get_handle(\n\u001b[0;32m   1881\u001b[0m     f,\n\u001b[0;32m   1882\u001b[0m     mode,\n\u001b[0;32m   1883\u001b[0m     encoding\u001b[38;5;241m=\u001b[39m\u001b[38;5;28mself\u001b[39m\u001b[38;5;241m.\u001b[39moptions\u001b[38;5;241m.\u001b[39mget(\u001b[38;5;124m\"\u001b[39m\u001b[38;5;124mencoding\u001b[39m\u001b[38;5;124m\"\u001b[39m, \u001b[38;5;28;01mNone\u001b[39;00m),\n\u001b[0;32m   1884\u001b[0m     compression\u001b[38;5;241m=\u001b[39m\u001b[38;5;28mself\u001b[39m\u001b[38;5;241m.\u001b[39moptions\u001b[38;5;241m.\u001b[39mget(\u001b[38;5;124m\"\u001b[39m\u001b[38;5;124mcompression\u001b[39m\u001b[38;5;124m\"\u001b[39m, \u001b[38;5;28;01mNone\u001b[39;00m),\n\u001b[0;32m   1885\u001b[0m     memory_map\u001b[38;5;241m=\u001b[39m\u001b[38;5;28mself\u001b[39m\u001b[38;5;241m.\u001b[39moptions\u001b[38;5;241m.\u001b[39mget(\u001b[38;5;124m\"\u001b[39m\u001b[38;5;124mmemory_map\u001b[39m\u001b[38;5;124m\"\u001b[39m, \u001b[38;5;28;01mFalse\u001b[39;00m),\n\u001b[0;32m   1886\u001b[0m     is_text\u001b[38;5;241m=\u001b[39mis_text,\n\u001b[0;32m   1887\u001b[0m     errors\u001b[38;5;241m=\u001b[39m\u001b[38;5;28mself\u001b[39m\u001b[38;5;241m.\u001b[39moptions\u001b[38;5;241m.\u001b[39mget(\u001b[38;5;124m\"\u001b[39m\u001b[38;5;124mencoding_errors\u001b[39m\u001b[38;5;124m\"\u001b[39m, \u001b[38;5;124m\"\u001b[39m\u001b[38;5;124mstrict\u001b[39m\u001b[38;5;124m\"\u001b[39m),\n\u001b[0;32m   1888\u001b[0m     storage_options\u001b[38;5;241m=\u001b[39m\u001b[38;5;28mself\u001b[39m\u001b[38;5;241m.\u001b[39moptions\u001b[38;5;241m.\u001b[39mget(\u001b[38;5;124m\"\u001b[39m\u001b[38;5;124mstorage_options\u001b[39m\u001b[38;5;124m\"\u001b[39m, \u001b[38;5;28;01mNone\u001b[39;00m),\n\u001b[0;32m   1889\u001b[0m )\n\u001b[0;32m   1890\u001b[0m \u001b[38;5;28;01massert\u001b[39;00m \u001b[38;5;28mself\u001b[39m\u001b[38;5;241m.\u001b[39mhandles \u001b[38;5;129;01mis\u001b[39;00m \u001b[38;5;129;01mnot\u001b[39;00m \u001b[38;5;28;01mNone\u001b[39;00m\n\u001b[0;32m   1891\u001b[0m f \u001b[38;5;241m=\u001b[39m \u001b[38;5;28mself\u001b[39m\u001b[38;5;241m.\u001b[39mhandles\u001b[38;5;241m.\u001b[39mhandle\n",
      "File \u001b[1;32m~\\anaconda3\\Lib\\site-packages\\pandas\\io\\common.py:873\u001b[0m, in \u001b[0;36mget_handle\u001b[1;34m(path_or_buf, mode, encoding, compression, memory_map, is_text, errors, storage_options)\u001b[0m\n\u001b[0;32m    868\u001b[0m \u001b[38;5;28;01melif\u001b[39;00m \u001b[38;5;28misinstance\u001b[39m(handle, \u001b[38;5;28mstr\u001b[39m):\n\u001b[0;32m    869\u001b[0m     \u001b[38;5;66;03m# Check whether the filename is to be opened in binary mode.\u001b[39;00m\n\u001b[0;32m    870\u001b[0m     \u001b[38;5;66;03m# Binary mode does not support 'encoding' and 'newline'.\u001b[39;00m\n\u001b[0;32m    871\u001b[0m     \u001b[38;5;28;01mif\u001b[39;00m ioargs\u001b[38;5;241m.\u001b[39mencoding \u001b[38;5;129;01mand\u001b[39;00m \u001b[38;5;124m\"\u001b[39m\u001b[38;5;124mb\u001b[39m\u001b[38;5;124m\"\u001b[39m \u001b[38;5;129;01mnot\u001b[39;00m \u001b[38;5;129;01min\u001b[39;00m ioargs\u001b[38;5;241m.\u001b[39mmode:\n\u001b[0;32m    872\u001b[0m         \u001b[38;5;66;03m# Encoding\u001b[39;00m\n\u001b[1;32m--> 873\u001b[0m         handle \u001b[38;5;241m=\u001b[39m \u001b[38;5;28mopen\u001b[39m(\n\u001b[0;32m    874\u001b[0m             handle,\n\u001b[0;32m    875\u001b[0m             ioargs\u001b[38;5;241m.\u001b[39mmode,\n\u001b[0;32m    876\u001b[0m             encoding\u001b[38;5;241m=\u001b[39mioargs\u001b[38;5;241m.\u001b[39mencoding,\n\u001b[0;32m    877\u001b[0m             errors\u001b[38;5;241m=\u001b[39merrors,\n\u001b[0;32m    878\u001b[0m             newline\u001b[38;5;241m=\u001b[39m\u001b[38;5;124m\"\u001b[39m\u001b[38;5;124m\"\u001b[39m,\n\u001b[0;32m    879\u001b[0m         )\n\u001b[0;32m    880\u001b[0m     \u001b[38;5;28;01melse\u001b[39;00m:\n\u001b[0;32m    881\u001b[0m         \u001b[38;5;66;03m# Binary mode\u001b[39;00m\n\u001b[0;32m    882\u001b[0m         handle \u001b[38;5;241m=\u001b[39m \u001b[38;5;28mopen\u001b[39m(handle, ioargs\u001b[38;5;241m.\u001b[39mmode)\n",
      "\u001b[1;31mFileNotFoundError\u001b[0m: [Errno 2] No such file or directory: 'deliveries.csv.csv'"
     ]
    }
   ],
   "source": [
    "matches_path = \"deliveries.csv.csv\"\n",
    "\n",
    "matches_df = pd.read_csv(matches_path)\n",
    "\n",
    "#data preparation\n",
    "print(matches_df.head(5))\n",
    "\n",
    "matches_df[\"date\"] = pd.to_datetime(matches_df['date'])\n",
    "matches_df.head(5)"
   ]
  },
  {
   "cell_type": "code",
   "execution_count": null,
   "id": "e4f64bfb-00fe-49ea-a0ca-4adb5e9c317f",
   "metadata": {},
   "outputs": [],
   "source": []
  },
  {
   "cell_type": "code",
   "execution_count": 14,
   "id": "aa683f62-b4ea-4f5d-a8c9-1c9fef84ea2a",
   "metadata": {},
   "outputs": [],
   "source": [
    "import pandas as pd\n",
    "from statsmodels.tsa.arima.model import ARIMA  # For future use if needed\n"
   ]
  },
  {
   "cell_type": "code",
   "execution_count": 18,
   "id": "dcec7a64-d540-4194-ad46-eefbed53fa77",
   "metadata": {},
   "outputs": [
    {
     "name": "stdout",
     "output_type": "stream",
     "text": [
      "   match_id  inning           batting_team                 bowling_team  over  \\\n",
      "0    335982       1  Kolkata Knight Riders  Royal Challengers Bangalore     0   \n",
      "1    335982       1  Kolkata Knight Riders  Royal Challengers Bangalore     0   \n",
      "2    335982       1  Kolkata Knight Riders  Royal Challengers Bangalore     0   \n",
      "3    335982       1  Kolkata Knight Riders  Royal Challengers Bangalore     0   \n",
      "4    335982       1  Kolkata Knight Riders  Royal Challengers Bangalore     0   \n",
      "\n",
      "   ball       batter   bowler  non_striker  batsman_runs  extra_runs  \\\n",
      "0     1   SC Ganguly  P Kumar  BB McCullum             0           1   \n",
      "1     2  BB McCullum  P Kumar   SC Ganguly             0           0   \n",
      "2     3  BB McCullum  P Kumar   SC Ganguly             0           1   \n",
      "3     4  BB McCullum  P Kumar   SC Ganguly             0           0   \n",
      "4     5  BB McCullum  P Kumar   SC Ganguly             0           0   \n",
      "\n",
      "   total_runs extras_type  is_wicket player_dismissed dismissal_kind fielder  \n",
      "0           1     legbyes          0              NaN            NaN     NaN  \n",
      "1           0         NaN          0              NaN            NaN     NaN  \n",
      "2           1       wides          0              NaN            NaN     NaN  \n",
      "3           0         NaN          0              NaN            NaN     NaN  \n",
      "4           0         NaN          0              NaN            NaN     NaN  \n"
     ]
    }
   ],
   "source": [
    "# Load the dataset\n",
    "df = pd.read_csv('deliveries.csv')\n",
    "\n",
    "# Display the first few rows of the dataset\n",
    "print(df.head())\n"
   ]
  },
  {
   "cell_type": "code",
   "execution_count": 22,
   "id": "a1cc683e-ab9a-4158-bfad-4eb295c6960f",
   "metadata": {},
   "outputs": [],
   "source": [
    "# Filter data for the player \"V Kohli\"\n",
    "kohli_scores = df[df['batter'] == 'V Kohli']\n"
   ]
  },
  {
   "cell_type": "code",
   "execution_count": 24,
   "id": "65b3bde6-9f37-44aa-a235-cfa6d9c4246f",
   "metadata": {},
   "outputs": [
    {
     "name": "stdout",
     "output_type": "stream",
     "text": [
      "   match_id  batsman_runs\n",
      "0    335982             1\n",
      "1    335985            23\n",
      "2    335992            13\n",
      "3    335996            12\n",
      "4    335998             1\n"
     ]
    }
   ],
   "source": [
    "# Group by match_id and sum the batsman_runs for each match\n",
    "kohli_match_summary = kohli_scores.groupby('match_id')['batsman_runs'].sum().reset_index()\n",
    "\n",
    "# Display the summarized DataFrame\n",
    "print(kohli_match_summary.head())\n"
   ]
  },
  {
   "cell_type": "code",
   "execution_count": 28,
   "id": "2a237ebe-9154-4109-9fc6-8a10ee3f256e",
   "metadata": {},
   "outputs": [
    {
     "name": "stdout",
     "output_type": "stream",
     "text": [
      "   match_id  batsman_runs\n",
      "0    335982             1\n",
      "1    335985            23\n",
      "2    335992            13\n",
      "3    335996            12\n",
      "4    335998             1\n"
     ]
    }
   ],
   "source": [
    "# Reset the index (already done in groupby)\n",
    "kohli_match_summary = kohli_match_summary.reset_index(drop=True)\n",
    "\n",
    "# Display the final output DataFrame\n",
    "print(kohli_match_summary.head())\n"
   ]
  },
  {
   "cell_type": "code",
   "execution_count": 32,
   "id": "25f758c6-ec0a-4334-84ba-26a63e129e6f",
   "metadata": {},
   "outputs": [
    {
     "name": "stdout",
     "output_type": "stream",
     "text": [
      "Total Runs Scored by V Kohli: 8014\n"
     ]
    }
   ],
   "source": [
    "# Compute the total runs scored by V Kohli\n",
    "total_runs_kohli = kohli_scores['batsman_runs'].sum()\n",
    "print(f\"Total Runs Scored by V Kohli: {total_runs_kohli}\")\n"
   ]
  },
  {
   "cell_type": "code",
   "execution_count": 36,
   "id": "3f5be3a0-76b8-4f71-bbe6-f8844d11df81",
   "metadata": {},
   "outputs": [
    {
     "name": "stdout",
     "output_type": "stream",
     "text": [
      "   match_id  batsman_runs\n",
      "0    335982             1\n",
      "1    335985            23\n",
      "2    335992            13\n",
      "3    335996            12\n",
      "4    335998             1\n"
     ]
    }
   ],
   "source": [
    "# Limit the dataset to the first 240 matches\n",
    "kohli_subset = kohli_match_summary.head(240)\n",
    "print(kohli_subset.head())  # Check the first few rows to confirm\n"
   ]
  },
  {
   "cell_type": "code",
   "execution_count": 44,
   "id": "f7ca671c-ba22-42e1-aa25-d285751bf3ca",
   "metadata": {},
   "outputs": [
    {
     "name": "stdout",
     "output_type": "stream",
     "text": [
      "              match_id  batsman_runs\n",
      "match_number                        \n",
      "1               335982             1\n",
      "2               335985            23\n",
      "3               335992            13\n",
      "4               335996            12\n",
      "5               335998             1\n"
     ]
    },
    {
     "name": "stderr",
     "output_type": "stream",
     "text": [
      "C:\\Users\\HP\\AppData\\Local\\Temp\\ipykernel_14160\\4147490182.py:2: SettingWithCopyWarning: \n",
      "A value is trying to be set on a copy of a slice from a DataFrame.\n",
      "Try using .loc[row_indexer,col_indexer] = value instead\n",
      "\n",
      "See the caveats in the documentation: https://pandas.pydata.org/pandas-docs/stable/user_guide/indexing.html#returning-a-view-versus-a-copy\n",
      "  kohli_subset['match_number'] = range(1, len(kohli_subset) + 1)\n"
     ]
    }
   ],
   "source": [
    "# Add a sequential match_number column\n",
    "kohli_subset['match_number'] = range(1, len(kohli_subset) + 1)\n",
    "\n",
    "# Set match_number as the primary index\n",
    "kohli_subset.set_index('match_number', inplace=True)\n",
    "\n",
    "# Display the updated DataFrame with match_number as index\n",
    "print(kohli_subset.head())\n"
   ]
  },
  {
   "cell_type": "code",
   "execution_count": 48,
   "id": "cfa4e14c-6ec6-4a89-a46f-8fae66c0dead",
   "metadata": {},
   "outputs": [
    {
     "name": "stderr",
     "output_type": "stream",
     "text": [
      "C:\\Users\\HP\\anaconda3\\Lib\\site-packages\\statsmodels\\tsa\\base\\tsa_model.py:473: ValueWarning: An unsupported index was provided and will be ignored when e.g. forecasting.\n",
      "  self._init_dates(dates, freq)\n",
      "C:\\Users\\HP\\anaconda3\\Lib\\site-packages\\statsmodels\\tsa\\base\\tsa_model.py:473: ValueWarning: An unsupported index was provided and will be ignored when e.g. forecasting.\n",
      "  self._init_dates(dates, freq)\n",
      "C:\\Users\\HP\\anaconda3\\Lib\\site-packages\\statsmodels\\tsa\\base\\tsa_model.py:473: ValueWarning: An unsupported index was provided and will be ignored when e.g. forecasting.\n",
      "  self._init_dates(dates, freq)\n"
     ]
    },
    {
     "name": "stdout",
     "output_type": "stream",
     "text": [
      "                               SARIMAX Results                                \n",
      "==============================================================================\n",
      "Dep. Variable:           batsman_runs   No. Observations:                  240\n",
      "Model:                 ARIMA(1, 1, 1)   Log Likelihood               -1127.701\n",
      "Date:                Tue, 24 Dec 2024   AIC                           2261.402\n",
      "Time:                        23:09:29   BIC                           2271.831\n",
      "Sample:                             0   HQIC                          2265.605\n",
      "                                - 240                                         \n",
      "Covariance Type:                  opg                                         \n",
      "==============================================================================\n",
      "                 coef    std err          z      P>|z|      [0.025      0.975]\n",
      "------------------------------------------------------------------------------\n",
      "ar.L1          0.0221      0.067      0.332      0.740      -0.108       0.153\n",
      "ma.L1         -0.9326      0.024    -39.173      0.000      -0.979      -0.886\n",
      "sigma2       728.2666     70.073     10.393      0.000     590.926     865.607\n",
      "===================================================================================\n",
      "Ljung-Box (L1) (Q):                   0.01   Jarque-Bera (JB):                14.45\n",
      "Prob(Q):                              0.91   Prob(JB):                         0.00\n",
      "Heteroskedasticity (H):               1.99   Skew:                             0.58\n",
      "Prob(H) (two-sided):                  0.00   Kurtosis:                         2.71\n",
      "===================================================================================\n",
      "\n",
      "Warnings:\n",
      "[1] Covariance matrix calculated using the outer product of gradients (complex-step).\n"
     ]
    }
   ],
   "source": [
    "from statsmodels.tsa.arima.model import ARIMA\n",
    "\n",
    "# Fit the ARIMA model with p=1, d=1, q=1\n",
    "model = ARIMA(kohli_subset['batsman_runs'], order=(1, 1, 1))\n",
    "model_fit = model.fit()\n",
    "\n",
    "# Summary of the ARIMA model\n",
    "print(model_fit.summary())\n"
   ]
  },
  {
   "cell_type": "code",
   "execution_count": 52,
   "id": "994a28a7-218f-4a12-a73c-fd8282991898",
   "metadata": {},
   "outputs": [
    {
     "name": "stdout",
     "output_type": "stream",
     "text": [
      "Forecasted Runs for Next 5 Matches: 240    44.189547\n",
      "241    44.237982\n",
      "242    44.239054\n",
      "243    44.239078\n",
      "244    44.239078\n",
      "Name: predicted_mean, dtype: float64\n"
     ]
    },
    {
     "name": "stderr",
     "output_type": "stream",
     "text": [
      "C:\\Users\\HP\\anaconda3\\Lib\\site-packages\\statsmodels\\tsa\\base\\tsa_model.py:836: ValueWarning: No supported index is available. Prediction results will be given with an integer index beginning at `start`.\n",
      "  return get_prediction_index(\n",
      "C:\\Users\\HP\\anaconda3\\Lib\\site-packages\\statsmodels\\tsa\\base\\tsa_model.py:836: FutureWarning: No supported index is available. In the next version, calling this method in a model without a supported index will result in an exception.\n",
      "  return get_prediction_index(\n"
     ]
    }
   ],
   "source": [
    "# Define the number of future steps to forecast (e.g., 5 future matches)\n",
    "forecast_steps = 5\n",
    "\n",
    "# Forecast future runs\n",
    "forecast = model_fit.forecast(steps=forecast_steps)\n",
    "\n",
    "# Display the forecasted values\n",
    "print(f\"Forecasted Runs for Next {forecast_steps} Matches: {forecast}\")\n"
   ]
  },
  {
   "cell_type": "code",
   "execution_count": 56,
   "id": "f5a03065-05bc-4866-84b4-4e56ef9a7229",
   "metadata": {},
   "outputs": [
    {
     "name": "stdout",
     "output_type": "stream",
     "text": [
      "Total Runs Scored by V Kohli: 8014\n",
      "                               SARIMAX Results                                \n",
      "==============================================================================\n",
      "Dep. Variable:           batsman_runs   No. Observations:                  240\n",
      "Model:                 ARIMA(1, 1, 1)   Log Likelihood               -1127.701\n",
      "Date:                Tue, 24 Dec 2024   AIC                           2261.402\n",
      "Time:                        23:10:41   BIC                           2271.831\n",
      "Sample:                             0   HQIC                          2265.605\n",
      "                                - 240                                         \n",
      "Covariance Type:                  opg                                         \n",
      "==============================================================================\n",
      "                 coef    std err          z      P>|z|      [0.025      0.975]\n",
      "------------------------------------------------------------------------------\n",
      "ar.L1          0.0221      0.067      0.332      0.740      -0.108       0.153\n",
      "ma.L1         -0.9326      0.024    -39.173      0.000      -0.979      -0.886\n",
      "sigma2       728.2666     70.073     10.393      0.000     590.926     865.607\n",
      "===================================================================================\n",
      "Ljung-Box (L1) (Q):                   0.01   Jarque-Bera (JB):                14.45\n",
      "Prob(Q):                              0.91   Prob(JB):                         0.00\n",
      "Heteroskedasticity (H):               1.99   Skew:                             0.58\n",
      "Prob(H) (two-sided):                  0.00   Kurtosis:                         2.71\n",
      "===================================================================================\n",
      "\n",
      "Warnings:\n",
      "[1] Covariance matrix calculated using the outer product of gradients (complex-step).\n",
      "Forecasted Runs for Next 5 Matches: 240    44.189547\n",
      "241    44.237982\n",
      "242    44.239054\n",
      "243    44.239078\n",
      "244    44.239078\n",
      "Name: predicted_mean, dtype: float64\n"
     ]
    },
    {
     "name": "stderr",
     "output_type": "stream",
     "text": [
      "C:\\Users\\HP\\AppData\\Local\\Temp\\ipykernel_14160\\926182426.py:21: SettingWithCopyWarning: \n",
      "A value is trying to be set on a copy of a slice from a DataFrame.\n",
      "Try using .loc[row_indexer,col_indexer] = value instead\n",
      "\n",
      "See the caveats in the documentation: https://pandas.pydata.org/pandas-docs/stable/user_guide/indexing.html#returning-a-view-versus-a-copy\n",
      "  kohli_subset['match_number'] = range(1, len(kohli_subset) + 1)\n",
      "C:\\Users\\HP\\anaconda3\\Lib\\site-packages\\statsmodels\\tsa\\base\\tsa_model.py:473: ValueWarning: An unsupported index was provided and will be ignored when e.g. forecasting.\n",
      "  self._init_dates(dates, freq)\n",
      "C:\\Users\\HP\\anaconda3\\Lib\\site-packages\\statsmodels\\tsa\\base\\tsa_model.py:473: ValueWarning: An unsupported index was provided and will be ignored when e.g. forecasting.\n",
      "  self._init_dates(dates, freq)\n",
      "C:\\Users\\HP\\anaconda3\\Lib\\site-packages\\statsmodels\\tsa\\base\\tsa_model.py:473: ValueWarning: An unsupported index was provided and will be ignored when e.g. forecasting.\n",
      "  self._init_dates(dates, freq)\n",
      "C:\\Users\\HP\\anaconda3\\Lib\\site-packages\\statsmodels\\tsa\\base\\tsa_model.py:836: ValueWarning: No supported index is available. Prediction results will be given with an integer index beginning at `start`.\n",
      "  return get_prediction_index(\n",
      "C:\\Users\\HP\\anaconda3\\Lib\\site-packages\\statsmodels\\tsa\\base\\tsa_model.py:836: FutureWarning: No supported index is available. In the next version, calling this method in a model without a supported index will result in an exception.\n",
      "  return get_prediction_index(\n"
     ]
    }
   ],
   "source": [
    "import pandas as pd\n",
    "from statsmodels.tsa.arima.model import ARIMA\n",
    "\n",
    "# Load the dataset\n",
    "df = pd.read_csv('deliveries.csv')\n",
    "\n",
    "# Filter data for V Kohli\n",
    "kohli_scores = df[df['batter'] == 'V Kohli']\n",
    "\n",
    "# Group data by match_id and compute total runs per match\n",
    "kohli_match_summary = kohli_scores.groupby('match_id')['batsman_runs'].sum().reset_index()\n",
    "\n",
    "# Compute the total runs scored by V Kohli\n",
    "total_runs_kohli = kohli_scores['batsman_runs'].sum()\n",
    "print(f\"Total Runs Scored by V Kohli: {total_runs_kohli}\")\n",
    "\n",
    "# Limit the dataset to the first 240 matches\n",
    "kohli_subset = kohli_match_summary.head(240)\n",
    "\n",
    "# Add a sequential match_number column\n",
    "kohli_subset['match_number'] = range(1, len(kohli_subset) + 1)\n",
    "\n",
    "# Set match_number as the primary index\n",
    "kohli_subset.set_index('match_number', inplace=True)\n",
    "\n",
    "# Fit the ARIMA model (p=1, d=1, q=1)\n",
    "model = ARIMA(kohli_subset['batsman_runs'], order=(1, 1, 1))\n",
    "model_fit = model.fit()\n",
    "\n",
    "# Summary of the ARIMA model\n",
    "print(model_fit.summary())\n",
    "\n",
    "# Forecast future runs for the next 5 matches\n",
    "forecast_steps = 5\n",
    "forecast = model_fit.forecast(steps=forecast_steps)\n",
    "\n",
    "# Display the forecasted values\n",
    "print(f\"Forecasted Runs for Next {forecast_steps} Matches: {forecast}\")\n"
   ]
  },
  {
   "cell_type": "code",
   "execution_count": 60,
   "id": "fb1c1dd1-c0ff-4b0d-b256-c054d4e1c327",
   "metadata": {},
   "outputs": [
    {
     "data": {
      "image/png": "[encoded data removed]",
      "text/plain": [
       "<Figure size 1000x600 with 1 Axes>"
      ]
     },
     "metadata": {},
     "output_type": "display_data"
    }
   ],
   "source": [
    "import matplotlib.pyplot as plt\n",
    "\n",
    "# Plot the historical data (batsman_runs)\n",
    "plt.figure(figsize=(10, 6))\n",
    "plt.plot(kohli_subset.index, kohli_subset['batsman_runs'], label='Historical Runs', color='blue', marker='o')\n",
    "\n",
    "# Plot the forecasted data (for the next 5 matches)\n",
    "forecast_index = range(len(kohli_subset) + 1, len(kohli_subset) + 1 + forecast_steps)  # Create forecasted match numbers\n",
    "plt.plot(forecast_index, forecast, label='Forecasted Runs', color='red', marker='x')\n",
    "\n",
    "# Adding labels and title\n",
    "plt.xlabel('Match Number')\n",
    "plt.ylabel('Runs')\n",
    "plt.title('V Kohli Runs: Historical and Forecasted')\n",
    "\n",
    "# Show legend\n",
    "plt.legend()\n",
    "\n",
    "# Show the plot\n",
    "plt.show()\n"
   ]
  },
  {
   "cell_type": "code",
   "execution_count": 64,
   "id": "372e6b81-ec0d-411c-88f2-ce18d0aea80a",
   "metadata": {},
   "outputs": [
    {
     "name": "stdout",
     "output_type": "stream",
     "text": [
      "Forecasted Runs for Next 5 Matches:\n",
      "Match 241: 44.19 runs\n",
      "Match 242: 44.24 runs\n",
      "Match 243: 44.24 runs\n",
      "Match 244: 44.24 runs\n",
      "Match 245: 44.24 runs\n"
     ]
    }
   ],
   "source": [
    "# Print the forecasted runs for the next 5 matches\n",
    "print(f\"Forecasted Runs for Next {forecast_steps} Matches:\")\n",
    "for i, runs in enumerate(forecast, 1):\n",
    "    print(f\"Match {len(kohli_subset) + i}: {runs:.2f} runs\")\n"
   ]
  },
  {
   "cell_type": "code",
   "execution_count": 68,
   "id": "1d4ff692-23a1-4ace-ad7e-9e6329f98907",
   "metadata": {},
   "outputs": [
    {
     "name": "stderr",
     "output_type": "stream",
     "text": [
      "C:\\Users\\HP\\AppData\\Local\\Temp\\ipykernel_14160\\4194171979.py:18: SettingWithCopyWarning: \n",
      "A value is trying to be set on a copy of a slice from a DataFrame.\n",
      "Try using .loc[row_indexer,col_indexer] = value instead\n",
      "\n",
      "See the caveats in the documentation: https://pandas.pydata.org/pandas-docs/stable/user_guide/indexing.html#returning-a-view-versus-a-copy\n",
      "  kohli_subset['match_number'] = range(1, len(kohli_subset) + 1)\n",
      "C:\\Users\\HP\\anaconda3\\Lib\\site-packages\\statsmodels\\tsa\\base\\tsa_model.py:473: ValueWarning: An unsupported index was provided and will be ignored when e.g. forecasting.\n",
      "  self._init_dates(dates, freq)\n",
      "C:\\Users\\HP\\anaconda3\\Lib\\site-packages\\statsmodels\\tsa\\base\\tsa_model.py:473: ValueWarning: An unsupported index was provided and will be ignored when e.g. forecasting.\n",
      "  self._init_dates(dates, freq)\n",
      "C:\\Users\\HP\\anaconda3\\Lib\\site-packages\\statsmodels\\tsa\\base\\tsa_model.py:473: ValueWarning: An unsupported index was provided and will be ignored when e.g. forecasting.\n",
      "  self._init_dates(dates, freq)\n",
      "C:\\Users\\HP\\anaconda3\\Lib\\site-packages\\statsmodels\\tsa\\base\\tsa_model.py:836: ValueWarning: No supported index is available. Prediction results will be given with an integer index beginning at `start`.\n",
      "  return get_prediction_index(\n",
      "C:\\Users\\HP\\anaconda3\\Lib\\site-packages\\statsmodels\\tsa\\base\\tsa_model.py:836: FutureWarning: No supported index is available. In the next version, calling this method in a model without a supported index will result in an exception.\n",
      "  return get_prediction_index(\n"
     ]
    },
    {
     "data": {
      "image/png": "[encoded data removed]",
      "text/plain": [
       "<Figure size 1000x600 with 1 Axes>"
      ]
     },
     "metadata": {},
     "output_type": "display_data"
    },
    {
     "name": "stdout",
     "output_type": "stream",
     "text": [
      "Forecasted Runs for Next 5 Matches:\n",
      "Match 241: 44.19 runs\n",
      "Match 242: 44.24 runs\n",
      "Match 243: 44.24 runs\n",
      "Match 244: 44.24 runs\n",
      "Match 245: 44.24 runs\n"
     ]
    }
   ],
   "source": [
    "import pandas as pd\n",
    "import matplotlib.pyplot as plt\n",
    "from statsmodels.tsa.arima.model import ARIMA\n",
    "\n",
    "# Load the dataset\n",
    "df = pd.read_csv('deliveries.csv')\n",
    "\n",
    "# Filter data for V Kohli\n",
    "kohli_scores = df[df['batter'] == 'V Kohli']\n",
    "\n",
    "# Group data by match_id and compute total runs per match\n",
    "kohli_match_summary = kohli_scores.groupby('match_id')['batsman_runs'].sum().reset_index()\n",
    "\n",
    "# Limit the dataset to the first 240 matches\n",
    "kohli_subset = kohli_match_summary.head(240)\n",
    "\n",
    "# Add a sequential match_number column\n",
    "kohli_subset['match_number'] = range(1, len(kohli_subset) + 1)\n",
    "\n",
    "# Set match_number as the primary index\n",
    "kohli_subset.set_index('match_number', inplace=True)\n",
    "\n",
    "# Fit the ARIMA model (p=1, d=1, q=1)\n",
    "model = ARIMA(kohli_subset['batsman_runs'], order=(1, 1, 1))\n",
    "model_fit = model.fit()\n",
    "\n",
    "# Forecast future runs for the next 5 matches\n",
    "forecast_steps = 5\n",
    "forecast = model_fit.forecast(steps=forecast_steps)\n",
    "\n",
    "# Step 10: Visualize Results\n",
    "# Plot the historical data (batsman_runs)\n",
    "plt.figure(figsize=(10, 6))\n",
    "plt.plot(kohli_subset.index, kohli_subset['batsman_runs'], label='Historical Runs', color='blue', marker='o')\n",
    "\n",
    "# Plot the forecasted data (for the next 5 matches)\n",
    "forecast_index = range(len(kohli_subset) + 1, len(kohli_subset) + 1 + forecast_steps)  # Create forecasted match numbers\n",
    "plt.plot(forecast_index, forecast, label='Forecasted Runs', color='red', marker='x')\n",
    "\n",
    "# Adding labels and title\n",
    "plt.xlabel('Match Number')\n",
    "plt.ylabel('Runs')\n",
    "plt.title('V Kohli Runs: Historical and Forecasted')\n",
    "\n",
    "# Show legend\n",
    "plt.legend()\n",
    "\n",
    "# Show the plot\n",
    "plt.show()\n",
    "\n",
    "# Step 11: Print Forecasted Values\n",
    "print(f\"Forecasted Runs for Next {forecast_steps} Matches:\")\n",
    "for i, runs in enumerate(forecast, 1):\n",
    "    print(f\"Match {len(kohli_subset) + i}: {runs:.2f} runs\")\n"
   ]
  },
  {
   "cell_type": "code",
   "execution_count": 72,
   "id": "169f15bb-b168-4f15-bfa6-e9e36c2e0ad7",
   "metadata": {},
   "outputs": [],
   "source": [
    "###   steps for forecasting the bowler's performance"
   ]
  },
  {
   "cell_type": "code",
   "execution_count": 76,
   "id": "0c628155-dbfb-40dd-923b-728604b01d48",
   "metadata": {},
   "outputs": [
    {
     "name": "stdout",
     "output_type": "stream",
     "text": [
      "   match_id      bowler  total_wickets  total_runs\n",
      "0    335982   AA Noffke              1          41\n",
      "1    335982  AB Agarkar              3          25\n",
      "2    335982    AB Dinda              2           9\n",
      "3    335982    CL White              0          24\n",
      "4    335982    I Sharma              1          13\n"
     ]
    }
   ],
   "source": [
    "import pandas as pd\n",
    "\n",
    "# Load the dataset\n",
    "df = pd.read_csv('deliveries.csv')\n",
    "\n",
    "# Extract relevant columns: match_id, bowler, is_wicket, total_runs\n",
    "bowler_data = df[['match_id', 'bowler', 'is_wicket', 'total_runs']]\n",
    "\n",
    "# Aggregate the data by bowler and match_id\n",
    "# Calculate total wickets and total runs for each bowler per match\n",
    "bowler_summary = bowler_data.groupby(['match_id', 'bowler']).agg(\n",
    "    total_wickets=('is_wicket', 'sum'),  # Sum of is_wicket will give the total wickets\n",
    "    total_runs=('total_runs', 'sum')  # Sum of total_runs will give the total runs conceded\n",
    ").reset_index()\n",
    "\n",
    "# Display the first few rows of the aggregated data\n",
    "print(bowler_summary.head())\n"
   ]
  },
  {
   "cell_type": "code",
   "execution_count": 80,
   "id": "91271fbd-672e-4619-9c8a-3cea1367d5ac",
   "metadata": {},
   "outputs": [
    {
     "name": "stderr",
     "output_type": "stream",
     "text": [
      "C:\\Users\\HP\\AppData\\Local\\Temp\\ipykernel_14160\\1923132253.py:2: SettingWithCopyWarning: \n",
      "A value is trying to be set on a copy of a slice from a DataFrame.\n",
      "Try using .loc[row_indexer,col_indexer] = value instead\n",
      "\n",
      "See the caveats in the documentation: https://pandas.pydata.org/pandas-docs/stable/user_guide/indexing.html#returning-a-view-versus-a-copy\n",
      "  bowler_data['balls_bowled'] = 1  # Each row represents a ball bowled\n"
     ]
    },
    {
     "ename": "KeyError",
     "evalue": "\"Column(s) ['balls_bowled'] do not exist\"",
     "output_type": "error",
     "traceback": [
      "\u001b[1;31m---------------------------------------------------------------------------\u001b[0m",
      "\u001b[1;31mKeyError\u001b[0m                                  Traceback (most recent call last)",
      "Cell \u001b[1;32mIn[80], line 5\u001b[0m\n\u001b[0;32m      2\u001b[0m bowler_data[\u001b[38;5;124m'\u001b[39m\u001b[38;5;124mballs_bowled\u001b[39m\u001b[38;5;124m'\u001b[39m] \u001b[38;5;241m=\u001b[39m \u001b[38;5;241m1\u001b[39m  \u001b[38;5;66;03m# Each row represents a ball bowled\u001b[39;00m\n\u001b[0;32m      4\u001b[0m \u001b[38;5;66;03m# Aggregate to get total balls bowled and total wickets per bowler\u001b[39;00m\n\u001b[1;32m----> 5\u001b[0m bowler_stats \u001b[38;5;241m=\u001b[39m bowler_summary\u001b[38;5;241m.\u001b[39mgroupby(\u001b[38;5;124m'\u001b[39m\u001b[38;5;124mbowler\u001b[39m\u001b[38;5;124m'\u001b[39m)\u001b[38;5;241m.\u001b[39magg(\n\u001b[0;32m      6\u001b[0m     total_wickets\u001b[38;5;241m=\u001b[39m(\u001b[38;5;124m'\u001b[39m\u001b[38;5;124mtotal_wickets\u001b[39m\u001b[38;5;124m'\u001b[39m, \u001b[38;5;124m'\u001b[39m\u001b[38;5;124msum\u001b[39m\u001b[38;5;124m'\u001b[39m),\n\u001b[0;32m      7\u001b[0m     total_runs\u001b[38;5;241m=\u001b[39m(\u001b[38;5;124m'\u001b[39m\u001b[38;5;124mtotal_runs\u001b[39m\u001b[38;5;124m'\u001b[39m, \u001b[38;5;124m'\u001b[39m\u001b[38;5;124msum\u001b[39m\u001b[38;5;124m'\u001b[39m),\n\u001b[0;32m      8\u001b[0m     total_balls\u001b[38;5;241m=\u001b[39m(\u001b[38;5;124m'\u001b[39m\u001b[38;5;124mballs_bowled\u001b[39m\u001b[38;5;124m'\u001b[39m, \u001b[38;5;124m'\u001b[39m\u001b[38;5;124msum\u001b[39m\u001b[38;5;124m'\u001b[39m)\n\u001b[0;32m      9\u001b[0m )\u001b[38;5;241m.\u001b[39mreset_index()\n\u001b[0;32m     11\u001b[0m \u001b[38;5;66;03m# Calculate additional metrics\u001b[39;00m\n\u001b[0;32m     12\u001b[0m bowler_stats[\u001b[38;5;124m'\u001b[39m\u001b[38;5;124meconomy_rate\u001b[39m\u001b[38;5;124m'\u001b[39m] \u001b[38;5;241m=\u001b[39m bowler_stats[\u001b[38;5;124m'\u001b[39m\u001b[38;5;124mtotal_runs\u001b[39m\u001b[38;5;124m'\u001b[39m] \u001b[38;5;241m/\u001b[39m (bowler_stats[\u001b[38;5;124m'\u001b[39m\u001b[38;5;124mtotal_balls\u001b[39m\u001b[38;5;124m'\u001b[39m] \u001b[38;5;241m/\u001b[39m \u001b[38;5;241m6\u001b[39m)  \u001b[38;5;66;03m# Runs per over\u001b[39;00m\n",
      "File \u001b[1;32m~\\anaconda3\\Lib\\site-packages\\pandas\\core\\groupby\\generic.py:1432\u001b[0m, in \u001b[0;36mDataFrameGroupBy.aggregate\u001b[1;34m(self, func, engine, engine_kwargs, *args, **kwargs)\u001b[0m\n\u001b[0;32m   1429\u001b[0m     kwargs[\u001b[38;5;124m\"\u001b[39m\u001b[38;5;124mengine_kwargs\u001b[39m\u001b[38;5;124m\"\u001b[39m] \u001b[38;5;241m=\u001b[39m engine_kwargs\n\u001b[0;32m   1431\u001b[0m op \u001b[38;5;241m=\u001b[39m GroupByApply(\u001b[38;5;28mself\u001b[39m, func, args\u001b[38;5;241m=\u001b[39margs, kwargs\u001b[38;5;241m=\u001b[39mkwargs)\n\u001b[1;32m-> 1432\u001b[0m result \u001b[38;5;241m=\u001b[39m op\u001b[38;5;241m.\u001b[39magg()\n\u001b[0;32m   1433\u001b[0m \u001b[38;5;28;01mif\u001b[39;00m \u001b[38;5;129;01mnot\u001b[39;00m is_dict_like(func) \u001b[38;5;129;01mand\u001b[39;00m result \u001b[38;5;129;01mis\u001b[39;00m \u001b[38;5;129;01mnot\u001b[39;00m \u001b[38;5;28;01mNone\u001b[39;00m:\n\u001b[0;32m   1434\u001b[0m     \u001b[38;5;66;03m# GH #52849\u001b[39;00m\n\u001b[0;32m   1435\u001b[0m     \u001b[38;5;28;01mif\u001b[39;00m \u001b[38;5;129;01mnot\u001b[39;00m \u001b[38;5;28mself\u001b[39m\u001b[38;5;241m.\u001b[39mas_index \u001b[38;5;129;01mand\u001b[39;00m is_list_like(func):\n",
      "File \u001b[1;32m~\\anaconda3\\Lib\\site-packages\\pandas\\core\\apply.py:190\u001b[0m, in \u001b[0;36mApply.agg\u001b[1;34m(self)\u001b[0m\n\u001b[0;32m    187\u001b[0m     \u001b[38;5;28;01mreturn\u001b[39;00m \u001b[38;5;28mself\u001b[39m\u001b[38;5;241m.\u001b[39mapply_str()\n\u001b[0;32m    189\u001b[0m \u001b[38;5;28;01mif\u001b[39;00m is_dict_like(func):\n\u001b[1;32m--> 190\u001b[0m     \u001b[38;5;28;01mreturn\u001b[39;00m \u001b[38;5;28mself\u001b[39m\u001b[38;5;241m.\u001b[39magg_dict_like()\n\u001b[0;32m    191\u001b[0m \u001b[38;5;28;01melif\u001b[39;00m is_list_like(func):\n\u001b[0;32m    192\u001b[0m     \u001b[38;5;66;03m# we require a list, but not a 'str'\u001b[39;00m\n\u001b[0;32m    193\u001b[0m     \u001b[38;5;28;01mreturn\u001b[39;00m \u001b[38;5;28mself\u001b[39m\u001b[38;5;241m.\u001b[39magg_list_like()\n",
      "File \u001b[1;32m~\\anaconda3\\Lib\\site-packages\\pandas\\core\\apply.py:423\u001b[0m, in \u001b[0;36mApply.agg_dict_like\u001b[1;34m(self)\u001b[0m\n\u001b[0;32m    415\u001b[0m \u001b[38;5;28;01mdef\u001b[39;00m \u001b[38;5;21magg_dict_like\u001b[39m(\u001b[38;5;28mself\u001b[39m) \u001b[38;5;241m-\u001b[39m\u001b[38;5;241m>\u001b[39m DataFrame \u001b[38;5;241m|\u001b[39m Series:\n\u001b[0;32m    416\u001b[0m \u001b[38;5;250m    \u001b[39m\u001b[38;5;124;03m\"\"\"\u001b[39;00m\n\u001b[0;32m    417\u001b[0m \u001b[38;5;124;03m    Compute aggregation in the case of a dict-like argument.\u001b[39;00m\n\u001b[0;32m    418\u001b[0m \n\u001b[1;32m   (...)\u001b[0m\n\u001b[0;32m    421\u001b[0m \u001b[38;5;124;03m    Result of aggregation.\u001b[39;00m\n\u001b[0;32m    422\u001b[0m \u001b[38;5;124;03m    \"\"\"\u001b[39;00m\n\u001b[1;32m--> 423\u001b[0m     \u001b[38;5;28;01mreturn\u001b[39;00m \u001b[38;5;28mself\u001b[39m\u001b[38;5;241m.\u001b[39magg_or_apply_dict_like(op_name\u001b[38;5;241m=\u001b[39m\u001b[38;5;124m\"\u001b[39m\u001b[38;5;124magg\u001b[39m\u001b[38;5;124m\"\u001b[39m)\n",
      "File \u001b[1;32m~\\anaconda3\\Lib\\site-packages\\pandas\\core\\apply.py:1608\u001b[0m, in \u001b[0;36mGroupByApply.agg_or_apply_dict_like\u001b[1;34m(self, op_name)\u001b[0m\n\u001b[0;32m   1603\u001b[0m     kwargs\u001b[38;5;241m.\u001b[39mupdate({\u001b[38;5;124m\"\u001b[39m\u001b[38;5;124mengine\u001b[39m\u001b[38;5;124m\"\u001b[39m: engine, \u001b[38;5;124m\"\u001b[39m\u001b[38;5;124mengine_kwargs\u001b[39m\u001b[38;5;124m\"\u001b[39m: engine_kwargs})\n\u001b[0;32m   1605\u001b[0m \u001b[38;5;28;01mwith\u001b[39;00m com\u001b[38;5;241m.\u001b[39mtemp_setattr(\n\u001b[0;32m   1606\u001b[0m     obj, \u001b[38;5;124m\"\u001b[39m\u001b[38;5;124mas_index\u001b[39m\u001b[38;5;124m\"\u001b[39m, \u001b[38;5;28;01mTrue\u001b[39;00m, condition\u001b[38;5;241m=\u001b[39m\u001b[38;5;28mhasattr\u001b[39m(obj, \u001b[38;5;124m\"\u001b[39m\u001b[38;5;124mas_index\u001b[39m\u001b[38;5;124m\"\u001b[39m)\n\u001b[0;32m   1607\u001b[0m ):\n\u001b[1;32m-> 1608\u001b[0m     result_index, result_data \u001b[38;5;241m=\u001b[39m \u001b[38;5;28mself\u001b[39m\u001b[38;5;241m.\u001b[39mcompute_dict_like(\n\u001b[0;32m   1609\u001b[0m         op_name, selected_obj, selection, kwargs\n\u001b[0;32m   1610\u001b[0m     )\n\u001b[0;32m   1611\u001b[0m result \u001b[38;5;241m=\u001b[39m \u001b[38;5;28mself\u001b[39m\u001b[38;5;241m.\u001b[39mwrap_results_dict_like(selected_obj, result_index, result_data)\n\u001b[0;32m   1612\u001b[0m \u001b[38;5;28;01mreturn\u001b[39;00m result\n",
      "File \u001b[1;32m~\\anaconda3\\Lib\\site-packages\\pandas\\core\\apply.py:462\u001b[0m, in \u001b[0;36mApply.compute_dict_like\u001b[1;34m(self, op_name, selected_obj, selection, kwargs)\u001b[0m\n\u001b[0;32m    460\u001b[0m is_groupby \u001b[38;5;241m=\u001b[39m \u001b[38;5;28misinstance\u001b[39m(obj, (DataFrameGroupBy, SeriesGroupBy))\n\u001b[0;32m    461\u001b[0m func \u001b[38;5;241m=\u001b[39m cast(AggFuncTypeDict, \u001b[38;5;28mself\u001b[39m\u001b[38;5;241m.\u001b[39mfunc)\n\u001b[1;32m--> 462\u001b[0m func \u001b[38;5;241m=\u001b[39m \u001b[38;5;28mself\u001b[39m\u001b[38;5;241m.\u001b[39mnormalize_dictlike_arg(op_name, selected_obj, func)\n\u001b[0;32m    464\u001b[0m is_non_unique_col \u001b[38;5;241m=\u001b[39m (\n\u001b[0;32m    465\u001b[0m     selected_obj\u001b[38;5;241m.\u001b[39mndim \u001b[38;5;241m==\u001b[39m \u001b[38;5;241m2\u001b[39m\n\u001b[0;32m    466\u001b[0m     \u001b[38;5;129;01mand\u001b[39;00m selected_obj\u001b[38;5;241m.\u001b[39mcolumns\u001b[38;5;241m.\u001b[39mnunique() \u001b[38;5;241m<\u001b[39m \u001b[38;5;28mlen\u001b[39m(selected_obj\u001b[38;5;241m.\u001b[39mcolumns)\n\u001b[0;32m    467\u001b[0m )\n\u001b[0;32m    469\u001b[0m \u001b[38;5;28;01mif\u001b[39;00m selected_obj\u001b[38;5;241m.\u001b[39mndim \u001b[38;5;241m==\u001b[39m \u001b[38;5;241m1\u001b[39m:\n\u001b[0;32m    470\u001b[0m     \u001b[38;5;66;03m# key only used for output\u001b[39;00m\n",
      "File \u001b[1;32m~\\anaconda3\\Lib\\site-packages\\pandas\\core\\apply.py:663\u001b[0m, in \u001b[0;36mApply.normalize_dictlike_arg\u001b[1;34m(self, how, obj, func)\u001b[0m\n\u001b[0;32m    661\u001b[0m     cols \u001b[38;5;241m=\u001b[39m Index(\u001b[38;5;28mlist\u001b[39m(func\u001b[38;5;241m.\u001b[39mkeys()))\u001b[38;5;241m.\u001b[39mdifference(obj\u001b[38;5;241m.\u001b[39mcolumns, sort\u001b[38;5;241m=\u001b[39m\u001b[38;5;28;01mTrue\u001b[39;00m)\n\u001b[0;32m    662\u001b[0m     \u001b[38;5;28;01mif\u001b[39;00m \u001b[38;5;28mlen\u001b[39m(cols) \u001b[38;5;241m>\u001b[39m \u001b[38;5;241m0\u001b[39m:\n\u001b[1;32m--> 663\u001b[0m         \u001b[38;5;28;01mraise\u001b[39;00m \u001b[38;5;167;01mKeyError\u001b[39;00m(\u001b[38;5;124mf\u001b[39m\u001b[38;5;124m\"\u001b[39m\u001b[38;5;124mColumn(s) \u001b[39m\u001b[38;5;132;01m{\u001b[39;00m\u001b[38;5;28mlist\u001b[39m(cols)\u001b[38;5;132;01m}\u001b[39;00m\u001b[38;5;124m do not exist\u001b[39m\u001b[38;5;124m\"\u001b[39m)\n\u001b[0;32m    665\u001b[0m aggregator_types \u001b[38;5;241m=\u001b[39m (\u001b[38;5;28mlist\u001b[39m, \u001b[38;5;28mtuple\u001b[39m, \u001b[38;5;28mdict\u001b[39m)\n\u001b[0;32m    667\u001b[0m \u001b[38;5;66;03m# if we have a dict of any non-scalars\u001b[39;00m\n\u001b[0;32m    668\u001b[0m \u001b[38;5;66;03m# eg. {'A' : ['mean']}, normalize all to\u001b[39;00m\n\u001b[0;32m    669\u001b[0m \u001b[38;5;66;03m# be list-likes\u001b[39;00m\n\u001b[0;32m    670\u001b[0m \u001b[38;5;66;03m# Cannot use func.values() because arg may be a Series\u001b[39;00m\n",
      "\u001b[1;31mKeyError\u001b[0m: \"Column(s) ['balls_bowled'] do not exist\""
     ]
    }
   ],
   "source": [
    "# Calculate the number of balls bowled per match (1 ball = 1 row)\n",
    "bowler_data['balls_bowled'] = 1  # Each row represents a ball bowled\n",
    "\n",
    "# Aggregate to get total balls bowled and total wickets per bowler\n",
    "bowler_stats = bowler_summary.groupby('bowler').agg(\n",
    "    total_wickets=('total_wickets', 'sum'),\n",
    "    total_runs=('total_runs', 'sum'),\n",
    "    total_balls=('balls_bowled', 'sum')\n",
    ").reset_index()\n",
    "\n",
    "# Calculate additional metrics\n",
    "bowler_stats['economy_rate'] = bowler_stats['total_runs'] / (bowler_stats['total_balls'] / 6)  # Runs per over\n",
    "bowler_stats['wickets_per_match'] = bowler_stats['total_wickets'] / bowler_stats['total_balls']  # Wickets per ball\n",
    "\n",
    "# Sort the bowlers based on total wickets and economy rate (you can adjust the sorting criteria)\n",
    "top_bowlers = bowler_stats.sort_values(by=['total_wickets', 'economy_rate'], ascending=[False, True])\n",
    "\n",
    "# Display the top bowlers based on total wickets\n",
    "print(top_bowlers.head())\n"
   ]
  },
  {
   "cell_type": "code",
   "execution_count": 84,
   "id": "905f63c0-679e-4d6b-bf57-bb88743eb281",
   "metadata": {},
   "outputs": [
    {
     "name": "stdout",
     "output_type": "stream",
     "text": [
      "Empty DataFrame\n",
      "Columns: [match_id, bowler, total_wickets, total_runs]\n",
      "Index: []\n"
     ]
    }
   ],
   "source": [
    "# Filter data for the selected bowler (e.g., \"D Kulkarni\")\n",
    "selected_bowler = 'D Kulkarni'\n",
    "bowler_performance = bowler_summary[bowler_summary['bowler'] == selected_bowler]\n",
    "\n",
    "# Display the selected bowler's performance data\n",
    "print(bowler_performance.head())\n"
   ]
  },
  {
   "cell_type": "code",
   "execution_count": 88,
   "id": "cf84e358-73ee-4cde-9520-5c4ecba07394",
   "metadata": {},
   "outputs": [
    {
     "ename": "KeyError",
     "evalue": "'total_balls'",
     "output_type": "error",
     "traceback": [
      "\u001b[1;31m---------------------------------------------------------------------------\u001b[0m",
      "\u001b[1;31mKeyError\u001b[0m                                  Traceback (most recent call last)",
      "File \u001b[1;32m~\\anaconda3\\Lib\\site-packages\\pandas\\core\\indexes\\base.py:3805\u001b[0m, in \u001b[0;36mIndex.get_loc\u001b[1;34m(self, key)\u001b[0m\n\u001b[0;32m   3804\u001b[0m \u001b[38;5;28;01mtry\u001b[39;00m:\n\u001b[1;32m-> 3805\u001b[0m     \u001b[38;5;28;01mreturn\u001b[39;00m \u001b[38;5;28mself\u001b[39m\u001b[38;5;241m.\u001b[39m_engine\u001b[38;5;241m.\u001b[39mget_loc(casted_key)\n\u001b[0;32m   3806\u001b[0m \u001b[38;5;28;01mexcept\u001b[39;00m \u001b[38;5;167;01mKeyError\u001b[39;00m \u001b[38;5;28;01mas\u001b[39;00m err:\n",
      "File \u001b[1;32mindex.pyx:167\u001b[0m, in \u001b[0;36mpandas._libs.index.IndexEngine.get_loc\u001b[1;34m()\u001b[0m\n",
      "File \u001b[1;32mindex.pyx:196\u001b[0m, in \u001b[0;36mpandas._libs.index.IndexEngine.get_loc\u001b[1;34m()\u001b[0m\n",
      "File \u001b[1;32mpandas\\\\_libs\\\\hashtable_class_helper.pxi:7081\u001b[0m, in \u001b[0;36mpandas._libs.hashtable.PyObjectHashTable.get_item\u001b[1;34m()\u001b[0m\n",
      "File \u001b[1;32mpandas\\\\_libs\\\\hashtable_class_helper.pxi:7089\u001b[0m, in \u001b[0;36mpandas._libs.hashtable.PyObjectHashTable.get_item\u001b[1;34m()\u001b[0m\n",
      "\u001b[1;31mKeyError\u001b[0m: 'total_balls'",
      "\nThe above exception was the direct cause of the following exception:\n",
      "\u001b[1;31mKeyError\u001b[0m                                  Traceback (most recent call last)",
      "Cell \u001b[1;32mIn[88], line 11\u001b[0m\n\u001b[0;32m      8\u001b[0m bowler_performance\u001b[38;5;241m.\u001b[39mset_index(\u001b[38;5;124m'\u001b[39m\u001b[38;5;124mmatch_id\u001b[39m\u001b[38;5;124m'\u001b[39m, inplace\u001b[38;5;241m=\u001b[39m\u001b[38;5;28;01mTrue\u001b[39;00m)\n\u001b[0;32m     10\u001b[0m \u001b[38;5;66;03m# Choose a performance metric (e.g., wickets per match or economy rate)\u001b[39;00m\n\u001b[1;32m---> 11\u001b[0m bowler_performance[\u001b[38;5;124m'\u001b[39m\u001b[38;5;124mwickets_per_match\u001b[39m\u001b[38;5;124m'\u001b[39m] \u001b[38;5;241m=\u001b[39m bowler_performance[\u001b[38;5;124m'\u001b[39m\u001b[38;5;124mtotal_wickets\u001b[39m\u001b[38;5;124m'\u001b[39m] \u001b[38;5;241m/\u001b[39m bowler_performance[\u001b[38;5;124m'\u001b[39m\u001b[38;5;124mtotal_balls\u001b[39m\u001b[38;5;124m'\u001b[39m]  \u001b[38;5;66;03m# Wickets per ball\u001b[39;00m\n\u001b[0;32m     13\u001b[0m \u001b[38;5;66;03m# We'll use 'wickets_per_match' as the target variable for the time series\u001b[39;00m\n\u001b[0;32m     14\u001b[0m time_series_data \u001b[38;5;241m=\u001b[39m bowler_performance[[\u001b[38;5;124m'\u001b[39m\u001b[38;5;124mwickets_per_match\u001b[39m\u001b[38;5;124m'\u001b[39m]]\n",
      "File \u001b[1;32m~\\anaconda3\\Lib\\site-packages\\pandas\\core\\frame.py:4102\u001b[0m, in \u001b[0;36mDataFrame.__getitem__\u001b[1;34m(self, key)\u001b[0m\n\u001b[0;32m   4100\u001b[0m \u001b[38;5;28;01mif\u001b[39;00m \u001b[38;5;28mself\u001b[39m\u001b[38;5;241m.\u001b[39mcolumns\u001b[38;5;241m.\u001b[39mnlevels \u001b[38;5;241m>\u001b[39m \u001b[38;5;241m1\u001b[39m:\n\u001b[0;32m   4101\u001b[0m     \u001b[38;5;28;01mreturn\u001b[39;00m \u001b[38;5;28mself\u001b[39m\u001b[38;5;241m.\u001b[39m_getitem_multilevel(key)\n\u001b[1;32m-> 4102\u001b[0m indexer \u001b[38;5;241m=\u001b[39m \u001b[38;5;28mself\u001b[39m\u001b[38;5;241m.\u001b[39mcolumns\u001b[38;5;241m.\u001b[39mget_loc(key)\n\u001b[0;32m   4103\u001b[0m \u001b[38;5;28;01mif\u001b[39;00m is_integer(indexer):\n\u001b[0;32m   4104\u001b[0m     indexer \u001b[38;5;241m=\u001b[39m [indexer]\n",
      "File \u001b[1;32m~\\anaconda3\\Lib\\site-packages\\pandas\\core\\indexes\\base.py:3812\u001b[0m, in \u001b[0;36mIndex.get_loc\u001b[1;34m(self, key)\u001b[0m\n\u001b[0;32m   3807\u001b[0m     \u001b[38;5;28;01mif\u001b[39;00m \u001b[38;5;28misinstance\u001b[39m(casted_key, \u001b[38;5;28mslice\u001b[39m) \u001b[38;5;129;01mor\u001b[39;00m (\n\u001b[0;32m   3808\u001b[0m         \u001b[38;5;28misinstance\u001b[39m(casted_key, abc\u001b[38;5;241m.\u001b[39mIterable)\n\u001b[0;32m   3809\u001b[0m         \u001b[38;5;129;01mand\u001b[39;00m \u001b[38;5;28many\u001b[39m(\u001b[38;5;28misinstance\u001b[39m(x, \u001b[38;5;28mslice\u001b[39m) \u001b[38;5;28;01mfor\u001b[39;00m x \u001b[38;5;129;01min\u001b[39;00m casted_key)\n\u001b[0;32m   3810\u001b[0m     ):\n\u001b[0;32m   3811\u001b[0m         \u001b[38;5;28;01mraise\u001b[39;00m InvalidIndexError(key)\n\u001b[1;32m-> 3812\u001b[0m     \u001b[38;5;28;01mraise\u001b[39;00m \u001b[38;5;167;01mKeyError\u001b[39;00m(key) \u001b[38;5;28;01mfrom\u001b[39;00m \u001b[38;5;21;01merr\u001b[39;00m\n\u001b[0;32m   3813\u001b[0m \u001b[38;5;28;01mexcept\u001b[39;00m \u001b[38;5;167;01mTypeError\u001b[39;00m:\n\u001b[0;32m   3814\u001b[0m     \u001b[38;5;66;03m# If we have a listlike key, _check_indexing_error will raise\u001b[39;00m\n\u001b[0;32m   3815\u001b[0m     \u001b[38;5;66;03m#  InvalidIndexError. Otherwise we fall through and re-raise\u001b[39;00m\n\u001b[0;32m   3816\u001b[0m     \u001b[38;5;66;03m#  the TypeError.\u001b[39;00m\n\u001b[0;32m   3817\u001b[0m     \u001b[38;5;28mself\u001b[39m\u001b[38;5;241m.\u001b[39m_check_indexing_error(key)\n",
      "\u001b[1;31mKeyError\u001b[0m: 'total_balls'"
     ]
    }
   ],
   "source": [
    "# For demonstration, we'll select 'D Kulkarni' as the bowler\n",
    "selected_bowler = 'D Kulkarni'\n",
    "\n",
    "# Filter the data for the selected bowler\n",
    "bowler_performance = bowler_summary[bowler_summary['bowler'] == selected_bowler]\n",
    "\n",
    "# Create a time series using match_id as the time index and wickets per match or economy rate as the target variable\n",
    "bowler_performance.set_index('match_id', inplace=True)\n",
    "\n",
    "# Choose a performance metric (e.g., wickets per match or economy rate)\n",
    "bowler_performance['wickets_per_match'] = bowler_performance['total_wickets'] / bowler_performance['total_balls']  # Wickets per ball\n",
    "\n",
    "# We'll use 'wickets_per_match' as the target variable for the time series\n",
    "time_series_data = bowler_performance[['wickets_per_match']]\n",
    "\n",
    "# Display the time series data\n",
    "print(time_series_data.head())\n"
   ]
  },
  {
   "cell_type": "code",
   "execution_count": 92,
   "id": "35703d94-2763-4637-b053-5475715b565c",
   "metadata": {},
   "outputs": [
    {
     "ename": "NameError",
     "evalue": "name 'time_series_data' is not defined",
     "output_type": "error",
     "traceback": [
      "\u001b[1;31m---------------------------------------------------------------------------\u001b[0m",
      "\u001b[1;31mNameError\u001b[0m                                 Traceback (most recent call last)",
      "Cell \u001b[1;32mIn[92], line 5\u001b[0m\n\u001b[0;32m      2\u001b[0m \u001b[38;5;28;01mfrom\u001b[39;00m \u001b[38;5;21;01mstatsmodels\u001b[39;00m\u001b[38;5;21;01m.\u001b[39;00m\u001b[38;5;21;01mtsa\u001b[39;00m\u001b[38;5;21;01m.\u001b[39;00m\u001b[38;5;21;01mstattools\u001b[39;00m \u001b[38;5;28;01mimport\u001b[39;00m adfuller\n\u001b[0;32m      4\u001b[0m \u001b[38;5;66;03m# Perform ADF test to check for stationarity\u001b[39;00m\n\u001b[1;32m----> 5\u001b[0m adf_test \u001b[38;5;241m=\u001b[39m adfuller(time_series_data[\u001b[38;5;124m'\u001b[39m\u001b[38;5;124mwickets_per_match\u001b[39m\u001b[38;5;124m'\u001b[39m])\n\u001b[0;32m      7\u001b[0m \u001b[38;5;28mprint\u001b[39m(\u001b[38;5;124mf\u001b[39m\u001b[38;5;124m\"\u001b[39m\u001b[38;5;124mADF Statistic: \u001b[39m\u001b[38;5;132;01m{\u001b[39;00madf_test[\u001b[38;5;241m0\u001b[39m]\u001b[38;5;132;01m}\u001b[39;00m\u001b[38;5;124m\"\u001b[39m)\n\u001b[0;32m      8\u001b[0m \u001b[38;5;28mprint\u001b[39m(\u001b[38;5;124mf\u001b[39m\u001b[38;5;124m\"\u001b[39m\u001b[38;5;124mp-value: \u001b[39m\u001b[38;5;132;01m{\u001b[39;00madf_test[\u001b[38;5;241m1\u001b[39m]\u001b[38;5;132;01m}\u001b[39;00m\u001b[38;5;124m\"\u001b[39m)\n",
      "\u001b[1;31mNameError\u001b[0m: name 'time_series_data' is not defined"
     ]
    }
   ],
   "source": [
    "# Check for stationarity using the Augmented Dickey-Fuller test (ADF test)\n",
    "from statsmodels.tsa.stattools import adfuller\n",
    "\n",
    "# Perform ADF test to check for stationarity\n",
    "adf_test = adfuller(time_series_data['wickets_per_match'])\n",
    "\n",
    "print(f\"ADF Statistic: {adf_test[0]}\")\n",
    "print(f\"p-value: {adf_test[1]}\")\n",
    "\n",
    "# If the p-value is greater than 0.05, the series is non-stationary and needs differencing\n",
    "if adf_test[1] > 0.05:\n",
    "    print(\"The time series is non-stationary, differencing will be applied.\")\n",
    "else:\n",
    "    print(\"The time series is stationary.\")\n"
   ]
  },
  {
   "cell_type": "code",
   "execution_count": 96,
   "id": "6d2da9b9-3651-4727-ab41-22c7a275ce2a",
   "metadata": {},
   "outputs": [
    {
     "ename": "NameError",
     "evalue": "name 'time_series_data' is not defined",
     "output_type": "error",
     "traceback": [
      "\u001b[1;31m---------------------------------------------------------------------------\u001b[0m",
      "\u001b[1;31mNameError\u001b[0m                                 Traceback (most recent call last)",
      "Cell \u001b[1;32mIn[96], line 2\u001b[0m\n\u001b[0;32m      1\u001b[0m \u001b[38;5;66;03m# If the data is non-stationary, difference the data\u001b[39;00m\n\u001b[1;32m----> 2\u001b[0m time_series_data_diff \u001b[38;5;241m=\u001b[39m time_series_data\u001b[38;5;241m.\u001b[39mdiff()\u001b[38;5;241m.\u001b[39mdropna()\n\u001b[0;32m      4\u001b[0m \u001b[38;5;66;03m# Plot the differenced data to check if it's stationary\u001b[39;00m\n\u001b[0;32m      5\u001b[0m time_series_data_diff\u001b[38;5;241m.\u001b[39mplot(title\u001b[38;5;241m=\u001b[39m\u001b[38;5;124m\"\u001b[39m\u001b[38;5;124mDifferenced Time Series\u001b[39m\u001b[38;5;124m\"\u001b[39m)\n",
      "\u001b[1;31mNameError\u001b[0m: name 'time_series_data' is not defined"
     ]
    }
   ],
   "source": [
    "# If the data is non-stationary, difference the data\n",
    "time_series_data_diff = time_series_data.diff().dropna()\n",
    "\n",
    "# Plot the differenced data to check if it's stationary\n",
    "time_series_data_diff.plot(title=\"Differenced Time Series\")\n",
    "plt.show()\n"
   ]
  },
  {
   "cell_type": "code",
   "execution_count": 100,
   "id": "47858ff1-43f8-4469-a91f-d4f07094bd1d",
   "metadata": {},
   "outputs": [
    {
     "name": "stdout",
     "output_type": "stream",
     "text": [
      "Empty DataFrame\n",
      "Columns: [wickets_per_match]\n",
      "Index: []\n"
     ]
    },
    {
     "ename": "ValueError",
     "evalue": "zero-size array to reduction operation maximum which has no identity",
     "output_type": "error",
     "traceback": [
      "\u001b[1;31m---------------------------------------------------------------------------\u001b[0m",
      "\u001b[1;31mValueError\u001b[0m                                Traceback (most recent call last)",
      "Cell \u001b[1;32mIn[100], line 37\u001b[0m\n\u001b[0;32m     34\u001b[0m \u001b[38;5;28mprint\u001b[39m(time_series_data\u001b[38;5;241m.\u001b[39mhead())\n\u001b[0;32m     36\u001b[0m \u001b[38;5;66;03m# Step 4: Check for stationarity (ADF test)\u001b[39;00m\n\u001b[1;32m---> 37\u001b[0m adf_test \u001b[38;5;241m=\u001b[39m adfuller(time_series_data[\u001b[38;5;124m'\u001b[39m\u001b[38;5;124mwickets_per_match\u001b[39m\u001b[38;5;124m'\u001b[39m])\n\u001b[0;32m     38\u001b[0m \u001b[38;5;28mprint\u001b[39m(\u001b[38;5;124mf\u001b[39m\u001b[38;5;124m\"\u001b[39m\u001b[38;5;124mADF Statistic: \u001b[39m\u001b[38;5;132;01m{\u001b[39;00madf_test[\u001b[38;5;241m0\u001b[39m]\u001b[38;5;132;01m}\u001b[39;00m\u001b[38;5;124m\"\u001b[39m)\n\u001b[0;32m     39\u001b[0m \u001b[38;5;28mprint\u001b[39m(\u001b[38;5;124mf\u001b[39m\u001b[38;5;124m\"\u001b[39m\u001b[38;5;124mp-value: \u001b[39m\u001b[38;5;132;01m{\u001b[39;00madf_test[\u001b[38;5;241m1\u001b[39m]\u001b[38;5;132;01m}\u001b[39;00m\u001b[38;5;124m\"\u001b[39m)\n",
      "File \u001b[1;32m~\\anaconda3\\Lib\\site-packages\\statsmodels\\tsa\\stattools.py:274\u001b[0m, in \u001b[0;36madfuller\u001b[1;34m(x, maxlag, regression, autolag, store, regresults)\u001b[0m\n\u001b[0;32m    271\u001b[0m store \u001b[38;5;241m=\u001b[39m bool_like(store, \u001b[38;5;124m\"\u001b[39m\u001b[38;5;124mstore\u001b[39m\u001b[38;5;124m\"\u001b[39m)\n\u001b[0;32m    272\u001b[0m regresults \u001b[38;5;241m=\u001b[39m bool_like(regresults, \u001b[38;5;124m\"\u001b[39m\u001b[38;5;124mregresults\u001b[39m\u001b[38;5;124m\"\u001b[39m)\n\u001b[1;32m--> 274\u001b[0m \u001b[38;5;28;01mif\u001b[39;00m x\u001b[38;5;241m.\u001b[39mmax() \u001b[38;5;241m==\u001b[39m x\u001b[38;5;241m.\u001b[39mmin():\n\u001b[0;32m    275\u001b[0m     \u001b[38;5;28;01mraise\u001b[39;00m \u001b[38;5;167;01mValueError\u001b[39;00m(\u001b[38;5;124m\"\u001b[39m\u001b[38;5;124mInvalid input, x is constant\u001b[39m\u001b[38;5;124m\"\u001b[39m)\n\u001b[0;32m    277\u001b[0m \u001b[38;5;28;01mif\u001b[39;00m regresults:\n",
      "File \u001b[1;32m~\\anaconda3\\Lib\\site-packages\\numpy\\core\\_methods.py:41\u001b[0m, in \u001b[0;36m_amax\u001b[1;34m(a, axis, out, keepdims, initial, where)\u001b[0m\n\u001b[0;32m     39\u001b[0m \u001b[38;5;28;01mdef\u001b[39;00m \u001b[38;5;21m_amax\u001b[39m(a, axis\u001b[38;5;241m=\u001b[39m\u001b[38;5;28;01mNone\u001b[39;00m, out\u001b[38;5;241m=\u001b[39m\u001b[38;5;28;01mNone\u001b[39;00m, keepdims\u001b[38;5;241m=\u001b[39m\u001b[38;5;28;01mFalse\u001b[39;00m,\n\u001b[0;32m     40\u001b[0m           initial\u001b[38;5;241m=\u001b[39m_NoValue, where\u001b[38;5;241m=\u001b[39m\u001b[38;5;28;01mTrue\u001b[39;00m):\n\u001b[1;32m---> 41\u001b[0m     \u001b[38;5;28;01mreturn\u001b[39;00m umr_maximum(a, axis, \u001b[38;5;28;01mNone\u001b[39;00m, out, keepdims, initial, where)\n",
      "\u001b[1;31mValueError\u001b[0m: zero-size array to reduction operation maximum which has no identity"
     ]
    }
   ],
   "source": [
    "import pandas as pd\n",
    "import matplotlib.pyplot as plt\n",
    "from statsmodels.tsa.arima.model import ARIMA\n",
    "from statsmodels.tsa.stattools import adfuller\n",
    "from statsmodels.graphics.tsaplots import plot_acf, plot_pacf\n",
    "\n",
    "# Step 1: Load the dataset\n",
    "df = pd.read_csv('deliveries.csv')\n",
    "\n",
    "# Extract relevant columns for the bowler\n",
    "bowler_data = df[['match_id', 'bowler', 'is_wicket', 'total_runs']]\n",
    "\n",
    "# Step 2: Aggregate data for each bowler and match\n",
    "bowler_summary = bowler_data.groupby(['match_id', 'bowler']).agg(\n",
    "    total_wickets=('is_wicket', 'sum'),  # Sum of is_wicket will give total wickets\n",
    "    total_runs=('total_runs', 'sum'),    # Sum of total_runs will give total runs conceded\n",
    "    total_balls=('is_wicket', 'count')   # Count of balls bowled per match\n",
    ").reset_index()\n",
    "\n",
    "# Step 3: Create a time series for the selected bowler\n",
    "selected_bowler = 'D Kulkarni'  # Replace with the bowler you want to analyze\n",
    "\n",
    "# Filter the performance of the selected bowler\n",
    "bowler_performance = bowler_summary[bowler_summary['bowler'] == selected_bowler]\n",
    "\n",
    "# Create the time series: use match_id as index, and use wickets per match as the target variable\n",
    "bowler_performance.set_index('match_id', inplace=True)\n",
    "bowler_performance['wickets_per_match'] = bowler_performance['total_wickets'] / bowler_performance['total_balls']\n",
    "\n",
    "# Now, `bowler_performance` contains the time series we will forecast\n",
    "time_series_data = bowler_performance[['wickets_per_match']]\n",
    "\n",
    "# Display the time series data\n",
    "print(time_series_data.head())\n",
    "\n",
    "# Step 4: Check for stationarity (ADF test)\n",
    "adf_test = adfuller(time_series_data['wickets_per_match'])\n",
    "print(f\"ADF Statistic: {adf_test[0]}\")\n",
    "print(f\"p-value: {adf_test[1]}\")\n",
    "\n",
    "# If the p-value is greater than 0.05, the data is non-stationary, and we need to difference it\n",
    "if adf_test[1] > 0.05:\n",
    "    print(\"The time series is non-stationary, applying differencing.\")\n",
    "    # Apply differencing to make the data stationary\n",
    "    time_series_data_diff = time_series_data.diff().dropna()\n",
    "    \n",
    "    # Plot the differenced data to check if it's stationary\n",
    "    time_series_data_diff.plot(title=\"Differenced Time Series\")\n",
    "    plt.show()\n",
    "else:\n",
    "    print(\"The time series is stationary.\")\n",
    "\n",
    "# Step 5: ACF and PACF Plots (optional, to identify ARIMA parameters)\n",
    "plt.figure(figsize=(12, 6))\n",
    "\n",
    "# Plot ACF (AutoCorrelation Function)\n",
    "plt.subplot(121)\n",
    "plot_acf(time_series_data_diff, lags=20, ax=plt.gca(), title=\"ACF Plot\")\n",
    "\n",
    "# Plot PACF (Partial AutoCorrelation Function)\n",
    "plt.subplot(122)\n",
    "plot_pacf(time_series_data_diff, lags=20, ax=plt.gca(), title=\"PACF Plot\")\n",
    "\n",
    "plt.tight_layout()\n",
    "plt.show()\n",
    "\n",
    "# Step 6: Fit the ARIMA model\n",
    "# Using example parameters (p=1, d=1, q=1)\n",
    "model = ARIMA(time_series_data['wickets_per_match'], order=(1, 1, 1))\n",
    "model_fit = model.fit()\n",
    "\n",
    "# Display model summary\n",
    "print(model_fit.summary())\n",
    "\n",
    "# Step 7: Forecast future performance (e.g., next 5 matches)\n",
    "forecast_steps = 5\n",
    "forecast = model_fit.forecast(steps=forecast_steps)\n",
    "\n",
    "# Print the forecasted values\n",
    "print(f\"Forecasted Wickets per Match for Next {forecast_steps} Matches: {forecast}\")\n"
   ]
  },
  {
   "cell_type": "code",
   "execution_count": 104,
   "id": "fd2f36ef-2d6f-47ce-a80e-8b71fe6fe3f3",
   "metadata": {},
   "outputs": [
    {
     "name": "stderr",
     "output_type": "stream",
     "text": [
      "C:\\Users\\HP\\anaconda3\\Lib\\site-packages\\statsmodels\\tsa\\statespace\\sarimax.py:866: UserWarning: Too few observations to estimate starting parameters for ARMA and trend. All parameters except for variances will be set to zeros.\n",
      "  warn('Too few observations to estimate starting parameters%s.'\n",
      "C:\\Users\\HP\\anaconda3\\Lib\\site-packages\\statsmodels\\base\\model.py:534: RuntimeWarning: invalid value encountered in scalar divide\n",
      "  return -self.loglike(params, *args) / nobs\n",
      "C:\\Users\\HP\\anaconda3\\Lib\\site-packages\\statsmodels\\base\\model.py:607: ConvergenceWarning: Maximum Likelihood optimization failed to converge. Check mle_retvals\n",
      "  warnings.warn(\"Maximum Likelihood optimization failed to \"\n"
     ]
    },
    {
     "ename": "IndexError",
     "evalue": "index -1 is out of bounds for axis 0 with size 0",
     "output_type": "error",
     "traceback": [
      "\u001b[1;31m---------------------------------------------------------------------------\u001b[0m",
      "\u001b[1;31mIndexError\u001b[0m                                Traceback (most recent call last)",
      "Cell \u001b[1;32mIn[104], line 5\u001b[0m\n\u001b[0;32m      3\u001b[0m \u001b[38;5;66;03m# Fit the ARIMA model with identified parameters (example: p=1, d=1, q=1)\u001b[39;00m\n\u001b[0;32m      4\u001b[0m model \u001b[38;5;241m=\u001b[39m ARIMA(time_series_data[\u001b[38;5;124m'\u001b[39m\u001b[38;5;124mwickets_per_match\u001b[39m\u001b[38;5;124m'\u001b[39m], order\u001b[38;5;241m=\u001b[39m(\u001b[38;5;241m1\u001b[39m, \u001b[38;5;241m1\u001b[39m, \u001b[38;5;241m1\u001b[39m))\n\u001b[1;32m----> 5\u001b[0m model_fit \u001b[38;5;241m=\u001b[39m model\u001b[38;5;241m.\u001b[39mfit()\n\u001b[0;32m      7\u001b[0m \u001b[38;5;66;03m# Display the model summary\u001b[39;00m\n\u001b[0;32m      8\u001b[0m \u001b[38;5;28mprint\u001b[39m(model_fit\u001b[38;5;241m.\u001b[39msummary())\n",
      "File \u001b[1;32m~\\anaconda3\\Lib\\site-packages\\statsmodels\\tsa\\arima\\model.py:395\u001b[0m, in \u001b[0;36mARIMA.fit\u001b[1;34m(self, start_params, transformed, includes_fixed, method, method_kwargs, gls, gls_kwargs, cov_type, cov_kwds, return_params, low_memory)\u001b[0m\n\u001b[0;32m    392\u001b[0m \u001b[38;5;28;01melse\u001b[39;00m:\n\u001b[0;32m    393\u001b[0m     method_kwargs\u001b[38;5;241m.\u001b[39msetdefault(\u001b[38;5;124m'\u001b[39m\u001b[38;5;124mdisp\u001b[39m\u001b[38;5;124m'\u001b[39m, \u001b[38;5;241m0\u001b[39m)\n\u001b[1;32m--> 395\u001b[0m     res \u001b[38;5;241m=\u001b[39m \u001b[38;5;28msuper\u001b[39m()\u001b[38;5;241m.\u001b[39mfit(\n\u001b[0;32m    396\u001b[0m         return_params\u001b[38;5;241m=\u001b[39mreturn_params, low_memory\u001b[38;5;241m=\u001b[39mlow_memory,\n\u001b[0;32m    397\u001b[0m         cov_type\u001b[38;5;241m=\u001b[39mcov_type, cov_kwds\u001b[38;5;241m=\u001b[39mcov_kwds, \u001b[38;5;241m*\u001b[39m\u001b[38;5;241m*\u001b[39mmethod_kwargs)\n\u001b[0;32m    398\u001b[0m     \u001b[38;5;28;01mif\u001b[39;00m \u001b[38;5;129;01mnot\u001b[39;00m return_params:\n\u001b[0;32m    399\u001b[0m         res\u001b[38;5;241m.\u001b[39mfit_details \u001b[38;5;241m=\u001b[39m res\u001b[38;5;241m.\u001b[39mmlefit\n",
      "File \u001b[1;32m~\\anaconda3\\Lib\\site-packages\\statsmodels\\tsa\\statespace\\mlemodel.py:727\u001b[0m, in \u001b[0;36mMLEModel.fit\u001b[1;34m(self, start_params, transformed, includes_fixed, cov_type, cov_kwds, method, maxiter, full_output, disp, callback, return_params, optim_score, optim_complex_step, optim_hessian, flags, low_memory, **kwargs)\u001b[0m\n\u001b[0;32m    725\u001b[0m \u001b[38;5;28;01melse\u001b[39;00m:\n\u001b[0;32m    726\u001b[0m     func \u001b[38;5;241m=\u001b[39m \u001b[38;5;28mself\u001b[39m\u001b[38;5;241m.\u001b[39msmooth\n\u001b[1;32m--> 727\u001b[0m res \u001b[38;5;241m=\u001b[39m func(mlefit\u001b[38;5;241m.\u001b[39mparams, transformed\u001b[38;5;241m=\u001b[39m\u001b[38;5;28;01mFalse\u001b[39;00m, includes_fixed\u001b[38;5;241m=\u001b[39m\u001b[38;5;28;01mFalse\u001b[39;00m,\n\u001b[0;32m    728\u001b[0m            cov_type\u001b[38;5;241m=\u001b[39mcov_type, cov_kwds\u001b[38;5;241m=\u001b[39mcov_kwds)\n\u001b[0;32m    730\u001b[0m res\u001b[38;5;241m.\u001b[39mmlefit \u001b[38;5;241m=\u001b[39m mlefit\n\u001b[0;32m    731\u001b[0m res\u001b[38;5;241m.\u001b[39mmle_retvals \u001b[38;5;241m=\u001b[39m mlefit\u001b[38;5;241m.\u001b[39mmle_retvals\n",
      "File \u001b[1;32m~\\anaconda3\\Lib\\site-packages\\statsmodels\\tsa\\statespace\\mlemodel.py:888\u001b[0m, in \u001b[0;36mMLEModel.smooth\u001b[1;34m(self, params, transformed, includes_fixed, complex_step, cov_type, cov_kwds, return_ssm, results_class, results_wrapper_class, **kwargs)\u001b[0m\n\u001b[0;32m    885\u001b[0m result \u001b[38;5;241m=\u001b[39m \u001b[38;5;28mself\u001b[39m\u001b[38;5;241m.\u001b[39mssm\u001b[38;5;241m.\u001b[39msmooth(complex_step\u001b[38;5;241m=\u001b[39mcomplex_step, \u001b[38;5;241m*\u001b[39m\u001b[38;5;241m*\u001b[39mkwargs)\n\u001b[0;32m    887\u001b[0m \u001b[38;5;66;03m# Wrap in a results object\u001b[39;00m\n\u001b[1;32m--> 888\u001b[0m \u001b[38;5;28;01mreturn\u001b[39;00m \u001b[38;5;28mself\u001b[39m\u001b[38;5;241m.\u001b[39m_wrap_results(params, result, return_ssm, cov_type,\n\u001b[0;32m    889\u001b[0m                           cov_kwds, results_class,\n\u001b[0;32m    890\u001b[0m                           results_wrapper_class)\n",
      "File \u001b[1;32m~\\anaconda3\\Lib\\site-packages\\statsmodels\\tsa\\statespace\\mlemodel.py:787\u001b[0m, in \u001b[0;36mMLEModel._wrap_results\u001b[1;34m(self, params, result, return_raw, cov_type, cov_kwds, results_class, wrapper_class)\u001b[0m\n\u001b[0;32m    784\u001b[0m     \u001b[38;5;28;01mif\u001b[39;00m wrapper_class \u001b[38;5;129;01mis\u001b[39;00m \u001b[38;5;28;01mNone\u001b[39;00m:\n\u001b[0;32m    785\u001b[0m         wrapper_class \u001b[38;5;241m=\u001b[39m \u001b[38;5;28mself\u001b[39m\u001b[38;5;241m.\u001b[39m_res_classes[\u001b[38;5;124m'\u001b[39m\u001b[38;5;124mfit\u001b[39m\u001b[38;5;124m'\u001b[39m][\u001b[38;5;241m1\u001b[39m]\n\u001b[1;32m--> 787\u001b[0m     res \u001b[38;5;241m=\u001b[39m results_class(\u001b[38;5;28mself\u001b[39m, params, result, \u001b[38;5;241m*\u001b[39m\u001b[38;5;241m*\u001b[39mresult_kwargs)\n\u001b[0;32m    788\u001b[0m     result \u001b[38;5;241m=\u001b[39m wrapper_class(res)\n\u001b[0;32m    789\u001b[0m \u001b[38;5;28;01mreturn\u001b[39;00m result\n",
      "File \u001b[1;32m~\\anaconda3\\Lib\\site-packages\\statsmodels\\tsa\\statespace\\sarimax.py:1806\u001b[0m, in \u001b[0;36mSARIMAXResults.__init__\u001b[1;34m(self, model, params, filter_results, cov_type, **kwargs)\u001b[0m\n\u001b[0;32m   1804\u001b[0m \u001b[38;5;28;01mdef\u001b[39;00m \u001b[38;5;21m__init__\u001b[39m(\u001b[38;5;28mself\u001b[39m, model, params, filter_results, cov_type\u001b[38;5;241m=\u001b[39m\u001b[38;5;28;01mNone\u001b[39;00m,\n\u001b[0;32m   1805\u001b[0m              \u001b[38;5;241m*\u001b[39m\u001b[38;5;241m*\u001b[39mkwargs):\n\u001b[1;32m-> 1806\u001b[0m     \u001b[38;5;28msuper\u001b[39m()\u001b[38;5;241m.\u001b[39m\u001b[38;5;21m__init__\u001b[39m(model, params, filter_results, cov_type, \u001b[38;5;241m*\u001b[39m\u001b[38;5;241m*\u001b[39mkwargs)\n\u001b[0;32m   1808\u001b[0m     \u001b[38;5;28mself\u001b[39m\u001b[38;5;241m.\u001b[39mdf_resid \u001b[38;5;241m=\u001b[39m np\u001b[38;5;241m.\u001b[39minf  \u001b[38;5;66;03m# attribute required for wald tests\u001b[39;00m\n\u001b[0;32m   1810\u001b[0m     \u001b[38;5;66;03m# Save _init_kwds\u001b[39;00m\n",
      "File \u001b[1;32m~\\anaconda3\\Lib\\site-packages\\statsmodels\\tsa\\statespace\\mlemodel.py:2438\u001b[0m, in \u001b[0;36mMLEResults.__init__\u001b[1;34m(self, model, params, results, cov_type, cov_kwds, **kwargs)\u001b[0m\n\u001b[0;32m   2436\u001b[0m     \u001b[38;5;28mself\u001b[39m\u001b[38;5;241m.\u001b[39m_states\u001b[38;5;241m.\u001b[39mpredicted \u001b[38;5;241m=\u001b[39m \u001b[38;5;28;01mNone\u001b[39;00m\n\u001b[0;32m   2437\u001b[0m \u001b[38;5;28;01melif\u001b[39;00m use_pandas:\n\u001b[1;32m-> 2438\u001b[0m     extended_index \u001b[38;5;241m=\u001b[39m \u001b[38;5;28mself\u001b[39m\u001b[38;5;241m.\u001b[39mmodel\u001b[38;5;241m.\u001b[39m_get_index_with_final_state()\n\u001b[0;32m   2439\u001b[0m     \u001b[38;5;28mself\u001b[39m\u001b[38;5;241m.\u001b[39m_states\u001b[38;5;241m.\u001b[39mpredicted \u001b[38;5;241m=\u001b[39m pd\u001b[38;5;241m.\u001b[39mDataFrame(\n\u001b[0;32m   2440\u001b[0m         \u001b[38;5;28mself\u001b[39m\u001b[38;5;241m.\u001b[39mpredicted_state\u001b[38;5;241m.\u001b[39mT, index\u001b[38;5;241m=\u001b[39mextended_index, columns\u001b[38;5;241m=\u001b[39mcolumns)\n\u001b[0;32m   2441\u001b[0m \u001b[38;5;28;01melse\u001b[39;00m:\n",
      "File \u001b[1;32m~\\anaconda3\\Lib\\site-packages\\statsmodels\\tsa\\statespace\\mlemodel.py:231\u001b[0m, in \u001b[0;36mMLEModel._get_index_with_final_state\u001b[1;34m(self)\u001b[0m\n\u001b[0;32m    227\u001b[0m     index \u001b[38;5;241m=\u001b[39m pd\u001b[38;5;241m.\u001b[39mRangeIndex(start, stop \u001b[38;5;241m+\u001b[39m step, step)\n\u001b[0;32m    228\u001b[0m \u001b[38;5;28;01melif\u001b[39;00m is_int_index(\u001b[38;5;28mself\u001b[39m\u001b[38;5;241m.\u001b[39m_index):\n\u001b[0;32m    229\u001b[0m     \u001b[38;5;66;03m# The only valid Int64Index is a full, incrementing index, so this\u001b[39;00m\n\u001b[0;32m    230\u001b[0m     \u001b[38;5;66;03m# is general\u001b[39;00m\n\u001b[1;32m--> 231\u001b[0m     value \u001b[38;5;241m=\u001b[39m \u001b[38;5;28mself\u001b[39m\u001b[38;5;241m.\u001b[39m_index[\u001b[38;5;241m-\u001b[39m\u001b[38;5;241m1\u001b[39m] \u001b[38;5;241m+\u001b[39m \u001b[38;5;241m1\u001b[39m\n\u001b[0;32m    232\u001b[0m     index \u001b[38;5;241m=\u001b[39m pd\u001b[38;5;241m.\u001b[39mIndex(\u001b[38;5;28mself\u001b[39m\u001b[38;5;241m.\u001b[39m_index\u001b[38;5;241m.\u001b[39mtolist() \u001b[38;5;241m+\u001b[39m [value])\n\u001b[0;32m    233\u001b[0m \u001b[38;5;28;01melse\u001b[39;00m:\n",
      "File \u001b[1;32m~\\anaconda3\\Lib\\site-packages\\pandas\\core\\indexes\\base.py:5389\u001b[0m, in \u001b[0;36mIndex.__getitem__\u001b[1;34m(self, key)\u001b[0m\n\u001b[0;32m   5386\u001b[0m \u001b[38;5;28;01mif\u001b[39;00m is_integer(key) \u001b[38;5;129;01mor\u001b[39;00m is_float(key):\n\u001b[0;32m   5387\u001b[0m     \u001b[38;5;66;03m# GH#44051 exclude bool, which would return a 2d ndarray\u001b[39;00m\n\u001b[0;32m   5388\u001b[0m     key \u001b[38;5;241m=\u001b[39m com\u001b[38;5;241m.\u001b[39mcast_scalar_indexer(key)\n\u001b[1;32m-> 5389\u001b[0m     \u001b[38;5;28;01mreturn\u001b[39;00m getitem(key)\n\u001b[0;32m   5391\u001b[0m \u001b[38;5;28;01mif\u001b[39;00m \u001b[38;5;28misinstance\u001b[39m(key, \u001b[38;5;28mslice\u001b[39m):\n\u001b[0;32m   5392\u001b[0m     \u001b[38;5;66;03m# This case is separated from the conditional above to avoid\u001b[39;00m\n\u001b[0;32m   5393\u001b[0m     \u001b[38;5;66;03m# pessimization com.is_bool_indexer and ndim checks.\u001b[39;00m\n\u001b[0;32m   5394\u001b[0m     \u001b[38;5;28;01mreturn\u001b[39;00m \u001b[38;5;28mself\u001b[39m\u001b[38;5;241m.\u001b[39m_getitem_slice(key)\n",
      "\u001b[1;31mIndexError\u001b[0m: index -1 is out of bounds for axis 0 with size 0"
     ]
    }
   ],
   "source": [
    "from statsmodels.tsa.arima.model import ARIMA\n",
    "\n",
    "# Fit the ARIMA model with identified parameters (example: p=1, d=1, q=1)\n",
    "model = ARIMA(time_series_data['wickets_per_match'], order=(1, 1, 1))\n",
    "model_fit = model.fit()\n",
    "\n",
    "# Display the model summary\n",
    "print(model_fit.summary())\n",
    "\n"
   ]
  },
  {
   "cell_type": "code",
   "execution_count": 108,
   "id": "b714f4b4-e9e4-409f-8cdc-ab3bf253cd2e",
   "metadata": {},
   "outputs": [
    {
     "name": "stdout",
     "output_type": "stream",
     "text": [
      "Forecasted Wickets per Match for Next 5 Matches: 240    44.189547\n",
      "241    44.237982\n",
      "242    44.239054\n",
      "243    44.239078\n",
      "244    44.239078\n",
      "Name: predicted_mean, dtype: float64\n"
     ]
    },
    {
     "name": "stderr",
     "output_type": "stream",
     "text": [
      "C:\\Users\\HP\\anaconda3\\Lib\\site-packages\\statsmodels\\tsa\\base\\tsa_model.py:836: ValueWarning: No supported index is available. Prediction results will be given with an integer index beginning at `start`.\n",
      "  return get_prediction_index(\n",
      "C:\\Users\\HP\\anaconda3\\Lib\\site-packages\\statsmodels\\tsa\\base\\tsa_model.py:836: FutureWarning: No supported index is available. In the next version, calling this method in a model without a supported index will result in an exception.\n",
      "  return get_prediction_index(\n"
     ]
    }
   ],
   "source": [
    "# Forecast future performance (e.g., next 5 matches)\n",
    "forecast_steps = 5\n",
    "forecast = model_fit.forecast(steps=forecast_steps)\n",
    "\n",
    "# Display the forecasted values\n",
    "print(f\"Forecasted Wickets per Match for Next {forecast_steps} Matches: {forecast}\")\n"
   ]
  },
  {
   "cell_type": "code",
   "execution_count": 122,
   "id": "bf2176fd-980b-444a-8b10-4852aee415c7",
   "metadata": {},
   "outputs": [
    {
     "name": "stdout",
     "output_type": "stream",
     "text": [
      "Empty DataFrame\n",
      "Columns: [bowler, total_wickets, total_runs, total_balls, wickets_per_match]\n",
      "Index: []\n"
     ]
    }
   ],
   "source": [
    "# Check the bowler performance data\n",
    "print(bowler_performance[bowler_performance['bowler'] == selected_bowler])\n"
   ]
  },
  {
   "cell_type": "code",
   "execution_count": 128,
   "id": "c13d3b32-f86b-463a-a354-8ee8064d66a6",
   "metadata": {},
   "outputs": [
    {
     "name": "stdout",
     "output_type": "stream",
     "text": [
      "Not enough data points to perform ADF test.\n"
     ]
    }
   ],
   "source": [
    "# Ensure there are enough data points (for example, at least 10-20 data points)\n",
    "if len(time_series_data) < 10:\n",
    "    print(\"Not enough data points to perform ADF test.\")\n",
    "else:\n",
    "    adf_test = adfuller(time_series_data['wickets_per_match'])\n",
    "    print(f\"ADF Statistic: {adf_test[0]}\")\n",
    "    print(f\"p-value: {adf_test[1]}\")\n"
   ]
  },
  {
   "cell_type": "code",
   "execution_count": 132,
   "id": "bad41044-68e5-4ac3-8249-1b6f15ef297b",
   "metadata": {},
   "outputs": [
    {
     "data": {
      "image/png": "[encoded data removed]",
      "text/plain": [
       "<Figure size 1000x600 with 1 Axes>"
      ]
     },
     "metadata": {},
     "output_type": "display_data"
    }
   ],
   "source": [
    "# Plot the time series data (Wickets per match)\n",
    "plt.figure(figsize=(10, 6))\n",
    "plt.plot(time_series_data.index, time_series_data['wickets_per_match'], label='Wickets per Match')\n",
    "plt.title(f'Bowler Performance over Time - {selected_bowler}')\n",
    "plt.xlabel('Match ID')\n",
    "plt.ylabel('Wickets per Match')\n",
    "plt.legend()\n",
    "plt.grid(True)\n",
    "plt.show()\n"
   ]
  },
  {
   "cell_type": "code",
   "execution_count": 137,
   "id": "f8ca2c69-eeb0-4e4e-8645-39c3ac271ed3",
   "metadata": {},
   "outputs": [
    {
     "name": "stderr",
     "output_type": "stream",
     "text": [
      "C:\\Users\\HP\\anaconda3\\Lib\\site-packages\\statsmodels\\tsa\\stattools.py:472: RuntimeWarning: Mean of empty slice.\n",
      "  xo = x - x.mean()\n",
      "C:\\Users\\HP\\anaconda3\\Lib\\site-packages\\numpy\\core\\_methods.py:129: RuntimeWarning: invalid value encountered in scalar divide\n",
      "  ret = ret.dtype.type(ret / rcount)\n"
     ]
    },
    {
     "ename": "ValueError",
     "evalue": "negative dimensions are not allowed",
     "output_type": "error",
     "traceback": [
      "\u001b[1;31m---------------------------------------------------------------------------\u001b[0m",
      "\u001b[1;31mValueError\u001b[0m                                Traceback (most recent call last)",
      "Cell \u001b[1;32mIn[137], line 7\u001b[0m\n\u001b[0;32m      4\u001b[0m fig, axes \u001b[38;5;241m=\u001b[39m plt\u001b[38;5;241m.\u001b[39msubplots(\u001b[38;5;241m1\u001b[39m, \u001b[38;5;241m2\u001b[39m, figsize\u001b[38;5;241m=\u001b[39m(\u001b[38;5;241m14\u001b[39m, \u001b[38;5;241m6\u001b[39m))\n\u001b[0;32m      6\u001b[0m \u001b[38;5;66;03m# ACF Plot\u001b[39;00m\n\u001b[1;32m----> 7\u001b[0m plot_acf(time_series_data[\u001b[38;5;124m'\u001b[39m\u001b[38;5;124mwickets_per_match\u001b[39m\u001b[38;5;124m'\u001b[39m], lags\u001b[38;5;241m=\u001b[39m\u001b[38;5;241m20\u001b[39m, ax\u001b[38;5;241m=\u001b[39maxes[\u001b[38;5;241m0\u001b[39m], title\u001b[38;5;241m=\u001b[39m\u001b[38;5;124m\"\u001b[39m\u001b[38;5;124mACF Plot\u001b[39m\u001b[38;5;124m\"\u001b[39m)\n\u001b[0;32m      9\u001b[0m \u001b[38;5;66;03m# PACF Plot\u001b[39;00m\n\u001b[0;32m     10\u001b[0m plot_pacf(time_series_data[\u001b[38;5;124m'\u001b[39m\u001b[38;5;124mwickets_per_match\u001b[39m\u001b[38;5;124m'\u001b[39m], lags\u001b[38;5;241m=\u001b[39m\u001b[38;5;241m20\u001b[39m, ax\u001b[38;5;241m=\u001b[39maxes[\u001b[38;5;241m1\u001b[39m], title\u001b[38;5;241m=\u001b[39m\u001b[38;5;124m\"\u001b[39m\u001b[38;5;124mPACF Plot\u001b[39m\u001b[38;5;124m\"\u001b[39m)\n",
      "File \u001b[1;32m~\\anaconda3\\Lib\\site-packages\\pandas\\util\\_decorators.py:213\u001b[0m, in \u001b[0;36mdeprecate_kwarg.<locals>._deprecate_kwarg.<locals>.wrapper\u001b[1;34m(*args, **kwargs)\u001b[0m\n\u001b[0;32m    211\u001b[0m         \u001b[38;5;28;01mraise\u001b[39;00m \u001b[38;5;167;01mTypeError\u001b[39;00m(msg)\n\u001b[0;32m    212\u001b[0m     kwargs[new_arg_name] \u001b[38;5;241m=\u001b[39m new_arg_value\n\u001b[1;32m--> 213\u001b[0m \u001b[38;5;28;01mreturn\u001b[39;00m func(\u001b[38;5;241m*\u001b[39margs, \u001b[38;5;241m*\u001b[39m\u001b[38;5;241m*\u001b[39mkwargs)\n",
      "File \u001b[1;32m~\\anaconda3\\Lib\\site-packages\\statsmodels\\graphics\\tsaplots.py:217\u001b[0m, in \u001b[0;36mplot_acf\u001b[1;34m(x, ax, lags, alpha, use_vlines, adjusted, fft, missing, title, zero, auto_ylims, bartlett_confint, vlines_kwargs, **kwargs)\u001b[0m\n\u001b[0;32m    215\u001b[0m confint \u001b[38;5;241m=\u001b[39m \u001b[38;5;28;01mNone\u001b[39;00m\n\u001b[0;32m    216\u001b[0m \u001b[38;5;66;03m# acf has different return type based on alpha\u001b[39;00m\n\u001b[1;32m--> 217\u001b[0m acf_x \u001b[38;5;241m=\u001b[39m acf(\n\u001b[0;32m    218\u001b[0m     x,\n\u001b[0;32m    219\u001b[0m     nlags\u001b[38;5;241m=\u001b[39mnlags,\n\u001b[0;32m    220\u001b[0m     alpha\u001b[38;5;241m=\u001b[39malpha,\n\u001b[0;32m    221\u001b[0m     fft\u001b[38;5;241m=\u001b[39mfft,\n\u001b[0;32m    222\u001b[0m     bartlett_confint\u001b[38;5;241m=\u001b[39mbartlett_confint,\n\u001b[0;32m    223\u001b[0m     adjusted\u001b[38;5;241m=\u001b[39madjusted,\n\u001b[0;32m    224\u001b[0m     missing\u001b[38;5;241m=\u001b[39mmissing,\n\u001b[0;32m    225\u001b[0m )\n\u001b[0;32m    226\u001b[0m \u001b[38;5;28;01mif\u001b[39;00m alpha \u001b[38;5;129;01mis\u001b[39;00m \u001b[38;5;129;01mnot\u001b[39;00m \u001b[38;5;28;01mNone\u001b[39;00m:\n\u001b[0;32m    227\u001b[0m     acf_x, confint \u001b[38;5;241m=\u001b[39m acf_x[:\u001b[38;5;241m2\u001b[39m]\n",
      "File \u001b[1;32m~\\anaconda3\\Lib\\site-packages\\statsmodels\\tsa\\stattools.py:692\u001b[0m, in \u001b[0;36macf\u001b[1;34m(x, adjusted, nlags, qstat, fft, alpha, bartlett_confint, missing)\u001b[0m\n\u001b[0;32m    689\u001b[0m \u001b[38;5;28;01mif\u001b[39;00m nlags \u001b[38;5;129;01mis\u001b[39;00m \u001b[38;5;28;01mNone\u001b[39;00m:\n\u001b[0;32m    690\u001b[0m     nlags \u001b[38;5;241m=\u001b[39m \u001b[38;5;28mmin\u001b[39m(\u001b[38;5;28mint\u001b[39m(\u001b[38;5;241m10\u001b[39m \u001b[38;5;241m*\u001b[39m np\u001b[38;5;241m.\u001b[39mlog10(nobs)), nobs \u001b[38;5;241m-\u001b[39m \u001b[38;5;241m1\u001b[39m)\n\u001b[1;32m--> 692\u001b[0m avf \u001b[38;5;241m=\u001b[39m acovf(x, adjusted\u001b[38;5;241m=\u001b[39madjusted, demean\u001b[38;5;241m=\u001b[39m\u001b[38;5;28;01mTrue\u001b[39;00m, fft\u001b[38;5;241m=\u001b[39mfft, missing\u001b[38;5;241m=\u001b[39mmissing)\n\u001b[0;32m    693\u001b[0m acf \u001b[38;5;241m=\u001b[39m avf[: nlags \u001b[38;5;241m+\u001b[39m \u001b[38;5;241m1\u001b[39m] \u001b[38;5;241m/\u001b[39m avf[\u001b[38;5;241m0\u001b[39m]\n\u001b[0;32m    694\u001b[0m \u001b[38;5;28;01mif\u001b[39;00m \u001b[38;5;129;01mnot\u001b[39;00m (qstat \u001b[38;5;129;01mor\u001b[39;00m alpha):\n",
      "File \u001b[1;32m~\\anaconda3\\Lib\\site-packages\\pandas\\util\\_decorators.py:213\u001b[0m, in \u001b[0;36mdeprecate_kwarg.<locals>._deprecate_kwarg.<locals>.wrapper\u001b[1;34m(*args, **kwargs)\u001b[0m\n\u001b[0;32m    211\u001b[0m         \u001b[38;5;28;01mraise\u001b[39;00m \u001b[38;5;167;01mTypeError\u001b[39;00m(msg)\n\u001b[0;32m    212\u001b[0m     kwargs[new_arg_name] \u001b[38;5;241m=\u001b[39m new_arg_value\n\u001b[1;32m--> 213\u001b[0m \u001b[38;5;28;01mreturn\u001b[39;00m func(\u001b[38;5;241m*\u001b[39margs, \u001b[38;5;241m*\u001b[39m\u001b[38;5;241m*\u001b[39mkwargs)\n",
      "File \u001b[1;32m~\\anaconda3\\Lib\\site-packages\\statsmodels\\tsa\\stattools.py:517\u001b[0m, in \u001b[0;36macovf\u001b[1;34m(x, adjusted, demean, fft, missing, nlag)\u001b[0m\n\u001b[0;32m    515\u001b[0m     d \u001b[38;5;241m=\u001b[39m notmask_int\u001b[38;5;241m.\u001b[39msum() \u001b[38;5;241m*\u001b[39m np\u001b[38;5;241m.\u001b[39mones(\u001b[38;5;241m2\u001b[39m \u001b[38;5;241m*\u001b[39m n \u001b[38;5;241m-\u001b[39m \u001b[38;5;241m1\u001b[39m)\n\u001b[0;32m    516\u001b[0m \u001b[38;5;28;01melse\u001b[39;00m:  \u001b[38;5;66;03m# biased and no NaNs or missing==\"none\"\u001b[39;00m\n\u001b[1;32m--> 517\u001b[0m     d \u001b[38;5;241m=\u001b[39m n \u001b[38;5;241m*\u001b[39m np\u001b[38;5;241m.\u001b[39mones(\u001b[38;5;241m2\u001b[39m \u001b[38;5;241m*\u001b[39m n \u001b[38;5;241m-\u001b[39m \u001b[38;5;241m1\u001b[39m)\n\u001b[0;32m    519\u001b[0m \u001b[38;5;28;01mif\u001b[39;00m fft:\n\u001b[0;32m    520\u001b[0m     nobs \u001b[38;5;241m=\u001b[39m \u001b[38;5;28mlen\u001b[39m(xo)\n",
      "File \u001b[1;32m~\\anaconda3\\Lib\\site-packages\\numpy\\core\\numeric.py:191\u001b[0m, in \u001b[0;36mones\u001b[1;34m(shape, dtype, order, like)\u001b[0m\n\u001b[0;32m    188\u001b[0m \u001b[38;5;28;01mif\u001b[39;00m like \u001b[38;5;129;01mis\u001b[39;00m \u001b[38;5;129;01mnot\u001b[39;00m \u001b[38;5;28;01mNone\u001b[39;00m:\n\u001b[0;32m    189\u001b[0m     \u001b[38;5;28;01mreturn\u001b[39;00m _ones_with_like(like, shape, dtype\u001b[38;5;241m=\u001b[39mdtype, order\u001b[38;5;241m=\u001b[39morder)\n\u001b[1;32m--> 191\u001b[0m a \u001b[38;5;241m=\u001b[39m empty(shape, dtype, order)\n\u001b[0;32m    192\u001b[0m multiarray\u001b[38;5;241m.\u001b[39mcopyto(a, \u001b[38;5;241m1\u001b[39m, casting\u001b[38;5;241m=\u001b[39m\u001b[38;5;124m'\u001b[39m\u001b[38;5;124munsafe\u001b[39m\u001b[38;5;124m'\u001b[39m)\n\u001b[0;32m    193\u001b[0m \u001b[38;5;28;01mreturn\u001b[39;00m a\n",
      "\u001b[1;31mValueError\u001b[0m: negative dimensions are not allowed"
     ]
    },
    {
     "data": {
      "image/png": "[encoded data removed]",
      "text/plain": [
       "<Figure size 1400x600 with 2 Axes>"
      ]
     },
     "metadata": {},
     "output_type": "display_data"
    }
   ],
   "source": [
    "from statsmodels.graphics.tsaplots import plot_acf, plot_pacf\n",
    "\n",
    "# ACF and PACF plots to determine ARIMA parameters\n",
    "fig, axes = plt.subplots(1, 2, figsize=(14, 6))\n",
    "\n",
    "# ACF Plot\n",
    "plot_acf(time_series_data['wickets_per_match'], lags=20, ax=axes[0], title=\"ACF Plot\")\n",
    "\n",
    "# PACF Plot\n",
    "plot_pacf(time_series_data['wickets_per_match'], lags=20, ax=axes[1], title=\"PACF Plot\")\n",
    "\n",
    "plt.tight_layout()\n",
    "plt.show()\n"
   ]
  },
  {
   "cell_type": "code",
   "execution_count": 141,
   "id": "0d0d5373-3d93-4a36-b414-da8a03e7a8f5",
   "metadata": {},
   "outputs": [
    {
     "data": {
      "image/png": "[encoded data removed]",
      "text/plain": [
       "<Figure size 1000x600 with 1 Axes>"
      ]
     },
     "metadata": {},
     "output_type": "display_data"
    }
   ],
   "source": [
    "# If the data is non-stationary, difference the data\n",
    "time_series_data_diff = time_series_data.diff().dropna()\n",
    "\n",
    "# Plot the differenced data\n",
    "plt.figure(figsize=(10, 6))\n",
    "plt.plot(time_series_data_diff)\n",
    "plt.title('Differenced Time Series')\n",
    "plt.xlabel('Match ID')\n",
    "plt.ylabel('Differenced Wickets per Match')\n",
    "plt.grid(True)\n",
    "plt.show()\n"
   ]
  },
  {
   "cell_type": "code",
   "execution_count": 151,
   "id": "5dc58efd-af39-4680-9921-8647cf499582",
   "metadata": {},
   "outputs": [
    {
     "ename": "NameError",
     "evalue": "name 'forecast_values_non_seasonal' is not defined",
     "output_type": "error",
     "traceback": [
      "\u001b[1;31m---------------------------------------------------------------------------\u001b[0m",
      "\u001b[1;31mNameError\u001b[0m                                 Traceback (most recent call last)",
      "Cell \u001b[1;32mIn[151], line 8\u001b[0m\n\u001b[0;32m      5\u001b[0m plt\u001b[38;5;241m.\u001b[39mplot(time_series_data\u001b[38;5;241m.\u001b[39mindex, time_series_data[\u001b[38;5;124m'\u001b[39m\u001b[38;5;124mwickets_per_match\u001b[39m\u001b[38;5;124m'\u001b[39m], label\u001b[38;5;241m=\u001b[39m\u001b[38;5;124m'\u001b[39m\u001b[38;5;124mHistorical Data\u001b[39m\u001b[38;5;124m'\u001b[39m, color\u001b[38;5;241m=\u001b[39m\u001b[38;5;124m'\u001b[39m\u001b[38;5;124mblue\u001b[39m\u001b[38;5;124m'\u001b[39m, marker\u001b[38;5;241m=\u001b[39m\u001b[38;5;124m'\u001b[39m\u001b[38;5;124mo\u001b[39m\u001b[38;5;124m'\u001b[39m)\n\u001b[0;32m      7\u001b[0m \u001b[38;5;66;03m# Non-Seasonal ARIMA forecast plot\u001b[39;00m\n\u001b[1;32m----> 8\u001b[0m plt\u001b[38;5;241m.\u001b[39mplot(forecast_index, forecast_values_non_seasonal, label\u001b[38;5;241m=\u001b[39m\u001b[38;5;124m'\u001b[39m\u001b[38;5;124mNon-Seasonal ARIMA Forecast\u001b[39m\u001b[38;5;124m'\u001b[39m, color\u001b[38;5;241m=\u001b[39m\u001b[38;5;124m'\u001b[39m\u001b[38;5;124mred\u001b[39m\u001b[38;5;124m'\u001b[39m, marker\u001b[38;5;241m=\u001b[39m\u001b[38;5;124m'\u001b[39m\u001b[38;5;124mx\u001b[39m\u001b[38;5;124m'\u001b[39m)\n\u001b[0;32m     10\u001b[0m \u001b[38;5;66;03m# Seasonal ARIMA forecast plot\u001b[39;00m\n\u001b[0;32m     11\u001b[0m plt\u001b[38;5;241m.\u001b[39mplot(forecast_index, forecast_values_seasonal, label\u001b[38;5;241m=\u001b[39m\u001b[38;5;124m'\u001b[39m\u001b[38;5;124mSeasonal ARIMA Forecast\u001b[39m\u001b[38;5;124m'\u001b[39m, color\u001b[38;5;241m=\u001b[39m\u001b[38;5;124m'\u001b[39m\u001b[38;5;124mgreen\u001b[39m\u001b[38;5;124m'\u001b[39m, marker\u001b[38;5;241m=\u001b[39m\u001b[38;5;124m'\u001b[39m\u001b[38;5;124mx\u001b[39m\u001b[38;5;124m'\u001b[39m)\n",
      "\u001b[1;31mNameError\u001b[0m: name 'forecast_values_non_seasonal' is not defined"
     ]
    },
    {
     "data": {
      "image/png": "[encoded data removed]",
      "text/plain": [
       "<Figure size 1200x600 with 1 Axes>"
      ]
     },
     "metadata": {},
     "output_type": "display_data"
    }
   ],
   "source": [
    "# Plotting both Non-Seasonal and Seasonal ARIMA forecasts\n",
    "plt.figure(figsize=(12, 6))\n",
    "\n",
    "# Historical data plot\n",
    "plt.plot(time_series_data.index, time_series_data['wickets_per_match'], label='Historical Data', color='blue', marker='o')\n",
    "\n",
    "# Non-Seasonal ARIMA forecast plot\n",
    "plt.plot(forecast_index, forecast_values_non_seasonal, label='Non-Seasonal ARIMA Forecast', color='red', marker='x')\n",
    "\n",
    "# Seasonal ARIMA forecast plot\n",
    "plt.plot(forecast_index, forecast_values_seasonal, label='Seasonal ARIMA Forecast', color='green', marker='x')\n",
    "\n",
    "# Confidence intervals for both models\n",
    "plt.fill_between(forecast_index, conf_int_non_seasonal[:, 0], conf_int_non_seasonal[:, 1], color='orange', alpha=0.3, label='Non-Seasonal Confidence Interval')\n",
    "plt.fill_between(forecast_index, conf_int_seasonal[:, 0], conf_int_seasonal[:, 1], color='yellow', alpha=0.3, label='Seasonal Confidence Interval')\n",
    "\n",
    "plt.title(f'Comparison of Forecasts: Non-Seasonal vs Seasonal ARIMA')\n",
    "plt.xlabel('Match ID (Time)')\n",
    "plt.ylabel('Wickets per Match')\n",
    "plt.legend()\n",
    "plt.grid(True)\n",
    "plt.show()\n"
   ]
  },
  {
   "cell_type": "code",
   "execution_count": 155,
   "id": "e660a5c0-4977-4e76-a648-9f83069e9f8e",
   "metadata": {},
   "outputs": [
    {
     "data": {
      "image/png": "[encoded data removed]",
      "text/plain": [
       "<Figure size 1000x600 with 1 Axes>"
      ]
     },
     "metadata": {},
     "output_type": "display_data"
    },
    {
     "data": {
      "image/png": "[encoded data removed]",
      "text/plain": [
       "<Figure size 1000x600 with 1 Axes>"
      ]
     },
     "metadata": {},
     "output_type": "display_data"
    }
   ],
   "source": [
    "# Residuals from the ARIMA model\n",
    "residuals = model_fit.resid\n",
    "\n",
    "# Plot the residuals\n",
    "plt.figure(figsize=(10, 6))\n",
    "plt.plot(residuals)\n",
    "plt.title('Residuals from ARIMA Model')\n",
    "plt.xlabel('Match ID')\n",
    "plt.ylabel('Residuals')\n",
    "plt.grid(True)\n",
    "plt.show()\n",
    "\n",
    "# Histogram of residuals (to check for normality)\n",
    "plt.figure(figsize=(10, 6))\n",
    "plt.hist(residuals, bins=30, color='purple', alpha=0.7)\n",
    "plt.title('Histogram of Residuals')\n",
    "plt.xlabel('Residuals')\n",
    "plt.ylabel('Frequency')\n",
    "plt.grid(True)\n",
    "plt.show()\n"
   ]
  },
  {
   "cell_type": "code",
   "execution_count": null,
   "id": "d7de2cc4-6ebd-459e-97e4-1c61f60fe6ae",
   "metadata": {},
   "outputs": [],
   "source": []
  }
 ],
 "metadata": {
  "kernelspec": {
   "display_name": "Python 3 (ipykernel)",
   "language": "python",
   "name": "python3"
  },
  "language_info": {
   "codemirror_mode": {
    "name": "ipython",
    "version": 3
   },
   "file_extension": ".py",
   "mimetype": "text/x-python",
   "name": "python",
   "nbconvert_exporter": "python",
   "pygments_lexer": "ipython3",
   "version": "3.12.7"
  }
 },
 "nbformat": 4,
 "nbformat_minor": 5
}
