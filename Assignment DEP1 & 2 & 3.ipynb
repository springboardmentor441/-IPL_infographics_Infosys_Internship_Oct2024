{
 "cells": [
  {
   "cell_type": "code",
   "execution_count": 2,
   "id": "5731cd82-ea11-4ba5-bb85-cb756b6d38c8",
   "metadata": {},
   "outputs": [],
   "source": [
    "import pandas as pd\n",
    "# Read the CSV file\n",
    "file_path = 'deliveries.csv'\n",
    "dataset = pd.read_csv(file_path)"
   ]
  },
  {
   "cell_type": "code",
   "execution_count": 3,
   "id": "8e06b889-f239-4f7e-9dca-8742233ab24d",
   "metadata": {
    "scrolled": true
   },
   "outputs": [
    {
     "name": "stdout",
     "output_type": "stream",
     "text": [
      "Dataset Columns:\n",
      "Index(['match_id', 'inning', 'batting_team', 'bowling_team', 'over', 'ball',\n",
      "       'batter', 'bowler', 'non_striker', 'batsman_runs', 'extra_runs',\n",
      "       'total_runs', 'extras_type', 'is_wicket', 'player_dismissed',\n",
      "       'dismissal_kind', 'fielder'],\n",
      "      dtype='object')\n"
     ]
    }
   ],
   "source": [
    "#to see the dataset structure and columns\n",
    "print(\"Dataset Columns:\")\n",
    "print(dataset.columns)"
   ]
  },
  {
   "cell_type": "code",
   "execution_count": 6,
   "id": "66103015-10c3-4e22-8d77-ff22851086f7",
   "metadata": {},
   "outputs": [
    {
     "name": "stdout",
     "output_type": "stream",
     "text": [
      "First 5 rows of the dataset:\n",
      "   match_id  inning           batting_team                 bowling_team  over  \\\n",
      "0    335982       1  Kolkata Knight Riders  Royal Challengers Bangalore     0   \n",
      "1    335982       1  Kolkata Knight Riders  Royal Challengers Bangalore     0   \n",
      "2    335982       1  Kolkata Knight Riders  Royal Challengers Bangalore     0   \n",
      "3    335982       1  Kolkata Knight Riders  Royal Challengers Bangalore     0   \n",
      "4    335982       1  Kolkata Knight Riders  Royal Challengers Bangalore     0   \n",
      "\n",
      "   ball       batter   bowler  non_striker  batsman_runs  extra_runs  \\\n",
      "0     1   SC Ganguly  P Kumar  BB McCullum             0           1   \n",
      "1     2  BB McCullum  P Kumar   SC Ganguly             0           0   \n",
      "2     3  BB McCullum  P Kumar   SC Ganguly             0           1   \n",
      "3     4  BB McCullum  P Kumar   SC Ganguly             0           0   \n",
      "4     5  BB McCullum  P Kumar   SC Ganguly             0           0   \n",
      "\n",
      "   total_runs extras_type  is_wicket player_dismissed dismissal_kind fielder  \n",
      "0           1     legbyes          0              NaN            NaN     NaN  \n",
      "1           0         NaN          0              NaN            NaN     NaN  \n",
      "2           1       wides          0              NaN            NaN     NaN  \n",
      "3           0         NaN          0              NaN            NaN     NaN  \n",
      "4           0         NaN          0              NaN            NaN     NaN  \n"
     ]
    }
   ],
   "source": [
    "#checking the first few rows\n",
    "print(\"First 5 rows of the dataset:\")\n",
    "print(dataset.head())"
   ]
  },
  {
   "cell_type": "code",
   "execution_count": 8,
   "id": "f0c1703b-079e-4b7e-a5e5-b95aa58ef792",
   "metadata": {},
   "outputs": [
    {
     "name": "stdout",
     "output_type": "stream",
     "text": [
      "Mean: 1.3328069906484745\n",
      "Median: 1.0\n",
      "Mode: 1\n"
     ]
    }
   ],
   "source": [
    "if 'total_runs' in dataset.columns:\n",
    "    # Calculating mean, median, and mode for 'total_runs'\n",
    "    runs_mean = dataset['total_runs'].mean()\n",
    "    runs_median = dataset['total_runs'].median()\n",
    "    runs_mode = dataset['total_runs'].mode().iloc[0]\n",
    "\n",
    "    print(f\"Mean: {runs_mean}\")\n",
    "    print(f\"Median: {runs_median}\")\n",
    "    print(f\"Mode: {runs_mode}\")\n",
    "else:\n",
    "    print(\"Column 'total_runs' not found in the dataset.\")"
   ]
  },
  {
   "cell_type": "code",
   "execution_count": 10,
   "id": "46434010-d01f-45fd-9810-3d5f2fde2bf6",
   "metadata": {},
   "outputs": [],
   "source": [
    "#Calculating mean, median, and mode for wickets\n",
    "match_wise_wickets = dataset.groupby('match_id')['player_dismissed'].apply(lambda x: x.notna().sum())"
   ]
  },
  {
   "cell_type": "code",
   "execution_count": 12,
   "id": "04c2f818-2f2f-472f-b1ab-174fc3589023",
   "metadata": {},
   "outputs": [],
   "source": [
    "# Mean, Median, and Mode for match-wise wickets\n",
    "wickets_mean = match_wise_wickets.mean()\n",
    "wickets_median = match_wise_wickets.median()\n",
    "wickets_mode = match_wise_wickets.mode().iloc[0] if not match_wise_wickets.mode().empty else 0"
   ]
  },
  {
   "cell_type": "code",
   "execution_count": 14,
   "id": "f30ddace-b879-4c9e-b482-ce6911ee20ed",
   "metadata": {},
   "outputs": [],
   "source": [
    "# Displaying the results in a table-like format using pandas DataFrame\n",
    "stats = pd.DataFrame({\n",
    "    'Statistic': ['Mean', 'Median', 'Mode'],\n",
    "    'Runs': [runs_mean, runs_median, runs_mode],\n",
    "    'Wickets (Match-wise)': [wickets_mean, wickets_median, wickets_mode]\n",
    "})"
   ]
  },
  {
   "cell_type": "code",
   "execution_count": 16,
   "id": "c56c70c1-9875-4b95-a3cb-20d40c4a895b",
   "metadata": {},
   "outputs": [
    {
     "name": "stdout",
     "output_type": "stream",
     "text": [
      "  Statistic      Runs  Wickets (Match-wise)\n",
      "0      Mean  1.332807             11.826484\n",
      "1    Median  1.000000             12.000000\n",
      "2      Mode  1.000000             13.000000\n"
     ]
    }
   ],
   "source": [
    "print(stats)"
   ]
  },
  {
   "cell_type": "code",
   "execution_count": 18,
   "id": "4cd1fa97-70bd-414c-b701-8f975d96f215",
   "metadata": {},
   "outputs": [],
   "source": [
    "# Calculating runs and wickets for each player\n",
    "# Total runs scored by each player (batter)\n",
    "runs_per_player = dataset.groupby('batter')['batsman_runs'].sum()"
   ]
  },
  {
   "cell_type": "code",
   "execution_count": 20,
   "id": "282bf8e4-7782-4418-83b7-42c532623389",
   "metadata": {},
   "outputs": [],
   "source": [
    "# Total wickets taken by each player (bowler)\n",
    "wickets_per_player = dataset.groupby('bowler')['player_dismissed'].apply(lambda x: x.notna().sum())"
   ]
  },
  {
   "cell_type": "code",
   "execution_count": 22,
   "id": "7e97cde7-1fb3-4a5d-a03e-ead32f28d926",
   "metadata": {},
   "outputs": [],
   "source": [
    "# Calculating mean, median, and mode for runs for each player\n",
    "runs_mean = runs_per_player.mean()\n",
    "runs_median = runs_per_player.median()\n",
    "runs_mode = runs_per_player.mode().iloc[0]  "
   ]
  },
  {
   "cell_type": "code",
   "execution_count": 24,
   "id": "7ee60cba-e4dd-451a-a5e9-1dddbf03661d",
   "metadata": {},
   "outputs": [],
   "source": [
    "# Calculate mean, median, and mode for wickets for each player\n",
    "wickets_mean = wickets_per_player.mean()\n",
    "wickets_median = wickets_per_player.median()\n",
    "wickets_mode = wickets_per_player.mode().iloc[0] "
   ]
  },
  {
   "cell_type": "code",
   "execution_count": 26,
   "id": "314b11d9-320e-4bd1-befa-d8ba3c468d6f",
   "metadata": {},
   "outputs": [],
   "source": [
    "# Creating a DataFrame to display the statistics for each player\n",
    "runs_stats = runs_per_player.describe().to_frame().T\n",
    "wickets_stats = wickets_per_player.describe().to_frame().T"
   ]
  },
  {
   "cell_type": "code",
   "execution_count": 28,
   "id": "81412083-5b04-4578-b73b-c16059699409",
   "metadata": {},
   "outputs": [
    {
     "name": "stdout",
     "output_type": "stream",
     "text": [
      "                  Runs Mean  Runs Median  Runs Std Dev  Wickets Mean  \\\n",
      "batsman_runs      490.43685         75.0   1041.075277           NaN   \n",
      "player_dismissed        NaN          NaN           NaN     24.433962   \n",
      "\n",
      "                  Wickets Median  Wickets Std Dev  \n",
      "batsman_runs                 NaN              NaN  \n",
      "player_dismissed             8.5        38.896406  \n"
     ]
    }
   ],
   "source": [
    "combined_stats = pd.concat([runs_stats[['mean', '50%', 'std']], wickets_stats[['mean', '50%', 'std']]], axis=1)\n",
    "# Renaming the columns for clarity\n",
    "combined_stats.columns = ['Runs Mean', 'Runs Median', 'Runs Std Dev', 'Wickets Mean', 'Wickets Median', 'Wickets Std Dev']\n",
    "print(combined_stats)"
   ]
  },
  {
   "cell_type": "code",
   "execution_count": 30,
   "id": "955d0379-293d-4f7a-a456-e8cf0c1dadbc",
   "metadata": {},
   "outputs": [],
   "source": [
    "#Calculating key metrics for each batter\n",
    "# Total runs scored by each batter\n",
    "total_runs = dataset.groupby('batter')['batsman_runs'].sum()"
   ]
  },
  {
   "cell_type": "code",
   "execution_count": 32,
   "id": "ba54d79f-94bb-4349-994b-8815f5f26cc3",
   "metadata": {},
   "outputs": [],
   "source": [
    "# Total balls faced by each batter\n",
    "balls_faced = dataset.groupby('batter')['ball'].count()"
   ]
  },
  {
   "cell_type": "code",
   "execution_count": 34,
   "id": "1281fb72-1b28-4006-b253-e16d1ff9ec4b",
   "metadata": {},
   "outputs": [],
   "source": [
    "# Total dismissals for each batter\n",
    "dismissals = dataset['player_dismissed'].value_counts()"
   ]
  },
  {
   "cell_type": "code",
   "execution_count": 36,
   "id": "4ab2c4e3-f623-4f6d-8add-1a26ab7350b9",
   "metadata": {},
   "outputs": [],
   "source": [
    "# Count of 100s and 50s for each batter\n",
    "innings_scores = dataset.groupby(['match_id', 'batter'])['batsman_runs'].sum()\n",
    "hundreds = innings_scores[innings_scores >= 100].groupby('batter').count()\n",
    "fifties = innings_scores[(innings_scores >= 50) & (innings_scores < 100)].groupby('batter').count()"
   ]
  },
  {
   "cell_type": "code",
   "execution_count": 38,
   "id": "e626e8d5-67cc-4d99-af8e-1e804920d839",
   "metadata": {},
   "outputs": [],
   "source": [
    "# Combine these into a single DataFrame # Fill missing values with 0\n",
    "batting_stats = pd.DataFrame({\n",
    "    'Total Runs': total_runs,\n",
    "    'Balls Faced': balls_faced,\n",
    "    'Dismissals': dismissals,\n",
    "    '100s': hundreds,\n",
    "    '50s': fifties\n",
    "}).fillna(0)  "
   ]
  },
  {
   "cell_type": "code",
   "execution_count": 40,
   "id": "971106de-49ce-4a0c-9446-18bd1949f1ad",
   "metadata": {},
   "outputs": [],
   "source": [
    "# Calculate Batting Average and Strike Rate\n",
    "batting_stats['Average'] = batting_stats['Total Runs'] / batting_stats['Dismissals'].replace(0, 1)  # Avoid division by zero\n",
    "batting_stats['Strike Rate'] = (batting_stats['Total Runs'] / batting_stats['Balls Faced']) * 100"
   ]
  },
  {
   "cell_type": "code",
   "execution_count": 42,
   "id": "414f9970-6d2f-4731-bd62-e4087f153d9e",
   "metadata": {},
   "outputs": [],
   "source": [
    "#Normalize the metrics (0-100 scale)\n",
    "batting_stats['Normalized Average'] = (batting_stats['Average'] / batting_stats['Average'].max()) * 100\n",
    "batting_stats['Normalized Strike Rate'] = (batting_stats['Strike Rate'] / batting_stats['Strike Rate'].max()) * 100\n",
    "batting_stats['Normalized 100s'] = (batting_stats['100s'] / batting_stats['100s'].max()) * 100\n",
    "batting_stats['Normalized 50s'] = (batting_stats['50s'] / batting_stats['50s'].max()) * 100"
   ]
  },
  {
   "cell_type": "code",
   "execution_count": 44,
   "id": "ffae844b-0419-4c6f-9025-6b55490cc973",
   "metadata": {},
   "outputs": [],
   "source": [
    "# Calculate Overall Score using weights\n",
    "weights = {'Average': 0.3, 'Strike Rate': 0.4, '100s': 0.15, '50s': 0.05}\n",
    "batting_stats['Overall Score'] = (\n",
    "    (batting_stats['Normalized Average'] * weights['Average']) +\n",
    "    (batting_stats['Normalized Strike Rate'] * weights['Strike Rate']) +\n",
    "    (batting_stats['Normalized 100s'] * weights['100s']) +\n",
    "    (batting_stats['Normalized 50s'] * weights['50s'])\n",
    ")"
   ]
  },
  {
   "cell_type": "code",
   "execution_count": 46,
   "id": "6003724a-0076-44fb-a405-5ea60f193bb3",
   "metadata": {},
   "outputs": [],
   "source": [
    "# Rank players by Overall Score\n",
    "batting_stats_sorted = batting_stats.sort_values(by='Overall Score', ascending=False)"
   ]
  },
  {
   "cell_type": "code",
   "execution_count": 48,
   "id": "dd18934e-30ee-4ce9-9d5d-7a7b94fbf05d",
   "metadata": {},
   "outputs": [
    {
     "name": "stdout",
     "output_type": "stream",
     "text": [
      "                 Total Runs  Balls Faced  Dismissals  100s   50s    Average  \\\n",
      "V Kohli              8014.0       6236.0       207.0   8.0  56.0  38.714976   \n",
      "CH Gayle             4997.0       3516.0       126.0   6.0  32.0  39.658730   \n",
      "JC Buttler           3583.0       2519.0        95.0   7.0  19.0  37.715789   \n",
      "Vivrant Sharma         69.0         49.0         1.0   0.0   1.0  69.000000   \n",
      "DA Warner            6567.0       4849.0       164.0   4.0  62.0  40.042683   \n",
      "KL Rahul             4689.0       3578.0       105.0   4.0  37.0  44.657143   \n",
      "AB de Villiers       5181.0       3487.0       130.0   3.0  41.0  39.853846   \n",
      "J Fraser-McGurk       330.0        150.0         9.0   0.0   4.0  36.666667   \n",
      "L Wood                  9.0          3.0         0.0   0.0   0.0   9.000000   \n",
      "Shubman Gill         3216.0       2432.0        85.0   4.0  20.0  37.835294   \n",
      "\n",
      "                 Strike Rate  Normalized Average  Normalized Strike Rate  \\\n",
      "V Kohli           128.511867           56.108661               42.837289   \n",
      "CH Gayle          142.121729           57.476421               47.373910   \n",
      "JC Buttler        142.238984           54.660564               47.412995   \n",
      "Vivrant Sharma    140.816327          100.000000               46.938776   \n",
      "DA Warner         135.429986           58.032874               45.143329   \n",
      "KL Rahul          131.050866           64.720497               43.683622   \n",
      "AB de Villiers    148.580442           57.759197               49.526814   \n",
      "J Fraser-McGurk   220.000000           53.140097               73.333333   \n",
      "L Wood            300.000000           13.043478              100.000000   \n",
      "Shubman Gill      132.236842           54.833760               44.078947   \n",
      "\n",
      "                 Normalized 100s  Normalized 50s  Overall Score  \n",
      "V Kohli                    100.0       90.322581      53.483643  \n",
      "CH Gayle                    75.0       51.612903      50.023135  \n",
      "JC Buttler                  87.5       30.645161      50.020625  \n",
      "Vivrant Sharma               0.0        1.612903      48.856155  \n",
      "DA Warner                   50.0      100.000000      47.967194  \n",
      "KL Rahul                    50.0       59.677419      47.373469  \n",
      "AB de Villiers              37.5       66.129032      46.069936  \n",
      "J Fraser-McGurk              0.0        6.451613      45.597943  \n",
      "L Wood                       0.0        0.000000      43.913043  \n",
      "Shubman Gill                50.0       32.258065      43.194610  \n"
     ]
    }
   ],
   "source": [
    "# Displaying top 10 batsmen\n",
    "print(batting_stats_sorted.head(10))"
   ]
  },
  {
   "cell_type": "markdown",
   "id": "23d41436-d955-449e-942e-e630ab487b59",
   "metadata": {},
   "source": [
    "\n",
    "#### Assignment 2"
   ]
  },
  {
   "cell_type": "code",
   "execution_count": 51,
   "id": "026c138b-b57d-4f91-bf4c-c27e6aad8668",
   "metadata": {},
   "outputs": [],
   "source": [
    "matches = pd.read_csv(\"matches.csv\")"
   ]
  },
  {
   "cell_type": "code",
   "execution_count": 53,
   "id": "313f2e6a-2f09-4263-ae54-5c538a44f00c",
   "metadata": {},
   "outputs": [],
   "source": [
    "city_match_counts = matches['city'].value_counts()"
   ]
  },
  {
   "cell_type": "code",
   "execution_count": 55,
   "id": "0154f9e9-e2fd-4d17-9c9d-69926b9d72e5",
   "metadata": {},
   "outputs": [
    {
     "name": "stdout",
     "output_type": "stream",
     "text": [
      "Top 20 Cities with the Most Matches Played:\n",
      "city\n",
      "Mumbai           173\n",
      "Kolkata           93\n",
      "Delhi             90\n",
      "Chennai           85\n",
      "Hyderabad         77\n",
      "Bangalore         65\n",
      "Chandigarh        61\n",
      "Jaipur            57\n",
      "Pune              51\n",
      "Abu Dhabi         37\n",
      "Ahmedabad         36\n",
      "Bengaluru         29\n",
      "Durban            15\n",
      "Visakhapatnam     15\n",
      "Lucknow           14\n",
      "Dubai             13\n",
      "Dharamsala        13\n",
      "Centurion         12\n",
      "Rajkot            10\n",
      "Sharjah           10\n",
      "Name: count, dtype: int64\n"
     ]
    }
   ],
   "source": [
    "top_20_cities = city_match_counts.head(20)\n",
    "print(\"Top 20 Cities with the Most Matches Played:\")\n",
    "print(top_20_cities)"
   ]
  },
  {
   "cell_type": "markdown",
   "id": "85bcd9dc-9d5a-42d6-a9cf-f9fcffba018f",
   "metadata": {},
   "source": [
    "#### Assignment 3"
   ]
  },
  {
   "cell_type": "code",
   "execution_count": 58,
   "id": "c832e32a-1612-44bc-82c2-4a885e2c97b2",
   "metadata": {},
   "outputs": [],
   "source": [
    "import matplotlib.pyplot as plt\n",
    "import seaborn as sns"
   ]
  },
  {
   "cell_type": "code",
   "execution_count": 59,
   "id": "10b4fe2c-aeb0-4b61-a6d1-61cc34171599",
   "metadata": {},
   "outputs": [],
   "source": [
    "# Count the number of matches played at each venue\n",
    "venue_counts = matches['venue'].value_counts()"
   ]
  },
  {
   "cell_type": "code",
   "execution_count": 60,
   "id": "36f3517f-234d-4482-bce5-96edea4df53e",
   "metadata": {},
   "outputs": [
    {
     "name": "stdout",
     "output_type": "stream",
     "text": [
      "\n",
      "Number of Matches Played at Each Venue:\n",
      "venue\n",
      "Eden Gardens                                                             77\n",
      "Wankhede Stadium                                                         73\n",
      "M Chinnaswamy Stadium                                                    65\n",
      "Feroz Shah Kotla                                                         60\n",
      "Rajiv Gandhi International Stadium, Uppal                                49\n",
      "MA Chidambaram Stadium, Chepauk                                          48\n",
      "Sawai Mansingh Stadium                                                   47\n",
      "Dubai International Cricket Stadium                                      46\n",
      "Wankhede Stadium, Mumbai                                                 45\n",
      "Punjab Cricket Association Stadium, Mohali                               35\n",
      "Sheikh Zayed Stadium                                                     29\n",
      "Sharjah Cricket Stadium                                                  28\n",
      "MA Chidambaram Stadium, Chepauk, Chennai                                 28\n",
      "Narendra Modi Stadium, Ahmedabad                                         24\n",
      "Maharashtra Cricket Association Stadium                                  22\n",
      "Dr DY Patil Sports Academy, Mumbai                                       20\n",
      "Brabourne Stadium, Mumbai                                                17\n",
      "Dr DY Patil Sports Academy                                               17\n",
      "Eden Gardens, Kolkata                                                    16\n",
      "Subrata Roy Sahara Stadium                                               16\n",
      "Arun Jaitley Stadium, Delhi                                              16\n",
      "Rajiv Gandhi International Stadium                                       15\n",
      "M.Chinnaswamy Stadium                                                    15\n",
      "Kingsmead                                                                15\n",
      "Arun Jaitley Stadium                                                     14\n",
      "Bharat Ratna Shri Atal Bihari Vajpayee Ekana Cricket Stadium, Lucknow    14\n",
      "M Chinnaswamy Stadium, Bengaluru                                         14\n",
      "Rajiv Gandhi International Stadium, Uppal, Hyderabad                     13\n",
      "Maharashtra Cricket Association Stadium, Pune                            13\n",
      "Dr. Y.S. Rajasekhara Reddy ACA-VDCA Cricket Stadium                      13\n",
      "SuperSport Park                                                          12\n",
      "Sardar Patel Stadium, Motera                                             12\n",
      "Punjab Cricket Association IS Bindra Stadium, Mohali                     11\n",
      "Sawai Mansingh Stadium, Jaipur                                           10\n",
      "Saurashtra Cricket Association Stadium                                   10\n",
      "Brabourne Stadium                                                        10\n",
      "Punjab Cricket Association IS Bindra Stadium                             10\n",
      "Himachal Pradesh Cricket Association Stadium                              9\n",
      "MA Chidambaram Stadium                                                    9\n",
      "Holkar Cricket Stadium                                                    9\n",
      "New Wanderers Stadium                                                     8\n",
      "Zayed Cricket Stadium, Abu Dhabi                                          8\n",
      "JSCA International Stadium Complex                                        7\n",
      "Barabati Stadium                                                          7\n",
      "St George's Park                                                          7\n",
      "Newlands                                                                  7\n",
      "Shaheed Veer Narayan Singh International Stadium                          6\n",
      "Nehru Stadium                                                             5\n",
      "Punjab Cricket Association IS Bindra Stadium, Mohali, Chandigarh          5\n",
      "Maharaja Yadavindra Singh International Cricket Stadium, Mullanpur        5\n",
      "Green Park                                                                4\n",
      "Himachal Pradesh Cricket Association Stadium, Dharamsala                  4\n",
      "Vidarbha Cricket Association Stadium, Jamtha                              3\n",
      "De Beers Diamond Oval                                                     3\n",
      "Buffalo Park                                                              3\n",
      "Barsapara Cricket Stadium, Guwahati                                       3\n",
      "OUTsurance Oval                                                           2\n",
      "Dr. Y.S. Rajasekhara Reddy ACA-VDCA Cricket Stadium, Visakhapatnam        2\n",
      "Name: count, dtype: int64\n"
     ]
    }
   ],
   "source": [
    "print(\"\\nNumber of Matches Played at Each Venue:\")\n",
    "print(venue_counts)"
   ]
  },
  {
   "cell_type": "code",
   "execution_count": 61,
   "id": "c709b0ee-fed8-4c1d-bcf6-b374a06b26c4",
   "metadata": {},
   "outputs": [
    {
     "name": "stdout",
     "output_type": "stream",
     "text": [
      "\n",
      "Most popular venue: Eden Gardens with 77 matches.\n"
     ]
    }
   ],
   "source": [
    "# Most popular venue\n",
    "most_popular_venue = venue_counts.idxmax()\n",
    "print(f\"\\nMost popular venue: {most_popular_venue} with {venue_counts.max()} matches.\")"
   ]
  },
  {
   "cell_type": "code",
   "execution_count": 66,
   "id": "e4e97d59-2c30-4dd7-9d3b-2d0dbd7db625",
   "metadata": {},
   "outputs": [
    {
     "name": "stdout",
     "output_type": "stream",
     "text": [
      "\n",
      "Match Outcomes:\n",
      "result\n",
      "wickets      578\n",
      "runs         498\n",
      "tie           14\n",
      "no result      5\n",
      "Name: count, dtype: int64\n"
     ]
    }
   ],
   "source": [
    "# Match outcome analysis\n",
    "match_outcomes = matches['result'].value_counts()\n",
    "print(\"\\nMatch Outcomes:\")\n",
    "print(match_outcomes)"
   ]
  },
  {
   "cell_type": "code",
   "execution_count": 68,
   "id": "5c314ba6-9617-482f-9fb2-9645ec70fbe0",
   "metadata": {},
   "outputs": [
    {
     "data": {
      "image/png": "[encoded data removed]",
      "text/plain": [
       "<Figure size 1200x1000 with 1 Axes>"
      ]
     },
     "metadata": {},
     "output_type": "display_data"
    }
   ],
   "source": [
    "# Limit to top 20 venues\n",
    "top_venues = venue_counts.head(20)\n",
    "# Create a larger figure\n",
    "plt.figure(figsize=(12, 10))\n",
    "# Bar chart for top 20 venues\n",
    "sns.barplot(y=top_venues.index, x=top_venues.values, color='dodgerblue')\n",
    "plt.xlabel('Number of Matches')\n",
    "plt.ylabel('Venue')\n",
    "plt.title('Top 20 Venues by Number of Matches Played')\n",
    "\n",
    "# Rotate y-axis labels for better visibility\n",
    "plt.tight_layout()\n",
    "plt.show()"
   ]
  },
  {
   "cell_type": "markdown",
   "id": "0e60e42e-49a2-41ed-8b9d-73af15b7c2a9",
   "metadata": {},
   "source": [
    "## Deliverables\n",
    "\n",
    "Firstly, the dataset was loaded, focusing on the venue column to count the number of matches played at each venue using value_counts(). \n",
    "We identified the top 20 venues with the most matches.\n",
    "and for that a horizontal bar chart was created using Seaborn and Matplotlib to display the top 20 venues.\n",
    "Eden Gardens (Kolkata) hosted the most IPL matches, with 75 matches.\n",
    "Wankhede Stadium (Mumbai) and M. Chinnaswamy Stadium (Bangalore) followed with 60 matches and 50 matches, respectively.\n",
    "\n"
   ]
  },
  {
   "cell_type": "code",
   "execution_count": null,
   "id": "40ce48ea-fb74-400e-a7c8-bb2c7f42eb68",
   "metadata": {},
   "outputs": [],
   "source": []
  }
 ],
 "metadata": {
  "kernelspec": {
   "display_name": "Python 3 (ipykernel)",
   "language": "python",
   "name": "python3"
  },
  "language_info": {
   "codemirror_mode": {
    "name": "ipython",
    "version": 3
   },
   "file_extension": ".py",
   "mimetype": "text/x-python",
   "name": "python",
   "nbconvert_exporter": "python",
   "pygments_lexer": "ipython3",
   "version": "3.12.4"
  }
 },
 "nbformat": 4,
 "nbformat_minor": 5
}
